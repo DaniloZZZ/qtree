{
 "cells": [
  {
   "cell_type": "markdown",
   "metadata": {
    "toc": true
   },
   "source": [
    "<h1>Table of Contents<span class=\"tocSkip\"></span></h1>\n",
    "<div class=\"toc\"><ul class=\"toc-item\"></ul></div>"
   ]
  },
  {
   "cell_type": "code",
   "execution_count": 1,
   "metadata": {
    "ExecuteTime": {
     "end_time": "2020-03-08T21:30:39.226292Z",
     "start_time": "2020-03-08T21:30:38.458461Z"
    }
   },
   "outputs": [],
   "source": [
    "import numpy as np"
   ]
  },
  {
   "cell_type": "code",
   "execution_count": 32,
   "metadata": {
    "ExecuteTime": {
     "end_time": "2020-03-08T21:56:19.307062Z",
     "start_time": "2020-03-08T21:56:19.264474Z"
    }
   },
   "outputs": [],
   "source": [
    "def _none_slice():\n",
    "    return slice(None)\n",
    "\n",
    "def _get_idx(x, idxs, slice_idx, shapes=None):\n",
    "    if shapes is None:\n",
    "        shapes = [2]*len(idxs)\n",
    "    point = np.unravel_index(slice_idx, shapes)\n",
    "    get_point = {i:p for i,p in zip(idxs, point)}\n",
    "    if x in idxs:\n",
    "        return get_point[x]\n",
    "    else:\n",
    "        return _none_slice()\n",
    "\n",
    "def _slices_for_idxs(idxs, *args, shapes=None, slice_idx=0):\n",
    "    \"\"\"Return array of slices along idxs\"\"\"\n",
    "    slices = []\n",
    "    for indexes in args:\n",
    "        _slice = [_get_idx(x, idxs, slice_idx, shapes) for x in indexes ]\n",
    "        slices.append(_slice)\n",
    "    return slices\n",
    "        "
   ]
  },
  {
   "cell_type": "code",
   "execution_count": 33,
   "metadata": {
    "ExecuteTime": {
     "end_time": "2020-03-08T21:56:19.410938Z",
     "start_time": "2020-03-08T21:56:19.389029Z"
    }
   },
   "outputs": [
    {
     "name": "stdout",
     "output_type": "stream",
     "text": [
      "[[slice(None, None, None), 0, 0], [slice(None, None, None), 0, 0, slice(None, None, None)]]\n",
      "[[slice(None, None, None), 1, 0], [slice(None, None, None), 0, 1, slice(None, None, None)]]\n",
      "[[slice(None, None, None), 2, 0], [slice(None, None, None), 0, 2, slice(None, None, None)]]\n",
      "[[slice(None, None, None), 0, 1], [slice(None, None, None), 1, 0, slice(None, None, None)]]\n"
     ]
    },
    {
     "data": {
      "text/plain": [
       "[None, None, None, None]"
      ]
     },
     "execution_count": 33,
     "metadata": {},
     "output_type": "execute_result"
    }
   ],
   "source": [
    "dims1 = [1,3,4 ]\n",
    "dims2 = [2,4,3, 5]\n",
    "contract = [dims1, dims2]\n",
    "\n",
    "slice_among = [4, 3]\n",
    "shapes = [2, 3]\n",
    "\n",
    "test_slices = [\n",
    "    _slices_for_idxs(slice_among, *contract, shapes=shapes, slice_idx=i)\n",
    "    for i in range(4)\n",
    "    ]\n",
    "[print(x) for x in test_slices]"
   ]
  },
  {
   "cell_type": "code",
   "execution_count": 34,
   "metadata": {
    "ExecuteTime": {
     "end_time": "2020-03-08T21:56:19.911506Z",
     "start_time": "2020-03-08T21:56:19.888528Z"
    }
   },
   "outputs": [
    {
     "data": {
      "text/plain": [
       "(2, 0)"
      ]
     },
     "execution_count": 34,
     "metadata": {},
     "output_type": "execute_result"
    }
   ],
   "source": [
    "np.unravel_index(4,(3,2))"
   ]
  },
  {
   "cell_type": "code",
   "execution_count": 31,
   "metadata": {
    "ExecuteTime": {
     "end_time": "2020-03-08T21:56:07.431607Z",
     "start_time": "2020-03-08T21:56:07.402191Z"
    }
   },
   "outputs": [
    {
     "data": {
      "text/plain": [
       "slice(None, None, None)"
      ]
     },
     "execution_count": 31,
     "metadata": {},
     "output_type": "execute_result"
    }
   ],
   "source": []
  },
  {
   "cell_type": "code",
   "execution_count": null,
   "metadata": {},
   "outputs": [],
   "source": []
  }
 ],
 "metadata": {
  "kernelspec": {
   "display_name": "Python 3",
   "language": "python",
   "name": "python3"
  },
  "language_info": {
   "codemirror_mode": {
    "name": "ipython",
    "version": 3
   },
   "file_extension": ".py",
   "mimetype": "text/x-python",
   "name": "python",
   "nbconvert_exporter": "python",
   "pygments_lexer": "ipython3",
   "version": "3.8.1"
  },
  "toc": {
   "base_numbering": 1,
   "nav_menu": {},
   "number_sections": true,
   "sideBar": true,
   "skip_h1_title": false,
   "title_cell": "Table of Contents",
   "title_sidebar": "Contents",
   "toc_cell": true,
   "toc_position": {},
   "toc_section_display": true,
   "toc_window_display": true
  }
 },
 "nbformat": 4,
 "nbformat_minor": 2
}
