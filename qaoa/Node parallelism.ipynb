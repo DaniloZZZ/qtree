{
 "cells": [
  {
   "cell_type": "markdown",
   "metadata": {
    "toc": true
   },
   "source": [
    "<h1>Table of Contents<span class=\"tocSkip\"></span></h1>\n",
    "<div class=\"toc\"><ul class=\"toc-item\"><li><span><a href=\"#Slice-specified-nodes-in-dimspec\" data-toc-modified-id=\"Slice-specified-nodes-in-dimspec-1\"><span class=\"toc-item-num\">1&nbsp;&nbsp;</span>Slice specified nodes in dimspec</a></span></li><li><span><a href=\"#Test-parallelism\" data-toc-modified-id=\"Test-parallelism-2\"><span class=\"toc-item-num\">2&nbsp;&nbsp;</span>Test parallelism</a></span><ul class=\"toc-item\"><li><ul class=\"toc-item\"><li><span><a href=\"#Example-task\" data-toc-modified-id=\"Example-task-2.0.1\"><span class=\"toc-item-num\">2.0.1&nbsp;&nbsp;</span>Example task</a></span></li></ul></li><li><span><a href=\"#Use-ray\" data-toc-modified-id=\"Use-ray-2.1\"><span class=\"toc-item-num\">2.1&nbsp;&nbsp;</span>Use ray</a></span></li><li><span><a href=\"#Simple-invocation\" data-toc-modified-id=\"Simple-invocation-2.2\"><span class=\"toc-item-num\">2.2&nbsp;&nbsp;</span>Simple invocation</a></span></li></ul></li></ul></div>"
   ]
  },
  {
   "cell_type": "code",
   "execution_count": 56,
   "metadata": {
    "ExecuteTime": {
     "end_time": "2020-03-09T02:26:25.354415Z",
     "start_time": "2020-03-09T02:26:25.278197Z"
    }
   },
   "outputs": [],
   "source": [
    "import ray\n",
    "import pyrofiler as pyrof\n",
    "import numpy as np"
   ]
  },
  {
   "cell_type": "markdown",
   "metadata": {},
   "source": [
    "# Slice specified nodes in dimspec"
   ]
  },
  {
   "cell_type": "code",
   "execution_count": 76,
   "metadata": {
    "ExecuteTime": {
     "end_time": "2020-03-09T02:32:48.552918Z",
     "start_time": "2020-03-09T02:32:48.507413Z"
    }
   },
   "outputs": [],
   "source": [
    "def _none_slice():\n",
    "    return slice(None)\n",
    "\n",
    "def _get_idx(x, idxs, slice_idx, shapes=None):\n",
    "    if shapes is None:\n",
    "        shapes = [2]*len(idxs)\n",
    "    point = np.unravel_index(slice_idx, shapes)\n",
    "    get_point = {i:p for i,p in zip(idxs, point)}\n",
    "    if x in idxs:\n",
    "        p = get_point[x]\n",
    "        return slice(p,p+1)\n",
    "    else:\n",
    "        return _none_slice()\n",
    "\n",
    "def _slices_for_idxs(idxs, *args, shapes=None, slice_idx=0):\n",
    "    \"\"\"Return array of slices along idxs\"\"\"\n",
    "    slices = []\n",
    "    for indexes in args:\n",
    "        _slice = [_get_idx(x, idxs, slice_idx, shapes) for x in indexes ]\n",
    "        slices.append(tuple(_slice))\n",
    "    return slices\n",
    "        "
   ]
  },
  {
   "cell_type": "code",
   "execution_count": 77,
   "metadata": {
    "ExecuteTime": {
     "end_time": "2020-03-09T02:32:49.156621Z",
     "start_time": "2020-03-09T02:32:49.112350Z"
    }
   },
   "outputs": [
    {
     "name": "stdout",
     "output_type": "stream",
     "text": [
      "[(slice(None, None, None), slice(0, 1, None), slice(0, 1, None)), (slice(None, None, None), slice(0, 1, None), slice(0, 1, None), slice(None, None, None))]\n",
      "[(slice(None, None, None), slice(1, 2, None), slice(0, 1, None)), (slice(None, None, None), slice(0, 1, None), slice(1, 2, None), slice(None, None, None))]\n",
      "[(slice(None, None, None), slice(2, 3, None), slice(0, 1, None)), (slice(None, None, None), slice(0, 1, None), slice(2, 3, None), slice(None, None, None))]\n",
      "[(slice(None, None, None), slice(0, 1, None), slice(1, 2, None)), (slice(None, None, None), slice(1, 2, None), slice(0, 1, None), slice(None, None, None))]\n"
     ]
    },
    {
     "data": {
      "text/plain": [
       "[None, None, None, None]"
      ]
     },
     "execution_count": 77,
     "metadata": {},
     "output_type": "execute_result"
    }
   ],
   "source": [
    "dims1 = [1,3,4 ]\n",
    "dims2 = [2,4,3, 5]\n",
    "contract = [dims1, dims2]\n",
    "\n",
    "slice_among = [4, 3]\n",
    "shapes = [2, 3]\n",
    "\n",
    "test_slices = [\n",
    "    _slices_for_idxs(slice_among, *contract, shapes=shapes, slice_idx=i)\n",
    "    for i in range(4)\n",
    "    ]\n",
    "[print(x) for x in test_slices]\n"
   ]
  },
  {
   "cell_type": "markdown",
   "metadata": {},
   "source": [
    "# Test parallelism\n",
    "### Example task"
   ]
  },
  {
   "cell_type": "code",
   "execution_count": 66,
   "metadata": {
    "ExecuteTime": {
     "end_time": "2020-03-09T02:28:36.505814Z",
     "start_time": "2020-03-09T02:28:36.179811Z"
    },
    "scrolled": false
   },
   "outputs": [
    {
     "data": {
      "text/plain": [
       "([0, 1, 2, 3, 4, 5, 6, 7, 8, 9, 10, 11, 12, 13, 14, 15, 16, 17, 18, 19, 20],\n",
       " [0, 1, 2, 3, 4, 5, 6, 7, 8, 9, 10, 11, 12, 13, 21, 22, 23, 24, 25])"
      ]
     },
     "execution_count": 66,
     "metadata": {},
     "output_type": "execute_result"
    }
   ],
   "source": [
    "def get_example_task():\n",
    "    A = 14\n",
    "    B, C = 7, 5\n",
    "    shape1 = [2]*(A+B)\n",
    "    shape2 = [2]*(A+C)\n",
    "    T1 = np.random.randn(*shape1)\n",
    "    T2 = np.random.randn(*shape2)\n",
    "    common = list(range(A))\n",
    "    idxs1 = common + list(range(A, A+B))\n",
    "    idxs2 = common + list(range(A+B, A+B+C))\n",
    "    return (T1, idxs1), (T2, idxs2)\n",
    "\n",
    "x, y = get_example_task()\n",
    "x[1], y[1]"
   ]
  },
  {
   "cell_type": "markdown",
   "metadata": {
    "ExecuteTime": {
     "end_time": "2020-03-09T00:52:24.585228Z",
     "start_time": "2020-03-09T00:52:24.563082Z"
    }
   },
   "source": [
    "## Use ray"
   ]
  },
  {
   "cell_type": "code",
   "execution_count": 62,
   "metadata": {
    "ExecuteTime": {
     "end_time": "2020-03-09T02:27:53.966628Z",
     "start_time": "2020-03-09T02:27:53.896293Z"
    }
   },
   "outputs": [
    {
     "ename": "Exception",
     "evalue": "Perhaps you called ray.init twice by accident? This error can be suppressed by passing in 'ignore_reinit_error=True' or by calling 'ray.shutdown()' prior to 'ray.init()'.",
     "output_type": "error",
     "traceback": [
      "\u001b[0;31m-----------------------------------------------\u001b[0m",
      "\u001b[0;31mException\u001b[0m     Traceback (most recent call last)",
      "\u001b[0;32m<ipython-input-62-3f68a533b944>\u001b[0m in \u001b[0;36m<module>\u001b[0;34m\u001b[0m\n\u001b[0;32m----> 1\u001b[0;31m \u001b[0mray\u001b[0m\u001b[0;34m.\u001b[0m\u001b[0minit\u001b[0m\u001b[0;34m(\u001b[0m\u001b[0;34m)\u001b[0m\u001b[0;34m\u001b[0m\u001b[0;34m\u001b[0m\u001b[0m\n\u001b[0m",
      "\u001b[0;32m~/.local/lib/python3.7/site-packages/ray/worker.py\u001b[0m in \u001b[0;36minit\u001b[0;34m(address, redis_address, redis_port, num_cpus, num_gpus, memory, object_store_memory, resources, driver_object_store_memory, redis_max_memory, log_to_driver, node_ip_address, object_id_seed, local_mode, redirect_worker_output, redirect_output, ignore_reinit_error, num_redis_shards, redis_max_clients, redis_password, plasma_directory, huge_pages, include_java, include_webui, webui_host, job_id, configure_logging, logging_level, logging_format, plasma_store_socket_name, raylet_socket_name, temp_dir, load_code_from_local, use_pickle, _internal_config)\u001b[0m\n\u001b[1;32m    683\u001b[0m             \u001b[0;32mreturn\u001b[0m\u001b[0;34m\u001b[0m\u001b[0;34m\u001b[0m\u001b[0m\n\u001b[1;32m    684\u001b[0m         \u001b[0;32melse\u001b[0m\u001b[0;34m:\u001b[0m\u001b[0;34m\u001b[0m\u001b[0;34m\u001b[0m\u001b[0m\n\u001b[0;32m--> 685\u001b[0;31m             raise Exception(\"Perhaps you called ray.init twice by accident? \"\n\u001b[0m\u001b[1;32m    686\u001b[0m                             \u001b[0;34m\"This error can be suppressed by passing in \"\u001b[0m\u001b[0;34m\u001b[0m\u001b[0;34m\u001b[0m\u001b[0m\n\u001b[1;32m    687\u001b[0m                             \u001b[0;34m\"'ignore_reinit_error=True' or by calling \"\u001b[0m\u001b[0;34m\u001b[0m\u001b[0;34m\u001b[0m\u001b[0m\n",
      "\u001b[0;31mException\u001b[0m: Perhaps you called ray.init twice by accident? This error can be suppressed by passing in 'ignore_reinit_error=True' or by calling 'ray.shutdown()' prior to 'ray.init()'."
     ]
    }
   ],
   "source": [
    "ray.init()"
   ]
  },
  {
   "cell_type": "markdown",
   "metadata": {},
   "source": [
    "## Simple invocation"
   ]
  },
  {
   "cell_type": "code",
   "execution_count": 193,
   "metadata": {
    "ExecuteTime": {
     "end_time": "2020-03-09T02:53:46.188548Z",
     "start_time": "2020-03-09T02:53:45.701553Z"
    }
   },
   "outputs": [
    {
     "name": "stdout",
     "output_type": "stream",
     "text": [
      "contract : 0.4512217044830322\n"
     ]
    }
   ],
   "source": [
    "\n",
    "#@ray.remote\n",
    "def contract(A, B):\n",
    "    a, idxa = A\n",
    "    b, idxb = B\n",
    "    contract_idx = set(idxa) & set(idxb)\n",
    "    result_idx = set(idxa + idxb)\n",
    "    C = np.einsum(a,idxa, b,idxb, result_idx)\n",
    "    return C\n",
    "\n",
    "with pyrof.timing('contract'):\n",
    "    C = contract(x, y)\n"
   ]
  },
  {
   "cell_type": "code",
   "execution_count": 205,
   "metadata": {
    "ExecuteTime": {
     "end_time": "2020-03-09T03:02:09.901454Z",
     "start_time": "2020-03-09T03:02:03.842367Z"
    }
   },
   "outputs": [
    {
     "name": "stdout",
     "output_type": "stream",
     "text": [
      "contract : 0.6614696979522705\n",
      "contract : 1.6132872104644775\n"
     ]
    }
   ],
   "source": [
    "contract_idx = set(x[1]) & set(y[1])\n",
    "result_idx = set(x[1] + y[1])\n",
    "\n",
    "def sliced_contract(x, y, idxs, num):\n",
    "    slices = _slices_for_idxs(idxs, x[1], y[1], slice_idx=num)\n",
    "    a = x[0][slices[0]]\n",
    "    b = y[0][slices[1]]\n",
    "    with pyrof.timing('contract'):\n",
    "        C = contract((a, x[1]), (b, y[1]))\n",
    "    return C\n",
    "\n",
    "\n",
    "def target_slice(result_idx, idxs, num):\n",
    "    slices = _slices_for_idxs(idxs, result_idx, slice_idx=num)\n",
    "    return slices\n",
    "\n",
    "C = contract(x,y)\n",
    "target_shape = C.shape\n",
    "C0 = sliced_contract(x, y, [17], 0)\n",
    "C1 = sliced_contract(x, y, [17], 1)\n",
    "\n",
    "C_par = np.empty(target_shape)\n",
    "s0 = target_slice(result_idx, [17], 0)\n",
    "s1 = target_slice(result_idx, [17], 1)\n",
    "C_par[s0[0]] = C0\n",
    "C_par[s1[0]] = C1\n",
    "\n",
    "assert np.array_equal(C, C_par)\n"
   ]
  },
  {
   "cell_type": "code",
   "execution_count": 200,
   "metadata": {
    "ExecuteTime": {
     "end_time": "2020-03-09T02:54:07.793818Z",
     "start_time": "2020-03-09T02:54:07.505067Z"
    }
   },
   "outputs": [
    {
     "name": "stdout",
     "output_type": "stream",
     "text": [
      "(2, 1, 2, 2, 2, 2, 2, 2, 2, 2, 2, 2, 2, 2, 2, 1, 2, 2, 2, 2, 2) (2, 1, 2, 2, 2, 2, 2, 2, 2, 2, 2, 2, 2, 2, 2, 2, 2, 2, 2)\n",
      "contract : 0.22393345832824707\n"
     ]
    },
    {
     "data": {
      "text/plain": [
       "(2, 1, 2, 2, 2, 2, 2, 2, 2, 2, 2, 2, 2, 2, 2, 1, 2, 2, 2, 2, 2, 2, 2, 2, 2, 2)"
      ]
     },
     "execution_count": 200,
     "metadata": {},
     "output_type": "execute_result"
    }
   ],
   "source": [
    "contract_idx = set(x[1]) & set(y[1])\n",
    "slices = _slices_for_idxs([1, 15], x[1], y[1])\n",
    "\n",
    "a = x[0][slices[0]]\n",
    "b = y[0][slices[1]]\n",
    "print(a.shape, b.shape)\n",
    "\n",
    "with pyrof.timing('contract'):\n",
    "    C = contract((a, x[1]), (b, y[1]))\n",
    "C.shape"
   ]
  },
  {
   "cell_type": "code",
   "execution_count": 64,
   "metadata": {
    "ExecuteTime": {
     "end_time": "2020-03-09T02:27:55.812828Z",
     "start_time": "2020-03-09T02:27:55.379708Z"
    }
   },
   "outputs": [
    {
     "name": "stdout",
     "output_type": "stream",
     "text": [
      "[0. 0. 0. 0. 0. 0. 0. 0. 0. 0.]\n"
     ]
    },
    {
     "ename": "RayTaskError(ValueError)",
     "evalue": "\u001b[36mray::__main__.increment()\u001b[39m (pid=32540, ip=130.202.136.154)\n  File \"python/ray/_raylet.pyx\", line 452, in ray._raylet.execute_task\n  File \"<ipython-input-13-d161bfe5d285>\", line 3, in increment\nValueError: assignment destination is read-only",
     "output_type": "error",
     "traceback": [
      "\u001b[0;31m-----------------------------------------------\u001b[0m",
      "\u001b[0;31mRayTaskError(ValueError)\u001b[0mTraceback (most recent call last)",
      "\u001b[0;32m<ipython-input-64-649c74e90093>\u001b[0m in \u001b[0;36m<module>\u001b[0;34m\u001b[0m\n\u001b[1;32m      3\u001b[0m \u001b[0mprint\u001b[0m\u001b[0;34m(\u001b[0m\u001b[0mx\u001b[0m\u001b[0;34m)\u001b[0m\u001b[0;34m\u001b[0m\u001b[0;34m\u001b[0m\u001b[0m\n\u001b[1;32m      4\u001b[0m \u001b[0mf\u001b[0m \u001b[0;34m=\u001b[0m \u001b[0mincrement\u001b[0m\u001b[0;34m.\u001b[0m\u001b[0mremote\u001b[0m\u001b[0;34m(\u001b[0m\u001b[0mx_id\u001b[0m\u001b[0;34m)\u001b[0m\u001b[0;34m\u001b[0m\u001b[0;34m\u001b[0m\u001b[0m\n\u001b[0;32m----> 5\u001b[0;31m \u001b[0mprint\u001b[0m\u001b[0;34m(\u001b[0m\u001b[0mray\u001b[0m\u001b[0;34m.\u001b[0m\u001b[0mget\u001b[0m\u001b[0;34m(\u001b[0m\u001b[0mf\u001b[0m\u001b[0;34m)\u001b[0m\u001b[0;34m)\u001b[0m\u001b[0;34m\u001b[0m\u001b[0;34m\u001b[0m\u001b[0m\n\u001b[0m\u001b[1;32m      6\u001b[0m \u001b[0mprint\u001b[0m\u001b[0;34m(\u001b[0m\u001b[0mx\u001b[0m\u001b[0;34m)\u001b[0m\u001b[0;34m\u001b[0m\u001b[0;34m\u001b[0m\u001b[0m\n",
      "\u001b[0;32m~/.local/lib/python3.7/site-packages/ray/worker.py\u001b[0m in \u001b[0;36mget\u001b[0;34m(object_ids, timeout)\u001b[0m\n\u001b[1;32m   1502\u001b[0m                     \u001b[0mworker\u001b[0m\u001b[0;34m.\u001b[0m\u001b[0mcore_worker\u001b[0m\u001b[0;34m.\u001b[0m\u001b[0mdump_object_store_memory_usage\u001b[0m\u001b[0;34m(\u001b[0m\u001b[0;34m)\u001b[0m\u001b[0;34m\u001b[0m\u001b[0;34m\u001b[0m\u001b[0m\n\u001b[1;32m   1503\u001b[0m                 \u001b[0;32mif\u001b[0m \u001b[0misinstance\u001b[0m\u001b[0;34m(\u001b[0m\u001b[0mvalue\u001b[0m\u001b[0;34m,\u001b[0m \u001b[0mRayTaskError\u001b[0m\u001b[0;34m)\u001b[0m\u001b[0;34m:\u001b[0m\u001b[0;34m\u001b[0m\u001b[0;34m\u001b[0m\u001b[0m\n\u001b[0;32m-> 1504\u001b[0;31m                     \u001b[0;32mraise\u001b[0m \u001b[0mvalue\u001b[0m\u001b[0;34m.\u001b[0m\u001b[0mas_instanceof_cause\u001b[0m\u001b[0;34m(\u001b[0m\u001b[0;34m)\u001b[0m\u001b[0;34m\u001b[0m\u001b[0;34m\u001b[0m\u001b[0m\n\u001b[0m\u001b[1;32m   1505\u001b[0m                 \u001b[0;32melse\u001b[0m\u001b[0;34m:\u001b[0m\u001b[0;34m\u001b[0m\u001b[0;34m\u001b[0m\u001b[0m\n\u001b[1;32m   1506\u001b[0m                     \u001b[0;32mraise\u001b[0m \u001b[0mvalue\u001b[0m\u001b[0;34m\u001b[0m\u001b[0;34m\u001b[0m\u001b[0m\n",
      "\u001b[0;31mRayTaskError(ValueError)\u001b[0m: \u001b[36mray::__main__.increment()\u001b[39m (pid=32540, ip=130.202.136.154)\n  File \"python/ray/_raylet.pyx\", line 452, in ray._raylet.execute_task\n  File \"<ipython-input-13-d161bfe5d285>\", line 3, in increment\nValueError: assignment destination is read-only"
     ]
    }
   ],
   "source": [
    "x = np.zeros(10)\n",
    "x_id = ray.put(x)\n",
    "print(x)\n",
    "f = increment.remote(x_id)\n",
    "print(ray.get(f))\n",
    "print(x)"
   ]
  },
  {
   "cell_type": "code",
   "execution_count": 12,
   "metadata": {
    "ExecuteTime": {
     "end_time": "2020-03-09T02:02:34.883474Z",
     "start_time": "2020-03-09T02:02:34.857377Z"
    }
   },
   "outputs": [
    {
     "name": "stdout",
     "output_type": "stream",
     "text": [
      "ObjectID(ffffffffffffffffffffffff0100008003000000)\n"
     ]
    }
   ],
   "source": [
    "\n"
   ]
  },
  {
   "cell_type": "code",
   "execution_count": 40,
   "metadata": {
    "ExecuteTime": {
     "end_time": "2020-03-09T02:16:04.934080Z",
     "start_time": "2020-03-09T02:16:04.889964Z"
    }
   },
   "outputs": [
    {
     "data": {
      "text/plain": [
       "(1, 1, 1, 1, 1, 1, 1, 2, 2, 2, 2)"
      ]
     },
     "execution_count": 40,
     "metadata": {},
     "output_type": "execute_result"
    }
   ],
   "source": [
    "sl = [slice(0,1)]*7\n",
    "xsl = x[0][tuple(sl)]\n",
    "xsl.shape"
   ]
  },
  {
   "cell_type": "code",
   "execution_count": null,
   "metadata": {},
   "outputs": [],
   "source": []
  }
 ],
 "metadata": {
  "kernelspec": {
   "display_name": "Python 3",
   "language": "python",
   "name": "python3"
  },
  "language_info": {
   "codemirror_mode": {
    "name": "ipython",
    "version": 3
   },
   "file_extension": ".py",
   "mimetype": "text/x-python",
   "name": "python",
   "nbconvert_exporter": "python",
   "pygments_lexer": "ipython3",
   "version": "3.7.7rc1+"
  },
  "toc": {
   "base_numbering": 1,
   "nav_menu": {},
   "number_sections": true,
   "sideBar": true,
   "skip_h1_title": false,
   "title_cell": "Table of Contents",
   "title_sidebar": "Contents",
   "toc_cell": true,
   "toc_position": {},
   "toc_section_display": true,
   "toc_window_display": true
  }
 },
 "nbformat": 4,
 "nbformat_minor": 2
}
