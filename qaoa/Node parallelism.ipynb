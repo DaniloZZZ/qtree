{
 "cells": [
  {
   "cell_type": "markdown",
   "metadata": {
    "toc": true
   },
   "source": [
    "<h1>Table of Contents<span class=\"tocSkip\"></span></h1>\n",
    "<div class=\"toc\"><ul class=\"toc-item\"><li><span><a href=\"#Slice-specified-nodes-in-dimspec\" data-toc-modified-id=\"Slice-specified-nodes-in-dimspec-1\"><span class=\"toc-item-num\">1&nbsp;&nbsp;</span>Slice specified nodes in dimspec</a></span></li><li><span><a href=\"#Test-parallelism\" data-toc-modified-id=\"Test-parallelism-2\"><span class=\"toc-item-num\">2&nbsp;&nbsp;</span>Test parallelism</a></span><ul class=\"toc-item\"><li><ul class=\"toc-item\"><li><span><a href=\"#Example-task\" data-toc-modified-id=\"Example-task-2.0.1\"><span class=\"toc-item-num\">2.0.1&nbsp;&nbsp;</span>Example task</a></span></li></ul></li><li><span><a href=\"#Serial-invocation\" data-toc-modified-id=\"Serial-invocation-2.1\"><span class=\"toc-item-num\">2.1&nbsp;&nbsp;</span>Serial invocation</a></span><ul class=\"toc-item\"><li><span><a href=\"#One-var-parallelisation\" data-toc-modified-id=\"One-var-parallelisation-2.1.1\"><span class=\"toc-item-num\">2.1.1&nbsp;&nbsp;</span>One var parallelisation</a></span></li><li><span><a href=\"#Two-var-parallelisation\" data-toc-modified-id=\"Two-var-parallelisation-2.1.2\"><span class=\"toc-item-num\">2.1.2&nbsp;&nbsp;</span>Two var parallelisation</a></span></li><li><span><a href=\"#Many-var-parallelisation\" data-toc-modified-id=\"Many-var-parallelisation-2.1.3\"><span class=\"toc-item-num\">2.1.3&nbsp;&nbsp;</span>Many var parallelisation</a></span></li></ul></li><li><span><a href=\"#Use-ray\" data-toc-modified-id=\"Use-ray-2.2\"><span class=\"toc-item-num\">2.2&nbsp;&nbsp;</span>Use ray</a></span><ul class=\"toc-item\"><li><span><a href=\"#Simple-assignment\" data-toc-modified-id=\"Simple-assignment-2.2.1\"><span class=\"toc-item-num\">2.2.1&nbsp;&nbsp;</span>Simple assignment</a></span></li><li><span><a href=\"#Concurrent-assignment\" data-toc-modified-id=\"Concurrent-assignment-2.2.2\"><span class=\"toc-item-num\">2.2.2&nbsp;&nbsp;</span>Concurrent assignment</a></span></li></ul></li><li><span><a href=\"#Use-unix-tools\" data-toc-modified-id=\"Use-unix-tools-2.3\"><span class=\"toc-item-num\">2.3&nbsp;&nbsp;</span>Use unix tools</a></span><ul class=\"toc-item\"><li><span><a href=\"#Threading\" data-toc-modified-id=\"Threading-2.3.1\"><span class=\"toc-item-num\">2.3.1&nbsp;&nbsp;</span>Threading</a></span></li><li><span><a href=\"#Multiprocessing\" data-toc-modified-id=\"Multiprocessing-2.3.2\"><span class=\"toc-item-num\">2.3.2&nbsp;&nbsp;</span>Multiprocessing</a></span></li></ul></li></ul></li></ul></div>"
   ]
  },
  {
   "cell_type": "code",
   "execution_count": null,
   "metadata": {},
   "outputs": [],
   "source": [
    "import ray\n",
    "import pyrofiler as pyrof\n",
    "import numpy as np\n",
    "import sys\n",
    "np.random.seed(42)"
   ]
  },
  {
   "cell_type": "markdown",
   "metadata": {},
   "source": [
    "# Slice specified nodes in dimspec"
   ]
  },
  {
   "cell_type": "code",
   "execution_count": 2,
   "metadata": {
    "ExecuteTime": {
     "end_time": "2020-03-09T05:14:23.541789Z",
     "start_time": "2020-03-09T05:14:23.524599Z"
    }
   },
   "outputs": [],
   "source": [
    "def _none_slice():\n",
    "    return slice(None)\n",
    "\n",
    "def _get_idx(x, idxs, slice_idx, shapes=None):\n",
    "    if shapes is None:\n",
    "        shapes = [2]*len(idxs)\n",
    "    point = np.unravel_index(slice_idx, shapes)\n",
    "    get_point = {i:p for i,p in zip(idxs, point)}\n",
    "    if x in idxs:\n",
    "        p = get_point[x]\n",
    "        return slice(p,p+1)\n",
    "    else:\n",
    "        return _none_slice()\n",
    "\n",
    "def _slices_for_idxs(idxs, *args, shapes=None, slice_idx=0):\n",
    "    \"\"\"Return array of slices along idxs\"\"\"\n",
    "    slices = []\n",
    "    for indexes in args:\n",
    "        _slice = [_get_idx(x, idxs, slice_idx, shapes) for x in indexes ]\n",
    "        slices.append(tuple(_slice))\n",
    "    return slices\n",
    "        "
   ]
  },
  {
   "cell_type": "code",
   "execution_count": 3,
   "metadata": {
    "ExecuteTime": {
     "end_time": "2020-03-09T05:14:24.490327Z",
     "start_time": "2020-03-09T05:14:24.457082Z"
    },
    "scrolled": true
   },
   "outputs": [
    {
     "name": "stdout",
     "output_type": "stream",
     "text": [
      "[(slice(None, None, None), slice(0, 1, None), slice(0, 1, None)), (slice(None, None, None), slice(0, 1, None), slice(0, 1, None), slice(None, None, None))]\n",
      "[(slice(None, None, None), slice(1, 2, None), slice(0, 1, None)), (slice(None, None, None), slice(0, 1, None), slice(1, 2, None), slice(None, None, None))]\n",
      "[(slice(None, None, None), slice(2, 3, None), slice(0, 1, None)), (slice(None, None, None), slice(0, 1, None), slice(2, 3, None), slice(None, None, None))]\n",
      "[(slice(None, None, None), slice(0, 1, None), slice(1, 2, None)), (slice(None, None, None), slice(1, 2, None), slice(0, 1, None), slice(None, None, None))]\n"
     ]
    },
    {
     "data": {
      "text/plain": [
       "[None, None, None, None]"
      ]
     },
     "execution_count": 3,
     "metadata": {},
     "output_type": "execute_result"
    }
   ],
   "source": [
    "dims1 = [1,3,4 ]\n",
    "dims2 = [2,4,3, 5]\n",
    "contract = [dims1, dims2]\n",
    "\n",
    "slice_among = [4, 3]\n",
    "shapes = [2, 3]\n",
    "\n",
    "test_slices = [\n",
    "    _slices_for_idxs(slice_among, *contract, shapes=shapes, slice_idx=i)\n",
    "    for i in range(4)\n",
    "    ]\n",
    "[print(x) for x in test_slices]\n"
   ]
  },
  {
   "cell_type": "markdown",
   "metadata": {},
   "source": [
    "# Test parallelism\n",
    "### Example task"
   ]
  },
  {
   "cell_type": "code",
   "execution_count": null,
   "metadata": {},
   "outputs": [],
   "source": [
    "def get_example_task():\n",
    "    A = 13\n",
    "    B, C = 10, 7\n",
    "    shape1 = [2]*(A+B)\n",
    "    shape2 = [2]*(A+C)\n",
    "    T1 = np.random.randn(*shape1)\n",
    "    T2 = np.random.randn(*shape2)\n",
    "    common = list(range(A))\n",
    "    idxs1 = common + list(range(A, A+B))\n",
    "    idxs2 = common + list(range(A+B, A+B+C))\n",
    "    return (T1, idxs1), (T2, idxs2)\n",
    "\n",
    "x, y = get_example_task()\n",
    "x[1], y[1]"
   ]
  },
  {
   "cell_type": "markdown",
   "metadata": {},
   "source": [
    "## Serial invocation"
   ]
  },
  {
   "cell_type": "code",
   "execution_count": 5,
   "metadata": {
    "ExecuteTime": {
     "end_time": "2020-03-09T05:14:29.004897Z",
     "start_time": "2020-03-09T05:14:28.325593Z"
    }
   },
   "outputs": [
    {
     "name": "stdout",
     "output_type": "stream",
     "text": [
      "contract : 0.6748836040496826\n"
     ]
    }
   ],
   "source": [
    "\n",
    "#@ray.remote\n",
    "def contract(A, B):\n",
    "    a, idxa = A\n",
    "    b, idxb = B\n",
    "    contract_idx = set(idxa) & set(idxb)\n",
    "    result_idx = set(idxa + idxb)\n",
    "    C = np.einsum(a,idxa, b,idxb, result_idx)\n",
    "    return C\n",
    "\n",
    "with pyrof.timing('contract'):\n",
    "    C = contract(x, y)\n"
   ]
  },
  {
   "cell_type": "markdown",
   "metadata": {},
   "source": [
    "### One var parallelisation"
   ]
  },
  {
   "cell_type": "code",
   "execution_count": 6,
   "metadata": {
    "ExecuteTime": {
     "end_time": "2020-03-09T05:14:29.915270Z",
     "start_time": "2020-03-09T05:14:29.897588Z"
    }
   },
   "outputs": [],
   "source": [
    "def sliced_contract(x, y, idxs, num):\n",
    "    slices = _slices_for_idxs(idxs, x[1], y[1], slice_idx=num)\n",
    "    a = x[0][slices[0]]\n",
    "    b = y[0][slices[1]]\n",
    "    with pyrof.timing(f'\\tcontract sliced {num}'):\n",
    "        C = contract((a, x[1]), (b, y[1]))\n",
    "    return C\n",
    "\n",
    "\n",
    "def target_slice(result_idx, idxs, num):\n",
    "    slices = _slices_for_idxs(idxs, result_idx, slice_idx=num)\n",
    "    return slices"
   ]
  },
  {
   "cell_type": "code",
   "execution_count": null,
   "metadata": {
    "lines_to_end_of_cell_marker": 0,
    "lines_to_next_cell": 1
   },
   "outputs": [],
   "source": [
    "def _one_var_seqpar():\n",
    "    contract_idx = set(x[1]) & set(y[1])\n",
    "    result_idx = set(x[1] + y[1])\n",
    "\n",
    "    with pyrof.timing(f'contract simple'):\n",
    "        C = contract(x,y)\n",
    "\n",
    "    par_vars = [1]\n",
    "    target_shape = C.shape\n",
    "    C0 = sliced_contract(x, y, par_vars, 0)\n",
    "    C1 = sliced_contract(x, y, par_vars, 1)\n",
    "\n",
    "    with pyrof.timing('allocate result'):\n",
    "        C_par = np.empty(target_shape)\n",
    "    s0 = target_slice(result_idx, par_vars, 0)\n",
    "    s1 = target_slice(result_idx, par_vars, 1)\n",
    "\n",
    "    with pyrof.timing('slice result'):\n",
    "        _ = C_par[s0[0]]\n",
    "        \n",
    "    with pyrof.timing('assignment'):\n",
    "        C_par[s0[0]] = C0\n",
    "        C_par[s1[0]] = C1\n",
    "\n",
    "    assert np.array_equal(C, C_par)\n"
   ]
  },
  {
   "cell_type": "markdown",
   "metadata": {},
   "source": [
    "### Two var parallelisation"
   ]
  },
  {
   "cell_type": "code",
   "execution_count": null,
   "metadata": {
    "lines_to_end_of_cell_marker": 0,
    "lines_to_next_cell": 1
   },
   "outputs": [],
   "source": [
    "def _two_var_seqpar():\n",
    "    contract_idx = set(x[1]) & set(y[1])\n",
    "    result_idx = set(x[1] + y[1])\n",
    "\n",
    "    with pyrof.timing(f'contract simple'):\n",
    "        C = contract(x,y)\n",
    "        \n",
    "    par_vars = [1, 17]\n",
    "    target_shape = C.shape\n",
    "    C_patches = [\n",
    "        sliced_contract(x, y, par_vars, i)\n",
    "        for i in range(4)\n",
    "    ]\n",
    "\n",
    "    with pyrof.timing('allocate result'):\n",
    "        C_par = np.empty(target_shape)\n",
    "\n",
    "    patch_slces = [\n",
    "        target_slice(result_idx, par_vars, i)\n",
    "        for i in range(4)\n",
    "    ]\n",
    "\n",
    "    with pyrof.timing('assignment'):\n",
    "        for s, patch in zip(patch_slces, C_patches):\n",
    "            C_par[s[0]] = patch\n",
    "\n",
    "    assert np.array_equal(C, C_par)\n"
   ]
  },
  {
   "cell_type": "markdown",
   "metadata": {},
   "source": [
    "### Many var parallelisation"
   ]
  },
  {
   "cell_type": "code",
   "execution_count": 11,
   "metadata": {
    "ExecuteTime": {
     "end_time": "2020-03-09T05:10:09.211143Z",
     "start_time": "2020-03-09T05:10:05.455783Z"
    },
    "lines_to_next_cell": 0
   },
   "outputs": [
    {
     "name": "stdout",
     "output_type": "stream",
     "text": [
      "contract simple : 1.0820136070251465\n",
      "\tcontract sliced 0 : 0.033449411392211914\n",
      "\tcontract sliced 1 : 0.03836464881896973\n",
      "\tcontract sliced 2 : 0.06398296356201172\n",
      "\tcontract sliced 3 : 0.0529017448425293\n",
      "\tcontract sliced 4 : 0.04923677444458008\n",
      "\tcontract sliced 5 : 0.04331612586975098\n",
      "\tcontract sliced 6 : 0.050642967224121094\n",
      "\tcontract sliced 7 : 0.04017186164855957\n",
      "\tcontract sliced 8 : 0.042578935623168945\n",
      "\tcontract sliced 9 : 0.047518253326416016\n",
      "\tcontract sliced 10 : 0.3524761199951172\n",
      "\tcontract sliced 11 : 0.24108147621154785\n",
      "\tcontract sliced 12 : 0.07741117477416992\n",
      "\tcontract sliced 13 : 0.10958695411682129\n",
      "\tcontract sliced 14 : 0.06605362892150879\n",
      "\tcontract sliced 15 : 0.06382369995117188\n",
      "Sequential patches : 1.3844408988952637\n",
      "allocate result : 0.03616809844970703\n",
      "assignment : 0.40332555770874023\n"
     ]
    }
   ],
   "source": [
    "contract_idx = set(x[1]) & set(y[1])\n",
    "result_idx = set(x[1] + y[1])\n",
    "\n",
    "with pyrof.timing(f'contract simple'):\n",
    "    C = contract(x,y)\n",
    "    \n",
    "par_vars = [1, 4, 17, 5]\n",
    "threads = 2**len(par_vars)\n",
    "target_shape = C.shape\n",
    "\n",
    "with pyrof.timing('Sequential patches'):\n",
    "    C_patches = [\n",
    "        sliced_contract(x, y, par_vars, i)\n",
    "        for i in range(threads)\n",
    "    ]\n",
    "\n",
    "with pyrof.timing('allocate result'):\n",
    "    C_par = np.empty(target_shape)\n",
    "\n",
    "patch_slces = [\n",
    "    target_slice(result_idx, par_vars, i)\n",
    "    for i in range(threads)\n",
    "]\n",
    "\n",
    "with pyrof.timing('assignment'):\n",
    "    for s, patch in zip(patch_slces, C_patches):\n",
    "        C_par[s[0]] = patch\n",
    "\n",
    "assert np.array_equal(C, C_par)\n"
   ]
  },
  {
   "cell_type": "markdown",
   "metadata": {
    "ExecuteTime": {
     "end_time": "2020-03-09T02:54:07.793818Z",
     "start_time": "2020-03-09T02:54:07.505067Z"
    },
    "lines_to_next_cell": 2
   },
   "source": [
    "## Use ray\n",
    "### Simple assignment"
   ]
  },
  {
   "cell_type": "code",
   "execution_count": null,
   "metadata": {
    "lines_to_next_cell": 1
   },
   "outputs": [],
   "source": [
    "def use_ray():\n",
    "    try: \n",
    "        ray.init()\n",
    "    except:\n",
    "        print('ray already working')\n",
    "        pass\n",
    "    nodes = ray.nodes()"
   ]
  },
  {
   "cell_type": "code",
   "execution_count": null,
   "metadata": {},
   "outputs": [],
   "source": [
    "def ray_simple():\n",
    "    contract_idx = set(x[1]) & set(y[1])\n",
    "    result_idx = set(x[1] + y[1])\n",
    "\n",
    "\n",
    "    with pyrof.timing(f'contract simple'):\n",
    "        C = contract(x,y)\n",
    "        \n",
    "    sliced_contract_ray = ray.remote(sliced_contract)\n",
    "        \n",
    "    par_vars = [1,5,15,17]\n",
    "    threads = 2**len(par_vars)\n",
    "    target_shape = C.shape\n",
    "\n",
    "    with pyrof.timing('Ray total compute'):\n",
    "        with pyrof.timing('Ray compute'):\n",
    "            with pyrof.timing('  Ray submit'):\n",
    "                C_patches = [\n",
    "                    sliced_contract_ray.remote(x, y, par_vars, i)\n",
    "                    for i in range(threads)\n",
    "                ]\n",
    "\n",
    "\n",
    "            patch_slces = [\n",
    "                target_slice(result_idx, par_vars, i)\n",
    "                for i in range(threads)\n",
    "            ]\n",
    "\n",
    "            with pyrof.timing('  fetch results'):\n",
    "                patches_fetched = [ray.get(patch) for patch in C_patches]\n",
    "        with pyrof.timing(' allocate result'):\n",
    "            C_par = np.empty(target_shape)\n",
    "\n",
    "        with pyrof.timing(' assignment'):\n",
    "            for s, patch in zip(patch_slces, patches_fetched):\n",
    "                C_par[s[0]] = patch\n",
    "\n",
    "    assert np.array_equal(C, C_par)\n"
   ]
  },
  {
   "cell_type": "markdown",
   "metadata": {},
   "source": [
    "### Concurrent assignment"
   ]
  },
  {
   "cell_type": "code",
   "execution_count": null,
   "metadata": {},
   "outputs": [],
   "source": [
    "def ray_concurr():\n",
    "    contract_idx = set(x[1]) & set(y[1])\n",
    "    result_idx = set(x[1] + y[1])\n",
    "\n",
    "\n",
    "    with pyrof.timing(f'contract simple'):\n",
    "        C = contract(x,y)\n",
    "        \n",
    "    sliced_contract_ray = ray.remote(sliced_contract)\n",
    "        \n",
    "    par_vars = [1,3,16, 17]\n",
    "    threads = 2**len(par_vars)\n",
    "    target_shape = C.shape\n",
    "\n",
    "    with pyrof.timing('Ray total compute'):\n",
    "        with pyrof.timing('Ray compute'):\n",
    "            with pyrof.timing('  Ray submit'):\n",
    "                C_patches = [\n",
    "                    sliced_contract_ray.remote(x, y, par_vars, i)\n",
    "                    for i in range(threads)\n",
    "                ]\n",
    "\n",
    "\n",
    "            patch_slces = [\n",
    "                target_slice(result_idx, par_vars, i)\n",
    "                for i in range(threads)\n",
    "            ]\n",
    "            \n",
    "            with pyrof.timing(' allocate result'):\n",
    "                C_par = np.empty(target_shape)\n",
    "\n",
    "            idx = 0\n",
    "            obj_slice_map = {o:s for o, s in zip(C_patches, patch_slces)}\n",
    "            obj_slice_id = {o:i for o, i in zip(C_patches, range(threads))}\n",
    "            with pyrof.timing('fetching results'):\n",
    "                while True:\n",
    "                    ready_ids, working_ids = ray.wait(C_patches)\n",
    "                    if len(C_patches)==0:\n",
    "                        break\n",
    "                    C_patches = [i for i in C_patches if i not in ready_ids]\n",
    "\n",
    "                    for patch in ready_ids:\n",
    "                        sl = obj_slice_map[patch]\n",
    "                        print(obj_slice_id[patch])\n",
    "                        C_par[sl[0]] = ray.get(patch)\n",
    "\n",
    "    assert np.array_equal(C, C_par)\n"
   ]
  },
  {
   "cell_type": "markdown",
   "metadata": {
    "ExecuteTime": {
     "end_time": "2020-03-09T04:33:00.195298Z",
     "start_time": "2020-03-09T04:33:00.150992Z"
    }
   },
   "source": [
    "## Use unix tools\n",
    "### Threading"
   ]
  },
  {
   "cell_type": "code",
   "execution_count": null,
   "metadata": {},
   "outputs": [],
   "source": [
    "from multiprocessing import Pool, Array\n",
    "from multiprocessing.dummy import Pool as ThreadPool"
   ]
  },
  {
   "cell_type": "code",
   "execution_count": null,
   "metadata": {},
   "outputs": [],
   "source": [
    "import os\n",
    "def tonumpyarray(mp_arr):\n",
    "    return np.frombuffer(mp_arr.get_obj())"
   ]
  },
  {
   "cell_type": "code",
   "execution_count": null,
   "metadata": {},
   "outputs": [],
   "source": [
    "contract_idx = set(x[1]) & set(y[1])\n",
    "result_idx = set(x[1] + y[1])"
   ]
  },
  {
   "cell_type": "code",
   "execution_count": null,
   "metadata": {},
   "outputs": [],
   "source": [
    "with pyrof.timing(f'contract simple'):\n",
    "    C = contract(x,y)"
   ]
  },
  {
   "cell_type": "code",
   "execution_count": null,
   "metadata": {},
   "outputs": [],
   "source": [
    "C_size = sys.getsizeof(C)\n",
    "print(f'result size: {C_size:e}')\n",
    "print(f'operands size: {sys.getsizeof(x[0]):e}, {sys.getsizeof(y[0]):e}')\n",
    "target_shape = C.shape"
   ]
  },
  {
   "cell_type": "code",
   "execution_count": null,
   "metadata": {},
   "outputs": [],
   "source": [
    "with pyrof.timing('Total thread contraction time:'):\n",
    "    par_vars = [1,2, 4,14, 19, 17, 5]\n",
    "    threads = 2**len(par_vars)\n",
    "\n",
    "    os.global_C = np.empty(target_shape)\n",
    "\n",
    "    def work(i):\n",
    "        patch = sliced_contract(x, y, par_vars, i)\n",
    "        sl = target_slice(result_idx, par_vars, i)\n",
    "        os.global_C[sl[0]] = patch\n",
    "\n",
    "    pool = ThreadPool(processes=threads)\n",
    "    print('inited thread pool')\n",
    "    with pyrof.timing('Thread work'):\n",
    "        _ = pool.map(work, range(threads))\n",
    "\n",
    "    C_size = sys.getsizeof(os.global_C)\n",
    "    print(f'  result size: {C_size:e}')"
   ]
  },
  {
   "cell_type": "code",
   "execution_count": null,
   "metadata": {},
   "outputs": [],
   "source": [
    "assert np.array_equal(C, os.global_C)"
   ]
  },
  {
   "cell_type": "markdown",
   "metadata": {
    "ExecuteTime": {
     "end_time": "2020-03-09T04:33:00.195298Z",
     "start_time": "2020-03-09T04:33:00.150992Z"
    }
   },
   "source": [
    "###  Multiprocessing"
   ]
  },
  {
   "cell_type": "code",
   "execution_count": null,
   "metadata": {
    "lines_to_next_cell": 2
   },
   "outputs": [],
   "source": [
    "\n",
    "flat_size = len(C.flatten())\n",
    "with pyrof.timing('init array'):\n",
    "    os.global_C = np.empty(target_shape)\n",
    "    #os.global_C = tonumpyarray(Array('d', flat_size))\n",
    "#us.global_C = os.global_C.reshape(target_shape)\n",
    "\n",
    "pool = Pool(processes=threads)\n",
    "print('inited pool')\n",
    "with pyrof.timing('parallel work'):\n",
    "    print('started work')\n",
    "    _ = pool.map(work, range(threads))\n",
    "\n",
    "C_size = sys.getsizeof(os.global_C)\n",
    "print(f'result size: {C_size:e}')\n",
    "assert np.array_equal(C, os.global_C)\n"
   ]
  },
  {
   "cell_type": "code",
   "execution_count": null,
   "metadata": {},
   "outputs": [],
   "source": [
    "del os.global_C"
   ]
  },
  {
   "cell_type": "code",
   "execution_count": null,
   "metadata": {},
   "outputs": [],
   "source": []
  }
 ],
 "metadata": {
  "jupytext": {
   "formats": "ipynb,py"
  },
  "kernelspec": {
   "display_name": "Python 3",
   "language": "python",
   "name": "python3"
  },
  "language_info": {
   "codemirror_mode": {
    "name": "ipython",
    "version": 3
   },
   "file_extension": ".py",
   "mimetype": "text/x-python",
   "name": "python",
   "nbconvert_exporter": "python",
   "pygments_lexer": "ipython3",
   "version": "3.7.7rc1+"
  },
  "toc": {
   "base_numbering": 1,
   "nav_menu": {},
   "number_sections": true,
   "sideBar": true,
   "skip_h1_title": false,
   "title_cell": "Table of Contents",
   "title_sidebar": "Contents",
   "toc_cell": true,
   "toc_position": {
    "height": "calc(100% - 180px)",
    "left": "10px",
    "top": "150px",
    "width": "279.797px"
   },
   "toc_section_display": true,
   "toc_window_display": true
  }
 },
 "nbformat": 4,
 "nbformat_minor": 2
}
