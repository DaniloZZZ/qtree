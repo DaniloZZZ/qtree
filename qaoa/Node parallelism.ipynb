{
 "cells": [
  {
   "cell_type": "markdown",
   "metadata": {
    "toc": true
   },
   "source": [
    "<h1>Table of Contents<span class=\"tocSkip\"></span></h1>\n",
    "<div class=\"toc\"><ul class=\"toc-item\"><li><span><a href=\"#Slice-specified-nodes-in-dimspec\" data-toc-modified-id=\"Slice-specified-nodes-in-dimspec-1\"><span class=\"toc-item-num\">1&nbsp;&nbsp;</span>Slice specified nodes in dimspec</a></span></li><li><span><a href=\"#Test-parallelism\" data-toc-modified-id=\"Test-parallelism-2\"><span class=\"toc-item-num\">2&nbsp;&nbsp;</span>Test parallelism</a></span><ul class=\"toc-item\"><li><ul class=\"toc-item\"><li><span><a href=\"#Example-task\" data-toc-modified-id=\"Example-task-2.0.1\"><span class=\"toc-item-num\">2.0.1&nbsp;&nbsp;</span>Example task</a></span></li></ul></li><li><span><a href=\"#Serial-invocation\" data-toc-modified-id=\"Serial-invocation-2.1\"><span class=\"toc-item-num\">2.1&nbsp;&nbsp;</span>Serial invocation</a></span><ul class=\"toc-item\"><li><span><a href=\"#Many-var-parallelisation\" data-toc-modified-id=\"Many-var-parallelisation-2.1.1\"><span class=\"toc-item-num\">2.1.1&nbsp;&nbsp;</span>Many var parallelisation</a></span></li></ul></li><li><span><a href=\"#Plot-parallelisation-theoretical-speedup\" data-toc-modified-id=\"Plot-parallelisation-theoretical-speedup-2.2\"><span class=\"toc-item-num\">2.2&nbsp;&nbsp;</span>Plot parallelisation theoretical speedup</a></span></li><li><span><a href=\"#Use-unix-tools\" data-toc-modified-id=\"Use-unix-tools-2.3\"><span class=\"toc-item-num\">2.3&nbsp;&nbsp;</span>Use unix tools</a></span><ul class=\"toc-item\"><li><span><a href=\"#Threading\" data-toc-modified-id=\"Threading-2.3.1\"><span class=\"toc-item-num\">2.3.1&nbsp;&nbsp;</span>Threading</a></span></li><li><span><a href=\"#Multiprocessing\" data-toc-modified-id=\"Multiprocessing-2.3.2\"><span class=\"toc-item-num\">2.3.2&nbsp;&nbsp;</span>Multiprocessing</a></span></li></ul></li></ul></li></ul></div>"
   ]
  },
  {
   "cell_type": "code",
   "execution_count": 20,
   "metadata": {
    "ExecuteTime": {
     "end_time": "2020-03-09T23:22:09.236727Z",
     "start_time": "2020-03-09T23:22:09.230517Z"
    }
   },
   "outputs": [],
   "source": [
    "import ray\n",
    "import pyrofiler as pyrof\n",
    "from pyrofiler.pyrofiler import Profiler\n",
    "from pyrofiler import callbacks\n",
    "import matplotlib.pyplot as plt\n",
    "import seaborn as sns\n",
    "import numpy as np\n",
    "import sys\n",
    "sns.set_style('whitegrid')\n",
    "np.random.seed(42)"
   ]
  },
  {
   "cell_type": "markdown",
   "metadata": {},
   "source": [
    "# Slice specified nodes in dimspec"
   ]
  },
  {
   "cell_type": "code",
   "execution_count": null,
   "metadata": {
    "ExecuteTime": {
     "end_time": "2020-03-09T23:09:18.696527Z",
     "start_time": "2020-03-09T23:09:18.688439Z"
    }
   },
   "outputs": [],
   "source": [
    "def _none_slice():\n",
    "    return slice(None)\n",
    "\n",
    "def _get_idx(x, idxs, slice_idx, shapes=None):\n",
    "    if shapes is None:\n",
    "        shapes = [2]*len(idxs)\n",
    "    point = np.unravel_index(slice_idx, shapes)\n",
    "    get_point = {i:p for i,p in zip(idxs, point)}\n",
    "    if x in idxs:\n",
    "        p = get_point[x]\n",
    "        return slice(p,p+1)\n",
    "    else:\n",
    "        return _none_slice()\n",
    "\n",
    "def _slices_for_idxs(idxs, *args, shapes=None, slice_idx=0):\n",
    "    \"\"\"Return array of slices along idxs\"\"\"\n",
    "    slices = []\n",
    "    for indexes in args:\n",
    "        _slice = [_get_idx(x, idxs, slice_idx, shapes) for x in indexes ]\n",
    "        slices.append(tuple(_slice))\n",
    "    return slices\n",
    "        "
   ]
  },
  {
   "cell_type": "code",
   "execution_count": 27,
   "metadata": {
    "ExecuteTime": {
     "end_time": "2020-03-09T23:25:26.971914Z",
     "start_time": "2020-03-09T23:25:26.961071Z"
    }
   },
   "outputs": [],
   "source": [
    "def log_log_scale():\n",
    "    plt.yscale('log')\n",
    "    plt.xscale('log')\n",
    "    \n",
    "def minorticks():\n",
    "    plt.minorticks_on()\n",
    "    plt.grid(which='minor', alpha=0.5, linestyle='-', axis='both')"
   ]
  },
  {
   "cell_type": "markdown",
   "metadata": {},
   "source": [
    "# Test parallelism\n",
    "### Example task"
   ]
  },
  {
   "cell_type": "code",
   "execution_count": 58,
   "metadata": {
    "ExecuteTime": {
     "end_time": "2020-03-09T23:42:26.553017Z",
     "start_time": "2020-03-09T23:42:26.441768Z"
    }
   },
   "outputs": [
    {
     "data": {
      "text/plain": [
       "([0, 1, 2, 3, 4, 5, 6, 7, 8, 9, 10, 11, 12, 13, 14, 15, 16, 17],\n",
       " [0, 1, 2, 3, 4, 5, 6, 7, 18, 19, 20, 21, 22, 23, 24])"
      ]
     },
     "execution_count": 58,
     "metadata": {},
     "output_type": "execute_result"
    }
   ],
   "source": [
    "def get_example_task(A=8, B=10, C=7):\n",
    "    shape1 = [2]*(A+B)\n",
    "    shape2 = [2]*(A+C)\n",
    "    T1 = np.random.randn(*shape1)\n",
    "    T2 = np.random.randn(*shape2)\n",
    "    common = list(range(A))\n",
    "    idxs1 = common + list(range(A, A+B))\n",
    "    idxs2 = common + list(range(A+B, A+B+C))\n",
    "    return (T1, idxs1), (T2, idxs2)\n",
    "\n",
    "x, y = get_example_task()\n",
    "x[1], y[1]"
   ]
  },
  {
   "cell_type": "markdown",
   "metadata": {},
   "source": [
    "## Serial invocation"
   ]
  },
  {
   "cell_type": "code",
   "execution_count": 7,
   "metadata": {
    "ExecuteTime": {
     "end_time": "2020-03-09T23:11:57.556787Z",
     "start_time": "2020-03-09T23:11:57.412039Z"
    }
   },
   "outputs": [
    {
     "name": "stdout",
     "output_type": "stream",
     "text": [
      "contract : 0.1349177360534668\n"
     ]
    }
   ],
   "source": [
    "def contract(A, B):\n",
    "    a, idxa = A\n",
    "    b, idxb = B\n",
    "    contract_idx = set(idxa) & set(idxb)\n",
    "    result_idx = set(idxa + idxb)\n",
    "    C = np.einsum(a,idxa, b,idxb, result_idx)\n",
    "    return C\n",
    "\n",
    "def sliced_contract(x, y, idxs, num):\n",
    "    slices = _slices_for_idxs(idxs, x[1], y[1], slice_idx=num)\n",
    "    a = x[0][slices[0]]\n",
    "    b = y[0][slices[1]]\n",
    "    with pyrof.timing(f'\\tcontract sliced {num}'):\n",
    "        C = contract((a, x[1]), (b, y[1]))\n",
    "    return C\n",
    "\n",
    "def target_slice(result_idx, idxs, num):\n",
    "    slices = _slices_for_idxs(idxs, result_idx, slice_idx=num)\n",
    "    return slices\n",
    "\n",
    "\n",
    "with pyrof.timing('contract'):\n",
    "    C = contract(x, y)\n"
   ]
  },
  {
   "cell_type": "markdown",
   "metadata": {},
   "source": [
    "### Many var parallelisation"
   ]
  },
  {
   "cell_type": "code",
   "execution_count": 77,
   "metadata": {
    "ExecuteTime": {
     "end_time": "2020-03-09T23:51:01.335610Z",
     "start_time": "2020-03-09T23:50:04.077662Z"
    },
    "lines_to_next_cell": 0
   },
   "outputs": [
    {
     "name": "stdout",
     "output_type": "stream",
     "text": [
      "Single thread : 1.0604753494262695\n",
      "\tcontract sliced 0 : 0.19724249839782715\n",
      "One patch: compute : 0.20175814628601074\n",
      "One patch: assign : 0.2649416923522949\n",
      "One patch: total : 0.46805763244628906\n",
      "Single thread : 40.41909599304199\n",
      "\tcontract sliced 0 : 0.2914571762084961\n",
      "One patch: compute : 0.3025023937225342\n",
      "One patch: assign : 0.11948823928833008\n",
      "One patch: total : 0.4281632900238037\n",
      "Single thread : 0.5311300754547119\n",
      "\tcontract sliced 0 : 0.13833212852478027\n",
      "One patch: compute : 0.14123892784118652\n",
      "One patch: assign : 0.10029149055480957\n",
      "One patch: total : 0.24464917182922363\n",
      "Single thread : 0.782768964767456\n",
      "\tcontract sliced 0 : 0.023762226104736328\n",
      "One patch: compute : 0.0253293514251709\n",
      "One patch: assign : 0.023586034774780273\n",
      "One patch: total : 0.0499567985534668\n",
      "Single thread : 0.4178018569946289\n",
      "\tcontract sliced 0 : 0.01177835464477539\n",
      "One patch: compute : 0.014770030975341797\n",
      "One patch: assign : 0.01289820671081543\n",
      "One patch: total : 0.028556108474731445\n",
      "Single thread : 0.3748202323913574\n",
      "\tcontract sliced 0 : 0.007523059844970703\n",
      "One patch: compute : 0.008469104766845703\n",
      "One patch: assign : 0.007203817367553711\n",
      "One patch: total : 0.016107559204101562\n"
     ]
    }
   ],
   "source": [
    "prof_seq = Profiler()\n",
    "prof_seq.use_append()\n",
    "\n",
    "contract_idx = set(x[1]) & set(y[1])\n",
    "result_idx = set(x[1] + y[1])\n",
    "\n",
    "for i in range(3):\n",
    "    _ = contract(x,y)\n",
    "for rank in range(1,7):\n",
    "    with prof_seq.timing('Single thread'):\n",
    "        C = contract(x,y)\n",
    "    \n",
    "    par_vars = list(range(rank))\n",
    "    target_shape = C.shape\n",
    "\n",
    "    with prof_seq.timing('One patch: total'):\n",
    "        i = 0\n",
    "        with prof_seq.timing('One patch: compute'):\n",
    "            patch = sliced_contract(x, y, par_vars, i)\n",
    "        C_par = np.empty(target_shape)\n",
    "        with prof_seq.timing('One patch: assign'):\n",
    "            _slice = target_slice(result_idx, par_vars, i)\n",
    "            C_par[_slice[0]] = patch\n"
   ]
  },
  {
   "cell_type": "markdown",
   "metadata": {},
   "source": [
    "## Plot parallelisation theoretical speedup"
   ]
  },
  {
   "cell_type": "code",
   "execution_count": 43,
   "metadata": {
    "ExecuteTime": {
     "end_time": "2020-03-09T23:33:46.895529Z",
     "start_time": "2020-03-09T23:33:46.230618Z"
    }
   },
   "outputs": [
    {
     "data": {
      "image/png": "[encoded data removed]",
      "text/plain": [
       "<Figure size 432x288 with 1 Axes>"
      ]
     },
     "metadata": {},
     "output_type": "display_data"
    }
   ],
   "source": [
    "prof_seq.data\n",
    "threads = 2**np.arange(1,7)\n",
    "\n",
    "for k in prof_seq.data:\n",
    "    plt.plot(threads, prof_seq.data[k], label=k)\n",
    "    \n",
    "plt.loglog(basex=2, basey=2)\n",
    "from matplotlib.ticker import FormatStrFormatter\n",
    "\n",
    "plt.title('Single node parallelization syntetic test')\n",
    "plt.xlabel('Thread count')\n",
    "plt.ylabel('Time')\n",
    "minorticks()\n",
    "plt.legend()\n",
    "plt.savefig('figures/node_par_seqtest.pdf')"
   ]
  },
  {
   "cell_type": "markdown",
   "metadata": {
    "ExecuteTime": {
     "end_time": "2020-03-09T04:33:00.195298Z",
     "start_time": "2020-03-09T04:33:00.150992Z"
    }
   },
   "source": [
    "## Use unix tools\n",
    "### Threading"
   ]
  },
  {
   "cell_type": "code",
   "execution_count": 46,
   "metadata": {
    "ExecuteTime": {
     "end_time": "2020-03-09T23:39:20.677540Z",
     "start_time": "2020-03-09T23:39:20.655752Z"
    }
   },
   "outputs": [],
   "source": [
    "from multiprocessing import Pool, Array\n",
    "from multiprocessing.dummy import Pool as ThreadPool\n",
    "import os\n",
    "\n",
    "def tonumpyarray(mp_arr):\n",
    "    return np.frombuffer(mp_arr.get_obj())"
   ]
  },
  {
   "cell_type": "code",
   "execution_count": 72,
   "metadata": {
    "ExecuteTime": {
     "end_time": "2020-03-09T23:46:43.237411Z",
     "start_time": "2020-03-09T23:46:43.004624Z"
    }
   },
   "outputs": [],
   "source": [
    "x,y = get_example_task(A=9, B=11, C=7)\n",
    "contract_idx = set(x[1]) & set(y[1])\n",
    "result_idx = set(x[1] + y[1])"
   ]
  },
  {
   "cell_type": "code",
   "execution_count": 73,
   "metadata": {
    "ExecuteTime": {
     "end_time": "2020-03-09T23:46:43.375310Z",
     "start_time": "2020-03-09T23:46:43.350042Z"
    }
   },
   "outputs": [],
   "source": [
    "prof_thread = Profiler()\n",
    "prof_thread.use_append()\n",
    "\n"
   ]
  },
  {
   "cell_type": "code",
   "execution_count": 74,
   "metadata": {
    "ExecuteTime": {
     "end_time": "2020-03-09T23:47:15.129903Z",
     "start_time": "2020-03-09T23:46:43.990778Z"
    },
    "scrolled": true
   },
   "outputs": [
    {
     "name": "stdout",
     "output_type": "stream",
     "text": [
      "Single thread : 0.5260138511657715\n",
      "\tcontract sliced 1 : 0.5626978874206543\n",
      "\tcontract sliced 0 : 0.6125516891479492\n",
      "Multithread: work : 17.892274379730225\n",
      "Multithread: total : 18.50485610961914\n",
      "Single thread : 0.5576422214508057\n",
      "\tcontract sliced 0\tcontract sliced 3\tcontract sliced 1\tcontract sliced 2 : 0.6045629978179932\n",
      "  : 0.6012313365936279\n",
      ": : 0.6742134094238281\n",
      " 0.6062586307525635\n",
      "Multithread: work : 1.7085037231445312\n",
      "Multithread: total : 1.7473969459533691\n",
      "Single thread : 0.3875846862792969\n",
      "\tcontract sliced 0 : 0.0898747444152832\n",
      "\tcontract sliced 4 : 0.32690930366516113\n",
      "\tcontract sliced 1 : 0.6240272521972656\n",
      "\tcontract sliced 7 : 0.5629255771636963\n",
      "\tcontract sliced 2\tcontract sliced 3 : 0.6542999744415283\n",
      " : 0.6276445388793945\n",
      "\tcontract sliced 6 : 0.6645774841308594\n",
      "\tcontract sliced 5 : 0.8740389347076416\n",
      "Multithread: work : 1.1029202938079834\n",
      "Multithread: total : 1.1128926277160645\n",
      "Single thread : 0.646895170211792\n",
      "\tcontract sliced 0 \tcontract sliced 1 : 0.1600797176361084\n",
      ": 0.12323880195617676\n",
      "\tcontract sliced 3 : 0.2339622974395752\n",
      "\tcontract sliced 4 : 0.353562593460083\n",
      "\tcontract sliced 12 : 0.35033440589904785\n",
      "\tcontract sliced 8 : 0.4167490005493164\n",
      "\tcontract sliced 5 : 0.4789156913757324\n",
      "\tcontract sliced 10\tcontract sliced 13 : 0.45050525665283203\n",
      " \tcontract sliced 2 : 0.5642330646514893\n",
      ": 0.46320509910583496\n",
      "\tcontract sliced 11 : 0.4863572120666504\n",
      "\tcontract sliced 9 : 0.566626787185669\n",
      "\tcontract sliced 6\tcontract sliced 7 : 0.5846924781799316\n",
      " : 0.5931735038757324\n",
      "\tcontract sliced 14 : 0.5315191745758057\n",
      "\tcontract sliced 15 : 0.5658376216888428\n",
      "Multithread: work : 0.9155077934265137\n",
      "Multithread: total : 0.9190881252288818\n",
      "Single thread : 0.37779855728149414\n",
      "\tcontract sliced 0 \tcontract sliced 3: 0.05360078811645508\n",
      " \tcontract sliced 4\tcontract sliced 5\tcontract sliced 6 : 0.12586569786071777\n",
      "\tcontract sliced 14 : 0.05932283401489258\n",
      "\tcontract sliced 7 : 0.1759779453277588\n",
      "\tcontract sliced 9 : 0.1656508445739746\n",
      "\tcontract sliced 11 : 0.11998653411865234\n",
      "\tcontract sliced 10 : 0.1403656005859375\n",
      "\tcontract sliced 1 : 0.21135640144348145\n",
      "\tcontract sliced 8 : 0.22075319290161133\n",
      " : 0.16933465003967285\n",
      "\tcontract sliced 15 : 0.10288763046264648\n",
      "\tcontract sliced 12 : 0.19289851188659668\n",
      " \tcontract sliced 16 : 0.2567124366760254\n",
      "\tcontract sliced 2 : 0.4515256881713867\n",
      ": 0.169142484664917\n",
      ": 0.16663599014282227\n",
      "\tcontract sliced 20 : 0.15117168426513672\n",
      "\tcontract sliced 21 : 0.24811387062072754\n",
      "\tcontract sliced 18\tcontract sliced 26 : 0.24477458000183105\n",
      "\tcontract sliced 29 :\tcontract sliced 24 : 0.36197328567504883\n",
      " \tcontract sliced 13:\tcontract sliced 17 : 0.5435945987701416\n",
      "\tcontract sliced 25 : 0.40485405921936035\n",
      "\tcontract sliced 27 : 0.16402912139892578\n",
      "\tcontract sliced 23 : 0.46176886558532715\n",
      " 0.28090429306030273\n",
      " \tcontract sliced 30 0.18413662910461426\n",
      "\tcontract sliced 28 : 0.36499977111816406\n",
      ":\tcontract sliced 31 0.3604705333709717\n",
      " : 0.130448579788208\n",
      " : 0.28487515449523926\n",
      "\tcontract sliced 22 : 0.12926173210144043\n",
      "\tcontract sliced 19 : 0.1936333179473877\n",
      "Multithread: work : 1.0121238231658936\n",
      "Multithread: total : 1.0158717632293701\n",
      "Single thread : 0.39188671112060547\n",
      "\tcontract sliced 0 : 0.0361475944519043\tcontract sliced 2 : 0.05377912521362305\n",
      "\tcontract sliced 1 :\n",
      " 0.0560300350189209\n",
      "\tcontract sliced 34 \tcontract sliced 35 : 0.058419227600097656\n",
      "\tcontract sliced 31 : \tcontract sliced 29 : 0.114044189453125\n",
      "\tcontract sliced 33 : 0.07046222686767578\n",
      "0.10980105400085449\n",
      ": 0.07049107551574707\n",
      "\tcontract sliced 41\tcontract sliced 30 : 0.15343403816223145\n",
      "\tcontract sliced 40\tcontract sliced 36 : 0.08013010025024414 : 0.0832509994506836\n",
      "\n",
      "\tcontract sliced 42\tcontract sliced 8 : 0.2718219757080078\n",
      "\tcontract sliced 38 : 0.14177846908569336\n",
      "\tcontract sliced 17 : 0.28136467933654785\n",
      "\tcontract sliced 15 : 0.30470705032348633\n",
      "\tcontract sliced 18  : 0.12252259254455566\n",
      " : 0.11626696586608887\n",
      "\tcontract sliced 14\tcontract sliced 37 : 0.23565173149108887\n",
      "\tcontract sliced 32 : 0.33135175704956055\n",
      "\tcontract sliced 4 : 0.41394853591918945\n",
      "\tcontract sliced 6 : 0.4131181240081787\n",
      "\tcontract sliced 39\tcontract sliced 46: : 0.11292290687561035\n",
      " \tcontract sliced 13 : 0.36843156814575195\n",
      "\tcontract sliced 22\tcontract sliced 45\tcontract sliced 23 : 0.4439225196838379\n",
      " \tcontract sliced 16 : 0.4670403003692627\n",
      "\tcontract sliced 48 : 0.03353166580200195\n",
      "\tcontract sliced 21\tcontract sliced 12\tcontract sliced 43 :\tcontract sliced 25\tcontract sliced 10\tcontract sliced 44 :\tcontract sliced 24\tcontract sliced 20 : 0.5419809818267822\n",
      " : 0.5440459251403809\n",
      "\tcontract sliced 58 \tcontract sliced 53 : 0.17663812637329102\n",
      " :  \tcontract sliced 5 : 0.5877799987792969\n",
      " : 0.5154993534088135\n",
      " : 0.5429115295410156\n",
      "  : 0.2793257236480713\n",
      "\tcontract sliced 3 : 0.6164805889129639\tcontract sliced 56 : 0.16941475868225098\n",
      "0.08387875556945801\n",
      "\tcontract sliced 540.3254876136779785\n",
      "\tcontract sliced 26 : 0.5854537487030029\n",
      "\tcontract sliced 27 : 0.5883686542510986\n",
      "  : 0.5307552814483643\n",
      "\tcontract sliced 47 \tcontract sliced 9 : 0.6377477645874023\n",
      ":0.4412410259246826\n",
      "0.31670546531677246:\n",
      " \tcontract sliced 49\n",
      "0.1956636905670166: 0.15771698951721191\n",
      "\tcontract sliced 11 : 0.7107045650482178\n",
      "\tcontract sliced 59\tcontract sliced 51 \tcontract sliced 50\tcontract sliced 28 : 0.6759786605834961\n",
      ":\tcontract sliced 63 : 0.10338401794433594\n",
      "\tcontract sliced 7 : 0.7345590591430664\n",
      "\n",
      "\tcontract sliced 52   : 0.24722528457641602\n",
      "\tcontract sliced 61 : 0.12073945999145508\n",
      "  \tcontract sliced 19 : 0.7452108860015869\n",
      ": 0.22186994552612305\n",
      "\tcontract sliced 570.17860174179077148\n",
      " : 0.3176429271697998\n",
      " \tcontract sliced 62: : 0.13679885864257812\n",
      "\tcontract sliced 60 : 0.20814180374145508\n",
      ":: 0.16263127326965332\n",
      "0.07791328430175781\n",
      " : 0.4506227970123291\n",
      " 0.514101505279541\n",
      " : 0.14655685424804688\n",
      " 0.38625621795654297\n",
      "\tcontract sliced 55 : 0.1059274673461914\n",
      "Multithread: work : 0.9101037979125977\n",
      "Multithread: total : 0.9136261940002441\n"
     ]
    }
   ],
   "source": [
    "    \n",
    "C_size = sys.getsizeof(C)\n",
    "target_shape = C.shape\n",
    "\n",
    "for i in range(3):\n",
    "    _ = contract(x,y)\n",
    "    \n",
    "pool = ThreadPool(processes=2**7)\n",
    "    \n",
    "for rank in range(1,7):\n",
    "    with prof_thread.timing('Single thread'):\n",
    "        C = contract(x,y)\n",
    "\n",
    "    with prof_thread.timing('Multithread: total'):\n",
    "        par_vars = list(range(rank))\n",
    "        threads = 2**len(par_vars)\n",
    "\n",
    "        os.global_C = np.empty(target_shape)\n",
    "\n",
    "        def work(i):\n",
    "            patch = sliced_contract(x, y, par_vars, i)\n",
    "            sl = target_slice(result_idx, par_vars, i)\n",
    "            os.global_C[sl[0]] = patch\n",
    "\n",
    "        with prof_thread.timing('Multithread: work'):\n",
    "            _ = pool.map(work, range(threads))\n",
    "            "
   ]
  },
  {
   "cell_type": "code",
   "execution_count": 76,
   "metadata": {
    "ExecuteTime": {
     "end_time": "2020-03-09T23:49:58.454877Z",
     "start_time": "2020-03-09T23:49:57.386708Z"
    }
   },
   "outputs": [
    {
     "data": {
      "image/png": "[encoded data removed]",
      "text/plain": [
       "<Figure size 432x288 with 1 Axes>"
      ]
     },
     "metadata": {},
     "output_type": "display_data"
    }
   ],
   "source": [
    "prof_seq.data\n",
    "_data = prof_thread.data\n",
    "threads = 2**np.arange(1,7)\n",
    "\n",
    "for k in _data:\n",
    "    plt.plot(threads, _data[k], label=k)\n",
    "    \n",
    "plt.loglog(basex=2, basey=2)\n",
    "from matplotlib.ticker import FormatStrFormatter\n",
    "\n",
    "plt.title('Single node parallelization syntetic test')\n",
    "plt.xlabel('Thread count')\n",
    "plt.ylabel('Time')\n",
    "minorticks()\n",
    "plt.legend()\n",
    "plt.savefig('figures/node_par_threadtest.pdf')"
   ]
  },
  {
   "cell_type": "markdown",
   "metadata": {
    "ExecuteTime": {
     "end_time": "2020-03-09T04:33:00.195298Z",
     "start_time": "2020-03-09T04:33:00.150992Z"
    }
   },
   "source": [
    "###  Multiprocessing"
   ]
  },
  {
   "cell_type": "code",
   "execution_count": null,
   "metadata": {
    "ExecuteTime": {
     "end_time": "2020-03-09T22:53:24.487578Z",
     "start_time": "2020-03-09T22:53:24.134Z"
    },
    "lines_to_next_cell": 2
   },
   "outputs": [],
   "source": [
    "\n",
    "flat_size = len(C.flatten())\n",
    "with pyrof.timing('init array'):\n",
    "    os.global_C = np.empty(target_shape)\n",
    "    #os.global_C = tonumpyarray(Array('d', flat_size))\n",
    "#us.global_C = os.global_C.reshape(target_shape)\n",
    "\n",
    "pool = Pool(processes=threads)\n",
    "print('inited pool')\n",
    "with pyrof.timing('parallel work'):\n",
    "    print('started work')\n",
    "    _ = pool.map(work, range(threads))\n",
    "\n",
    "C_size = sys.getsizeof(os.global_C)\n",
    "print(f'result size: {C_size:e}')\n",
    "assert np.array_equal(C, os.global_C)\n"
   ]
  },
  {
   "cell_type": "code",
   "execution_count": null,
   "metadata": {
    "ExecuteTime": {
     "end_time": "2020-03-09T22:53:24.488941Z",
     "start_time": "2020-03-09T22:53:24.137Z"
    }
   },
   "outputs": [],
   "source": [
    "del os.global_C"
   ]
  },
  {
   "cell_type": "code",
   "execution_count": null,
   "metadata": {},
   "outputs": [],
   "source": []
  }
 ],
 "metadata": {
  "jupytext": {
   "formats": "ipynb,py"
  },
  "kernelspec": {
   "display_name": "Python 3",
   "language": "python",
   "name": "python3"
  },
  "language_info": {
   "codemirror_mode": {
    "name": "ipython",
    "version": 3
   },
   "file_extension": ".py",
   "mimetype": "text/x-python",
   "name": "python",
   "nbconvert_exporter": "python",
   "pygments_lexer": "ipython3",
   "version": "3.7.7rc1+"
  },
  "toc": {
   "base_numbering": 1,
   "nav_menu": {},
   "number_sections": true,
   "sideBar": true,
   "skip_h1_title": false,
   "title_cell": "Table of Contents",
   "title_sidebar": "Contents",
   "toc_cell": true,
   "toc_position": {
    "height": "calc(100% - 180px)",
    "left": "10px",
    "top": "150px",
    "width": "279.797px"
   },
   "toc_section_display": true,
   "toc_window_display": true
  }
 },
 "nbformat": 4,
 "nbformat_minor": 2
}
