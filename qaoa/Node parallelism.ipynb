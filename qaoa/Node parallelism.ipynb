{
 "cells": [
  {
   "cell_type": "markdown",
   "metadata": {
    "toc": true
   },
   "source": [
    "<h1>Table of Contents<span class=\"tocSkip\"></span></h1>\n",
    "<div class=\"toc\"><ul class=\"toc-item\"><li><span><a href=\"#Slice-specified-nodes-in-dimspec\" data-toc-modified-id=\"Slice-specified-nodes-in-dimspec-1\"><span class=\"toc-item-num\">1&nbsp;&nbsp;</span>Slice specified nodes in dimspec</a></span></li><li><span><a href=\"#Test-parallelism\" data-toc-modified-id=\"Test-parallelism-2\"><span class=\"toc-item-num\">2&nbsp;&nbsp;</span>Test parallelism</a></span><ul class=\"toc-item\"><li><ul class=\"toc-item\"><li><span><a href=\"#Example-task\" data-toc-modified-id=\"Example-task-2.0.1\"><span class=\"toc-item-num\">2.0.1&nbsp;&nbsp;</span>Example task</a></span></li></ul></li><li><span><a href=\"#Simple-invocation\" data-toc-modified-id=\"Simple-invocation-2.1\"><span class=\"toc-item-num\">2.1&nbsp;&nbsp;</span>Simple invocation</a></span></li><li><span><a href=\"#One-var-parallelisation\" data-toc-modified-id=\"One-var-parallelisation-2.2\"><span class=\"toc-item-num\">2.2&nbsp;&nbsp;</span>One var parallelisation</a></span></li><li><span><a href=\"#Two-var-parallelisation\" data-toc-modified-id=\"Two-var-parallelisation-2.3\"><span class=\"toc-item-num\">2.3&nbsp;&nbsp;</span>Two var parallelisation</a></span></li><li><span><a href=\"#Many-var-parallelisation\" data-toc-modified-id=\"Many-var-parallelisation-2.4\"><span class=\"toc-item-num\">2.4&nbsp;&nbsp;</span>Many var parallelisation</a></span></li><li><span><a href=\"#Use-ray\" data-toc-modified-id=\"Use-ray-2.5\"><span class=\"toc-item-num\">2.5&nbsp;&nbsp;</span>Use ray</a></span></li><li><span><a href=\"#Concurrent-assignment\" data-toc-modified-id=\"Concurrent-assignment-2.6\"><span class=\"toc-item-num\">2.6&nbsp;&nbsp;</span>Concurrent assignment</a></span></li><li><span><a href=\"#Use-multiprocessing\" data-toc-modified-id=\"Use-multiprocessing-2.7\"><span class=\"toc-item-num\">2.7&nbsp;&nbsp;</span>Use multiprocessing</a></span></li></ul></li></ul></div>"
   ]
  },
  {
   "cell_type": "code",
   "execution_count": 1,
   "metadata": {
    "ExecuteTime": {
     "end_time": "2020-03-09T05:14:23.522605Z",
     "start_time": "2020-03-09T05:14:22.988879Z"
    }
   },
   "outputs": [],
   "source": [
    "import ray\n",
    "import pyrofiler as pyrof\n",
    "import numpy as np\n",
    "np.random.seed(42)"
   ]
  },
  {
   "cell_type": "markdown",
   "metadata": {},
   "source": [
    "# Slice specified nodes in dimspec"
   ]
  },
  {
   "cell_type": "code",
   "execution_count": 2,
   "metadata": {
    "ExecuteTime": {
     "end_time": "2020-03-09T05:14:23.541789Z",
     "start_time": "2020-03-09T05:14:23.524599Z"
    }
   },
   "outputs": [],
   "source": [
    "def _none_slice():\n",
    "    return slice(None)\n",
    "\n",
    "def _get_idx(x, idxs, slice_idx, shapes=None):\n",
    "    if shapes is None:\n",
    "        shapes = [2]*len(idxs)\n",
    "    point = np.unravel_index(slice_idx, shapes)\n",
    "    get_point = {i:p for i,p in zip(idxs, point)}\n",
    "    if x in idxs:\n",
    "        p = get_point[x]\n",
    "        return slice(p,p+1)\n",
    "    else:\n",
    "        return _none_slice()\n",
    "\n",
    "def _slices_for_idxs(idxs, *args, shapes=None, slice_idx=0):\n",
    "    \"\"\"Return array of slices along idxs\"\"\"\n",
    "    slices = []\n",
    "    for indexes in args:\n",
    "        _slice = [_get_idx(x, idxs, slice_idx, shapes) for x in indexes ]\n",
    "        slices.append(tuple(_slice))\n",
    "    return slices\n",
    "        "
   ]
  },
  {
   "cell_type": "code",
   "execution_count": 3,
   "metadata": {
    "ExecuteTime": {
     "end_time": "2020-03-09T05:14:24.490327Z",
     "start_time": "2020-03-09T05:14:24.457082Z"
    },
    "scrolled": true
   },
   "outputs": [
    {
     "name": "stdout",
     "output_type": "stream",
     "text": [
      "[(slice(None, None, None), slice(0, 1, None), slice(0, 1, None)), (slice(None, None, None), slice(0, 1, None), slice(0, 1, None), slice(None, None, None))]\n",
      "[(slice(None, None, None), slice(1, 2, None), slice(0, 1, None)), (slice(None, None, None), slice(0, 1, None), slice(1, 2, None), slice(None, None, None))]\n",
      "[(slice(None, None, None), slice(2, 3, None), slice(0, 1, None)), (slice(None, None, None), slice(0, 1, None), slice(2, 3, None), slice(None, None, None))]\n",
      "[(slice(None, None, None), slice(0, 1, None), slice(1, 2, None)), (slice(None, None, None), slice(1, 2, None), slice(0, 1, None), slice(None, None, None))]\n"
     ]
    },
    {
     "data": {
      "text/plain": [
       "[None, None, None, None]"
      ]
     },
     "execution_count": 3,
     "metadata": {},
     "output_type": "execute_result"
    }
   ],
   "source": [
    "dims1 = [1,3,4 ]\n",
    "dims2 = [2,4,3, 5]\n",
    "contract = [dims1, dims2]\n",
    "\n",
    "slice_among = [4, 3]\n",
    "shapes = [2, 3]\n",
    "\n",
    "test_slices = [\n",
    "    _slices_for_idxs(slice_among, *contract, shapes=shapes, slice_idx=i)\n",
    "    for i in range(4)\n",
    "    ]\n",
    "[print(x) for x in test_slices]\n"
   ]
  },
  {
   "cell_type": "markdown",
   "metadata": {},
   "source": [
    "# Test parallelism\n",
    "### Example task"
   ]
  },
  {
   "cell_type": "code",
   "execution_count": 4,
   "metadata": {
    "ExecuteTime": {
     "end_time": "2020-03-09T05:14:26.829668Z",
     "start_time": "2020-03-09T05:14:26.762882Z"
    },
    "scrolled": false
   },
   "outputs": [
    {
     "data": {
      "text/plain": [
       "([0, 1, 2, 3, 4, 5, 6, 7, 8, 9, 10, 11, 12, 13, 14, 15, 16, 17, 18, 19],\n",
       " [0, 1, 2, 3, 4, 5, 6, 7, 8, 9, 10, 20, 21, 22, 23, 24, 25, 26])"
      ]
     },
     "execution_count": 4,
     "metadata": {},
     "output_type": "execute_result"
    }
   ],
   "source": [
    "def get_example_task():\n",
    "    A = 11\n",
    "    B, C = 9, 7\n",
    "    shape1 = [2]*(A+B)\n",
    "    shape2 = [2]*(A+C)\n",
    "    T1 = np.random.randn(*shape1)\n",
    "    T2 = np.random.randn(*shape2)\n",
    "    common = list(range(A))\n",
    "    idxs1 = common + list(range(A, A+B))\n",
    "    idxs2 = common + list(range(A+B, A+B+C))\n",
    "    return (T1, idxs1), (T2, idxs2)\n",
    "\n",
    "x, y = get_example_task()\n",
    "x[1], y[1]"
   ]
  },
  {
   "cell_type": "markdown",
   "metadata": {},
   "source": [
    "## Simple invocation"
   ]
  },
  {
   "cell_type": "code",
   "execution_count": 5,
   "metadata": {
    "ExecuteTime": {
     "end_time": "2020-03-09T05:14:29.004897Z",
     "start_time": "2020-03-09T05:14:28.325593Z"
    }
   },
   "outputs": [
    {
     "name": "stdout",
     "output_type": "stream",
     "text": [
      "contract : 0.6748836040496826\n"
     ]
    }
   ],
   "source": [
    "\n",
    "#@ray.remote\n",
    "def contract(A, B):\n",
    "    a, idxa = A\n",
    "    b, idxb = B\n",
    "    contract_idx = set(idxa) & set(idxb)\n",
    "    result_idx = set(idxa + idxb)\n",
    "    C = np.einsum(a,idxa, b,idxb, result_idx)\n",
    "    return C\n",
    "\n",
    "with pyrof.timing('contract'):\n",
    "    C = contract(x, y)\n"
   ]
  },
  {
   "cell_type": "markdown",
   "metadata": {},
   "source": [
    "## One var parallelisation"
   ]
  },
  {
   "cell_type": "code",
   "execution_count": 6,
   "metadata": {
    "ExecuteTime": {
     "end_time": "2020-03-09T05:14:29.915270Z",
     "start_time": "2020-03-09T05:14:29.897588Z"
    }
   },
   "outputs": [],
   "source": [
    "def sliced_contract(x, y, idxs, num):\n",
    "    slices = _slices_for_idxs(idxs, x[1], y[1], slice_idx=num)\n",
    "    a = x[0][slices[0]]\n",
    "    b = y[0][slices[1]]\n",
    "    with pyrof.timing(f'\\tcontract sliced {num}'):\n",
    "        C = contract((a, x[1]), (b, y[1]))\n",
    "    return C\n",
    "\n",
    "\n",
    "def target_slice(result_idx, idxs, num):\n",
    "    slices = _slices_for_idxs(idxs, result_idx, slice_idx=num)\n",
    "    return slices"
   ]
  },
  {
   "cell_type": "code",
   "execution_count": 7,
   "metadata": {
    "ExecuteTime": {
     "end_time": "2020-03-09T05:14:33.350435Z",
     "start_time": "2020-03-09T05:14:31.493219Z"
    }
   },
   "outputs": [
    {
     "name": "stdout",
     "output_type": "stream",
     "text": [
      "contract simple : 0.4562342166900635\n",
      "\tcontract sliced 0 : 0.236128568649292\n",
      "\tcontract sliced 1 : 0.25557637214660645\n",
      "allocate result : 3.075599670410156e-05\n",
      "slice result : 4.5299530029296875e-06\n",
      "assignment : 0.5560660362243652\n"
     ]
    }
   ],
   "source": [
    "contract_idx = set(x[1]) & set(y[1])\n",
    "result_idx = set(x[1] + y[1])\n",
    "\n",
    "with pyrof.timing(f'contract simple'):\n",
    "    C = contract(x,y)\n",
    "    \n",
    "par_vars = [1]\n",
    "target_shape = C.shape\n",
    "C0 = sliced_contract(x, y, par_vars, 0)\n",
    "C1 = sliced_contract(x, y, par_vars, 1)\n",
    "\n",
    "with pyrof.timing('allocate result'):\n",
    "    C_par = np.empty(target_shape)\n",
    "s0 = target_slice(result_idx, par_vars, 0)\n",
    "s1 = target_slice(result_idx, par_vars, 1)\n",
    "\n",
    "with pyrof.timing('slice result'):\n",
    "    _ = C_par[s0[0]]\n",
    "    \n",
    "with pyrof.timing('assignment'):\n",
    "    C_par[s0[0]] = C0\n",
    "    C_par[s1[0]] = C1\n",
    "\n",
    "assert np.array_equal(C, C_par)\n"
   ]
  },
  {
   "cell_type": "markdown",
   "metadata": {},
   "source": [
    "## Two var parallelisation"
   ]
  },
  {
   "cell_type": "code",
   "execution_count": 10,
   "metadata": {
    "ExecuteTime": {
     "end_time": "2020-03-09T05:10:04.568676Z",
     "start_time": "2020-03-09T05:09:58.883636Z"
    }
   },
   "outputs": [
    {
     "name": "stdout",
     "output_type": "stream",
     "text": [
      "contract simple : 1.868086338043213\n",
      "\tcontract sliced 0 : 0.09775805473327637\n",
      "\tcontract sliced 1 : 0.20709609985351562\n",
      "\tcontract sliced 2 : 0.10585927963256836\n",
      "\tcontract sliced 3 : 0.09561419486999512\n",
      "allocate result : 3.123283386230469e-05\n",
      "assignment : 2.9174225330352783\n"
     ]
    }
   ],
   "source": [
    "contract_idx = set(x[1]) & set(y[1])\n",
    "result_idx = set(x[1] + y[1])\n",
    "\n",
    "with pyrof.timing(f'contract simple'):\n",
    "    C = contract(x,y)\n",
    "    \n",
    "par_vars = [1, 17]\n",
    "target_shape = C.shape\n",
    "C_patches = [\n",
    "    sliced_contract(x, y, par_vars, i)\n",
    "    for i in range(4)\n",
    "]\n",
    "\n",
    "with pyrof.timing('allocate result'):\n",
    "    C_par = np.empty(target_shape)\n",
    "\n",
    "patch_slces = [\n",
    "    target_slice(result_idx, par_vars, i)\n",
    "    for i in range(4)\n",
    "]\n",
    "\n",
    "with pyrof.timing('assignment'):\n",
    "    for s, patch in zip(patch_slces, C_patches):\n",
    "        C_par[s[0]] = patch\n",
    "\n",
    "assert np.array_equal(C, C_par)\n"
   ]
  },
  {
   "cell_type": "markdown",
   "metadata": {},
   "source": [
    "## Many var parallelisation"
   ]
  },
  {
   "cell_type": "code",
   "execution_count": 11,
   "metadata": {
    "ExecuteTime": {
     "end_time": "2020-03-09T05:10:09.211143Z",
     "start_time": "2020-03-09T05:10:05.455783Z"
    },
    "lines_to_next_cell": 0
   },
   "outputs": [
    {
     "name": "stdout",
     "output_type": "stream",
     "text": [
      "contract simple : 1.0820136070251465\n",
      "\tcontract sliced 0 : 0.033449411392211914\n",
      "\tcontract sliced 1 : 0.03836464881896973\n",
      "\tcontract sliced 2 : 0.06398296356201172\n",
      "\tcontract sliced 3 : 0.0529017448425293\n",
      "\tcontract sliced 4 : 0.04923677444458008\n",
      "\tcontract sliced 5 : 0.04331612586975098\n",
      "\tcontract sliced 6 : 0.050642967224121094\n",
      "\tcontract sliced 7 : 0.04017186164855957\n",
      "\tcontract sliced 8 : 0.042578935623168945\n",
      "\tcontract sliced 9 : 0.047518253326416016\n",
      "\tcontract sliced 10 : 0.3524761199951172\n",
      "\tcontract sliced 11 : 0.24108147621154785\n",
      "\tcontract sliced 12 : 0.07741117477416992\n",
      "\tcontract sliced 13 : 0.10958695411682129\n",
      "\tcontract sliced 14 : 0.06605362892150879\n",
      "\tcontract sliced 15 : 0.06382369995117188\n",
      "Sequential patches : 1.3844408988952637\n",
      "allocate result : 0.03616809844970703\n",
      "assignment : 0.40332555770874023\n"
     ]
    }
   ],
   "source": [
    "contract_idx = set(x[1]) & set(y[1])\n",
    "result_idx = set(x[1] + y[1])\n",
    "\n",
    "with pyrof.timing(f'contract simple'):\n",
    "    C = contract(x,y)\n",
    "    \n",
    "par_vars = [1, 4, 17, 5]\n",
    "threads = 2**len(par_vars)\n",
    "target_shape = C.shape\n",
    "\n",
    "with pyrof.timing('Sequential patches'):\n",
    "    C_patches = [\n",
    "        sliced_contract(x, y, par_vars, i)\n",
    "        for i in range(threads)\n",
    "    ]\n",
    "\n",
    "with pyrof.timing('allocate result'):\n",
    "    C_par = np.empty(target_shape)\n",
    "\n",
    "patch_slces = [\n",
    "    target_slice(result_idx, par_vars, i)\n",
    "    for i in range(threads)\n",
    "]\n",
    "\n",
    "with pyrof.timing('assignment'):\n",
    "    for s, patch in zip(patch_slces, C_patches):\n",
    "        C_par[s[0]] = patch\n",
    "\n",
    "assert np.array_equal(C, C_par)\n"
   ]
  },
  {
   "cell_type": "code",
   "execution_count": null,
   "metadata": {
    "ExecuteTime": {
     "end_time": "2020-03-09T02:54:07.793818Z",
     "start_time": "2020-03-09T02:54:07.505067Z"
    },
    "lines_to_next_cell": 2
   },
   "outputs": [],
   "source": []
  },
  {
   "cell_type": "markdown",
   "metadata": {
    "ExecuteTime": {
     "end_time": "2020-03-09T00:52:24.585228Z",
     "start_time": "2020-03-09T00:52:24.563082Z"
    }
   },
   "source": [
    "## Use ray"
   ]
  },
  {
   "cell_type": "code",
   "execution_count": 8,
   "metadata": {
    "ExecuteTime": {
     "end_time": "2020-03-09T05:14:44.064514Z",
     "start_time": "2020-03-09T05:14:43.231567Z"
    },
    "scrolled": false
   },
   "outputs": [
    {
     "name": "stderr",
     "output_type": "stream",
     "text": [
      "2020-03-09 00:14:43,247\tWARNING services.py:586 -- setpgrp failed, processes may not be cleaned up properly: [Errno 1] Operation not permitted.\n",
      "2020-03-09 00:14:43,260\tINFO resource_spec.py:212 -- Starting Ray with 2.34 GiB memory available for workers and up to 1.19 GiB for objects. You can adjust these settings with ray.init(memory=<bytes>, object_store_memory=<bytes>).\n",
      "2020-03-09 00:14:43,697\tINFO services.py:1078 -- View the Ray dashboard at \u001b[1m\u001b[32mlocalhost:8265\u001b[39m\u001b[22m\n"
     ]
    },
    {
     "data": {
      "text/plain": [
       "[{'NodeID': '33dae5548ed06bb6f95964638f8ef38e93b07f84',\n",
       "  'Alive': True,\n",
       "  'NodeManagerAddress': '130.202.136.154',\n",
       "  'NodeManagerHostname': 'archlinux',\n",
       "  'NodeManagerPort': 43901,\n",
       "  'ObjectManagerPort': 39087,\n",
       "  'ObjectStoreSocketName': '/tmp/ray/session_2020-03-09_00-14-43_241991_55820/sockets/plasma_store',\n",
       "  'RayletSocketName': '/tmp/ray/session_2020-03-09_00-14-43_241991_55820/sockets/raylet',\n",
       "  'Resources': {'node:130.202.136.154': 1.0,\n",
       "   'CPU': 4.0,\n",
       "   'memory': 48.0,\n",
       "   'GPU': 1.0,\n",
       "   'object_store_memory': 16.0},\n",
       "  'alive': True}]"
      ]
     },
     "execution_count": 8,
     "metadata": {},
     "output_type": "execute_result"
    }
   ],
   "source": [
    "try: \n",
    "    ray.init()\n",
    "except:\n",
    "    print('ray already working')\n",
    "    pass\n",
    "ray.nodes()"
   ]
  },
  {
   "cell_type": "code",
   "execution_count": 9,
   "metadata": {
    "ExecuteTime": {
     "end_time": "2020-03-09T05:14:49.610261Z",
     "start_time": "2020-03-09T05:14:44.067215Z"
    }
   },
   "outputs": [
    {
     "name": "stdout",
     "output_type": "stream",
     "text": [
      "contract simple : 3.102792978286743\n",
      "  Ray submit : 0.14916658401489258\n",
      "\u001b[2m\u001b[36m(pid=55893)\u001b[0m \tcontract sliced 0 : 0.5200221538543701\n",
      "\u001b[2m\u001b[36m(pid=55895)\u001b[0m \tcontract sliced 1 : 0.5445835590362549\n",
      "\u001b[2m\u001b[36m(pid=55894)\u001b[0m \tcontract sliced 2 : 0.6233804225921631\n",
      "\u001b[2m\u001b[36m(pid=55896)\u001b[0m \tcontract sliced 3 : 0.6949300765991211\n",
      "  fetch results : 1.090453863143921\n",
      "Ray compute : 1.2628028392791748\n",
      " allocate result : 4.482269287109375e-05\n",
      " assignment : 0.7576515674591064\n",
      "Ray total compute : 2.0207574367523193\n"
     ]
    }
   ],
   "source": [
    "contract_idx = set(x[1]) & set(y[1])\n",
    "result_idx = set(x[1] + y[1])\n",
    "\n",
    "\n",
    "with pyrof.timing(f'contract simple'):\n",
    "    C = contract(x,y)\n",
    "    \n",
    "sliced_contract_ray = ray.remote(sliced_contract)\n",
    "    \n",
    "par_vars = [1, 17]\n",
    "threads = 2**len(par_vars)\n",
    "target_shape = C.shape\n",
    "\n",
    "with pyrof.timing('Ray total compute'):\n",
    "    with pyrof.timing('Ray compute'):\n",
    "        with pyrof.timing('  Ray submit'):\n",
    "            C_patches = [\n",
    "                sliced_contract_ray.remote(x, y, par_vars, i)\n",
    "                for i in range(threads)\n",
    "            ]\n",
    "\n",
    "\n",
    "        patch_slces = [\n",
    "            target_slice(result_idx, par_vars, i)\n",
    "            for i in range(threads)\n",
    "        ]\n",
    "\n",
    "        with pyrof.timing('  fetch results'):\n",
    "            patches_fetched = [ray.get(patch) for patch in C_patches]\n",
    "    with pyrof.timing(' allocate result'):\n",
    "        C_par = np.empty(target_shape)\n",
    "\n",
    "    with pyrof.timing(' assignment'):\n",
    "        for s, patch in zip(patch_slces, patches_fetched):\n",
    "            C_par[s[0]] = patch\n",
    "\n",
    "assert np.array_equal(C, C_par)\n"
   ]
  },
  {
   "cell_type": "markdown",
   "metadata": {},
   "source": [
    "## Concurrent assignment"
   ]
  },
  {
   "cell_type": "code",
   "execution_count": 10,
   "metadata": {
    "ExecuteTime": {
     "end_time": "2020-03-09T05:16:02.370228Z",
     "start_time": "2020-03-09T05:15:08.501602Z"
    },
    "scrolled": false
   },
   "outputs": [
    {
     "name": "stdout",
     "output_type": "stream",
     "text": [
      "contract simple : 52.250582695007324\n",
      "  Ray submit : 0.3260166645050049\n",
      " allocate result : 0.20093178749084473\n",
      "0\n",
      "\u001b[2m\u001b[36m(pid=55896)\u001b[0m \tcontract sliced 0 : 0.733295202255249\n",
      "\u001b[2m\u001b[36m(pid=55894)\u001b[0m \tcontract sliced 1 : 0.8876485824584961\n",
      "\u001b[2m\u001b[36m(pid=55893)\u001b[0m \tcontract sliced 2 : 0.7955994606018066\n",
      "\u001b[2m\u001b[36m(pid=55895)\u001b[0m \tcontract sliced 3 : 0.7930917739868164\n"
     ]
    },
    {
     "ename": "RayTaskError",
     "evalue": "\u001b[36mray::IDLE\u001b[39m (pid=55896, ip=130.202.136.154)\n  File \"python/ray/_raylet.pyx\", line 458, in ray._raylet.execute_task\n  File \"python/ray/_raylet.pyx\", line 459, in ray._raylet.execute_task\n  File \"python/ray/_raylet.pyx\", line 1050, in ray._raylet.CoreWorker.store_task_outputs\n  File \"python/ray/_raylet.pyx\", line 139, in ray._raylet.check_status\nray.exceptions.ObjectStoreFullError: Failed to put object 7e0a4dfc4c87306fffffffff010000c801000000 in object store because it is full. Object size is 268435847 bytes.",
     "output_type": "error",
     "traceback": [
      "\u001b[0;31m---------------------------------------------------------------------------\u001b[0m",
      "\u001b[0;31mRayTaskError\u001b[0m                              Traceback (most recent call last)",
      "\u001b[0;32m<ipython-input-10-e56cb2155708>\u001b[0m in \u001b[0;36m<module>\u001b[0;34m\u001b[0m\n\u001b[1;32m     42\u001b[0m                     \u001b[0msl\u001b[0m \u001b[0;34m=\u001b[0m \u001b[0mobj_slice_map\u001b[0m\u001b[0;34m[\u001b[0m\u001b[0mpatch\u001b[0m\u001b[0;34m]\u001b[0m\u001b[0;34m\u001b[0m\u001b[0;34m\u001b[0m\u001b[0m\n\u001b[1;32m     43\u001b[0m                     \u001b[0mprint\u001b[0m\u001b[0;34m(\u001b[0m\u001b[0mobj_slice_id\u001b[0m\u001b[0;34m[\u001b[0m\u001b[0mpatch\u001b[0m\u001b[0;34m]\u001b[0m\u001b[0;34m)\u001b[0m\u001b[0;34m\u001b[0m\u001b[0;34m\u001b[0m\u001b[0m\n\u001b[0;32m---> 44\u001b[0;31m                     \u001b[0mC_par\u001b[0m\u001b[0;34m[\u001b[0m\u001b[0msl\u001b[0m\u001b[0;34m[\u001b[0m\u001b[0;36m0\u001b[0m\u001b[0;34m]\u001b[0m\u001b[0;34m]\u001b[0m \u001b[0;34m=\u001b[0m \u001b[0mray\u001b[0m\u001b[0;34m.\u001b[0m\u001b[0mget\u001b[0m\u001b[0;34m(\u001b[0m\u001b[0mpatch\u001b[0m\u001b[0;34m)\u001b[0m\u001b[0;34m\u001b[0m\u001b[0;34m\u001b[0m\u001b[0m\n\u001b[0m\u001b[1;32m     45\u001b[0m \u001b[0;34m\u001b[0m\u001b[0m\n\u001b[1;32m     46\u001b[0m \u001b[0;32massert\u001b[0m \u001b[0mnp\u001b[0m\u001b[0;34m.\u001b[0m\u001b[0marray_equal\u001b[0m\u001b[0;34m(\u001b[0m\u001b[0mC\u001b[0m\u001b[0;34m,\u001b[0m \u001b[0mC_par\u001b[0m\u001b[0;34m)\u001b[0m\u001b[0;34m\u001b[0m\u001b[0;34m\u001b[0m\u001b[0m\n",
      "\u001b[0;32m~/.local/lib/python3.7/site-packages/ray/worker.py\u001b[0m in \u001b[0;36mget\u001b[0;34m(object_ids, timeout)\u001b[0m\n\u001b[1;32m   1502\u001b[0m                     \u001b[0mworker\u001b[0m\u001b[0;34m.\u001b[0m\u001b[0mcore_worker\u001b[0m\u001b[0;34m.\u001b[0m\u001b[0mdump_object_store_memory_usage\u001b[0m\u001b[0;34m(\u001b[0m\u001b[0;34m)\u001b[0m\u001b[0;34m\u001b[0m\u001b[0;34m\u001b[0m\u001b[0m\n\u001b[1;32m   1503\u001b[0m                 \u001b[0;32mif\u001b[0m \u001b[0misinstance\u001b[0m\u001b[0;34m(\u001b[0m\u001b[0mvalue\u001b[0m\u001b[0;34m,\u001b[0m \u001b[0mRayTaskError\u001b[0m\u001b[0;34m)\u001b[0m\u001b[0;34m:\u001b[0m\u001b[0;34m\u001b[0m\u001b[0;34m\u001b[0m\u001b[0m\n\u001b[0;32m-> 1504\u001b[0;31m                     \u001b[0;32mraise\u001b[0m \u001b[0mvalue\u001b[0m\u001b[0;34m.\u001b[0m\u001b[0mas_instanceof_cause\u001b[0m\u001b[0;34m(\u001b[0m\u001b[0;34m)\u001b[0m\u001b[0;34m\u001b[0m\u001b[0;34m\u001b[0m\u001b[0m\n\u001b[0m\u001b[1;32m   1505\u001b[0m                 \u001b[0;32melse\u001b[0m\u001b[0;34m:\u001b[0m\u001b[0;34m\u001b[0m\u001b[0;34m\u001b[0m\u001b[0m\n\u001b[1;32m   1506\u001b[0m                     \u001b[0;32mraise\u001b[0m \u001b[0mvalue\u001b[0m\u001b[0;34m\u001b[0m\u001b[0;34m\u001b[0m\u001b[0m\n",
      "\u001b[0;31mRayTaskError\u001b[0m: \u001b[36mray::IDLE\u001b[39m (pid=55896, ip=130.202.136.154)\n  File \"python/ray/_raylet.pyx\", line 458, in ray._raylet.execute_task\n  File \"python/ray/_raylet.pyx\", line 459, in ray._raylet.execute_task\n  File \"python/ray/_raylet.pyx\", line 1050, in ray._raylet.CoreWorker.store_task_outputs\n  File \"python/ray/_raylet.pyx\", line 139, in ray._raylet.check_status\nray.exceptions.ObjectStoreFullError: Failed to put object 7e0a4dfc4c87306fffffffff010000c801000000 in object store because it is full. Object size is 268435847 bytes."
     ]
    }
   ],
   "source": [
    "contract_idx = set(x[1]) & set(y[1])\n",
    "result_idx = set(x[1] + y[1])\n",
    "\n",
    "\n",
    "with pyrof.timing(f'contract simple'):\n",
    "    C = contract(x,y)\n",
    "    \n",
    "sliced_contract_ray = ray.remote(sliced_contract)\n",
    "    \n",
    "par_vars = [1, 17]\n",
    "threads = 2**len(par_vars)\n",
    "target_shape = C.shape\n",
    "\n",
    "with pyrof.timing('Ray total compute'):\n",
    "    with pyrof.timing('Ray compute'):\n",
    "        with pyrof.timing('  Ray submit'):\n",
    "            C_patches = [\n",
    "                sliced_contract_ray.remote(x, y, par_vars, i)\n",
    "                for i in range(threads)\n",
    "            ]\n",
    "\n",
    "\n",
    "        patch_slces = [\n",
    "            target_slice(result_idx, par_vars, i)\n",
    "            for i in range(threads)\n",
    "        ]\n",
    "        \n",
    "        with pyrof.timing(' allocate result'):\n",
    "            C_par = np.empty(target_shape)\n",
    "\n",
    "        idx = 0\n",
    "        obj_slice_map = {o:s for o, s in zip(C_patches, patch_slces)}\n",
    "        obj_slice_id = {o:i for o, i in zip(C_patches, range(threads))}\n",
    "        with pyrof.timing('fetching results'):\n",
    "            while True:\n",
    "                ready_ids, working_ids = ray.wait(C_patches)\n",
    "                if len(C_patches)==0:\n",
    "                    break\n",
    "                C_patches = [i for i in C_patches if i not in ready_ids]\n",
    "\n",
    "                for patch in ready_ids:\n",
    "                    sl = obj_slice_map[patch]\n",
    "                    print(obj_slice_id[patch])\n",
    "                    C_par[sl[0]] = ray.get(patch)\n",
    "\n",
    "assert np.array_equal(C, C_par)\n"
   ]
  },
  {
   "cell_type": "markdown",
   "metadata": {
    "ExecuteTime": {
     "end_time": "2020-03-09T04:33:00.195298Z",
     "start_time": "2020-03-09T04:33:00.150992Z"
    }
   },
   "source": [
    "## Use multiprocessing"
   ]
  },
  {
   "cell_type": "code",
   "execution_count": 11,
   "metadata": {
    "ExecuteTime": {
     "end_time": "2020-03-09T05:16:24.980692Z",
     "start_time": "2020-03-09T05:16:24.964343Z"
    }
   },
   "outputs": [],
   "source": [
    "from multiprocessing import Pool, Array\n",
    "import os\n",
    "def tonumpyarray(mp_arr):\n",
    "    return np.frombuffer(mp_arr.get_obj())"
   ]
  },
  {
   "cell_type": "code",
   "execution_count": null,
   "metadata": {},
   "outputs": [],
   "source": []
  },
  {
   "cell_type": "code",
   "execution_count": null,
   "metadata": {},
   "outputs": [],
   "source": [
    "contract_idx = set(x[1]) & set(y[1])\n",
    "result_idx = set(x[1] + y[1])\n",
    "\n",
    "with pyrof.timing(f'contract simple'):\n",
    "    C = contract(x,y)\n",
    "target_shape = C.shape\n",
    "    \n",
    "\n",
    "flat_size = len(C.flatten())\n",
    "par_vars = [1,3,15]\n",
    "threads = 2**len(par_vars)\n",
    "\n",
    "with pyrof.timing('init array'):\n",
    "    os.global_C = tonumpyarray(Array('d', flat_size))\n",
    "os.global_C = os.global_C.reshape(target_shape)\n",
    "\n",
    "def work(i):\n",
    "    patch = sliced_contract(x, y, par_vars, i)\n",
    "    sl = target_slice(result_idx, par_vars, i)\n",
    "    os.global_C[sl[0]] = patch\n",
    "    print('done work',i)\n",
    "    \n",
    "pool = Pool(processes=threads)\n",
    "print('inited pool')\n",
    "with pyrof.timing('parallel work'):\n",
    "    print('started work')\n",
    "    _ = pool.map(work, range(threads))\n",
    "\n",
    "assert np.array_equal(C, os.global_C)\n"
   ]
  },
  {
   "cell_type": "code",
   "execution_count": null,
   "metadata": {},
   "outputs": [],
   "source": [
    "del os.global_C"
   ]
  },
  {
   "cell_type": "code",
   "execution_count": null,
   "metadata": {},
   "outputs": [],
   "source": []
  }
 ],
 "metadata": {
  "jupytext": {
   "formats": "ipynb,py"
  },
  "kernelspec": {
   "display_name": "Python 3",
   "language": "python",
   "name": "python3"
  },
  "language_info": {
   "codemirror_mode": {
    "name": "ipython",
    "version": 3
   },
   "file_extension": ".py",
   "mimetype": "text/x-python",
   "name": "python",
   "nbconvert_exporter": "python",
   "pygments_lexer": "ipython3",
   "version": "3.7.7rc1+"
  },
  "toc": {
   "base_numbering": 1,
   "nav_menu": {},
   "number_sections": true,
   "sideBar": true,
   "skip_h1_title": false,
   "title_cell": "Table of Contents",
   "title_sidebar": "Contents",
   "toc_cell": true,
   "toc_position": {
    "height": "calc(100% - 180px)",
    "left": "10px",
    "top": "150px",
    "width": "279.797px"
   },
   "toc_section_display": true,
   "toc_window_display": true
  }
 },
 "nbformat": 4,
 "nbformat_minor": 2
}
