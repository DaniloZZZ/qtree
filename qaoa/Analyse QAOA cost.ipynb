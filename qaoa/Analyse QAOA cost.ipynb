{
 "cells": [
  {
   "cell_type": "markdown",
   "metadata": {
    "toc": true
   },
   "source": [
    "<h1>Table of Contents<span class=\"tocSkip\"></span></h1>\n",
    "<div class=\"toc\"><ul class=\"toc-item\"><li><ul class=\"toc-item\"><li><span><a href=\"#Example-of-per-step-cost\" data-toc-modified-id=\"Example-of-per-step-cost-0.1\"><span class=\"toc-item-num\">0.1&nbsp;&nbsp;</span>Example of per-step cost</a></span></li><li><span><a href=\"#Cost-vs-qubits-size\" data-toc-modified-id=\"Cost-vs-qubits-size-0.2\"><span class=\"toc-item-num\">0.2&nbsp;&nbsp;</span>Cost vs qubits size</a></span></li><li><span><a href=\"#Cost-with-respect-to-depth\" data-toc-modified-id=\"Cost-with-respect-to-depth-0.3\"><span class=\"toc-item-num\">0.3&nbsp;&nbsp;</span>Cost with respect to depth</a></span></li></ul></li><li><span><a href=\"#Finding-biggest-tacklable-task\" data-toc-modified-id=\"Finding-biggest-tacklable-task-1\"><span class=\"toc-item-num\">1&nbsp;&nbsp;</span>Finding biggest tacklable task</a></span><ul class=\"toc-item\"><li><span><a href=\"#Full-ordering\" data-toc-modified-id=\"Full-ordering-1.1\"><span class=\"toc-item-num\">1.1&nbsp;&nbsp;</span>Full ordering</a></span><ul class=\"toc-item\"><li><span><a href=\"#Naive-(degree-based-local)-peo\" data-toc-modified-id=\"Naive-(degree-based-local)-peo-1.1.1\"><span class=\"toc-item-num\">1.1.1&nbsp;&nbsp;</span>Naive (degree-based local) peo</a></span></li><li><span><a href=\"#QuickBB-peo\" data-toc-modified-id=\"QuickBB-peo-1.1.2\"><span class=\"toc-item-num\">1.1.2&nbsp;&nbsp;</span>QuickBB peo</a></span></li><li><span><a href=\"#Another-implementation-of-naive-peo\" data-toc-modified-id=\"Another-implementation-of-naive-peo-1.1.3\"><span class=\"toc-item-num\">1.1.3&nbsp;&nbsp;</span>Another implementation of naive peo</a></span></li></ul></li></ul></li><li><span><a href=\"#Parallelize-after-critical-point\" data-toc-modified-id=\"Parallelize-after-critical-point-2\"><span class=\"toc-item-num\">2&nbsp;&nbsp;</span>Parallelize after critical point</a></span><ul class=\"toc-item\"><li><span><a href=\"#First-chopping\" data-toc-modified-id=\"First-chopping-2.1\"><span class=\"toc-item-num\">2.1&nbsp;&nbsp;</span>First chopping</a></span><ul class=\"toc-item\"><li><span><a href=\"#Draw-chopped-graph\" data-toc-modified-id=\"Draw-chopped-graph-2.1.1\"><span class=\"toc-item-num\">2.1.1&nbsp;&nbsp;</span>Draw chopped graph</a></span></li><li><span><a href=\"#Draw-chopped--parallelised-graph\" data-toc-modified-id=\"Draw-chopped--parallelised-graph-2.1.2\"><span class=\"toc-item-num\">2.1.2&nbsp;&nbsp;</span>Draw chopped  parallelised graph</a></span></li><li><span><a href=\"#Late-paralelisaton-with-simple-reorder\" data-toc-modified-id=\"Late-paralelisaton-with-simple-reorder-2.1.3\"><span class=\"toc-item-num\">2.1.3&nbsp;&nbsp;</span>Late paralelisaton with simple reorder</a></span><ul class=\"toc-item\"><li><span><a href=\"#Full-chopped-cost\" data-toc-modified-id=\"Full-chopped-cost-2.1.3.1\"><span class=\"toc-item-num\">2.1.3.1&nbsp;&nbsp;</span>Full chopped cost</a></span></li><li><span><a href=\"#Parallelised-chopped-cost\" data-toc-modified-id=\"Parallelised-chopped-cost-2.1.3.2\"><span class=\"toc-item-num\">2.1.3.2&nbsp;&nbsp;</span>Parallelised chopped cost</a></span></li></ul></li><li><span><a href=\"#with-QuickBB-reorder\" data-toc-modified-id=\"with-QuickBB-reorder-2.1.4\"><span class=\"toc-item-num\">2.1.4&nbsp;&nbsp;</span>with QuickBB reorder</a></span><ul class=\"toc-item\"><li><span><a href=\"#Full-chopped-cost\" data-toc-modified-id=\"Full-chopped-cost-2.1.4.1\"><span class=\"toc-item-num\">2.1.4.1&nbsp;&nbsp;</span>Full chopped cost</a></span></li><li><span><a href=\"#Parallelized-chopped-cost\" data-toc-modified-id=\"Parallelized-chopped-cost-2.1.4.2\"><span class=\"toc-item-num\">2.1.4.2&nbsp;&nbsp;</span>Parallelized chopped cost</a></span></li></ul></li></ul></li><li><span><a href=\"#Second-chopping\" data-toc-modified-id=\"Second-chopping-2.2\"><span class=\"toc-item-num\">2.2&nbsp;&nbsp;</span>Second chopping</a></span><ul class=\"toc-item\"><li><span><a href=\"#Draw-chopped--parallelised-graph\" data-toc-modified-id=\"Draw-chopped--parallelised-graph-2.2.1\"><span class=\"toc-item-num\">2.2.1&nbsp;&nbsp;</span>Draw chopped  parallelised graph</a></span></li><li><span><a href=\"#with-naive-reorder\" data-toc-modified-id=\"with-naive-reorder-2.2.2\"><span class=\"toc-item-num\">2.2.2&nbsp;&nbsp;</span>with naive reorder</a></span></li><li><span><a href=\"#with-QuickBB-reorder\" data-toc-modified-id=\"with-QuickBB-reorder-2.2.3\"><span class=\"toc-item-num\">2.2.3&nbsp;&nbsp;</span>with QuickBB reorder</a></span></li></ul></li></ul></li><li><span><a href=\"#Trying-different-naive-orderings\" data-toc-modified-id=\"Trying-different-naive-orderings-3\"><span class=\"toc-item-num\">3&nbsp;&nbsp;</span>Trying different naive orderings</a></span></li><li><span><a href=\"#Analyse-chopping\" data-toc-modified-id=\"Analyse-chopping-4\"><span class=\"toc-item-num\">4&nbsp;&nbsp;</span>Analyse chopping</a></span></li><li><span><a href=\"#Profiling-actual-simulation\" data-toc-modified-id=\"Profiling-actual-simulation-5\"><span class=\"toc-item-num\">5&nbsp;&nbsp;</span>Profiling actual simulation</a></span></li></ul></div>"
   ]
  },
  {
   "cell_type": "code",
   "execution_count": 269,
   "metadata": {
    "ExecuteTime": {
     "end_time": "2020-03-11T00:16:13.253458Z",
     "start_time": "2020-03-11T00:16:13.212192Z"
    }
   },
   "outputs": [
    {
     "name": "stdout",
     "output_type": "stream",
     "text": [
      "The autoreload extension is already loaded. To reload it, use:\n",
      "  %reload_ext autoreload\n"
     ]
    }
   ],
   "source": [
    "import numpy as np\n",
    "import networkx as nx\n",
    "from loguru import logger as log\n",
    "import matplotlib.pyplot as plt\n",
    "import seaborn as sns\n",
    "from tqdm import tqdm\n",
    "import copy\n",
    "import sys\n",
    "sys.path.append('..')\n",
    "sns.set_style('whitegrid')\n",
    "import qtree \n",
    "import utils\n",
    "import utils_qaoa as qaoa\n",
    "\n",
    "%load_ext autoreload\n",
    "%autoreload 2"
   ]
  },
  {
   "cell_type": "code",
   "execution_count": 270,
   "metadata": {
    "ExecuteTime": {
     "end_time": "2020-03-11T00:16:13.308630Z",
     "start_time": "2020-03-11T00:16:13.255963Z"
    }
   },
   "outputs": [],
   "source": [
    "def get_test_graph(S):\n",
    "    #G = nx.triangular_lattice_graph(S, S)\n",
    "    G = nx.grid_2d_graph(S+1, (2+S)//2)\n",
    "    # remove grid labelling\n",
    "    gen = (x for x in range(G.number_of_nodes()))\n",
    "    G = nx.relabel_nodes(G, lambda x: next(gen))\n",
    "    return G\n",
    "\n",
    "def get_test_qaoa(S, p):\n",
    "    G = get_test_graph(S)\n",
    "    N = G.number_of_nodes()\n",
    "    beta, gamma = [np.pi/3]*p, [np.pi/2]*p\n",
    "    qc = qaoa.get_qaoa_circuit(G, beta, gamma)\n",
    "    return qc, N\n",
    "\n",
    "def get_test_expr_graph(S, p):\n",
    "    qc, N = get_test_qaoa(S, p)\n",
    "    graph = qtree.graph_model.circ2graph(N, qc)\n",
    "    return graph, N\n",
    "\n",
    "def get_optimized_expr(S, p):\n",
    "    graph, N = get_test_expr_graph(S, p)\n",
    "    graph_opt, nghs = _optimise_graph(graph)\n",
    "    return graph_opt, nghs, N\n",
    "\n",
    "def _optimise_graph(graph):\n",
    "    peo, nghs = utils.get_locale_peo(graph, utils.n_neighbors)\n",
    "    graph_opt, slice_dict = utils.reorder_graph(graph, peo)\n",
    "    return graph_opt, nghs\n",
    "\n",
    "def get_splitted_graph(S, p, pars):\n",
    "    graph, N = get_test_expr_graph(S, p)\n",
    "    idxs, graph = qtree.graph_model.split_graph_by_metric(graph, n_var_parallel=pars)\n",
    "    graph_opt, nghs = _optimise_graph(graph)\n",
    "    return graph, nghs, N\n",
    "\n",
    "def get_cost_of_splitted(S, p, pars):\n",
    "    graph, nghs, N = get_splitted_graph(S, p, pars)\n",
    "    graph_opt, nghs = _optimise_graph(graph)\n",
    "    mems, flops = qtree.graph_model.cost_estimator(graph_opt)\n",
    "    return mems,flops,nghs, N\n",
    "\n",
    "def get_cost_of_task(S, p=1):\n",
    "    graph_opt, nghs, N = get_optimized_expr(S, p)\n",
    "    mems, flops = qtree.graph_model.cost_estimator(graph_opt)\n",
    "    return mems,flops,nghs, N"
   ]
  },
  {
   "cell_type": "markdown",
   "metadata": {},
   "source": [
    "## Example of per-step cost"
   ]
  },
  {
   "cell_type": "code",
   "execution_count": 271,
   "metadata": {
    "ExecuteTime": {
     "end_time": "2020-03-11T00:16:18.012701Z",
     "start_time": "2020-03-11T00:16:13.311053Z"
    },
    "active": "ipynb"
   },
   "outputs": [
    {
     "name": "stderr",
     "output_type": "stream",
     "text": [
      "2020-03-10 19:16:13,391- INFO•\tGenerated graph with 976 nodes and 2136 edges\n"
     ]
    },
    {
     "ename": "KeyboardInterrupt",
     "evalue": "",
     "output_type": "error",
     "traceback": [
      "\u001b[0;31m---------------------------------------------------------------------------\u001b[0m",
      "\u001b[0;31mKeyboardInterrupt\u001b[0m                         Traceback (most recent call last)",
      "\u001b[0;32m<ipython-input-271-30a4b74894fd>\u001b[0m in \u001b[0;36m<module>\u001b[0;34m\u001b[0m\n\u001b[0;32m----> 1\u001b[0;31m \u001b[0mmems\u001b[0m\u001b[0;34m,\u001b[0m \u001b[0mflops\u001b[0m\u001b[0;34m,\u001b[0m \u001b[0mnghs\u001b[0m\u001b[0;34m,\u001b[0m \u001b[0mN\u001b[0m \u001b[0;34m=\u001b[0m \u001b[0mget_cost_of_task\u001b[0m\u001b[0;34m(\u001b[0m\u001b[0;36m15\u001b[0m\u001b[0;34m)\u001b[0m\u001b[0;34m\u001b[0m\u001b[0;34m\u001b[0m\u001b[0m\n\u001b[0m\u001b[1;32m      2\u001b[0m \u001b[0mutils\u001b[0m\u001b[0;34m.\u001b[0m\u001b[0mplot_cost\u001b[0m\u001b[0;34m(\u001b[0m\u001b[0mmems\u001b[0m\u001b[0;34m,\u001b[0m \u001b[0mflops\u001b[0m\u001b[0;34m)\u001b[0m\u001b[0;34m\u001b[0m\u001b[0;34m\u001b[0m\u001b[0m\n",
      "\u001b[0;32m<ipython-input-270-e598254396d2>\u001b[0m in \u001b[0;36mget_cost_of_task\u001b[0;34m(S, p)\u001b[0m\n\u001b[1;32m     43\u001b[0m \u001b[0;32mdef\u001b[0m \u001b[0mget_cost_of_task\u001b[0m\u001b[0;34m(\u001b[0m\u001b[0mS\u001b[0m\u001b[0;34m,\u001b[0m \u001b[0mp\u001b[0m\u001b[0;34m=\u001b[0m\u001b[0;36m1\u001b[0m\u001b[0;34m)\u001b[0m\u001b[0;34m:\u001b[0m\u001b[0;34m\u001b[0m\u001b[0;34m\u001b[0m\u001b[0m\n\u001b[1;32m     44\u001b[0m     \u001b[0mgraph_opt\u001b[0m\u001b[0;34m,\u001b[0m \u001b[0mnghs\u001b[0m\u001b[0;34m,\u001b[0m \u001b[0mN\u001b[0m \u001b[0;34m=\u001b[0m \u001b[0mget_optimized_expr\u001b[0m\u001b[0;34m(\u001b[0m\u001b[0mS\u001b[0m\u001b[0;34m,\u001b[0m \u001b[0mp\u001b[0m\u001b[0;34m)\u001b[0m\u001b[0;34m\u001b[0m\u001b[0;34m\u001b[0m\u001b[0m\n\u001b[0;32m---> 45\u001b[0;31m     \u001b[0mmems\u001b[0m\u001b[0;34m,\u001b[0m \u001b[0mflops\u001b[0m \u001b[0;34m=\u001b[0m \u001b[0mqtree\u001b[0m\u001b[0;34m.\u001b[0m\u001b[0mgraph_model\u001b[0m\u001b[0;34m.\u001b[0m\u001b[0mcost_estimator\u001b[0m\u001b[0;34m(\u001b[0m\u001b[0mgraph_opt\u001b[0m\u001b[0;34m)\u001b[0m\u001b[0;34m\u001b[0m\u001b[0;34m\u001b[0m\u001b[0m\n\u001b[0m\u001b[1;32m     46\u001b[0m     \u001b[0;32mreturn\u001b[0m \u001b[0mmems\u001b[0m\u001b[0;34m,\u001b[0m\u001b[0mflops\u001b[0m\u001b[0;34m,\u001b[0m\u001b[0mnghs\u001b[0m\u001b[0;34m,\u001b[0m \u001b[0mN\u001b[0m\u001b[0;34m\u001b[0m\u001b[0;34m\u001b[0m\u001b[0m\n",
      "\u001b[0;32m~/anl/qsim/qtree/qtree/graph_model/graph_model.py\u001b[0m in \u001b[0;36mcost_estimator\u001b[0;34m(old_graph, free_vars)\u001b[0m\n\u001b[1;32m    711\u001b[0m     \u001b[0;32mfor\u001b[0m \u001b[0mn\u001b[0m\u001b[0;34m,\u001b[0m \u001b[0mnode\u001b[0m \u001b[0;32min\u001b[0m \u001b[0menumerate\u001b[0m\u001b[0;34m(\u001b[0m\u001b[0mnodes\u001b[0m\u001b[0;34m)\u001b[0m\u001b[0;34m:\u001b[0m\u001b[0;34m\u001b[0m\u001b[0;34m\u001b[0m\u001b[0m\n\u001b[1;32m    712\u001b[0m         \u001b[0;32mif\u001b[0m \u001b[0mnode\u001b[0m \u001b[0;32mnot\u001b[0m \u001b[0;32min\u001b[0m \u001b[0mfree_vars\u001b[0m\u001b[0;34m:\u001b[0m\u001b[0;34m\u001b[0m\u001b[0;34m\u001b[0m\u001b[0m\n\u001b[0;32m--> 713\u001b[0;31m             \u001b[0mmemory\u001b[0m\u001b[0;34m,\u001b[0m \u001b[0mflops\u001b[0m \u001b[0;34m=\u001b[0m \u001b[0mget_cost_by_node\u001b[0m\u001b[0;34m(\u001b[0m\u001b[0mgraph\u001b[0m\u001b[0;34m,\u001b[0m \u001b[0mnode\u001b[0m\u001b[0;34m)\u001b[0m\u001b[0;34m\u001b[0m\u001b[0;34m\u001b[0m\u001b[0m\n\u001b[0m\u001b[1;32m    714\u001b[0m             \u001b[0mresults\u001b[0m\u001b[0;34m.\u001b[0m\u001b[0mappend\u001b[0m\u001b[0;34m(\u001b[0m\u001b[0;34m(\u001b[0m\u001b[0mmemory\u001b[0m\u001b[0;34m,\u001b[0m \u001b[0mflops\u001b[0m\u001b[0;34m)\u001b[0m\u001b[0;34m)\u001b[0m\u001b[0;34m\u001b[0m\u001b[0;34m\u001b[0m\u001b[0m\n\u001b[1;32m    715\u001b[0m             \u001b[0meliminate_node\u001b[0m\u001b[0;34m(\u001b[0m\u001b[0mgraph\u001b[0m\u001b[0;34m,\u001b[0m \u001b[0mnode\u001b[0m\u001b[0;34m)\u001b[0m\u001b[0;34m\u001b[0m\u001b[0;34m\u001b[0m\u001b[0m\n",
      "\u001b[0;32m~/anl/qsim/qtree/qtree/graph_model/graph_model.py\u001b[0m in \u001b[0;36mget_cost_by_node\u001b[0;34m(graph, node)\u001b[0m\n\u001b[1;32m    476\u001b[0m         \u001b[0margs_to_nx\u001b[0m\u001b[0;34m[\u001b[0m\u001b[0;34m'keys'\u001b[0m\u001b[0;34m]\u001b[0m \u001b[0;34m=\u001b[0m \u001b[0;32mTrue\u001b[0m\u001b[0;34m\u001b[0m\u001b[0;34m\u001b[0m\u001b[0m\n\u001b[1;32m    477\u001b[0m \u001b[0;34m\u001b[0m\u001b[0m\n\u001b[0;32m--> 478\u001b[0;31m     \u001b[0;32mfor\u001b[0m \u001b[0medgedata\u001b[0m \u001b[0;32min\u001b[0m \u001b[0mgraph\u001b[0m\u001b[0;34m.\u001b[0m\u001b[0medges\u001b[0m\u001b[0;34m.\u001b[0m\u001b[0mdata\u001b[0m\u001b[0;34m(\u001b[0m\u001b[0;34m**\u001b[0m\u001b[0margs_to_nx\u001b[0m\u001b[0;34m)\u001b[0m\u001b[0;34m:\u001b[0m\u001b[0;34m\u001b[0m\u001b[0;34m\u001b[0m\u001b[0m\n\u001b[0m\u001b[1;32m    479\u001b[0m         \u001b[0;34m*\u001b[0m\u001b[0medge\u001b[0m\u001b[0;34m,\u001b[0m \u001b[0mtensor\u001b[0m \u001b[0;34m=\u001b[0m \u001b[0medgedata\u001b[0m\u001b[0;34m\u001b[0m\u001b[0;34m\u001b[0m\u001b[0m\n\u001b[1;32m    480\u001b[0m         \u001b[0mu\u001b[0m\u001b[0;34m,\u001b[0m \u001b[0mv\u001b[0m\u001b[0;34m,\u001b[0m \u001b[0;34m*\u001b[0m\u001b[0medge_key\u001b[0m \u001b[0;34m=\u001b[0m \u001b[0medge\u001b[0m\u001b[0;34m\u001b[0m\u001b[0;34m\u001b[0m\u001b[0m\n",
      "\u001b[0;32m~/.local/lib/python3.7/site-packages/networkx/classes/reportviews.py\u001b[0m in \u001b[0;36m__iter__\u001b[0;34m(self)\u001b[0m\n\u001b[1;32m    831\u001b[0m     \u001b[0;32mdef\u001b[0m \u001b[0m__iter__\u001b[0m\u001b[0;34m(\u001b[0m\u001b[0mself\u001b[0m\u001b[0;34m)\u001b[0m\u001b[0;34m:\u001b[0m\u001b[0;34m\u001b[0m\u001b[0;34m\u001b[0m\u001b[0m\n\u001b[1;32m    832\u001b[0m         \u001b[0mseen\u001b[0m \u001b[0;34m=\u001b[0m \u001b[0;34m{\u001b[0m\u001b[0;34m}\u001b[0m\u001b[0;34m\u001b[0m\u001b[0;34m\u001b[0m\u001b[0m\n\u001b[0;32m--> 833\u001b[0;31m         \u001b[0;32mfor\u001b[0m \u001b[0mn\u001b[0m\u001b[0;34m,\u001b[0m \u001b[0mnbrs\u001b[0m \u001b[0;32min\u001b[0m \u001b[0mself\u001b[0m\u001b[0;34m.\u001b[0m\u001b[0m_nodes_nbrs\u001b[0m\u001b[0;34m(\u001b[0m\u001b[0;34m)\u001b[0m\u001b[0;34m:\u001b[0m\u001b[0;34m\u001b[0m\u001b[0;34m\u001b[0m\u001b[0m\n\u001b[0m\u001b[1;32m    834\u001b[0m             \u001b[0;32mfor\u001b[0m \u001b[0mnbr\u001b[0m\u001b[0;34m,\u001b[0m \u001b[0mkd\u001b[0m \u001b[0;32min\u001b[0m \u001b[0mnbrs\u001b[0m\u001b[0;34m.\u001b[0m\u001b[0mitems\u001b[0m\u001b[0;34m(\u001b[0m\u001b[0;34m)\u001b[0m\u001b[0;34m:\u001b[0m\u001b[0;34m\u001b[0m\u001b[0;34m\u001b[0m\u001b[0m\n\u001b[1;32m    835\u001b[0m                 \u001b[0;32mif\u001b[0m \u001b[0mnbr\u001b[0m \u001b[0;32mnot\u001b[0m \u001b[0;32min\u001b[0m \u001b[0mseen\u001b[0m\u001b[0;34m:\u001b[0m\u001b[0;34m\u001b[0m\u001b[0;34m\u001b[0m\u001b[0m\n",
      "\u001b[0;31mKeyboardInterrupt\u001b[0m: "
     ]
    }
   ],
   "source": [
    "mems, flops, nghs, N = get_cost_of_task(15)\n",
    "utils.plot_cost(mems, flops)"
   ]
  },
  {
   "cell_type": "code",
   "execution_count": null,
   "metadata": {
    "ExecuteTime": {
     "end_time": "2020-03-11T00:16:18.042950Z",
     "start_time": "2020-03-11T00:16:13.222Z"
    },
    "scrolled": true
   },
   "outputs": [],
   "source": [
    "def neigh_plot(nghs):\n",
    "    plt.plot(nghs)\n",
    "    nghs = np.array(nghs)\n",
    "    dn = nghs[1:] - nghs[:-1]\n",
    "    plt.plot(dn)\n",
    "    \n",
    "def get_chop_dn_drop(nghs):\n",
    "    nghs = np.array(nghs)\n",
    "    dn = nghs[1:] - nghs[:-1]\n",
    "    neg_idx = [i for i, n in enumerate(dn) if n<0]\n",
    "    pos_idx = [i for i, n in enumerate(dn) if n>0]\n",
    "    drop_idx = neg_idx[0]\n",
    "    pos_idx.reverse()\n",
    "    before_drop = [i for i in pos_idx if i<drop_idx]\n",
    "    return before_drop[0] - 1\n",
    "\n",
    "    \n",
    "neigh_plot(nghs)\n",
    "get_chop_dn_drop(nghs)"
   ]
  },
  {
   "cell_type": "markdown",
   "metadata": {},
   "source": [
    "## Cost vs qubits size "
   ]
  },
  {
   "cell_type": "code",
   "execution_count": null,
   "metadata": {
    "ExecuteTime": {
     "end_time": "2020-03-11T00:16:18.044706Z",
     "start_time": "2020-03-11T00:16:13.556Z"
    },
    "lines_to_next_cell": 2
   },
   "outputs": [],
   "source": [
    "def log_log_scale():\n",
    "    plt.yscale('log')\n",
    "    plt.xscale('log')\n",
    "    \n",
    "def minorticks():\n",
    "    plt.minorticks_on()\n",
    "    plt.grid(which='minor', alpha=0.5, linestyle='-', axis='both')\n",
    "    \n",
    "def get_est(xs, vals):\n",
    "    mem_est = np.polyfit(np.log(xs), np.log(vals), 2)\n",
    "    mem_est = np.poly1d(mem_est)\n",
    "    est = np.linspace(20,1e2, 100)\n",
    "    est = np.log(est)\n",
    "    mem_est = mem_est(est)\n",
    "    return np.exp(est),  np.exp(mem_est)"
   ]
  },
  {
   "cell_type": "code",
   "execution_count": null,
   "metadata": {
    "ExecuteTime": {
     "end_time": "2020-03-11T00:16:18.046354Z",
     "start_time": "2020-03-11T00:16:13.560Z"
    },
    "active": "ipynb"
   },
   "outputs": [],
   "source": [
    "sizes = np.arange(5,17,1)\n",
    "results = [\n",
    "   get_cost_of_task(s, 3) for s in sizes\n",
    "]\n",
    "def plot_theory(results):\n",
    "    sums = [[sum(x) for x in y[:3]] for y in results]\n",
    "    memsums, flopsums, nghssums = zip(*sums)\n",
    "    ns = list(zip(*results))[3]\n",
    "\n",
    "    est, mem_est = get_est(ns, memsums)\n",
    "    est, flop_est = get_est(ns, flopsums)\n",
    "\n",
    "\n",
    "    plt.plot(ns, memsums, label='mem sum')\n",
    "    plt.plot(ns, flopsums, label='flop sum')\n",
    "    plt.plot(est, mem_est, '--', label='mem log-log fit')\n",
    "    plt.plot(est, flop_est, '--', label='flop log-log fit')\n",
    "\n",
    "    plt.xlabel('Number of qbits')\n",
    "    plt.yscale('log')\n",
    "    plt.xscale('log')\n",
    "    plt.suptitle('QAOA one amplitude simulation cost', fontsize=14)\n",
    "    plt.title('MaxCut triangular grids')\n",
    "    plt.legend()\n",
    "    plt.minorticks_on()\n",
    "    plt.grid(which='minor', alpha=0.5, linestyle='-', axis='both')"
   ]
  },
  {
   "cell_type": "code",
   "execution_count": null,
   "metadata": {
    "ExecuteTime": {
     "end_time": "2020-03-11T00:16:18.066097Z",
     "start_time": "2020-03-11T00:16:13.563Z"
    },
    "active": "ipynb"
   },
   "outputs": [],
   "source": [
    "plot_theory(results)\n"
   ]
  },
  {
   "cell_type": "markdown",
   "metadata": {},
   "source": [
    "## Cost with respect to depth\n"
   ]
  },
  {
   "cell_type": "code",
   "execution_count": null,
   "metadata": {
    "ExecuteTime": {
     "end_time": "2020-03-11T00:16:18.071645Z",
     "start_time": "2020-03-11T00:16:13.568Z"
    },
    "lines_to_next_cell": 0
   },
   "outputs": [],
   "source": [
    "psize = 4\n",
    "Ssize = 9\n",
    "\n",
    "costs_with_p = []\n",
    "for p in range(1, 1+psize):\n",
    "    for S in range(2, 2+Ssize):\n",
    "        costs = get_cost_of_task(S, p)\n",
    "        costs_with_p.append(costs)"
   ]
  },
  {
   "cell_type": "code",
   "execution_count": null,
   "metadata": {
    "ExecuteTime": {
     "end_time": "2020-03-11T00:16:18.073510Z",
     "start_time": "2020-03-11T00:16:13.571Z"
    },
    "lines_to_next_cell": 2
   },
   "outputs": [],
   "source": [
    "\n",
    "costs_with_p_p= [(sum(x[0]), sum(x[1]), max(x[2]), x[3]) for x in costs_with_p]\n",
    "data = np.array(list(zip(*costs_with_p_p)))\n",
    "\n",
    "data = data.reshape(4, psize, Ssize)\n",
    "print(data.shape)\n",
    "\n",
    "fig, axs = plt.subplots(1,3, figsize=(15, 5))\n",
    "\n",
    "plt.sca(axs[0])\n",
    "log_log_scale()\n",
    "minorticks()\n",
    "plt.title('memory')\n",
    "for i in range(psize):\n",
    "    plt.plot(data[-1,i], data[0,i])\n",
    "    \n",
    "plt.sca(axs[1])\n",
    "log_log_scale()\n",
    "minorticks()\n",
    "plt.title('Flop')\n",
    "for i in range(psize):\n",
    "    plt.plot(data[-1,i], data[1,i])\n",
    "    \n",
    "plt.sca(axs[2])\n",
    "log_log_scale()\n",
    "minorticks()\n",
    "plt.title('Neigh')\n",
    "for i in range(psize):\n",
    "    plt.plot(data[-1,i], data[2,i])\n",
    "\n",
    "plt.suptitle('Cost dependence for different p')\n",
    "plt.savefig('figures/cost_vs_p.png')"
   ]
  },
  {
   "cell_type": "code",
   "execution_count": null,
   "metadata": {
    "ExecuteTime": {
     "end_time": "2020-03-11T00:16:18.075604Z",
     "start_time": "2020-03-11T00:16:13.575Z"
    },
    "lines_to_next_cell": 0,
    "scrolled": false
   },
   "outputs": [],
   "source": [
    "psize = 3\n",
    "Ssize = 3\n",
    "p = 1\n",
    "\n",
    "costs_with_pars = []\n",
    "for pars in range(1, 1+psize):\n",
    "    for S in range(25, 25+Ssize):\n",
    "        costs = get_cost_of_splitted(S, p, pars)\n",
    "        costs_with_pars.append(costs)"
   ]
  },
  {
   "cell_type": "code",
   "execution_count": null,
   "metadata": {
    "lines_to_next_cell": 2
   },
   "outputs": [],
   "source": []
  },
  {
   "cell_type": "code",
   "execution_count": null,
   "metadata": {
    "lines_to_next_cell": 2
   },
   "outputs": [],
   "source": []
  },
  {
   "cell_type": "code",
   "execution_count": null,
   "metadata": {
    "lines_to_next_cell": 2
   },
   "outputs": [],
   "source": []
  },
  {
   "cell_type": "code",
   "execution_count": null,
   "metadata": {
    "lines_to_next_cell": 2
   },
   "outputs": [],
   "source": []
  },
  {
   "cell_type": "code",
   "execution_count": null,
   "metadata": {
    "lines_to_next_cell": 2
   },
   "outputs": [],
   "source": [
    "\n",
    "\n",
    "costs_with_p_ = [(sum(x[0]), sum(x[1]), max(x[2]), x[3]) for x in costs_with_pars]\n",
    "data = np.array(list(zip(*costs_with_p_)))\n",
    "\n",
    "data = data.reshape(4, psize, Ssize)\n",
    "print(data.shape)\n",
    "\n",
    "fig, axs = plt.subplots(1,3, figsize=(15, 5))\n",
    "colormap = plt.cm.gist_ncar\n",
    "labels = [f'nodes: 2^{i}' for i in range(1, 1+psize)]\n",
    "for ax in axs:\n",
    "    ax.set_prop_cycle(plt.cycler('color', plt.cm.cool(np.linspace(0, 1, psize))))\n",
    "    ax.set_xlabel('Qubit count')\n",
    "\n",
    "plt.sca(axs[0])\n",
    "log_log_scale()\n",
    "minorticks()\n",
    "plt.title('memory')\n",
    "for i in range(psize):\n",
    "    plt.plot(data[-1,i], data[0,i])\n",
    "    \n",
    "plt.sca(axs[1])\n",
    "log_log_scale()\n",
    "minorticks()\n",
    "plt.title('Flop')\n",
    "for i in range(psize):\n",
    "    plt.plot(data[-1,i], data[1,i])\n",
    "    \n",
    "plt.sca(axs[2])\n",
    "log_log_scale()\n",
    "minorticks()\n",
    "plt.title('Neigh')\n",
    "for i in range(psize):\n",
    "    plt.plot(data[-1,i], data[2,i])\n",
    "plt.legend(labels)\n",
    "\n",
    "plt.suptitle('Cost dependence for parallelised, rectangular task. p=1')\n",
    "plt.savefig('figures/rect_cost_vs_nodes_p1.png')"
   ]
  },
  {
   "cell_type": "code",
   "execution_count": null,
   "metadata": {},
   "outputs": [],
   "source": [
    "\n",
    "costs_with_p_ = [(sum(x[0]), sum(x[1]), max(x[2]), x[3]) for x in costs_with_pars]\n",
    "data = np.array(list(zip(*costs_with_p_)))\n",
    "\n",
    "data = data.reshape(4, psize, Ssize)\n",
    "data = data.transpose(0,2,1)\n",
    "print(data.shape)\n",
    "processes = 2**(np.arange(1, 1+psize))\n",
    "fig, axs = plt.subplots(1,3, figsize=(15, 5))\n",
    "for ax in axs:\n",
    "    ax.set_xlabel('Nodes')\n",
    "    ax.set_prop_cycle(plt.cycler('color', plt.cm.spring(np.linspace(0, 1, psize))))\n",
    "\n",
    "plt.sca(axs[0])\n",
    "log_log_scale()\n",
    "minorticks()\n",
    "plt.title('memory')\n",
    "for i in range(Ssize):\n",
    "    plt.plot(processes, data[0,i])\n",
    "    \n",
    "plt.sca(axs[1])\n",
    "log_log_scale()\n",
    "minorticks()\n",
    "plt.title('Flop')\n",
    "for i in range(Ssize):\n",
    "    plt.plot(processes, data[1,i])\n",
    "    \n",
    "plt.sca(axs[2])\n",
    "log_log_scale()\n",
    "minorticks()\n",
    "plt.title('Neigh')\n",
    "for i in range(Ssize):\n",
    "    plt.plot(processes, data[2,i])\n",
    "\n",
    "labels = [f'{int(i)} qubits' for i in data[-1,:, 0]]\n",
    "plt.legend(labels)\n",
    "plt.suptitle('Cost dependence for parallelised vars, different qubit counts, rectangular task. p=1')\n",
    "plt.savefig('figures/rect_cost_vs_nodes_T_p1.png')\n",
    "jjj"
   ]
  },
  {
   "cell_type": "markdown",
   "metadata": {},
   "source": [
    "# Finding biggest tacklable task\n",
    "## Full ordering"
   ]
  },
  {
   "cell_type": "code",
   "execution_count": null,
   "metadata": {},
   "outputs": [],
   "source": [
    "graph, N = get_test_expr_graph(12, 1)\n",
    "\n",
    "print(N)"
   ]
  },
  {
   "cell_type": "markdown",
   "metadata": {},
   "source": [
    "### Naive (degree-based local) peo"
   ]
  },
  {
   "cell_type": "code",
   "execution_count": null,
   "metadata": {
    "lines_to_next_cell": 0
   },
   "outputs": [],
   "source": [
    "%%time\n",
    "peo, nghs = utils.get_locale_peo(graph, utils.n_neighbors)\n",
    "graph_relabel, slice_dict = utils.reorder_graph(graph, peo)\n",
    "\n",
    "costs, flops = qtree.graph_model.cost_estimator(graph_relabel)\n",
    "print(max(costs)/1e9)\n",
    "print(max(flops)/1e9)\n",
    "utils.plot_cost(costs, flops)\n",
    "\n",
    "#nx.draw_kamada_kawai(graph, node_size=3)"
   ]
  },
  {
   "cell_type": "code",
   "execution_count": null,
   "metadata": {},
   "outputs": [],
   "source": [
    "neigh_plot(nghs)"
   ]
  },
  {
   "cell_type": "code",
   "execution_count": null,
   "metadata": {
    "ExecuteTime": {
     "end_time": "2020-03-10T21:05:20.061360Z",
     "start_time": "2020-03-10T21:05:20.018360Z"
    }
   },
   "outputs": [],
   "source": []
  },
  {
   "cell_type": "code",
   "execution_count": null,
   "metadata": {
    "lines_to_next_cell": 2
   },
   "outputs": [],
   "source": []
  },
  {
   "cell_type": "markdown",
   "metadata": {},
   "source": [
    "### QuickBB peo\n",
    "\n",
    "QuickBB usually fails on big (>5k nodes) graphs"
   ]
  },
  {
   "cell_type": "code",
   "execution_count": null,
   "metadata": {},
   "outputs": [],
   "source": [
    "%cd qtree"
   ]
  },
  {
   "cell_type": "code",
   "execution_count": null,
   "metadata": {},
   "outputs": [],
   "source": [
    "%%time\n",
    "peoqbb, tw = qtree.graph_model.get_peo(graph)"
   ]
  },
  {
   "cell_type": "code",
   "execution_count": null,
   "metadata": {
    "lines_to_next_cell": 0
   },
   "outputs": [],
   "source": [
    "graph, slice_dict = utils.reorder_graph(graph, peoqbb)\n",
    "\n",
    "costs, mems = qtree.graph_model.cost_estimator(graph)\n",
    "print(max(mems)/1e8)\n",
    "print(max(costs)/1e8)\n",
    "utils.plot_cost(costs, mems)"
   ]
  },
  {
   "cell_type": "code",
   "execution_count": null,
   "metadata": {
    "lines_to_next_cell": 2
   },
   "outputs": [],
   "source": []
  },
  {
   "cell_type": "markdown",
   "metadata": {},
   "source": [
    "### Another implementation of naive peo"
   ]
  },
  {
   "cell_type": "code",
   "execution_count": null,
   "metadata": {},
   "outputs": [],
   "source": [
    "%%time\n",
    "peon, nghs = utils.get_neighbours_peo(graph)\n",
    "graph_relabel, slice_dict = utils.reorder_graph(graph, peon)\n",
    "\n",
    "costs, mems = qtree.graph_model.cost_estimator(graph_relabel)\n",
    "print(max(mems)/1e8)\n",
    "print(max(costs)/1e8)\n",
    "utils.plot_cost(costs, mems)"
   ]
  },
  {
   "cell_type": "code",
   "execution_count": null,
   "metadata": {},
   "outputs": [],
   "source": [
    "peo, nghs = utils.get_locale_peo(graph, utils.edges_to_clique)\n",
    "graph_relabel, slice_dict = utils.reorder_graph(graph, peo)\n",
    "\n",
    "costs, mems = qtree.graph_model.cost_estimator(graph_relabel)\n",
    "utils.plot_cost(costs, mems)"
   ]
  },
  {
   "cell_type": "markdown",
   "metadata": {},
   "source": [
    "# Parallelize after critical point"
   ]
  },
  {
   "cell_type": "markdown",
   "metadata": {},
   "source": [
    "## First chopping "
   ]
  },
  {
   "cell_type": "code",
   "execution_count": null,
   "metadata": {},
   "outputs": [],
   "source": [
    "chop1 = 643\n",
    "get_chop_idxs(graph, peo, (costs, flops), nghs)"
   ]
  },
  {
   "cell_type": "code",
   "execution_count": null,
   "metadata": {},
   "outputs": [],
   "source": [
    "for n in peo[:chop1]:\n",
    "    qtree.graph_model.eliminate_node(graph, n)\n",
    "print('Nodes left:', graph.number_of_nodes())"
   ]
  },
  {
   "cell_type": "markdown",
   "metadata": {},
   "source": [
    "### Draw chopped graph"
   ]
  },
  {
   "cell_type": "code",
   "execution_count": null,
   "metadata": {},
   "outputs": [],
   "source": [
    "print(peo[4100:])\n",
    "print(sorted(graph.degree, key=lambda x: x[1]))\n",
    "print(sorted([ utils.edges_to_clique(graph, x[0]) for x in graph.degree]))"
   ]
  },
  {
   "cell_type": "code",
   "execution_count": null,
   "metadata": {},
   "outputs": [],
   "source": [
    "nx.draw_kamada_kawai(graph, node_size=16)"
   ]
  },
  {
   "cell_type": "markdown",
   "metadata": {},
   "source": [
    "### Draw chopped  parallelised graph"
   ]
  },
  {
   "cell_type": "code",
   "execution_count": null,
   "metadata": {},
   "outputs": [],
   "source": [
    "PAR_VARS = 2\n",
    "par_vars, graph_split = qtree.graph_model.split_graph_by_metric(\n",
    "    graph\n",
    "    , n_var_parallel=PAR_VARS\n",
    ")\n",
    "nx.draw_kamada_kawai(graph_split, node_size=16)"
   ]
  },
  {
   "cell_type": "markdown",
   "metadata": {},
   "source": [
    "### Late paralelisaton with simple reorder"
   ]
  },
  {
   "cell_type": "markdown",
   "metadata": {},
   "source": [
    "#### Full chopped cost"
   ]
  },
  {
   "cell_type": "code",
   "execution_count": null,
   "metadata": {},
   "outputs": [],
   "source": [
    "graph_opt, nghs = _optimise_graph(graph)\n",
    "mems, flops = qtree.graph_model.cost_estimator(graph_opt)\n",
    "print(max(mems)/1e9)\n",
    "print(max(flops)/1e9)\n",
    "utils.plot_cost(mems, flops)"
   ]
  },
  {
   "cell_type": "markdown",
   "metadata": {},
   "source": [
    "#### Parallelised chopped cost"
   ]
  },
  {
   "cell_type": "code",
   "execution_count": null,
   "metadata": {
    "lines_to_next_cell": 2
   },
   "outputs": [],
   "source": [
    "graph_split_opt, nghs = _optimise_graph(graph_split)\n",
    "mems, flops = qtree.graph_model.cost_estimator(graph_split_opt)\n",
    "print(max(mems)/1e9)\n",
    "print(max(flops)/1e9)\n",
    "utils.plot_cost(mems, flops)"
   ]
  },
  {
   "cell_type": "markdown",
   "metadata": {},
   "source": [
    "### with QuickBB reorder"
   ]
  },
  {
   "cell_type": "markdown",
   "metadata": {},
   "source": [
    "#### Full chopped cost"
   ]
  },
  {
   "cell_type": "code",
   "execution_count": null,
   "metadata": {},
   "outputs": [],
   "source": [
    "peoqbb, tw = qtree.graph_model.get_peo(graph)\n",
    "graph_opt_relabel, nghs = utils.reorder_graph(graph, peoqbb)\n",
    "mems, flops = qtree.graph_model.cost_estimator(graph_opt_relabel)"
   ]
  },
  {
   "cell_type": "code",
   "execution_count": null,
   "metadata": {},
   "outputs": [],
   "source": [
    "print(max(mems)/1e9)\n",
    "print(max(flops)/1e9)\n",
    "utils.plot_cost(mems, flops)"
   ]
  },
  {
   "cell_type": "markdown",
   "metadata": {},
   "source": [
    "#### Parallelized chopped cost"
   ]
  },
  {
   "cell_type": "code",
   "execution_count": null,
   "metadata": {},
   "outputs": [],
   "source": [
    "peoqbb_split, tw = qtree.graph_model.get_peo(graph_split)"
   ]
  },
  {
   "cell_type": "code",
   "execution_count": null,
   "metadata": {},
   "outputs": [],
   "source": [
    "graph_split_relabel, nghs = utils.reorder_graph(graph_split, peoqbb_split)\n",
    "mems, flops = qtree.graph_model.cost_estimator(graph_split_relabel)\n",
    "print(max(mems)/1e9)\n",
    "print(max(flops)/1e9)\n",
    "utils.plot_cost(mems, flops)"
   ]
  },
  {
   "cell_type": "code",
   "execution_count": null,
   "metadata": {},
   "outputs": [],
   "source": [
    "peoqbb_split, tw = qtree.graph_model.get_peo(graph_split)"
   ]
  },
  {
   "cell_type": "markdown",
   "metadata": {},
   "source": [
    "## Second chopping"
   ]
  },
  {
   "cell_type": "code",
   "execution_count": null,
   "metadata": {},
   "outputs": [],
   "source": [
    "chop2 = 900"
   ]
  },
  {
   "cell_type": "code",
   "execution_count": null,
   "metadata": {},
   "outputs": [],
   "source": [
    "for n in peo[chop1:chop1 + chop2]:\n",
    "    qtree.graph_model.eliminate_node(graph, n)\n",
    "print('Nodes left:', graph.number_of_nodes())"
   ]
  },
  {
   "cell_type": "code",
   "execution_count": null,
   "metadata": {
    "lines_to_next_cell": 2
   },
   "outputs": [],
   "source": [
    "print(peo[chop1 + chop2:])\n",
    "print(sorted(graph.degree, key=lambda x: x[1]))\n",
    "print(sorted([ utils.edges_to_clique(graph, x[0]) for x in graph.degree]))"
   ]
  },
  {
   "cell_type": "code",
   "execution_count": null,
   "metadata": {},
   "outputs": [],
   "source": [
    "nx.draw_kamada_kawai(graph, node_size=16)"
   ]
  },
  {
   "cell_type": "markdown",
   "metadata": {},
   "source": [
    "### Draw chopped  parallelised graph"
   ]
  },
  {
   "cell_type": "code",
   "execution_count": null,
   "metadata": {},
   "outputs": [],
   "source": [
    "par_vars, graph_split = qtree.graph_model.split_graph_by_metric(graph, n_var_parallel=12)\n",
    "nx.draw_kamada_kawai(graph_split, node_size=16)"
   ]
  },
  {
   "cell_type": "markdown",
   "metadata": {},
   "source": [
    "### with naive reorder"
   ]
  },
  {
   "cell_type": "code",
   "execution_count": null,
   "metadata": {},
   "outputs": [],
   "source": [
    "graph_opt, nghs = _optimise_graph(graph)\n",
    "mems, flops = qtree.graph_model.cost_estimator(graph_opt)\n",
    "print(max(mems)/1e9)\n",
    "print(max(flops)/1e9)\n",
    "utils.plot_cost(mems, flops)"
   ]
  },
  {
   "cell_type": "code",
   "execution_count": null,
   "metadata": {
    "lines_to_next_cell": 2
   },
   "outputs": [],
   "source": [
    "graph_split_opt, nghs = _optimise_graph(graph_split)\n",
    "mems, flops = qtree.graph_model.cost_estimator(graph_split_opt)\n",
    "print(max(mems)/1e9)\n",
    "print(max(flops)/1e9)\n",
    "utils.plot_cost(mems, flops)"
   ]
  },
  {
   "cell_type": "markdown",
   "metadata": {},
   "source": [
    "### with QuickBB reorder"
   ]
  },
  {
   "cell_type": "code",
   "execution_count": null,
   "metadata": {},
   "outputs": [],
   "source": [
    "peoqbb, tw = qtree.graph_model.get_peo(graph)\n",
    "graph_opt_relabel, nghs = utils.reorder_graph(graph, peoqbb)\n",
    "mems, flops = qtree.graph_model.cost_estimator(graph_opt_relabel)\n",
    "print(max(mems)/1e9)\n",
    "print(max(flops)/1e9)\n",
    "utils.plot_cost(mems, flops)"
   ]
  },
  {
   "cell_type": "code",
   "execution_count": null,
   "metadata": {},
   "outputs": [],
   "source": [
    "peoqbb_split, tw = qtree.graph_model.get_peo(graph_split)"
   ]
  },
  {
   "cell_type": "code",
   "execution_count": null,
   "metadata": {},
   "outputs": [],
   "source": [
    "graph_split_relabel, nghs = utils.reorder_graph(graph_split, peoqbb_split)\n",
    "mems, flops = qtree.graph_model.cost_estimator(graph_split_relabel)\n",
    "print(max(mems)/1e9)\n",
    "print(max(flops)/1e9)\n",
    "utils.plot_cost(mems, flops)"
   ]
  },
  {
   "cell_type": "code",
   "execution_count": null,
   "metadata": {
    "lines_to_next_cell": 0
   },
   "outputs": [],
   "source": [
    "sg = graph.subgraph([1538] + list(graph.neighbors(1538)))\n",
    "N = sg.number_of_nodes()\n",
    "print(sg.number_of_edges(), 1/2*N*(N-1))\n",
    "print(list(sg.selfloop_edges()))\n",
    "edges = [e for e in graph.edges if all([e[-1]==0]+[x in sg.nodes for x in e[:2]])]\n",
    "print(len(edges))\n",
    "print(utils.edges_to_clique(graph, 1538))\n",
    "\n",
    "nx.draw_shell(sg, with_labels=True)"
   ]
  },
  {
   "cell_type": "markdown",
   "metadata": {
    "lines_to_next_cell": 2
   },
   "source": [
    "# Trying different naive orderings "
   ]
  },
  {
   "cell_type": "code",
   "execution_count": null,
   "metadata": {},
   "outputs": [],
   "source": [
    "def cost_graph_peo(graph_old, peo):\n",
    "    graph, _ = utils.reorder_graph(graph_old, peo) costs  = qtree.graph_model.cost_estimator(graph)\n",
    "    return costs"
   ]
  },
  {
   "cell_type": "code",
   "execution_count": null,
   "metadata": {},
   "outputs": [],
   "source": [
    "sizes = np.arange(21,32, 2)\n",
    "exprs = [get_test_expr_graph(s, 1) for s in sizes]\n",
    "qbit_cnts = [N for _, N in exprs]\n",
    "exprs = [graph for graph, _ in exprs]\n",
    "\n",
    "print('Qbit counts:', qbit_cnts)\n",
    "\n",
    "peos_maxs = {\n",
    "    'degree naive':[\n",
    "        utils.get_locale_peo(graph, utils.n_neighbors) for graph in exprs\n",
    "    ]\n",
    "    ,'min-fill naive':[\n",
    "        qtree.graph_model.get_upper_bound_peo_ints(graph) for graph in exprs\n",
    "    ]\n",
    "}"
   ]
  },
  {
   "cell_type": "code",
   "execution_count": null,
   "metadata": {},
   "outputs": [],
   "source": [
    "peos = {k: [peo for peo, max in v] for k, v in peos_maxs.items()}\n",
    "costs= {\n",
    "    k:[cost_graph_peo(graph, peo) for graph, peo in zip(exprs, v)]\n",
    "    for k, v in peos.items()\n",
    "}"
   ]
  },
  {
   "cell_type": "code",
   "execution_count": null,
   "metadata": {},
   "outputs": [],
   "source": [
    "mems = { k:[sum(mems) for mems, _ in v] \n",
    "        for k, v in costs.items() }\n",
    "mems_max = { k:[np.max(mems) for mems, _ in v] \n",
    "        for k, v in costs.items() }\n",
    "\n",
    "flops = { k:[sum(flops) for _, flops in v] \n",
    "        for k, v in costs.items() }\n",
    "flops_max = { k:[max(flops) for _, flops in v] \n",
    "        for k, v in costs.items() }\n",
    "\n",
    "for k in mems:\n",
    "    plt.plot(qbit_cnts, mems[k], label=k)\n",
    "    plt.plot(qbit_cnts, mems_max[k], '--', label=k+'max')\n",
    "\n",
    "plt.yscale('log')\n",
    "plt.xlabel('qbit count')\n",
    "plt.title('Compare naive ordering methods')\n",
    "\n",
    "plt.legend()\n",
    "plt.savefig('degree_vs_minfill.pdf')"
   ]
  },
  {
   "cell_type": "code",
   "execution_count": null,
   "metadata": {},
   "outputs": [],
   "source": [
    "import json\n",
    "with open('costs_cache.json', 'w+') as f:\n",
    "    json.dump(mems, f)"
   ]
  },
  {
   "cell_type": "markdown",
   "metadata": {},
   "source": [
    "# Analyse chopping\n"
   ]
  },
  {
   "cell_type": "code",
   "execution_count": null,
   "metadata": {},
   "outputs": [],
   "source": [
    "chop_pts = 3\n",
    "def get_chop_idxs(graph, peo, cost, nghs):\n",
    "    drop_idx = get_chop_dn_drop(nghs)\n",
    "    min_idx = np.argmin(cost[0][:drop_idx])\n",
    "    before_min = min_idx - (drop_idx-min_idx)\n",
    "    on_plato = 2 * min_idx // 3\n",
    "        \n",
    "    return min_idx, drop_idx, drop_idx+5\n",
    "\n",
    "def _cost_before_chop(idxs, cost):\n",
    "    mems, floats = cost\n",
    "    before_mem = [max(mems[:i]) for i in idxs]\n",
    "    return before_mem\n",
    "\n",
    "\n"
   ]
  },
  {
   "cell_type": "code",
   "execution_count": null,
   "metadata": {},
   "outputs": [],
   "source": [
    "def contract_by_peo(old_graph, peo):\n",
    "    graph = copy.deepcopy(old_graph)\n",
    "    for n in peo:\n",
    "        qtree.graph_model.eliminate_node(graph, n)\n",
    "    return graph"
   ]
  },
  {
   "cell_type": "code",
   "execution_count": null,
   "metadata": {},
   "outputs": [],
   "source": [
    "sizes = [35, 40, 45]\n",
    "\n",
    "tasks = [get_test_expr_graph(s, 1) for s in sizes]\n",
    "graphs =     [g for g, _ in tasks]\n",
    "qbit_sizes = [N for _, N in tasks]\n",
    "peos_n = [utils.get_locale_peo(g, utils.n_neighbors) for g in graphs]\n",
    "peos, nghs = zip(*peos_n)"
   ]
  },
  {
   "cell_type": "code",
   "execution_count": null,
   "metadata": {
    "lines_to_next_cell": 2
   },
   "outputs": [],
   "source": [
    "\n",
    "costs = [cost_graph_peo(g, p) for g, p in zip(graphs, peos)]"
   ]
  },
  {
   "cell_type": "code",
   "execution_count": null,
   "metadata": {},
   "outputs": [],
   "source": [
    "tqdm._instances.clear()\n",
    "chopped_g = [\n",
    "    contract_by_peo(g, peo[:_idx]) \n",
    "    for g, peo, cost, ng in tqdm( zip(graphs, peos, costs, nghs) )\n",
    "    for _idx in get_chop_idxs(g, peo, cost, ng)\n",
    "]\n",
    "\n",
    "costs_before_chop = [\n",
    "    mem\n",
    "    for g, peo, cost, ng in tqdm( zip(graphs, peos, costs, nghs) )\n",
    "    for mem in _cost_before_chop(get_chop_idxs(g, peo, cost, ng), cost)\n",
    "]"
   ]
  },
  {
   "cell_type": "code",
   "execution_count": null,
   "metadata": {},
   "outputs": [],
   "source": [
    "print('contracted graphs', [g.number_of_nodes() for g in chopped_g])\n",
    "\n",
    "print('costs before chop', costs_before_chop)"
   ]
  },
  {
   "cell_type": "code",
   "execution_count": null,
   "metadata": {},
   "outputs": [],
   "source": [
    "par_vars = [0,1,2,5, 7, 12]\n",
    "\n",
    "parallelized_g = [\n",
    "    g\n",
    "    for graph in chopped_g\n",
    "    for parvar in par_vars\n",
    "    for  _, g in [qtree.graph_model.split_graph_by_metric(graph, n_var_parallel=parvar)]\n",
    "]"
   ]
  },
  {
   "cell_type": "code",
   "execution_count": null,
   "metadata": {},
   "outputs": [],
   "source": [
    "print('parallelised graphs', [g.number_of_nodes() for g in parallelized_g])"
   ]
  },
  {
   "cell_type": "code",
   "execution_count": null,
   "metadata": {},
   "outputs": [],
   "source": [
    "peos_par = [\n",
    "    peo \n",
    "    for g in tqdm( parallelized_g )\n",
    "    for peo, _ in [utils.get_locale_peo(g, utils.n_neighbors)]\n",
    "]"
   ]
  },
  {
   "cell_type": "code",
   "execution_count": null,
   "metadata": {},
   "outputs": [],
   "source": [
    "def get_qbb_peo(graph):\n",
    "    try:\n",
    "        peo, tw = qtree.graph_model.get_peo(graph)\n",
    "        fail = False\n",
    "    except:\n",
    "        print('QBB fail, nodes count:', graph.number_of_nodes())\n",
    "        peo, nghs = utils.get_locale_peo(graph, utils.n_neighbors)\n",
    "        fail = True\n",
    "    return peo, fail"
   ]
  },
  {
   "cell_type": "code",
   "execution_count": null,
   "metadata": {},
   "outputs": [],
   "source": [
    "peos_par = [ get_qbb_peo(g) for g in tqdm( parallelized_g ) ]\n",
    "peos_par, fails_qbb = zip(*peos_par)"
   ]
  },
  {
   "cell_type": "code",
   "execution_count": null,
   "metadata": {
    "lines_to_next_cell": 2
   },
   "outputs": [],
   "source": [
    "tqdm._instances.clear()"
   ]
  },
  {
   "cell_type": "code",
   "execution_count": null,
   "metadata": {},
   "outputs": [],
   "source": [
    "costs_all = [cost_graph_peo(g, p) for g, p in \n",
    "           tqdm(\n",
    "               list(\n",
    "                   zip(\n",
    "                       parallelized_g, peos_par\n",
    "                   )\n",
    "               )\n",
    "           )]"
   ]
  },
  {
   "cell_type": "code",
   "execution_count": null,
   "metadata": {},
   "outputs": [],
   "source": []
  },
  {
   "cell_type": "code",
   "execution_count": null,
   "metadata": {},
   "outputs": [],
   "source": [
    "mems = [max(m) for m,_ in costs_all ]"
   ]
  },
  {
   "cell_type": "code",
   "execution_count": null,
   "metadata": {},
   "outputs": [],
   "source": [
    "_data = np.array(mems).reshape(len(sizes), chop_pts, len(par_vars)) \n",
    "\n",
    "_data"
   ]
  },
  {
   "cell_type": "code",
   "execution_count": null,
   "metadata": {},
   "outputs": [],
   "source": [
    "def trid_plot(x, y, labels, dimspec=(0,1,2)): \n",
    "    y = y.transpose(dimspec)\n",
    "    plot_cnt = y.shape[0]\n",
    "    line_cnt = y.shape[1]\n",
    "    def _label_of(dim, idx):\n",
    "        return labels[dim] + ' ' + str(x[dim][idx])\n",
    "    \n",
    "    fig, axs = plt.subplots(1, plot_cnt, sharey=True, figsize=(15,4))\n",
    "    try:\n",
    "        iter(axs)\n",
    "    except TypeError:\n",
    "        axs = [axs]\n",
    "    for i, ax in enumerate(axs):\n",
    "        plt.sca(ax)\n",
    "        plt.title(_label_of(0, i))\n",
    "        for j in range(line_cnt):\n",
    "            plt.plot(x[2], y[i,j], label=_label_of(1, j))\n",
    "            plt.xlabel(labels[2])\n",
    "            plt.yscale('log')\n",
    "            plt.legend()"
   ]
  },
  {
   "cell_type": "code",
   "execution_count": null,
   "metadata": {},
   "outputs": [],
   "source": []
  },
  {
   "cell_type": "code",
   "execution_count": 384,
   "metadata": {
    "ExecuteTime": {
     "end_time": "2020-03-11T21:19:36.630474Z",
     "start_time": "2020-03-11T21:19:33.319489Z"
    },
    "scrolled": false
   },
   "outputs": [
    {
     "data": {
      "image/png": "[encoded data removed]",
      "text/plain": [
       "<Figure size 1080x288 with 3 Axes>"
      ]
     },
     "metadata": {},
     "output_type": "display_data"
    }
   ],
   "source": [
    "xs = [np.arange(chop_pts), sizes, par_vars]\n",
    "trid_plot(xs, _data, ['Chop part', 'Task size', 'Par vars'],(1,0,2))\n",
    "plt.suptitle('Parallelisation with chopping, naive peo')\n",
    "plt.savefig('qaoa/figures/chop_analys_qbbpeo_35-38.pdf')"
   ]
  },
  {
   "cell_type": "code",
   "execution_count": 379,
   "metadata": {
    "ExecuteTime": {
     "end_time": "2020-03-11T19:23:31.918816Z",
     "start_time": "2020-03-11T19:23:31.879911Z"
    }
   },
   "outputs": [],
   "source": [
    "#mems_naive = mems\n",
    "mems_qxx35 = mems"
   ]
  },
  {
   "cell_type": "code",
   "execution_count": null,
   "metadata": {
    "ExecuteTime": {
     "end_time": "2020-03-11T00:16:18.293479Z",
     "start_time": "2020-03-11T00:16:13.808Z"
    }
   },
   "outputs": [],
   "source": [
    "_chopcost = np.array(costs_before_chop).reshape(len(sizes), 5, 1)\n",
    "trid_plot([' ', sizes, range(5)], _chopcost, ['Chop cost', 'Task size', 'Chop part'], (2,0,1))"
   ]
  },
  {
   "cell_type": "code",
   "execution_count": null,
   "metadata": {
    "ExecuteTime": {
     "end_time": "2020-03-11T00:16:18.295333Z",
     "start_time": "2020-03-11T00:16:13.812Z"
    }
   },
   "outputs": [],
   "source": [
    "utils.plot_cost(*costs[-1])"
   ]
  },
  {
   "cell_type": "code",
   "execution_count": null,
   "metadata": {
    "ExecuteTime": {
     "end_time": "2020-03-11T00:16:18.297065Z",
     "start_time": "2020-03-11T00:16:13.818Z"
    }
   },
   "outputs": [],
   "source": [
    "_cost_before_chop([600, 800, 905, 950],  costs[-1])"
   ]
  },
  {
   "cell_type": "markdown",
   "metadata": {
    "lines_to_next_cell": 2
   },
   "source": [
    "\n",
    "# Profiling actual simulation\n"
   ]
  },
  {
   "cell_type": "code",
   "execution_count": null,
   "metadata": {
    "ExecuteTime": {
     "end_time": "2020-03-11T00:16:18.298665Z",
     "start_time": "2020-03-11T00:16:14.217Z"
    },
    "lines_to_next_cell": 2
   },
   "outputs": [],
   "source": [
    "from pyrofiler import mem_util, timed, timing\n",
    "from pyrofiler.callbacks import append_to"
   ]
  },
  {
   "cell_type": "code",
   "execution_count": null,
   "metadata": {
    "ExecuteTime": {
     "end_time": "2020-03-11T00:16:18.300090Z",
     "start_time": "2020-03-11T00:16:14.222Z"
    }
   },
   "outputs": [],
   "source": [
    "profile = {}\n",
    "\n",
    "@mem_util(description='mem', callback=append_to(profile))\n",
    "@timed('time', callback=append_to(profile))\n",
    "@log.catch()\n",
    "def simulate_circ(circuit, n_qubits):\n",
    "    buckets, data_dict, bra_vars, ket_vars = qtree.optimizer.circ2buckets(\n",
    "        n_qubits, circuit)\n",
    "\n",
    "    graph = qtree.graph_model.buckets2graph(\n",
    "        buckets,\n",
    "        ignore_variables=bra_vars+ket_vars)\n",
    "\n",
    "    peo, nghs = utils.get_locale_peo(graph, utils.n_neighbors)\n",
    "    peo = qtree.graph_model.indices_to_vars(peo, graph)\n",
    "    \n",
    "    # place bra and ket variables to beginning, so these variables\n",
    "    # will be contracted first\n",
    "    #peo, treewidth = qtree.graph_model.get_peo(graph)\n",
    "\n",
    "    peo = ket_vars + bra_vars + peo\n",
    "    perm_buckets, perm_dict = qtree.optimizer.reorder_buckets(buckets, peo)\n",
    "\n",
    "    # extract bra and ket variables from variable list and sort according\n",
    "    # to qubit order\n",
    "    ket_vars = sorted([perm_dict[idx] for idx in ket_vars], key=str)\n",
    "    bra_vars = sorted([perm_dict[idx] for idx in bra_vars], key=str)\n",
    "\n",
    "    # Take the subtensor corresponding to the initial state\n",
    "    initial_state = target_state = 0\n",
    "    slice_dict = qtree.utils.slice_from_bits(initial_state, ket_vars)\n",
    "    slice_dict.update(\n",
    "        qtree.utils.slice_from_bits(target_state, bra_vars)\n",
    "    )\n",
    "    sliced_buckets = qtree.np_framework.get_sliced_np_buckets(\n",
    "        perm_buckets, data_dict, slice_dict)\n",
    "    \n",
    "    with timing('time_raw', callback=append_to(profile)):\n",
    "        result = qtree.optimizer.bucket_elimination(\n",
    "            sliced_buckets, qtree.np_framework.process_bucket_np)\n",
    "        "
   ]
  },
  {
   "cell_type": "code",
   "execution_count": null,
   "metadata": {
    "ExecuteTime": {
     "end_time": "2020-03-11T00:16:18.301375Z",
     "start_time": "2020-03-11T00:16:14.227Z"
    }
   },
   "outputs": [],
   "source": [
    "for key in profile:\n",
    "    profile[key] = []\n",
    "    \n",
    "profile['N'] = []\n",
    "sizes = np.arange(5,27) \n",
    "\n",
    "for S in sizes[:]:\n",
    "    qc, N = get_test_qaoa(S)\n",
    "    profile['N'].append(N)\n",
    "    print(N,'qubits')\n",
    "    result = simulate_circ(qc, N)"
   ]
  },
  {
   "cell_type": "code",
   "execution_count": null,
   "metadata": {
    "ExecuteTime": {
     "end_time": "2020-03-11T00:16:18.303820Z",
     "start_time": "2020-03-11T00:16:14.230Z"
    }
   },
   "outputs": [],
   "source": [
    "ns = profile['N']\n",
    "\n",
    "def to_flop(secs):\n",
    "    secs = np.array(secs)\n",
    "    secs *= .3*1e12\n",
    "    return secs\n",
    "def to_nums(mems):\n",
    "    mems = np.array(mems)\n",
    "    mems = mems/16\n",
    "    return mems\n",
    "\n",
    "mems = to_nums(profile['mem'])\n",
    "#mems -= np.min(mems)\n",
    "\n",
    "\n",
    "plt.plot(ns, to_flop(profile['time_raw']), label='time raw')\n",
    "plt.plot(ns, to_flop(profile['time']), label='time')\n",
    "plt.plot(ns, mems, label='mem')\n",
    "plt.legend()\n",
    "plt.yscale('log')\n",
    "plt.xscale('log')"
   ]
  },
  {
   "cell_type": "code",
   "execution_count": null,
   "metadata": {
    "ExecuteTime": {
     "end_time": "2020-03-11T00:16:18.305602Z",
     "start_time": "2020-03-11T00:16:14.234Z"
    }
   },
   "outputs": [],
   "source": [
    "# Sizes for theory\n",
    "sizes = np.arange(3,21)"
   ]
  },
  {
   "cell_type": "code",
   "execution_count": null,
   "metadata": {
    "ExecuteTime": {
     "end_time": "2020-03-11T00:16:18.307294Z",
     "start_time": "2020-03-11T00:16:14.240Z"
    }
   },
   "outputs": [],
   "source": [
    "results = [\n",
    "   get_cost_of_task(s) for s in sizes\n",
    "]\n",
    "sums = [[sum(x) for x in y[:3]] for y in results]\n",
    "memsums, flopsums, nghssums = zip(*sums)\n",
    "ns_theory = list(zip(*results))[3]"
   ]
  },
  {
   "cell_type": "code",
   "execution_count": null,
   "metadata": {
    "ExecuteTime": {
     "end_time": "2020-03-11T00:16:18.308926Z",
     "start_time": "2020-03-11T00:16:14.243Z"
    },
    "lines_to_next_cell": 0
   },
   "outputs": [],
   "source": [
    "est, mem_est = get_est(ns_theory, memsums)\n",
    "est, flop_est = get_est(ns_theory, flopsums)\n",
    "\n",
    "fig, axs = plt.subplots(1,2, figsize=(12,5))\n",
    "\n",
    "plt.sca(axs[0])\n",
    "log_log_scale()\n",
    "minorticks()\n",
    "plt.plot(ns_theory, memsums, label='theory')\n",
    "plt.plot(ns, mems, label='experiment')\n",
    "plt.plot(est, mem_est, '--', label='log-log fit')\n",
    "plt.legend()\n",
    "plt.title('Memory')\n",
    "plt.xlabel('Number of qbits')\n",
    "\n",
    "plt.sca(axs[1])\n",
    "log_log_scale()\n",
    "minorticks()\n",
    "plt.plot(ns_theory, flopsums, label='theory')\n",
    "plt.plot(ns, to_flop(profile['time']), label='experiment')\n",
    "plt.plot(ns, to_flop(profile['time_raw']), label='experiment raw')\n",
    "plt.plot(est, flop_est, '--', label='log-log fit')\n",
    "\n",
    "plt.xlabel('Number of qbits')\n",
    "\n",
    "plt.suptitle('QAOA one amplitude simulation cost', fontsize=14)\n",
    "plt.title('FLOP')\n",
    "plt.legend()\n"
   ]
  },
  {
   "cell_type": "code",
   "execution_count": null,
   "metadata": {
    "ExecuteTime": {
     "end_time": "2020-03-11T00:16:18.311948Z",
     "start_time": "2020-03-11T00:16:14.339Z"
    }
   },
   "outputs": [],
   "source": [
    "filename = 'qaoa_cost_theory_exp'\n",
    "plt.savefig(f'qaoa/figures/{filename}.png')\n",
    "plt.savefig(f'qaoa/figures/{filename}.pdf')"
   ]
  }
 ],
 "metadata": {
  "jupytext": {
   "formats": "ipynb,py"
  },
  "kernelspec": {
   "display_name": "Python 3",
   "language": "python",
   "name": "python3"
  },
  "language_info": {
   "codemirror_mode": {
    "name": "ipython",
    "version": 3
   },
   "file_extension": ".py",
   "mimetype": "text/x-python",
   "name": "python",
   "nbconvert_exporter": "python",
   "pygments_lexer": "ipython3",
   "version": "3.7.7rc1+"
  },
  "toc": {
   "base_numbering": 1,
   "nav_menu": {},
   "number_sections": true,
   "sideBar": true,
   "skip_h1_title": false,
   "title_cell": "Table of Contents",
   "title_sidebar": "Contents",
   "toc_cell": true,
   "toc_position": {
    "height": "calc(100% - 180px)",
    "left": "10px",
    "top": "150px",
    "width": "165px"
   },
   "toc_section_display": true,
   "toc_window_display": true
  }
 },
 "nbformat": 4,
 "nbformat_minor": 2
}
