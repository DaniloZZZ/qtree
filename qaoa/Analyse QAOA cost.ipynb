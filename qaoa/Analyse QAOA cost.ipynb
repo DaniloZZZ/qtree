{
 "cells": [
  {
   "cell_type": "code",
   "execution_count": 1,
   "metadata": {},
   "outputs": [
    {
     "name": "stdout",
     "output_type": "stream",
     "text": [
      "ModuleNotFoundError(\"No module named 'tensorflow'\")\n"
     ]
    }
   ],
   "source": [
    "import numpy as np\n",
    "import networkx as nx\n",
    "import matplotlib.pyplot as plt\n",
    "import seaborn as sns\n",
    "sns.set_style('whitegrid')\n",
    "import qtree \n",
    "import utils\n",
    "import utils_qaoa as qaoa\n",
    "\n",
    "%load_ext autoreload\n",
    "%autoreload 2"
   ]
  },
  {
   "cell_type": "code",
   "execution_count": 2,
   "metadata": {},
   "outputs": [],
   "source": [
    "def get_test_graph(S):\n",
    "    G = nx.triangular_lattice_graph(S, S)\n",
    "    # remove grid labelling\n",
    "    gen = (x for x in range(G.number_of_nodes()))\n",
    "    G = nx.relabel_nodes(G, lambda x: next(gen))\n",
    "    return G\n",
    "\n",
    "def get_test_qaoa(S):\n",
    "    G = get_test_graph(S)\n",
    "    N = G.number_of_nodes()\n",
    "    beta, gamma = [np.pi/3], [np.pi/2]\n",
    "    qc = qaoa.get_qaoa_circuit(G, beta, gamma)\n",
    "    return qc, N\n",
    "\n",
    "def get_test_expr_graph(S):\n",
    "    qc, N = get_test_qaoa(S)\n",
    "    graph = qtree.graph_model.circ2graph(N, qc)\n",
    "    return graph, N\n",
    "\n",
    "def get_optimized_expr(S):\n",
    "    graph, N = get_test_expr_graph(S)\n",
    "    peo, nghs = utils.get_locale_peo(graph, utils.n_neighbors)\n",
    "    graph_opt, slice_dict = utils.reorder_graph(graph, peo)\n",
    "    return graph_opt, nghs, N\n",
    "\n",
    "def get_cost_of_task(S):\n",
    "    graph_opt, nghs, N = get_optimized_expr(S)\n",
    "    mems, flops = qtree.graph_model.cost_estimator(graph_opt)\n",
    "    return mems,flops,nghs, N"
   ]
  },
  {
   "cell_type": "code",
   "execution_count": 3,
   "metadata": {
    "active": "ipynb"
   },
   "outputs": [
    {
     "name": "stderr",
     "output_type": "stream",
     "text": [
      "2020-03-04 20:45:29,146- INFO•\tGenerated graph with 174 nodes and 399 edges\n"
     ]
    },
    {
     "data": {
      "image/png": "[encoded data removed]",
      "text/plain": [
       "<Figure size 432x288 with 1 Axes>"
      ]
     },
     "metadata": {},
     "output_type": "display_data"
    }
   ],
   "source": [
    "mems, flops, nghs, N = get_cost_of_task(5)\n",
    "utils.plot_cost(mems, flops)"
   ]
  },
  {
   "cell_type": "code",
   "execution_count": 57,
   "metadata": {},
   "outputs": [],
   "source": [
    "sizes = np.arange(5,18,1)\n",
    "\n",
    "def get_est(xs, vals):\n",
    "    mem_est = np.polyfit(np.log(xs), np.log(vals), 2)\n",
    "    mem_est = np.poly1d(mem_est)\n",
    "    est = np.linspace(20,1e3, 100)\n",
    "    est = np.log(est)\n",
    "    mem_est = mem_est(est)\n",
    "    return np.exp(est),  np.exp(mem_est)\n"
   ]
  },
  {
   "cell_type": "code",
   "execution_count": null,
   "metadata": {},
   "outputs": [],
   "source": [
    "results = [\n",
    "   get_cost_of_task(s) for s in sizes\n",
    "]\n",
    "def plot_theory(results):\n",
    "    sums = [[sum(x) for x in y[:3]] for y in results]\n",
    "    memsums, flopsums, nghssums = zip(*sums)\n",
    "    ns = list(zip(*results))[3]\n",
    "\n",
    "    est, mem_est = get_est(ns, memsums)\n",
    "    est, flop_est = get_est(ns, flopsums)\n",
    "\n",
    "\n",
    "    plt.plot(ns, memsums, label='mem sum')\n",
    "    plt.plot(ns, flopsums, label='flop sum')\n",
    "    plt.plot(est, mem_est, '--', label='mem log-log fit')\n",
    "    plt.plot(est, flop_est, '--', label='flop log-log fit')\n",
    "\n",
    "    plt.xlabel('Number of qbits')\n",
    "    plt.yscale('log')\n",
    "    plt.xscale('log')\n",
    "    plt.suptitle('QAOA one amplitude simulation cost', fontsize=14)\n",
    "    plt.title('MaxCut triangular grids')\n",
    "    plt.legend()\n",
    "    plt.minorticks_on()\n",
    "    plt.grid(which='minor', alpha=0.5, linestyle='-', axis='both')\n",
    "\n",
    "plot_theory(results)"
   ]
  },
  {
   "cell_type": "code",
   "execution_count": null,
   "metadata": {
    "active": "ipynb",
    "lines_to_next_cell": 2
   },
   "outputs": [],
   "source": [
    "plt.plot(sizes, ns)"
   ]
  },
  {
   "cell_type": "markdown",
   "metadata": {
    "lines_to_next_cell": 2
   },
   "source": [
    "## Profiling actual simulation"
   ]
  },
  {
   "cell_type": "code",
   "execution_count": null,
   "metadata": {
    "lines_to_next_cell": 2
   },
   "outputs": [],
   "source": [
    "from pyrofiler import mem_util, cpu_util, timed, timing\n",
    "from pyrofiler.callbacks import append_to"
   ]
  },
  {
   "cell_type": "code",
   "execution_count": 39,
   "metadata": {},
   "outputs": [],
   "source": [
    "profile = {}\n",
    "\n",
    "@mem_util(description='mem', callback=append_to(profile))\n",
    "@timed('time', callback=append_to(profile))\n",
    "def simulate_circ(circuit, n_qubits):\n",
    "    buckets, data_dict, bra_vars, ket_vars = qtree.optimizer.circ2buckets(\n",
    "        n_qubits, circuit)\n",
    "\n",
    "    graph = qtree.graph_model.buckets2graph(\n",
    "        buckets,\n",
    "        ignore_variables=bra_vars+ket_vars)\n",
    "\n",
    "    peo, nghs = utils.get_locale_peo(graph, utils.n_neighbors)\n",
    "    peo = qtree.graph_model.indices_to_vars(peo, graph)\n",
    "    \n",
    "    # place bra and ket variables to beginning, so these variables\n",
    "    # will be contracted first\n",
    "    #peo, treewidth = qtree.graph_model.get_peo(graph)\n",
    "\n",
    "    peo = ket_vars + bra_vars + peo\n",
    "    perm_buckets, perm_dict = qtree.optimizer.reorder_buckets(buckets, peo)\n",
    "\n",
    "    # extract bra and ket variables from variable list and sort according\n",
    "    # to qubit order\n",
    "    ket_vars = sorted([perm_dict[idx] for idx in ket_vars], key=str)\n",
    "    bra_vars = sorted([perm_dict[idx] for idx in bra_vars], key=str)\n",
    "\n",
    "    # Take the subtensor corresponding to the initial state\n",
    "    initial_state = target_state = 0\n",
    "    slice_dict = qtree.utils.slice_from_bits(initial_state, ket_vars)\n",
    "    slice_dict.update(\n",
    "        qtree.utils.slice_from_bits(target_state, bra_vars)\n",
    "    )\n",
    "    sliced_buckets = qtree.np_framework.get_sliced_np_buckets(\n",
    "        perm_buckets, data_dict, slice_dict)\n",
    "    \n",
    "    with timing('time_raw', callback=append_to(profile)):\n",
    "        result = qtree.optimizer.bucket_elimination(\n",
    "            sliced_buckets, qtree.np_framework.process_bucket_np)\n",
    "        "
   ]
  },
  {
   "cell_type": "code",
   "execution_count": 80,
   "metadata": {},
   "outputs": [
    {
     "name": "stderr",
     "output_type": "stream",
     "text": [
      "2020-03-04 22:42:31,454- DEBUG•\tEliminating 216 buckets\n"
     ]
    },
    {
     "name": "stdout",
     "output_type": "stream",
     "text": [
      "21 qubits\n"
     ]
    },
    {
     "name": "stderr",
     "output_type": "stream",
     "text": [
      "2020-03-04 22:42:31,603- DEBUG•\tBuckets eliminated\n",
      "2020-03-04 22:42:31,742- DEBUG•\tEliminating 294 buckets\n"
     ]
    },
    {
     "name": "stdout",
     "output_type": "stream",
     "text": [
      "28 qubits\n"
     ]
    },
    {
     "name": "stderr",
     "output_type": "stream",
     "text": [
      "2020-03-04 22:42:31,891- DEBUG•\tBuckets eliminated\n",
      "2020-03-04 22:42:32,175- DEBUG•\tEliminating 384 buckets\n"
     ]
    },
    {
     "name": "stdout",
     "output_type": "stream",
     "text": [
      "36 qubits\n"
     ]
    },
    {
     "name": "stderr",
     "output_type": "stream",
     "text": [
      "2020-03-04 22:42:32,349- DEBUG•\tBuckets eliminated\n"
     ]
    },
    {
     "name": "stdout",
     "output_type": "stream",
     "text": [
      "45 qubits\n"
     ]
    },
    {
     "name": "stderr",
     "output_type": "stream",
     "text": [
      "2020-03-04 22:42:32,702- DEBUG•\tEliminating 486 buckets\n",
      "2020-03-04 22:42:32,996- DEBUG•\tBuckets eliminated\n"
     ]
    },
    {
     "name": "stdout",
     "output_type": "stream",
     "text": [
      "55 qubits\n"
     ]
    },
    {
     "name": "stderr",
     "output_type": "stream",
     "text": [
      "2020-03-04 22:42:33,481- DEBUG•\tEliminating 600 buckets\n",
      "2020-03-04 22:42:33,791- DEBUG•\tBuckets eliminated\n"
     ]
    },
    {
     "name": "stdout",
     "output_type": "stream",
     "text": [
      "66 qubits\n"
     ]
    },
    {
     "name": "stderr",
     "output_type": "stream",
     "text": [
      "2020-03-04 22:42:34,453- DEBUG•\tEliminating 726 buckets\n",
      "2020-03-04 22:42:34,791- DEBUG•\tBuckets eliminated\n"
     ]
    },
    {
     "name": "stdout",
     "output_type": "stream",
     "text": [
      "78 qubits\n"
     ]
    },
    {
     "name": "stderr",
     "output_type": "stream",
     "text": [
      "2020-03-04 22:42:35,680- DEBUG•\tEliminating 864 buckets\n",
      "2020-03-04 22:42:36,065- DEBUG•\tBuckets eliminated\n"
     ]
    },
    {
     "name": "stdout",
     "output_type": "stream",
     "text": [
      "91 qubits\n"
     ]
    },
    {
     "name": "stderr",
     "output_type": "stream",
     "text": [
      "2020-03-04 22:42:36,719- DEBUG•\tEliminating 1014 buckets\n",
      "2020-03-04 22:42:37,179- DEBUG•\tBuckets eliminated\n"
     ]
    },
    {
     "name": "stdout",
     "output_type": "stream",
     "text": [
      "105 qubits\n"
     ]
    },
    {
     "name": "stderr",
     "output_type": "stream",
     "text": [
      "2020-03-04 22:42:37,984- DEBUG•\tEliminating 1176 buckets\n",
      "2020-03-04 22:42:38,359- DEBUG•\tBuckets eliminated\n"
     ]
    },
    {
     "name": "stdout",
     "output_type": "stream",
     "text": [
      "120 qubits\n"
     ]
    },
    {
     "name": "stderr",
     "output_type": "stream",
     "text": [
      "2020-03-04 22:42:39,651- DEBUG•\tEliminating 1350 buckets\n",
      "2020-03-04 22:42:40,096- DEBUG•\tBuckets eliminated\n"
     ]
    },
    {
     "name": "stdout",
     "output_type": "stream",
     "text": [
      "136 qubits\n"
     ]
    },
    {
     "name": "stderr",
     "output_type": "stream",
     "text": [
      "2020-03-04 22:42:41,269- DEBUG•\tEliminating 1536 buckets\n",
      "2020-03-04 22:42:41,693- DEBUG•\tBuckets eliminated\n"
     ]
    },
    {
     "name": "stdout",
     "output_type": "stream",
     "text": [
      "153 qubits\n"
     ]
    },
    {
     "name": "stderr",
     "output_type": "stream",
     "text": [
      "2020-03-04 22:42:43,440- DEBUG•\tEliminating 1734 buckets\n",
      "2020-03-04 22:42:44,029- DEBUG•\tBuckets eliminated\n"
     ]
    },
    {
     "name": "stdout",
     "output_type": "stream",
     "text": [
      "171 qubits\n"
     ]
    },
    {
     "name": "stderr",
     "output_type": "stream",
     "text": [
      "2020-03-04 22:42:45,686- DEBUG•\tEliminating 1944 buckets\n",
      "2020-03-04 22:42:46,363- DEBUG•\tBuckets eliminated\n"
     ]
    },
    {
     "name": "stdout",
     "output_type": "stream",
     "text": [
      "190 qubits\n"
     ]
    },
    {
     "name": "stderr",
     "output_type": "stream",
     "text": [
      "2020-03-04 22:42:48,912- DEBUG•\tEliminating 2166 buckets\n",
      "2020-03-04 22:42:49,736- DEBUG•\tBuckets eliminated\n"
     ]
    },
    {
     "name": "stdout",
     "output_type": "stream",
     "text": [
      "210 qubits\n"
     ]
    },
    {
     "name": "stderr",
     "output_type": "stream",
     "text": [
      "2020-03-04 22:42:52,628- DEBUG•\tEliminating 2400 buckets\n",
      "2020-03-04 22:42:53,670- DEBUG•\tBuckets eliminated\n"
     ]
    },
    {
     "name": "stdout",
     "output_type": "stream",
     "text": [
      "231 qubits\n"
     ]
    },
    {
     "name": "stderr",
     "output_type": "stream",
     "text": [
      "2020-03-04 22:42:56,746- DEBUG•\tEliminating 2646 buckets\n",
      "2020-03-04 22:42:58,735- DEBUG•\tBuckets eliminated\n"
     ]
    },
    {
     "name": "stdout",
     "output_type": "stream",
     "text": [
      "253 qubits\n"
     ]
    },
    {
     "name": "stderr",
     "output_type": "stream",
     "text": [
      "2020-03-04 22:43:02,081- DEBUG•\tEliminating 2904 buckets\n",
      "2020-03-04 22:43:03,320- DEBUG•\tBuckets eliminated\n"
     ]
    },
    {
     "name": "stdout",
     "output_type": "stream",
     "text": [
      "276 qubits\n"
     ]
    },
    {
     "name": "stderr",
     "output_type": "stream",
     "text": [
      "2020-03-04 22:43:07,340- DEBUG•\tEliminating 3174 buckets\n",
      "2020-03-04 22:43:10,193- DEBUG•\tBuckets eliminated\n"
     ]
    },
    {
     "name": "stdout",
     "output_type": "stream",
     "text": [
      "300 qubits\n"
     ]
    },
    {
     "name": "stderr",
     "output_type": "stream",
     "text": [
      "2020-03-04 22:43:15,691- DEBUG•\tEliminating 3456 buckets\n",
      "2020-03-04 22:43:23,955- DEBUG•\tBuckets eliminated\n"
     ]
    },
    {
     "name": "stdout",
     "output_type": "stream",
     "text": [
      "325 qubits\n"
     ]
    },
    {
     "name": "stderr",
     "output_type": "stream",
     "text": [
      "2020-03-04 22:43:30,291- DEBUG•\tEliminating 3750 buckets\n",
      "2020-03-04 22:43:50,815- DEBUG•\tBuckets eliminated\n"
     ]
    }
   ],
   "source": [
    "for key in profile:\n",
    "    profile[key] = []\n",
    "    \n",
    "profile['N'] = []\n",
    "sizes = np.arange(5,25) \n",
    "\n",
    "for S in sizes[:]:\n",
    "    qc, N = get_test_qaoa(S)\n",
    "    profile['N'].append(N)\n",
    "    print(N,'qubits')\n",
    "    result = simulate_circ(qc, N)"
   ]
  },
  {
   "cell_type": "code",
   "execution_count": 81,
   "metadata": {},
   "outputs": [
    {
     "data": {
      "image/png": "[encoded data removed]",
      "text/plain": [
       "<Figure size 432x288 with 1 Axes>"
      ]
     },
     "metadata": {},
     "output_type": "display_data"
    }
   ],
   "source": [
    "ns = profile['N']\n",
    "\n",
    "def to_flop(secs):\n",
    "    secs = np.array(secs)\n",
    "    secs *= .3*1e12\n",
    "    return secs\n",
    "def to_nums(mems):\n",
    "    mems = np.array(mems)\n",
    "    mems = mems/16\n",
    "    return mems\n",
    "\n",
    "mems = to_nums(profile['mem'])\n",
    "#mems -= np.min(mems)\n",
    "    \n",
    "    \n",
    "plt.plot(ns, to_flop(profile['time_raw']), label='time raw')\n",
    "plt.plot(ns, to_flop(profile['time']), label='time')\n",
    "plt.plot(ns, mems, label='mem')\n",
    "plt.legend()\n",
    "plt.yscale('log')\n",
    "plt.xscale('log')"
   ]
  },
  {
   "cell_type": "code",
   "execution_count": 82,
   "metadata": {},
   "outputs": [
    {
     "name": "stderr",
     "output_type": "stream",
     "text": [
      "2020-03-04 22:43:52,345- INFO•\tGenerated graph with 174 nodes and 399 edges\n",
      "2020-03-04 22:43:53,071- INFO•\tGenerated graph with 238 nodes and 553 edges\n",
      "2020-03-04 22:43:54,334- INFO•\tGenerated graph with 312 nodes and 732 edges\n",
      "2020-03-04 22:43:56,119- INFO•\tGenerated graph with 396 nodes and 936 edges\n",
      "2020-03-04 22:43:59,009- INFO•\tGenerated graph with 490 nodes and 1165 edges\n",
      "2020-03-04 22:44:03,134- INFO•\tGenerated graph with 594 nodes and 1419 edges\n",
      "2020-03-04 22:44:09,170- INFO•\tGenerated graph with 708 nodes and 1698 edges\n",
      "2020-03-04 22:44:16,752- INFO•\tGenerated graph with 832 nodes and 2002 edges\n",
      "2020-03-04 22:44:26,905- INFO•\tGenerated graph with 966 nodes and 2331 edges\n",
      "2020-03-04 22:44:40,767- INFO•\tGenerated graph with 1110 nodes and 2685 edges\n",
      "2020-03-04 22:44:58,746- INFO•\tGenerated graph with 1264 nodes and 3064 edges\n",
      "2020-03-04 22:45:23,702- INFO•\tGenerated graph with 1428 nodes and 3468 edges\n",
      "2020-03-04 22:45:54,594- INFO•\tGenerated graph with 1602 nodes and 3897 edges\n",
      "2020-03-04 22:46:33,140- INFO•\tGenerated graph with 1786 nodes and 4351 edges\n",
      "2020-03-04 22:47:26,188- INFO•\tGenerated graph with 1980 nodes and 4830 edges\n",
      "2020-03-04 22:48:30,147- INFO•\tGenerated graph with 2184 nodes and 5334 edges\n",
      "2020-03-04 22:49:48,306- INFO•\tGenerated graph with 2398 nodes and 5863 edges\n",
      "2020-03-04 22:51:19,100- INFO•\tGenerated graph with 2622 nodes and 6417 edges\n",
      "2020-03-04 22:52:58,244- INFO•\tGenerated graph with 2856 nodes and 6996 edges\n",
      "2020-03-04 22:54:28,523- INFO•\tGenerated graph with 3100 nodes and 7600 edges\n"
     ]
    }
   ],
   "source": [
    "results = [\n",
    "   get_cost_of_task(s) for s in sizes\n",
    "]\n",
    "sums = [[sum(x) for x in y[:3]] for y in results]\n",
    "memsums, flopsums, nghssums = zip(*sums)"
   ]
  },
  {
   "cell_type": "code",
   "execution_count": 85,
   "metadata": {
    "lines_to_next_cell": 0
   },
   "outputs": [
    {
     "data": {
      "image/png": "[encoded data removed]",
      "text/plain": [
       "<Figure size 864x360 with 2 Axes>"
      ]
     },
     "metadata": {},
     "output_type": "display_data"
    }
   ],
   "source": [
    "est, mem_est = get_est(ns, memsums)\n",
    "est, flop_est = get_est(ns, flopsums)\n",
    "\n",
    "fig, axs = plt.subplots(1,2, figsize=(12,5))\n",
    "\n",
    "def log_log_scale():\n",
    "    plt.yscale('log')\n",
    "    plt.xscale('log')\n",
    "    \n",
    "def minorticks():\n",
    "    plt.minorticks_on()\n",
    "    plt.grid(which='minor', alpha=0.5, linestyle='-', axis='both')\n",
    "    \n",
    "plt.sca(axs[0])\n",
    "log_log_scale()\n",
    "minorticks()\n",
    "plt.plot(ns, memsums, label='theory')\n",
    "plt.plot(ns, mems, label='experiment')\n",
    "plt.plot(est, mem_est, '--', label='log-log fit')\n",
    "plt.legend()\n",
    "plt.title('Memory')\n",
    "plt.xlabel('Number of qbits')\n",
    "\n",
    "plt.sca(axs[1])\n",
    "log_log_scale()\n",
    "minorticks()\n",
    "plt.plot(ns, flopsums, label='theory')\n",
    "plt.plot(ns, to_flop(profile['time']), label='experiment')\n",
    "plt.plot(ns, to_flop(profile['time_raw']), label='experiment raw')\n",
    "plt.plot(est, flop_est, '--', label='log-log fit')\n",
    "\n",
    "plt.xlabel('Number of qbits')\n",
    "\n",
    "plt.suptitle('QAOA one amplitude simulation cost', fontsize=14)\n",
    "plt.title('FLOP')\n",
    "plt.legend()\n",
    "plt.savefig('qaoa_cost_theory_exp.png')"
   ]
  },
  {
   "cell_type": "code",
   "execution_count": null,
   "metadata": {
    "lines_to_next_cell": 2
   },
   "outputs": [],
   "source": []
  }
 ],
 "metadata": {
  "celltoolbar": "Edit Metadata",
  "jupytext": {
   "formats": "ipynb,py"
  },
  "kernelspec": {
   "display_name": "Python 3",
   "language": "python",
   "name": "python3"
  },
  "language_info": {
   "codemirror_mode": {
    "name": "ipython",
    "version": 3
   },
   "file_extension": ".py",
   "mimetype": "text/x-python",
   "name": "python",
   "nbconvert_exporter": "python",
   "pygments_lexer": "ipython3",
   "version": "3.8.1"
  }
 },
 "nbformat": 4,
 "nbformat_minor": 2
}
