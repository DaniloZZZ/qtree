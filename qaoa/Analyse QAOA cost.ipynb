{
 "cells": [
  {
   "cell_type": "markdown",
   "metadata": {
    "toc": true
   },
   "source": [
    "<h1>Table of Contents<span class=\"tocSkip\"></span></h1>\n",
    "<div class=\"toc\"><ul class=\"toc-item\"><li><ul class=\"toc-item\"><li><span><a href=\"#Example-of-per-step-cost\" data-toc-modified-id=\"Example-of-per-step-cost-0.1\"><span class=\"toc-item-num\">0.1&nbsp;&nbsp;</span>Example of per-step cost</a></span></li><li><span><a href=\"#Cost-vs-qubits-size\" data-toc-modified-id=\"Cost-vs-qubits-size-0.2\"><span class=\"toc-item-num\">0.2&nbsp;&nbsp;</span>Cost vs qubits size</a></span></li><li><span><a href=\"#Cost-with-respect-to-depth\" data-toc-modified-id=\"Cost-with-respect-to-depth-0.3\"><span class=\"toc-item-num\">0.3&nbsp;&nbsp;</span>Cost with respect to depth</a></span></li></ul></li><li><span><a href=\"#Finding-biggest-tacklable-task\" data-toc-modified-id=\"Finding-biggest-tacklable-task-1\"><span class=\"toc-item-num\">1&nbsp;&nbsp;</span>Finding biggest tacklable task</a></span><ul class=\"toc-item\"><li><span><a href=\"#Full-ordering\" data-toc-modified-id=\"Full-ordering-1.1\"><span class=\"toc-item-num\">1.1&nbsp;&nbsp;</span>Full ordering</a></span><ul class=\"toc-item\"><li><span><a href=\"#Naive-(degree-based-local)-peo\" data-toc-modified-id=\"Naive-(degree-based-local)-peo-1.1.1\"><span class=\"toc-item-num\">1.1.1&nbsp;&nbsp;</span>Naive (degree-based local) peo</a></span></li><li><span><a href=\"#QuickBB-peo\" data-toc-modified-id=\"QuickBB-peo-1.1.2\"><span class=\"toc-item-num\">1.1.2&nbsp;&nbsp;</span>QuickBB peo</a></span></li><li><span><a href=\"#Another-implementation-of-naive-peo\" data-toc-modified-id=\"Another-implementation-of-naive-peo-1.1.3\"><span class=\"toc-item-num\">1.1.3&nbsp;&nbsp;</span>Another implementation of naive peo</a></span></li></ul></li></ul></li><li><span><a href=\"#Parallelize-after-critical-point\" data-toc-modified-id=\"Parallelize-after-critical-point-2\"><span class=\"toc-item-num\">2&nbsp;&nbsp;</span>Parallelize after critical point</a></span><ul class=\"toc-item\"><li><span><a href=\"#First-chopping\" data-toc-modified-id=\"First-chopping-2.1\"><span class=\"toc-item-num\">2.1&nbsp;&nbsp;</span>First chopping</a></span><ul class=\"toc-item\"><li><span><a href=\"#Draw-chopped-graph\" data-toc-modified-id=\"Draw-chopped-graph-2.1.1\"><span class=\"toc-item-num\">2.1.1&nbsp;&nbsp;</span>Draw chopped graph</a></span></li><li><span><a href=\"#Draw-chopped--parallelised-graph\" data-toc-modified-id=\"Draw-chopped--parallelised-graph-2.1.2\"><span class=\"toc-item-num\">2.1.2&nbsp;&nbsp;</span>Draw chopped  parallelised graph</a></span></li><li><span><a href=\"#Late-paralelisaton-with-simple-reorder\" data-toc-modified-id=\"Late-paralelisaton-with-simple-reorder-2.1.3\"><span class=\"toc-item-num\">2.1.3&nbsp;&nbsp;</span>Late paralelisaton with simple reorder</a></span><ul class=\"toc-item\"><li><span><a href=\"#Full-chopped-cost\" data-toc-modified-id=\"Full-chopped-cost-2.1.3.1\"><span class=\"toc-item-num\">2.1.3.1&nbsp;&nbsp;</span>Full chopped cost</a></span></li><li><span><a href=\"#Parallelised-chopped-cost\" data-toc-modified-id=\"Parallelised-chopped-cost-2.1.3.2\"><span class=\"toc-item-num\">2.1.3.2&nbsp;&nbsp;</span>Parallelised chopped cost</a></span></li></ul></li><li><span><a href=\"#with-QuickBB-reorder\" data-toc-modified-id=\"with-QuickBB-reorder-2.1.4\"><span class=\"toc-item-num\">2.1.4&nbsp;&nbsp;</span>with QuickBB reorder</a></span><ul class=\"toc-item\"><li><span><a href=\"#Full-chopped-cost\" data-toc-modified-id=\"Full-chopped-cost-2.1.4.1\"><span class=\"toc-item-num\">2.1.4.1&nbsp;&nbsp;</span>Full chopped cost</a></span></li><li><span><a href=\"#Parallelized-chopped-cost\" data-toc-modified-id=\"Parallelized-chopped-cost-2.1.4.2\"><span class=\"toc-item-num\">2.1.4.2&nbsp;&nbsp;</span>Parallelized chopped cost</a></span></li></ul></li></ul></li><li><span><a href=\"#Second-chopping\" data-toc-modified-id=\"Second-chopping-2.2\"><span class=\"toc-item-num\">2.2&nbsp;&nbsp;</span>Second chopping</a></span><ul class=\"toc-item\"><li><span><a href=\"#Draw-chopped--parallelised-graph\" data-toc-modified-id=\"Draw-chopped--parallelised-graph-2.2.1\"><span class=\"toc-item-num\">2.2.1&nbsp;&nbsp;</span>Draw chopped  parallelised graph</a></span></li><li><span><a href=\"#with-naive-reorder\" data-toc-modified-id=\"with-naive-reorder-2.2.2\"><span class=\"toc-item-num\">2.2.2&nbsp;&nbsp;</span>with naive reorder</a></span></li><li><span><a href=\"#with-QuickBB-reorder\" data-toc-modified-id=\"with-QuickBB-reorder-2.2.3\"><span class=\"toc-item-num\">2.2.3&nbsp;&nbsp;</span>with QuickBB reorder</a></span></li></ul></li></ul></li><li><span><a href=\"#Trying-different-naive-orderings\" data-toc-modified-id=\"Trying-different-naive-orderings-3\"><span class=\"toc-item-num\">3&nbsp;&nbsp;</span>Trying different naive orderings</a></span></li><li><span><a href=\"#Analyse-chopping\" data-toc-modified-id=\"Analyse-chopping-4\"><span class=\"toc-item-num\">4&nbsp;&nbsp;</span>Analyse chopping</a></span></li><li><span><a href=\"#Profiling-actual-simulation\" data-toc-modified-id=\"Profiling-actual-simulation-5\"><span class=\"toc-item-num\">5&nbsp;&nbsp;</span>Profiling actual simulation</a></span></li></ul></div>"
   ]
  },
  {
   "cell_type": "code",
   "execution_count": 269,
   "metadata": {
    "ExecuteTime": {
     "end_time": "2020-03-11T00:16:13.253458Z",
     "start_time": "2020-03-11T00:16:13.212192Z"
    }
   },
   "outputs": [
    {
     "name": "stdout",
     "output_type": "stream",
     "text": [
      "The autoreload extension is already loaded. To reload it, use:\n",
      "  %reload_ext autoreload\n"
     ]
    }
   ],
   "source": [
    "import numpy as np\n",
    "import networkx as nx\n",
    "from loguru import logger as log\n",
    "import matplotlib.pyplot as plt\n",
    "import seaborn as sns\n",
    "from tqdm import tqdm\n",
    "import copy\n",
    "import sys\n",
    "sys.path.append('..')\n",
    "sns.set_style('whitegrid')\n",
    "import qtree \n",
    "import utils\n",
    "import utils_qaoa as qaoa\n",
    "\n",
    "%load_ext autoreload\n",
    "%autoreload 2"
   ]
  },
  {
   "cell_type": "code",
   "execution_count": 270,
   "metadata": {
    "ExecuteTime": {
     "end_time": "2020-03-11T00:16:13.308630Z",
     "start_time": "2020-03-11T00:16:13.255963Z"
    }
   },
   "outputs": [],
   "source": [
    "def get_test_graph(S):\n",
    "    #G = nx.triangular_lattice_graph(S, S)\n",
    "    G = nx.grid_2d_graph(S+1, (2+S)//2)\n",
    "    # remove grid labelling\n",
    "    gen = (x for x in range(G.number_of_nodes()))\n",
    "    G = nx.relabel_nodes(G, lambda x: next(gen))\n",
    "    return G\n",
    "\n",
    "def get_test_qaoa(S, p):\n",
    "    G = get_test_graph(S)\n",
    "    N = G.number_of_nodes()\n",
    "    beta, gamma = [np.pi/3]*p, [np.pi/2]*p\n",
    "    qc = qaoa.get_qaoa_circuit(G, beta, gamma)\n",
    "    return qc, N\n",
    "\n",
    "def get_test_expr_graph(S, p):\n",
    "    qc, N = get_test_qaoa(S, p)\n",
    "    graph = qtree.graph_model.circ2graph(N, qc)\n",
    "    return graph, N\n",
    "\n",
    "def get_optimized_expr(S, p):\n",
    "    graph, N = get_test_expr_graph(S, p)\n",
    "    graph_opt, nghs = _optimise_graph(graph)\n",
    "    return graph_opt, nghs, N\n",
    "\n",
    "def _optimise_graph(graph):\n",
    "    peo, nghs = utils.get_locale_peo(graph, utils.n_neighbors)\n",
    "    graph_opt, slice_dict = utils.reorder_graph(graph, peo)\n",
    "    return graph_opt, nghs\n",
    "\n",
    "def get_splitted_graph(S, p, pars):\n",
    "    graph, N = get_test_expr_graph(S, p)\n",
    "    idxs, graph = qtree.graph_model.split_graph_by_metric(graph, n_var_parallel=pars)\n",
    "    graph_opt, nghs = _optimise_graph(graph)\n",
    "    return graph, nghs, N\n",
    "\n",
    "def get_cost_of_splitted(S, p, pars):\n",
    "    graph, nghs, N = get_splitted_graph(S, p, pars)\n",
    "    graph_opt, nghs = _optimise_graph(graph)\n",
    "    mems, flops = qtree.graph_model.cost_estimator(graph_opt)\n",
    "    return mems,flops,nghs, N\n",
    "\n",
    "def get_cost_of_task(S, p=1):\n",
    "    graph_opt, nghs, N = get_optimized_expr(S, p)\n",
    "    mems, flops = qtree.graph_model.cost_estimator(graph_opt)\n",
    "    return mems,flops,nghs, N"
   ]
  },
  {
   "cell_type": "markdown",
   "metadata": {},
   "source": [
    "## Example of per-step cost"
   ]
  },
  {
   "cell_type": "code",
   "execution_count": 271,
   "metadata": {
    "ExecuteTime": {
     "end_time": "2020-03-11T00:16:18.012701Z",
     "start_time": "2020-03-11T00:16:13.311053Z"
    },
    "active": "ipynb"
   },
   "outputs": [
    {
     "name": "stderr",
     "output_type": "stream",
     "text": [
      "2020-03-10 19:16:13,391- INFO•\tGenerated graph with 976 nodes and 2136 edges\n"
     ]
    },
    {
     "ename": "KeyboardInterrupt",
     "evalue": "",
     "output_type": "error",
     "traceback": [
      "\u001b[0;31m---------------------------------------------------------------------------\u001b[0m",
      "\u001b[0;31mKeyboardInterrupt\u001b[0m                         Traceback (most recent call last)",
      "\u001b[0;32m<ipython-input-271-30a4b74894fd>\u001b[0m in \u001b[0;36m<module>\u001b[0;34m\u001b[0m\n\u001b[0;32m----> 1\u001b[0;31m \u001b[0mmems\u001b[0m\u001b[0;34m,\u001b[0m \u001b[0mflops\u001b[0m\u001b[0;34m,\u001b[0m \u001b[0mnghs\u001b[0m\u001b[0;34m,\u001b[0m \u001b[0mN\u001b[0m \u001b[0;34m=\u001b[0m \u001b[0mget_cost_of_task\u001b[0m\u001b[0;34m(\u001b[0m\u001b[0;36m15\u001b[0m\u001b[0;34m)\u001b[0m\u001b[0;34m\u001b[0m\u001b[0;34m\u001b[0m\u001b[0m\n\u001b[0m\u001b[1;32m      2\u001b[0m \u001b[0mutils\u001b[0m\u001b[0;34m.\u001b[0m\u001b[0mplot_cost\u001b[0m\u001b[0;34m(\u001b[0m\u001b[0mmems\u001b[0m\u001b[0;34m,\u001b[0m \u001b[0mflops\u001b[0m\u001b[0;34m)\u001b[0m\u001b[0;34m\u001b[0m\u001b[0;34m\u001b[0m\u001b[0m\n",
      "\u001b[0;32m<ipython-input-270-e598254396d2>\u001b[0m in \u001b[0;36mget_cost_of_task\u001b[0;34m(S, p)\u001b[0m\n\u001b[1;32m     43\u001b[0m \u001b[0;32mdef\u001b[0m \u001b[0mget_cost_of_task\u001b[0m\u001b[0;34m(\u001b[0m\u001b[0mS\u001b[0m\u001b[0;34m,\u001b[0m \u001b[0mp\u001b[0m\u001b[0;34m=\u001b[0m\u001b[0;36m1\u001b[0m\u001b[0;34m)\u001b[0m\u001b[0;34m:\u001b[0m\u001b[0;34m\u001b[0m\u001b[0;34m\u001b[0m\u001b[0m\n\u001b[1;32m     44\u001b[0m     \u001b[0mgraph_opt\u001b[0m\u001b[0;34m,\u001b[0m \u001b[0mnghs\u001b[0m\u001b[0;34m,\u001b[0m \u001b[0mN\u001b[0m \u001b[0;34m=\u001b[0m \u001b[0mget_optimized_expr\u001b[0m\u001b[0;34m(\u001b[0m\u001b[0mS\u001b[0m\u001b[0;34m,\u001b[0m \u001b[0mp\u001b[0m\u001b[0;34m)\u001b[0m\u001b[0;34m\u001b[0m\u001b[0;34m\u001b[0m\u001b[0m\n\u001b[0;32m---> 45\u001b[0;31m     \u001b[0mmems\u001b[0m\u001b[0;34m,\u001b[0m \u001b[0mflops\u001b[0m \u001b[0;34m=\u001b[0m \u001b[0mqtree\u001b[0m\u001b[0;34m.\u001b[0m\u001b[0mgraph_model\u001b[0m\u001b[0;34m.\u001b[0m\u001b[0mcost_estimator\u001b[0m\u001b[0;34m(\u001b[0m\u001b[0mgraph_opt\u001b[0m\u001b[0;34m)\u001b[0m\u001b[0;34m\u001b[0m\u001b[0;34m\u001b[0m\u001b[0m\n\u001b[0m\u001b[1;32m     46\u001b[0m     \u001b[0;32mreturn\u001b[0m \u001b[0mmems\u001b[0m\u001b[0;34m,\u001b[0m\u001b[0mflops\u001b[0m\u001b[0;34m,\u001b[0m\u001b[0mnghs\u001b[0m\u001b[0;34m,\u001b[0m \u001b[0mN\u001b[0m\u001b[0;34m\u001b[0m\u001b[0;34m\u001b[0m\u001b[0m\n",
      "\u001b[0;32m~/anl/qsim/qtree/qtree/graph_model/graph_model.py\u001b[0m in \u001b[0;36mcost_estimator\u001b[0;34m(old_graph, free_vars)\u001b[0m\n\u001b[1;32m    711\u001b[0m     \u001b[0;32mfor\u001b[0m \u001b[0mn\u001b[0m\u001b[0;34m,\u001b[0m \u001b[0mnode\u001b[0m \u001b[0;32min\u001b[0m \u001b[0menumerate\u001b[0m\u001b[0;34m(\u001b[0m\u001b[0mnodes\u001b[0m\u001b[0;34m)\u001b[0m\u001b[0;34m:\u001b[0m\u001b[0;34m\u001b[0m\u001b[0;34m\u001b[0m\u001b[0m\n\u001b[1;32m    712\u001b[0m         \u001b[0;32mif\u001b[0m \u001b[0mnode\u001b[0m \u001b[0;32mnot\u001b[0m \u001b[0;32min\u001b[0m \u001b[0mfree_vars\u001b[0m\u001b[0;34m:\u001b[0m\u001b[0;34m\u001b[0m\u001b[0;34m\u001b[0m\u001b[0m\n\u001b[0;32m--> 713\u001b[0;31m             \u001b[0mmemory\u001b[0m\u001b[0;34m,\u001b[0m \u001b[0mflops\u001b[0m \u001b[0;34m=\u001b[0m \u001b[0mget_cost_by_node\u001b[0m\u001b[0;34m(\u001b[0m\u001b[0mgraph\u001b[0m\u001b[0;34m,\u001b[0m \u001b[0mnode\u001b[0m\u001b[0;34m)\u001b[0m\u001b[0;34m\u001b[0m\u001b[0;34m\u001b[0m\u001b[0m\n\u001b[0m\u001b[1;32m    714\u001b[0m             \u001b[0mresults\u001b[0m\u001b[0;34m.\u001b[0m\u001b[0mappend\u001b[0m\u001b[0;34m(\u001b[0m\u001b[0;34m(\u001b[0m\u001b[0mmemory\u001b[0m\u001b[0;34m,\u001b[0m \u001b[0mflops\u001b[0m\u001b[0;34m)\u001b[0m\u001b[0;34m)\u001b[0m\u001b[0;34m\u001b[0m\u001b[0;34m\u001b[0m\u001b[0m\n\u001b[1;32m    715\u001b[0m             \u001b[0meliminate_node\u001b[0m\u001b[0;34m(\u001b[0m\u001b[0mgraph\u001b[0m\u001b[0;34m,\u001b[0m \u001b[0mnode\u001b[0m\u001b[0;34m)\u001b[0m\u001b[0;34m\u001b[0m\u001b[0;34m\u001b[0m\u001b[0m\n",
      "\u001b[0;32m~/anl/qsim/qtree/qtree/graph_model/graph_model.py\u001b[0m in \u001b[0;36mget_cost_by_node\u001b[0;34m(graph, node)\u001b[0m\n\u001b[1;32m    476\u001b[0m         \u001b[0margs_to_nx\u001b[0m\u001b[0;34m[\u001b[0m\u001b[0;34m'keys'\u001b[0m\u001b[0;34m]\u001b[0m \u001b[0;34m=\u001b[0m \u001b[0;32mTrue\u001b[0m\u001b[0;34m\u001b[0m\u001b[0;34m\u001b[0m\u001b[0m\n\u001b[1;32m    477\u001b[0m \u001b[0;34m\u001b[0m\u001b[0m\n\u001b[0;32m--> 478\u001b[0;31m     \u001b[0;32mfor\u001b[0m \u001b[0medgedata\u001b[0m \u001b[0;32min\u001b[0m \u001b[0mgraph\u001b[0m\u001b[0;34m.\u001b[0m\u001b[0medges\u001b[0m\u001b[0;34m.\u001b[0m\u001b[0mdata\u001b[0m\u001b[0;34m(\u001b[0m\u001b[0;34m**\u001b[0m\u001b[0margs_to_nx\u001b[0m\u001b[0;34m)\u001b[0m\u001b[0;34m:\u001b[0m\u001b[0;34m\u001b[0m\u001b[0;34m\u001b[0m\u001b[0m\n\u001b[0m\u001b[1;32m    479\u001b[0m         \u001b[0;34m*\u001b[0m\u001b[0medge\u001b[0m\u001b[0;34m,\u001b[0m \u001b[0mtensor\u001b[0m \u001b[0;34m=\u001b[0m \u001b[0medgedata\u001b[0m\u001b[0;34m\u001b[0m\u001b[0;34m\u001b[0m\u001b[0m\n\u001b[1;32m    480\u001b[0m         \u001b[0mu\u001b[0m\u001b[0;34m,\u001b[0m \u001b[0mv\u001b[0m\u001b[0;34m,\u001b[0m \u001b[0;34m*\u001b[0m\u001b[0medge_key\u001b[0m \u001b[0;34m=\u001b[0m \u001b[0medge\u001b[0m\u001b[0;34m\u001b[0m\u001b[0;34m\u001b[0m\u001b[0m\n",
      "\u001b[0;32m~/.local/lib/python3.7/site-packages/networkx/classes/reportviews.py\u001b[0m in \u001b[0;36m__iter__\u001b[0;34m(self)\u001b[0m\n\u001b[1;32m    831\u001b[0m     \u001b[0;32mdef\u001b[0m \u001b[0m__iter__\u001b[0m\u001b[0;34m(\u001b[0m\u001b[0mself\u001b[0m\u001b[0;34m)\u001b[0m\u001b[0;34m:\u001b[0m\u001b[0;34m\u001b[0m\u001b[0;34m\u001b[0m\u001b[0m\n\u001b[1;32m    832\u001b[0m         \u001b[0mseen\u001b[0m \u001b[0;34m=\u001b[0m \u001b[0;34m{\u001b[0m\u001b[0;34m}\u001b[0m\u001b[0;34m\u001b[0m\u001b[0;34m\u001b[0m\u001b[0m\n\u001b[0;32m--> 833\u001b[0;31m         \u001b[0;32mfor\u001b[0m \u001b[0mn\u001b[0m\u001b[0;34m,\u001b[0m \u001b[0mnbrs\u001b[0m \u001b[0;32min\u001b[0m \u001b[0mself\u001b[0m\u001b[0;34m.\u001b[0m\u001b[0m_nodes_nbrs\u001b[0m\u001b[0;34m(\u001b[0m\u001b[0;34m)\u001b[0m\u001b[0;34m:\u001b[0m\u001b[0;34m\u001b[0m\u001b[0;34m\u001b[0m\u001b[0m\n\u001b[0m\u001b[1;32m    834\u001b[0m             \u001b[0;32mfor\u001b[0m \u001b[0mnbr\u001b[0m\u001b[0;34m,\u001b[0m \u001b[0mkd\u001b[0m \u001b[0;32min\u001b[0m \u001b[0mnbrs\u001b[0m\u001b[0;34m.\u001b[0m\u001b[0mitems\u001b[0m\u001b[0;34m(\u001b[0m\u001b[0;34m)\u001b[0m\u001b[0;34m:\u001b[0m\u001b[0;34m\u001b[0m\u001b[0;34m\u001b[0m\u001b[0m\n\u001b[1;32m    835\u001b[0m                 \u001b[0;32mif\u001b[0m \u001b[0mnbr\u001b[0m \u001b[0;32mnot\u001b[0m \u001b[0;32min\u001b[0m \u001b[0mseen\u001b[0m\u001b[0;34m:\u001b[0m\u001b[0;34m\u001b[0m\u001b[0;34m\u001b[0m\u001b[0m\n",
      "\u001b[0;31mKeyboardInterrupt\u001b[0m: "
     ]
    }
   ],
   "source": [
    "mems, flops, nghs, N = get_cost_of_task(15)\n",
    "utils.plot_cost(mems, flops)"
   ]
  },
  {
   "cell_type": "code",
   "execution_count": null,
   "metadata": {
    "ExecuteTime": {
     "end_time": "2020-03-11T00:16:18.042950Z",
     "start_time": "2020-03-11T00:16:13.222Z"
    },
    "scrolled": true
   },
   "outputs": [],
   "source": [
    "def neigh_plot(nghs):\n",
    "    plt.plot(nghs)\n",
    "    nghs = np.array(nghs)\n",
    "    dn = nghs[1:] - nghs[:-1]\n",
    "    plt.plot(dn)\n",
    "    \n",
    "def get_chop_dn_drop(nghs):\n",
    "    nghs = np.array(nghs)\n",
    "    dn = nghs[1:] - nghs[:-1]\n",
    "    neg_idx = [i for i, n in enumerate(dn) if n<0]\n",
    "    pos_idx = [i for i, n in enumerate(dn) if n>0]\n",
    "    drop_idx = neg_idx[0]\n",
    "    pos_idx.reverse()\n",
    "    before_drop = [i for i in pos_idx if i<drop_idx]\n",
    "    return before_drop[0] - 1\n",
    "\n",
    "    \n",
    "neigh_plot(nghs)\n",
    "get_chop_dn_drop(nghs)"
   ]
  },
  {
   "cell_type": "markdown",
   "metadata": {},
   "source": [
    "## Cost vs qubits size "
   ]
  },
  {
   "cell_type": "code",
   "execution_count": null,
   "metadata": {
    "ExecuteTime": {
     "end_time": "2020-03-11T00:16:18.044706Z",
     "start_time": "2020-03-11T00:16:13.556Z"
    },
    "lines_to_next_cell": 2
   },
   "outputs": [],
   "source": [
    "def log_log_scale():\n",
    "    plt.yscale('log')\n",
    "    plt.xscale('log')\n",
    "    \n",
    "def minorticks():\n",
    "    plt.minorticks_on()\n",
    "    plt.grid(which='minor', alpha=0.5, linestyle='-', axis='both')\n",
    "    \n",
    "def get_est(xs, vals):\n",
    "    mem_est = np.polyfit(np.log(xs), np.log(vals), 2)\n",
    "    mem_est = np.poly1d(mem_est)\n",
    "    est = np.linspace(20,1e2, 100)\n",
    "    est = np.log(est)\n",
    "    mem_est = mem_est(est)\n",
    "    return np.exp(est),  np.exp(mem_est)"
   ]
  },
  {
   "cell_type": "code",
   "execution_count": null,
   "metadata": {
    "ExecuteTime": {
     "end_time": "2020-03-11T00:16:18.046354Z",
     "start_time": "2020-03-11T00:16:13.560Z"
    },
    "active": "ipynb"
   },
   "outputs": [],
   "source": [
    "sizes = np.arange(5,17,1)\n",
    "results = [\n",
    "   get_cost_of_task(s, 3) for s in sizes\n",
    "]\n",
    "def plot_theory(results):\n",
    "    sums = [[sum(x) for x in y[:3]] for y in results]\n",
    "    memsums, flopsums, nghssums = zip(*sums)\n",
    "    ns = list(zip(*results))[3]\n",
    "\n",
    "    est, mem_est = get_est(ns, memsums)\n",
    "    est, flop_est = get_est(ns, flopsums)\n",
    "\n",
    "\n",
    "    plt.plot(ns, memsums, label='mem sum')\n",
    "    plt.plot(ns, flopsums, label='flop sum')\n",
    "    plt.plot(est, mem_est, '--', label='mem log-log fit')\n",
    "    plt.plot(est, flop_est, '--', label='flop log-log fit')\n",
    "\n",
    "    plt.xlabel('Number of qbits')\n",
    "    plt.yscale('log')\n",
    "    plt.xscale('log')\n",
    "    plt.suptitle('QAOA one amplitude simulation cost', fontsize=14)\n",
    "    plt.title('MaxCut triangular grids')\n",
    "    plt.legend()\n",
    "    plt.minorticks_on()\n",
    "    plt.grid(which='minor', alpha=0.5, linestyle='-', axis='both')"
   ]
  },
  {
   "cell_type": "code",
   "execution_count": null,
   "metadata": {
    "ExecuteTime": {
     "end_time": "2020-03-11T00:16:18.066097Z",
     "start_time": "2020-03-11T00:16:13.563Z"
    },
    "active": "ipynb"
   },
   "outputs": [],
   "source": [
    "plot_theory(results)\n"
   ]
  },
  {
   "cell_type": "markdown",
   "metadata": {},
   "source": [
    "## Cost with respect to depth\n"
   ]
  },
  {
   "cell_type": "code",
   "execution_count": null,
   "metadata": {
    "ExecuteTime": {
     "end_time": "2020-03-11T00:16:18.071645Z",
     "start_time": "2020-03-11T00:16:13.568Z"
    },
    "lines_to_next_cell": 0
   },
   "outputs": [],
   "source": [
    "psize = 4\n",
    "Ssize = 9\n",
    "\n",
    "costs_with_p = []\n",
    "for p in range(1, 1+psize):\n",
    "    for S in range(2, 2+Ssize):\n",
    "        costs = get_cost_of_task(S, p)\n",
    "        costs_with_p.append(costs)"
   ]
  },
  {
   "cell_type": "code",
   "execution_count": null,
   "metadata": {
    "ExecuteTime": {
     "end_time": "2020-03-11T00:16:18.073510Z",
     "start_time": "2020-03-11T00:16:13.571Z"
    },
    "lines_to_next_cell": 2
   },
   "outputs": [],
   "source": [
    "\n",
    "costs_with_p_p= [(sum(x[0]), sum(x[1]), max(x[2]), x[3]) for x in costs_with_p]\n",
    "data = np.array(list(zip(*costs_with_p_p)))\n",
    "\n",
    "data = data.reshape(4, psize, Ssize)\n",
    "print(data.shape)\n",
    "\n",
    "fig, axs = plt.subplots(1,3, figsize=(15, 5))\n",
    "\n",
    "plt.sca(axs[0])\n",
    "log_log_scale()\n",
    "minorticks()\n",
    "plt.title('memory')\n",
    "for i in range(psize):\n",
    "    plt.plot(data[-1,i], data[0,i])\n",
    "    \n",
    "plt.sca(axs[1])\n",
    "log_log_scale()\n",
    "minorticks()\n",
    "plt.title('Flop')\n",
    "for i in range(psize):\n",
    "    plt.plot(data[-1,i], data[1,i])\n",
    "    \n",
    "plt.sca(axs[2])\n",
    "log_log_scale()\n",
    "minorticks()\n",
    "plt.title('Neigh')\n",
    "for i in range(psize):\n",
    "    plt.plot(data[-1,i], data[2,i])\n",
    "\n",
    "plt.suptitle('Cost dependence for different p')\n",
    "plt.savefig('figures/cost_vs_p.png')"
   ]
  },
  {
   "cell_type": "code",
   "execution_count": null,
   "metadata": {
    "ExecuteTime": {
     "end_time": "2020-03-11T00:16:18.075604Z",
     "start_time": "2020-03-11T00:16:13.575Z"
    },
    "lines_to_next_cell": 0,
    "scrolled": false
   },
   "outputs": [],
   "source": [
    "psize = 3\n",
    "Ssize = 3\n",
    "p = 1\n",
    "\n",
    "costs_with_pars = []\n",
    "for pars in range(1, 1+psize):\n",
    "    for S in range(25, 25+Ssize):\n",
    "        costs = get_cost_of_splitted(S, p, pars)\n",
    "        costs_with_pars.append(costs)"
   ]
  },
  {
   "cell_type": "code",
   "execution_count": null,
   "metadata": {
    "lines_to_next_cell": 2
   },
   "outputs": [],
   "source": []
  },
  {
   "cell_type": "code",
   "execution_count": null,
   "metadata": {
    "lines_to_next_cell": 2
   },
   "outputs": [],
   "source": []
  },
  {
   "cell_type": "code",
   "execution_count": null,
   "metadata": {
    "ExecuteTime": {
     "end_time": "2020-03-11T00:16:18.077410Z",
     "start_time": "2020-03-11T00:16:13.582Z"
    },
    "lines_to_next_cell": 2
   },
   "outputs": [],
   "source": [
    "\n",
    "\n",
    "costs_with_p_ = [(sum(x[0]), sum(x[1]), max(x[2]), x[3]) for x in costs_with_pars]\n",
    "data = np.array(list(zip(*costs_with_p_)))\n",
    "\n",
    "data = data.reshape(4, psize, Ssize)\n",
    "print(data.shape)\n",
    "\n",
    "fig, axs = plt.subplots(1,3, figsize=(15, 5))\n",
    "colormap = plt.cm.gist_ncar\n",
    "labels = [f'nodes: 2^{i}' for i in range(1, 1+psize)]\n",
    "for ax in axs:\n",
    "    ax.set_prop_cycle(plt.cycler('color', plt.cm.cool(np.linspace(0, 1, psize))))\n",
    "    ax.set_xlabel('Qubit count')\n",
    "\n",
    "plt.sca(axs[0])\n",
    "log_log_scale()\n",
    "minorticks()\n",
    "plt.title('memory')\n",
    "for i in range(psize):\n",
    "    plt.plot(data[-1,i], data[0,i])\n",
    "    \n",
    "plt.sca(axs[1])\n",
    "log_log_scale()\n",
    "minorticks()\n",
    "plt.title('Flop')\n",
    "for i in range(psize):\n",
    "    plt.plot(data[-1,i], data[1,i])\n",
    "    \n",
    "plt.sca(axs[2])\n",
    "log_log_scale()\n",
    "minorticks()\n",
    "plt.title('Neigh')\n",
    "for i in range(psize):\n",
    "    plt.plot(data[-1,i], data[2,i])\n",
    "plt.legend(labels)\n",
    "\n",
    "plt.suptitle('Cost dependence for parallelised, rectangular task. p=1')\n",
    "plt.savefig('figures/rect_cost_vs_nodes_p1.png')"
   ]
  },
  {
   "cell_type": "code",
   "execution_count": null,
   "metadata": {
    "ExecuteTime": {
     "end_time": "2020-03-11T00:16:18.087166Z",
     "start_time": "2020-03-11T00:16:13.586Z"
    }
   },
   "outputs": [],
   "source": [
    "\n",
    "costs_with_p_ = [(sum(x[0]), sum(x[1]), max(x[2]), x[3]) for x in costs_with_pars]\n",
    "data = np.array(list(zip(*costs_with_p_)))\n",
    "\n",
    "data = data.reshape(4, psize, Ssize)\n",
    "data = data.transpose(0,2,1)\n",
    "print(data.shape)\n",
    "processes = 2**(np.arange(1, 1+psize))\n",
    "fig, axs = plt.subplots(1,3, figsize=(15, 5))\n",
    "for ax in axs:\n",
    "    ax.set_xlabel('Nodes')\n",
    "    ax.set_prop_cycle(plt.cycler('color', plt.cm.spring(np.linspace(0, 1, psize))))\n",
    "\n",
    "plt.sca(axs[0])\n",
    "log_log_scale()\n",
    "minorticks()\n",
    "plt.title('memory')\n",
    "for i in range(Ssize):\n",
    "    plt.plot(processes, data[0,i])\n",
    "    \n",
    "plt.sca(axs[1])\n",
    "log_log_scale()\n",
    "minorticks()\n",
    "plt.title('Flop')\n",
    "for i in range(Ssize):\n",
    "    plt.plot(processes, data[1,i])\n",
    "    \n",
    "plt.sca(axs[2])\n",
    "log_log_scale()\n",
    "minorticks()\n",
    "plt.title('Neigh')\n",
    "for i in range(Ssize):\n",
    "    plt.plot(processes, data[2,i])\n",
    "\n",
    "labels = [f'{int(i)} qubits' for i in data[-1,:, 0]]\n",
    "plt.legend(labels)\n",
    "plt.suptitle('Cost dependence for parallelised vars, different qubit counts, rectangular task. p=1')\n",
    "plt.savefig('figures/rect_cost_vs_nodes_T_p1.png')\n",
    "jjj"
   ]
  },
  {
   "cell_type": "markdown",
   "metadata": {},
   "source": [
    "# Finding biggest tacklable task\n",
    "## Full ordering"
   ]
  },
  {
   "cell_type": "code",
   "execution_count": null,
   "metadata": {
    "ExecuteTime": {
     "end_time": "2020-03-11T00:16:18.100470Z",
     "start_time": "2020-03-11T00:16:13.590Z"
    }
   },
   "outputs": [],
   "source": [
    "graph, N = get_test_expr_graph(13, 1)\n",
    "\n",
    "print(N)"
   ]
  },
  {
   "cell_type": "markdown",
   "metadata": {},
   "source": [
    "### Naive (degree-based local) peo"
   ]
  },
  {
   "cell_type": "code",
   "execution_count": null,
   "metadata": {
    "ExecuteTime": {
     "end_time": "2020-03-11T00:16:18.102649Z",
     "start_time": "2020-03-11T00:16:13.595Z"
    },
    "lines_to_next_cell": 0
   },
   "outputs": [],
   "source": [
    "%%time\n",
    "peo, nghs = utils.get_locale_peo(graph, utils.n_neighbors)\n",
    "graph_relabel, slice_dict = utils.reorder_graph(graph, peo)\n",
    "\n",
    "costs, flops = qtree.graph_model.cost_estimator(graph_relabel)\n",
    "print(max(costs)/1e9)\n",
    "print(max(flops)/1e9)\n",
    "utils.plot_cost(costs, flops)\n",
    "\n",
    "#nx.draw_kamada_kawai(graph, node_size=3)"
   ]
  },
  {
   "cell_type": "code",
   "execution_count": null,
   "metadata": {
    "ExecuteTime": {
     "end_time": "2020-03-11T00:16:18.104618Z",
     "start_time": "2020-03-11T00:16:13.598Z"
    },
    "lines_to_next_cell": 2
   },
   "outputs": [],
   "source": [
    "neigh_plot(nghs)"
   ]
  },
  {
   "cell_type": "code",
   "execution_count": null,
   "metadata": {
    "lines_to_next_cell": 2
   },
   "outputs": [],
   "source": []
  },
  {
   "cell_type": "markdown",
   "metadata": {},
   "source": [
    "### QuickBB peo\n",
    "\n",
    "QuickBB usually fails on big (>5k nodes) graphs"
   ]
  },
  {
   "cell_type": "code",
   "execution_count": null,
   "metadata": {
    "ExecuteTime": {
     "end_time": "2020-03-11T00:16:18.106651Z",
     "start_time": "2020-03-11T00:16:13.607Z"
    }
   },
   "outputs": [],
   "source": [
    "%cd .."
   ]
  },
  {
   "cell_type": "code",
   "execution_count": null,
   "metadata": {
    "ExecuteTime": {
     "end_time": "2020-03-11T00:16:18.108433Z",
     "start_time": "2020-03-11T00:16:13.613Z"
    }
   },
   "outputs": [],
   "source": [
    "%%time\n",
    "peoqbb, tw = qtree.graph_model.get_peo(graph)"
   ]
  },
  {
   "cell_type": "code",
   "execution_count": null,
   "metadata": {
    "ExecuteTime": {
     "end_time": "2020-03-11T00:16:18.110318Z",
     "start_time": "2020-03-11T00:16:13.618Z"
    },
    "lines_to_next_cell": 0
   },
   "outputs": [],
   "source": [
    "graph, slice_dict = utils.reorder_graph(graph, peoqbb)\n",
    "\n",
    "costs, mems = qtree.graph_model.cost_estimator(graph)\n",
    "print(max(mems)/1e8)\n",
    "print(max(costs)/1e8)\n",
    "utils.plot_cost(costs, mems)"
   ]
  },
  {
   "cell_type": "code",
   "execution_count": null,
   "metadata": {
    "lines_to_next_cell": 2
   },
   "outputs": [],
   "source": []
  },
  {
   "cell_type": "markdown",
   "metadata": {},
   "source": [
    "### Another implementation of naive peo"
   ]
  },
  {
   "cell_type": "code",
   "execution_count": null,
   "metadata": {
    "ExecuteTime": {
     "end_time": "2020-03-11T00:16:18.122474Z",
     "start_time": "2020-03-11T00:16:13.626Z"
    }
   },
   "outputs": [],
   "source": [
    "%%time\n",
    "peon, nghs = utils.get_neighbours_peo(graph)\n",
    "graph_relabel, slice_dict = utils.reorder_graph(graph, peon)\n",
    "\n",
    "costs, mems = qtree.graph_model.cost_estimator(graph_relabel)\n",
    "print(max(mems)/1e8)\n",
    "print(max(costs)/1e8)\n",
    "utils.plot_cost(costs, mems)"
   ]
  },
  {
   "cell_type": "code",
   "execution_count": null,
   "metadata": {
    "ExecuteTime": {
     "end_time": "2020-03-11T00:16:18.124824Z",
     "start_time": "2020-03-11T00:16:13.644Z"
    }
   },
   "outputs": [],
   "source": [
    "peo, nghs = utils.get_locale_peo(graph, utils.edges_to_clique)\n",
    "graph_relabel, slice_dict = utils.reorder_graph(graph, peo)\n",
    "\n",
    "costs, mems = qtree.graph_model.cost_estimator(graph_relabel)\n",
    "utils.plot_cost(costs, mems)"
   ]
  },
  {
   "cell_type": "markdown",
   "metadata": {},
   "source": [
    "# Parallelize after critical point"
   ]
  },
  {
   "cell_type": "markdown",
   "metadata": {},
   "source": [
    "## First chopping "
   ]
  },
  {
   "cell_type": "code",
   "execution_count": null,
   "metadata": {
    "ExecuteTime": {
     "end_time": "2020-03-11T00:16:18.126934Z",
     "start_time": "2020-03-11T00:16:13.651Z"
    }
   },
   "outputs": [],
   "source": [
    "chop1 = 697"
   ]
  },
  {
   "cell_type": "code",
   "execution_count": null,
   "metadata": {
    "ExecuteTime": {
     "end_time": "2020-03-11T00:16:18.128647Z",
     "start_time": "2020-03-11T00:16:13.655Z"
    }
   },
   "outputs": [],
   "source": [
    "for n in peo[:chop1]:\n",
    "    qtree.graph_model.eliminate_node(graph, n)\n",
    "print('Nodes left:', graph.number_of_nodes())"
   ]
  },
  {
   "cell_type": "markdown",
   "metadata": {},
   "source": [
    "### Draw chopped graph"
   ]
  },
  {
   "cell_type": "code",
   "execution_count": null,
   "metadata": {
    "ExecuteTime": {
     "end_time": "2020-03-11T00:16:18.133770Z",
     "start_time": "2020-03-11T00:16:13.659Z"
    }
   },
   "outputs": [],
   "source": [
    "print(peo[4100:])\n",
    "print(sorted(graph.degree, key=lambda x: x[1]))\n",
    "print(sorted([ utils.edges_to_clique(graph, x[0]) for x in graph.degree]))"
   ]
  },
  {
   "cell_type": "code",
   "execution_count": null,
   "metadata": {
    "ExecuteTime": {
     "end_time": "2020-03-11T00:16:18.135861Z",
     "start_time": "2020-03-11T00:16:13.663Z"
    },
    "scrolled": false
   },
   "outputs": [],
   "source": [
    "nx.draw_kamada_kawai(graph, node_size=16)"
   ]
  },
  {
   "cell_type": "markdown",
   "metadata": {},
   "source": [
    "### Draw chopped  parallelised graph"
   ]
  },
  {
   "cell_type": "code",
   "execution_count": null,
   "metadata": {
    "ExecuteTime": {
     "end_time": "2020-03-11T00:16:18.137637Z",
     "start_time": "2020-03-11T00:16:13.667Z"
    },
    "scrolled": false
   },
   "outputs": [],
   "source": [
    "PAR_VARS = 6\n",
    "par_vars, graph_split = qtree.graph_model.split_graph_by_metric(\n",
    "    graph\n",
    "    , n_var_parallel=PAR_VARS\n",
    ")\n",
    "nx.draw_kamada_kawai(graph_split, node_size=16)"
   ]
  },
  {
   "cell_type": "markdown",
   "metadata": {},
   "source": [
    "### Late paralelisaton with simple reorder"
   ]
  },
  {
   "cell_type": "markdown",
   "metadata": {},
   "source": [
    "#### Full chopped cost"
   ]
  },
  {
   "cell_type": "code",
   "execution_count": null,
   "metadata": {
    "ExecuteTime": {
     "end_time": "2020-03-11T00:16:18.139455Z",
     "start_time": "2020-03-11T00:16:13.671Z"
    }
   },
   "outputs": [],
   "source": [
    "graph_opt, nghs = _optimise_graph(graph)\n",
    "mems, flops = qtree.graph_model.cost_estimator(graph_opt)\n",
    "print(max(mems)/1e9)\n",
    "print(max(flops)/1e9)\n",
    "utils.plot_cost(mems, flops)"
   ]
  },
  {
   "cell_type": "markdown",
   "metadata": {},
   "source": [
    "#### Parallelised chopped cost"
   ]
  },
  {
   "cell_type": "code",
   "execution_count": null,
   "metadata": {
    "ExecuteTime": {
     "end_time": "2020-03-11T00:16:18.141322Z",
     "start_time": "2020-03-11T00:16:13.675Z"
    },
    "lines_to_next_cell": 2
   },
   "outputs": [],
   "source": [
    "graph_split_opt, nghs = _optimise_graph(graph_split)\n",
    "mems, flops = qtree.graph_model.cost_estimator(graph_split_opt)\n",
    "print(max(mems)/1e9)\n",
    "print(max(flops)/1e9)\n",
    "utils.plot_cost(mems, flops)"
   ]
  },
  {
   "cell_type": "markdown",
   "metadata": {},
   "source": [
    "### with QuickBB reorder"
   ]
  },
  {
   "cell_type": "markdown",
   "metadata": {},
   "source": [
    "#### Full chopped cost"
   ]
  },
  {
   "cell_type": "code",
   "execution_count": null,
   "metadata": {
    "ExecuteTime": {
     "end_time": "2020-03-11T00:16:18.143264Z",
     "start_time": "2020-03-11T00:16:13.680Z"
    }
   },
   "outputs": [],
   "source": [
    "peoqbb, tw = qtree.graph_model.get_peo(graph)\n",
    "graph_opt_relabel, nghs = utils.reorder_graph(graph, peoqbb)\n",
    "mems, flops = qtree.graph_model.cost_estimator(graph_opt_relabel)"
   ]
  },
  {
   "cell_type": "code",
   "execution_count": null,
   "metadata": {
    "ExecuteTime": {
     "end_time": "2020-03-11T00:16:18.155866Z",
     "start_time": "2020-03-11T00:16:13.683Z"
    }
   },
   "outputs": [],
   "source": [
    "print(max(mems)/1e9)\n",
    "print(max(flops)/1e9)\n",
    "utils.plot_cost(mems, flops)"
   ]
  },
  {
   "cell_type": "markdown",
   "metadata": {},
   "source": [
    "#### Parallelized chopped cost"
   ]
  },
  {
   "cell_type": "code",
   "execution_count": null,
   "metadata": {
    "ExecuteTime": {
     "end_time": "2020-03-11T00:16:18.157747Z",
     "start_time": "2020-03-11T00:16:13.687Z"
    }
   },
   "outputs": [],
   "source": [
    "peoqbb_split, tw = qtree.graph_model.get_peo(graph_split)"
   ]
  },
  {
   "cell_type": "code",
   "execution_count": null,
   "metadata": {
    "ExecuteTime": {
     "end_time": "2020-03-11T00:16:18.160357Z",
     "start_time": "2020-03-11T00:16:13.690Z"
    }
   },
   "outputs": [],
   "source": [
    "graph_split_relabel, nghs = utils.reorder_graph(graph_split, peoqbb_split)\n",
    "mems, flops = qtree.graph_model.cost_estimator(graph_split_relabel)\n",
    "print(max(mems)/1e9)\n",
    "print(max(flops)/1e9)\n",
    "utils.plot_cost(mems, flops)"
   ]
  },
  {
   "cell_type": "code",
   "execution_count": null,
   "metadata": {
    "ExecuteTime": {
     "end_time": "2020-03-11T00:16:18.162734Z",
     "start_time": "2020-03-11T00:16:13.693Z"
    }
   },
   "outputs": [],
   "source": [
    "peoqbb_split, tw = qtree.graph_model.get_peo(graph_split)"
   ]
  },
  {
   "cell_type": "markdown",
   "metadata": {},
   "source": [
    "## Second chopping"
   ]
  },
  {
   "cell_type": "code",
   "execution_count": null,
   "metadata": {
    "ExecuteTime": {
     "end_time": "2020-03-11T00:16:18.164637Z",
     "start_time": "2020-03-11T00:16:13.697Z"
    }
   },
   "outputs": [],
   "source": [
    "chop2 = 900"
   ]
  },
  {
   "cell_type": "code",
   "execution_count": null,
   "metadata": {
    "ExecuteTime": {
     "end_time": "2020-03-11T00:16:18.166670Z",
     "start_time": "2020-03-11T00:16:13.702Z"
    }
   },
   "outputs": [],
   "source": [
    "for n in peo[chop1:chop1 + chop2]:\n",
    "    qtree.graph_model.eliminate_node(graph, n)\n",
    "print('Nodes left:', graph.number_of_nodes())"
   ]
  },
  {
   "cell_type": "code",
   "execution_count": null,
   "metadata": {
    "ExecuteTime": {
     "end_time": "2020-03-11T00:16:18.170091Z",
     "start_time": "2020-03-11T00:16:13.706Z"
    },
    "lines_to_next_cell": 2,
    "scrolled": true
   },
   "outputs": [],
   "source": [
    "print(peo[chop1 + chop2:])\n",
    "print(sorted(graph.degree, key=lambda x: x[1]))\n",
    "print(sorted([ utils.edges_to_clique(graph, x[0]) for x in graph.degree]))"
   ]
  },
  {
   "cell_type": "code",
   "execution_count": null,
   "metadata": {
    "ExecuteTime": {
     "end_time": "2020-03-11T00:16:18.176381Z",
     "start_time": "2020-03-11T00:16:13.710Z"
    },
    "scrolled": false
   },
   "outputs": [],
   "source": [
    "nx.draw_kamada_kawai(graph, node_size=16)"
   ]
  },
  {
   "cell_type": "markdown",
   "metadata": {},
   "source": [
    "### Draw chopped  parallelised graph"
   ]
  },
  {
   "cell_type": "code",
   "execution_count": null,
   "metadata": {
    "ExecuteTime": {
     "end_time": "2020-03-11T00:16:18.179724Z",
     "start_time": "2020-03-11T00:16:13.714Z"
    },
    "scrolled": false
   },
   "outputs": [],
   "source": [
    "par_vars, graph_split = qtree.graph_model.split_graph_by_metric(graph, n_var_parallel=12)\n",
    "nx.draw_kamada_kawai(graph_split, node_size=16)"
   ]
  },
  {
   "cell_type": "markdown",
   "metadata": {},
   "source": [
    "### with naive reorder"
   ]
  },
  {
   "cell_type": "code",
   "execution_count": null,
   "metadata": {
    "ExecuteTime": {
     "end_time": "2020-03-11T00:16:18.183506Z",
     "start_time": "2020-03-11T00:16:13.718Z"
    }
   },
   "outputs": [],
   "source": [
    "graph_opt, nghs = _optimise_graph(graph)\n",
    "mems, flops = qtree.graph_model.cost_estimator(graph_opt)\n",
    "print(max(mems)/1e9)\n",
    "print(max(flops)/1e9)\n",
    "utils.plot_cost(mems, flops)"
   ]
  },
  {
   "cell_type": "code",
   "execution_count": null,
   "metadata": {
    "ExecuteTime": {
     "end_time": "2020-03-11T00:16:18.187719Z",
     "start_time": "2020-03-11T00:16:13.721Z"
    },
    "lines_to_next_cell": 2
   },
   "outputs": [],
   "source": [
    "graph_split_opt, nghs = _optimise_graph(graph_split)\n",
    "mems, flops = qtree.graph_model.cost_estimator(graph_split_opt)\n",
    "print(max(mems)/1e9)\n",
    "print(max(flops)/1e9)\n",
    "utils.plot_cost(mems, flops)"
   ]
  },
  {
   "cell_type": "markdown",
   "metadata": {},
   "source": [
    "### with QuickBB reorder"
   ]
  },
  {
   "cell_type": "code",
   "execution_count": null,
   "metadata": {
    "ExecuteTime": {
     "end_time": "2020-03-11T00:16:18.189680Z",
     "start_time": "2020-03-11T00:16:13.725Z"
    }
   },
   "outputs": [],
   "source": [
    "peoqbb, tw = qtree.graph_model.get_peo(graph)\n",
    "graph_opt_relabel, nghs = utils.reorder_graph(graph, peoqbb)\n",
    "mems, flops = qtree.graph_model.cost_estimator(graph_opt_relabel)\n",
    "print(max(mems)/1e9)\n",
    "print(max(flops)/1e9)\n",
    "utils.plot_cost(mems, flops)"
   ]
  },
  {
   "cell_type": "code",
   "execution_count": null,
   "metadata": {
    "ExecuteTime": {
     "end_time": "2020-03-11T00:16:18.191401Z",
     "start_time": "2020-03-11T00:16:13.728Z"
    }
   },
   "outputs": [],
   "source": [
    "peoqbb_split, tw = qtree.graph_model.get_peo(graph_split)"
   ]
  },
  {
   "cell_type": "code",
   "execution_count": null,
   "metadata": {
    "ExecuteTime": {
     "end_time": "2020-03-11T00:16:18.195088Z",
     "start_time": "2020-03-11T00:16:13.731Z"
    }
   },
   "outputs": [],
   "source": [
    "graph_split_relabel, nghs = utils.reorder_graph(graph_split, peoqbb_split)\n",
    "mems, flops = qtree.graph_model.cost_estimator(graph_split_relabel)\n",
    "print(max(mems)/1e9)\n",
    "print(max(flops)/1e9)\n",
    "utils.plot_cost(mems, flops)"
   ]
  },
  {
   "cell_type": "code",
   "execution_count": null,
   "metadata": {
    "ExecuteTime": {
     "end_time": "2020-03-11T00:16:18.198204Z",
     "start_time": "2020-03-11T00:16:13.735Z"
    },
    "lines_to_next_cell": 0,
    "scrolled": false
   },
   "outputs": [],
   "source": [
    "sg = graph.subgraph([1538] + list(graph.neighbors(1538)))\n",
    "N = sg.number_of_nodes()\n",
    "print(sg.number_of_edges(), 1/2*N*(N-1))\n",
    "print(list(sg.selfloop_edges()))\n",
    "edges = [e for e in graph.edges if all([e[-1]==0]+[x in sg.nodes for x in e[:2]])]\n",
    "print(len(edges))\n",
    "print(utils.edges_to_clique(graph, 1538))\n",
    "\n",
    "nx.draw_shell(sg, with_labels=True)"
   ]
  },
  {
   "cell_type": "markdown",
   "metadata": {
    "lines_to_next_cell": 2
   },
   "source": [
    "# Trying different naive orderings "
   ]
  },
  {
   "cell_type": "code",
   "execution_count": null,
   "metadata": {
    "ExecuteTime": {
     "end_time": "2020-03-11T00:16:18.203876Z",
     "start_time": "2020-03-11T00:16:13.739Z"
    }
   },
   "outputs": [],
   "source": [
    "def cost_graph_peo(graph_old, peo):\n",
    "    graph, _ = utils.reorder_graph(graph_old, peo)\n",
    "    costs  = qtree.graph_model.cost_estimator(graph)\n",
    "    return costs"
   ]
  },
  {
   "cell_type": "code",
   "execution_count": null,
   "metadata": {
    "ExecuteTime": {
     "end_time": "2020-03-11T00:16:18.206136Z",
     "start_time": "2020-03-11T00:16:13.742Z"
    }
   },
   "outputs": [],
   "source": [
    "sizes = np.arange(21,32, 2)\n",
    "exprs = [get_test_expr_graph(s, 1) for s in sizes]\n",
    "qbit_cnts = [N for _, N in exprs]\n",
    "exprs = [graph for graph, _ in exprs]\n",
    "\n",
    "print('Qbit counts:', qbit_cnts)\n",
    "\n",
    "peos_maxs = {\n",
    "    'degree naive':[\n",
    "        utils.get_locale_peo(graph, utils.n_neighbors) for graph in exprs\n",
    "    ]\n",
    "    ,'min-fill naive':[\n",
    "        qtree.graph_model.get_upper_bound_peo_ints(graph) for graph in exprs\n",
    "    ]\n",
    "}"
   ]
  },
  {
   "cell_type": "code",
   "execution_count": null,
   "metadata": {
    "ExecuteTime": {
     "end_time": "2020-03-11T00:16:18.208384Z",
     "start_time": "2020-03-11T00:16:13.745Z"
    }
   },
   "outputs": [],
   "source": [
    "peos = {k: [peo for peo, max in v] for k, v in peos_maxs.items()}\n",
    "costs= {\n",
    "    k:[cost_graph_peo(graph, peo) for graph, peo in zip(exprs, v)]\n",
    "    for k, v in peos.items()\n",
    "}"
   ]
  },
  {
   "cell_type": "code",
   "execution_count": null,
   "metadata": {
    "ExecuteTime": {
     "end_time": "2020-03-11T00:16:18.210535Z",
     "start_time": "2020-03-11T00:16:13.748Z"
    }
   },
   "outputs": [],
   "source": [
    "mems = { k:[sum(mems) for mems, _ in v] \n",
    "        for k, v in costs.items() }\n",
    "mems_max = { k:[np.max(mems) for mems, _ in v] \n",
    "        for k, v in costs.items() }\n",
    "\n",
    "flops = { k:[sum(flops) for _, flops in v] \n",
    "        for k, v in costs.items() }\n",
    "flops_max = { k:[max(flops) for _, flops in v] \n",
    "        for k, v in costs.items() }\n",
    "\n",
    "for k in mems:\n",
    "    plt.plot(qbit_cnts, mems[k], label=k)\n",
    "    plt.plot(qbit_cnts, mems_max[k], '--', label=k+'max')\n",
    "\n",
    "plt.yscale('log')\n",
    "plt.xlabel('qbit count')\n",
    "plt.title('Compare naive ordering methods')\n",
    "\n",
    "plt.legend()\n",
    "plt.savefig('degree_vs_minfill.pdf')"
   ]
  },
  {
   "cell_type": "code",
   "execution_count": null,
   "metadata": {
    "ExecuteTime": {
     "end_time": "2020-03-11T00:16:18.216249Z",
     "start_time": "2020-03-11T00:16:13.752Z"
    },
    "lines_to_end_of_cell_marker": 2
   },
   "outputs": [],
   "source": [
    "import json\n",
    "with open('costs_cache.json', 'w+') as f:\n",
    "    json.dump(mems, f)"
   ]
  },
  {
   "cell_type": "markdown",
   "metadata": {},
   "source": [
    "# Analyse chopping\n"
   ]
  },
  {
   "cell_type": "code",
   "execution_count": null,
   "metadata": {
    "ExecuteTime": {
     "end_time": "2020-03-11T00:16:18.234614Z",
     "start_time": "2020-03-11T00:16:13.755Z"
    }
   },
   "outputs": [],
   "source": [
    "def get_chop_idxs(graph, peo, cost, nghs):\n",
    "    points = 4\n",
    "    drop_idx = get_chop_dn_drop(nghs)\n",
    "    min_idx = np.argmin(cost[0][:drop_idx])\n",
    "    before_min = min_idx - (drop_idx-min_idx)\n",
    "    on_plato = 2 * min_idx // 3\n",
    "        \n",
    "    return on_plato, before_min, min_idx, drop_idx, drop_idx+5\n",
    "\n",
    "def _cost_before_chop(idxs, cost):\n",
    "    mems, floats = cost\n",
    "    before_mem = [max(mems[:i]) for i in idxs]\n",
    "    return before_mem\n"
   ]
  },
  {
   "cell_type": "code",
   "execution_count": null,
   "metadata": {
    "ExecuteTime": {
     "end_time": "2020-03-11T00:16:18.237603Z",
     "start_time": "2020-03-11T00:16:13.759Z"
    }
   },
   "outputs": [],
   "source": [
    "def contract_by_peo(old_graph, peo):\n",
    "    graph = copy.deepcopy(old_graph)\n",
    "    for n in peo:\n",
    "        qtree.graph_model.eliminate_node(graph, n)\n",
    "    return graph"
   ]
  },
  {
   "cell_type": "code",
   "execution_count": null,
   "metadata": {
    "ExecuteTime": {
     "end_time": "2020-03-11T00:16:18.239553Z",
     "start_time": "2020-03-11T00:16:13.762Z"
    }
   },
   "outputs": [],
   "source": [
    "sizes = [18, 22, 25, 28]\n",
    "\n",
    "tasks = [get_test_expr_graph(s, 1) for s in sizes]\n",
    "graphs =     [g for g, _ in tasks]\n",
    "qbit_sizes = [N for _, N in tasks]\n",
    "peos_n = [utils.get_locale_peo(g, utils.n_neighbors) for g in graphs]\n",
    "peos, nghs = zip(*peos_n)"
   ]
  },
  {
   "cell_type": "code",
   "execution_count": null,
   "metadata": {
    "ExecuteTime": {
     "end_time": "2020-03-11T00:16:18.241546Z",
     "start_time": "2020-03-11T00:16:13.765Z"
    }
   },
   "outputs": [],
   "source": [
    "\n",
    "costs = [cost_graph_peo(g, p) for g, p in zip(graphs, peos)]\n"
   ]
  },
  {
   "cell_type": "code",
   "execution_count": null,
   "metadata": {
    "ExecuteTime": {
     "end_time": "2020-03-11T00:16:18.243520Z",
     "start_time": "2020-03-11T00:16:13.768Z"
    }
   },
   "outputs": [],
   "source": [
    "tqdm._instances.clear()\n",
    "chopped_g = [\n",
    "    contract_by_peo(g, peo[:_idx]) \n",
    "    for g, peo, cost, ng in tqdm( zip(graphs, peos, costs, nghs) )\n",
    "    for _idx in get_chop_idxs(g, peo, cost, ng)\n",
    "]\n",
    "\n",
    "costs_before_chop = [\n",
    "    mem\n",
    "    for g, peo, cost, ng in tqdm( zip(graphs, peos, costs, nghs) )\n",
    "    for mem in _cost_before_chop(get_chop_idxs(g, peo, cost, ng), cost)\n",
    "]"
   ]
  },
  {
   "cell_type": "code",
   "execution_count": null,
   "metadata": {
    "ExecuteTime": {
     "end_time": "2020-03-11T00:16:18.249799Z",
     "start_time": "2020-03-11T00:16:13.772Z"
    }
   },
   "outputs": [],
   "source": [
    "print('contracted graphs', [g.number_of_nodes() for g in chopped_g])\n",
    "\n",
    "print('costs before chop', costs_before_chop)"
   ]
  },
  {
   "cell_type": "code",
   "execution_count": null,
   "metadata": {
    "ExecuteTime": {
     "end_time": "2020-03-11T00:16:18.263532Z",
     "start_time": "2020-03-11T00:16:13.777Z"
    }
   },
   "outputs": [],
   "source": [
    "par_vars = [0,1,2,3,7,11]\n",
    "\n",
    "parallelized_g = [\n",
    "    g\n",
    "    for graph in chopped_g\n",
    "    for parvar in par_vars\n",
    "    for  _, g in [qtree.graph_model.split_graph_by_metric(graph, n_var_parallel=parvar)]\n",
    "]"
   ]
  },
  {
   "cell_type": "code",
   "execution_count": null,
   "metadata": {
    "ExecuteTime": {
     "end_time": "2020-03-11T00:16:18.268343Z",
     "start_time": "2020-03-11T00:16:13.780Z"
    }
   },
   "outputs": [],
   "source": [
    "print('parallelised graphs', [g.number_of_nodes() for g in parallelized_g])"
   ]
  },
  {
   "cell_type": "code",
   "execution_count": null,
   "metadata": {
    "ExecuteTime": {
     "end_time": "2020-03-11T00:16:18.270364Z",
     "start_time": "2020-03-11T00:16:13.783Z"
    }
   },
   "outputs": [],
   "source": [
    "peos_par = [\n",
    "    peo \n",
    "    for g in tqdm( parallelized_g )\n",
    "    for peo, _ in [utils.get_locale_peo(g, utils.n_neighbors)]\n",
    "]\n"
   ]
  },
  {
   "cell_type": "code",
   "execution_count": 277,
   "metadata": {
    "ExecuteTime": {
     "end_time": "2020-03-11T00:20:44.103389Z",
     "start_time": "2020-03-11T00:20:44.065926Z"
    }
   },
   "outputs": [],
   "source": [
    "def get_qbb_peo(graph):\n",
    "    try:\n",
    "        peo, tw = qtree.graph_model.get_peo(graph)\n",
    "    except:\n",
    "        print('QBB fail, nodes count:', graph.number_of_nodes())\n",
    "        peo, nghs = utils.get_locale_peo(graph, utils.n_neighbors)\n",
    "    return peo"
   ]
  },
  {
   "cell_type": "code",
   "execution_count": 278,
   "metadata": {
    "ExecuteTime": {
     "end_time": "2020-03-11T02:32:00.472633Z",
     "start_time": "2020-03-11T00:20:44.783775Z"
    },
    "scrolled": true
   },
   "outputs": [
    {
     "name": "stderr",
     "output_type": "stream",
     "text": [
      "\n",
      "\n",
      "  0%|          | 0/120 [00:00<?, ?it/s]\u001b[A\u001b[A2020-03-10 19:20:45,019- INFO•\tgenerating config file output/quickbb.35139332.cnf\n",
      "2020-03-10 19:20:45,023- INFO•\texcecuting quickbb: ./quickbb/quickbb_64  --min-fill-ordering --time 60 --cnffile output/quickbb.35139332.cnf \n",
      "\n",
      "\n",
      "  1%|          | 1/120 [01:02<2:04:33, 62.80s/it]\u001b[A\u001b[A2020-03-10 19:21:47,762- INFO•\tgenerating config file output/quickbb.87115871.cnf\n",
      "2020-03-10 19:21:47,765- INFO•\texcecuting quickbb: ./quickbb/quickbb_64  --min-fill-ordering --time 60 --cnffile output/quickbb.87115871.cnf \n",
      "\n",
      "\n",
      "  2%|▏         | 2/120 [02:05<2:03:20, 62.71s/it]\u001b[A\u001b[A2020-03-10 19:22:50,406- INFO•\tgenerating config file output/quickbb.48418583.cnf\n",
      "2020-03-10 19:22:50,409- INFO•\texcecuting quickbb: ./quickbb/quickbb_64  --min-fill-ordering --time 60 --cnffile output/quickbb.48418583.cnf \n",
      "\n",
      "\n",
      "  2%|▎         | 3/120 [03:07<2:01:50, 62.48s/it]\u001b[A\u001b[A2020-03-10 19:23:52,144- INFO•\tgenerating config file output/quickbb.98947196.cnf\n",
      "2020-03-10 19:23:52,147- INFO•\texcecuting quickbb: ./quickbb/quickbb_64  --min-fill-ordering --time 60 --cnffile output/quickbb.98947196.cnf \n",
      "\n",
      "\n",
      "  3%|▎         | 4/120 [04:09<2:00:39, 62.41s/it]\u001b[A\u001b[A2020-03-10 19:24:54,406- INFO•\tgenerating config file output/quickbb.59342320.cnf\n",
      "2020-03-10 19:24:54,410- INFO•\texcecuting quickbb: ./quickbb/quickbb_64  --min-fill-ordering --time 60 --cnffile output/quickbb.59342320.cnf \n",
      "\n",
      "\n",
      "  4%|▍         | 5/120 [05:11<1:59:21, 62.27s/it]\u001b[A\u001b[A2020-03-10 19:25:56,398- INFO•\tgenerating config file output/quickbb.94711220.cnf\n",
      "2020-03-10 19:25:56,401- INFO•\texcecuting quickbb: ./quickbb/quickbb_64  --min-fill-ordering --time 60 --cnffile output/quickbb.94711220.cnf \n",
      "\n",
      "\n",
      "  5%|▌         | 6/120 [06:12<1:57:46, 61.99s/it]\u001b[A\u001b[A2020-03-10 19:26:57,640- INFO•\tgenerating config file output/quickbb.18684833.cnf\n",
      "2020-03-10 19:26:57,644- INFO•\texcecuting quickbb: ./quickbb/quickbb_64  --min-fill-ordering --time 60 --cnffile output/quickbb.18684833.cnf \n",
      "\n",
      "\n",
      "  6%|▌         | 7/120 [07:13<1:55:49, 61.50s/it]\u001b[A\u001b[A2020-03-10 19:27:58,026- INFO•\tgenerating config file output/quickbb.96947751.cnf\n",
      "2020-03-10 19:27:58,032- INFO•\texcecuting quickbb: ./quickbb/quickbb_64  --min-fill-ordering --time 60 --cnffile output/quickbb.96947751.cnf \n",
      "\n",
      "\n",
      "  7%|▋         | 8/120 [08:14<1:54:29, 61.33s/it]\u001b[A\u001b[A2020-03-10 19:28:58,959- INFO•\tgenerating config file output/quickbb.59179533.cnf\n",
      "2020-03-10 19:28:58,961- INFO•\texcecuting quickbb: ./quickbb/quickbb_64  --min-fill-ordering --time 60 --cnffile output/quickbb.59179533.cnf \n",
      "\n",
      "\n",
      "  8%|▊         | 9/120 [09:15<1:53:17, 61.23s/it]\u001b[A\u001b[A2020-03-10 19:29:59,958- INFO•\tgenerating config file output/quickbb.04135256.cnf\n",
      "2020-03-10 19:29:59,961- INFO•\texcecuting quickbb: ./quickbb/quickbb_64  --min-fill-ordering --time 60 --cnffile output/quickbb.04135256.cnf \n",
      "\n",
      "\n",
      "  8%|▊         | 10/120 [10:16<1:52:15, 61.23s/it]\u001b[A\u001b[A2020-03-10 19:31:01,177- INFO•\tgenerating config file output/quickbb.01230989.cnf\n",
      "2020-03-10 19:31:01,179- INFO•\texcecuting quickbb: ./quickbb/quickbb_64  --min-fill-ordering --time 60 --cnffile output/quickbb.01230989.cnf \n",
      "\n",
      "\n",
      "  9%|▉         | 11/120 [11:17<1:50:58, 61.09s/it]\u001b[A\u001b[A2020-03-10 19:32:01,937- INFO•\tgenerating config file output/quickbb.10139916.cnf\n",
      "2020-03-10 19:32:01,947- INFO•\texcecuting quickbb: ./quickbb/quickbb_64  --min-fill-ordering --time 60 --cnffile output/quickbb.10139916.cnf \n",
      "\n",
      "\n",
      " 10%|█         | 12/120 [12:18<1:49:54, 61.06s/it]\u001b[A\u001b[A2020-03-10 19:33:02,959- INFO•\tgenerating config file output/quickbb.15109032.cnf\n",
      "2020-03-10 19:33:02,971- INFO•\texcecuting quickbb: ./quickbb/quickbb_64  --min-fill-ordering --time 60 --cnffile output/quickbb.15109032.cnf \n",
      "\n",
      "\n",
      " 11%|█         | 13/120 [13:18<1:48:43, 60.97s/it]\u001b[A\u001b[A2020-03-10 19:34:03,693- INFO•\tgenerating config file output/quickbb.17300869.cnf\n",
      "2020-03-10 19:34:03,701- INFO•\texcecuting quickbb: ./quickbb/quickbb_64  --min-fill-ordering --time 60 --cnffile output/quickbb.17300869.cnf \n",
      "\n",
      "\n",
      " 12%|█▏        | 14/120 [14:18<1:47:12, 60.68s/it]\u001b[A\u001b[A2020-03-10 19:35:03,685- INFO•\tgenerating config file output/quickbb.14131456.cnf\n",
      "2020-03-10 19:35:03,686- INFO•\texcecuting quickbb: ./quickbb/quickbb_64  --min-fill-ordering --time 60 --cnffile output/quickbb.14131456.cnf \n",
      "\n",
      "\n",
      " 12%|█▎        | 15/120 [15:18<1:45:52, 60.50s/it]\u001b[A\u001b[A2020-03-10 19:36:03,760- INFO•\tgenerating config file output/quickbb.20870916.cnf\n",
      "2020-03-10 19:36:03,763- INFO•\texcecuting quickbb: ./quickbb/quickbb_64  --min-fill-ordering --time 60 --cnffile output/quickbb.20870916.cnf \n",
      "\n",
      "\n",
      " 13%|█▎        | 16/120 [16:18<1:44:39, 60.38s/it]\u001b[A\u001b[A2020-03-10 19:37:03,853- INFO•\tgenerating config file output/quickbb.34579230.cnf\n",
      "2020-03-10 19:37:03,856- INFO•\texcecuting quickbb: ./quickbb/quickbb_64  --min-fill-ordering --time 60 --cnffile output/quickbb.34579230.cnf \n",
      "\n",
      "\n",
      " 14%|█▍        | 17/120 [17:18<1:43:18, 60.18s/it]\u001b[A\u001b[A2020-03-10 19:38:03,556- INFO•\tgenerating config file output/quickbb.22584197.cnf\n",
      "2020-03-10 19:38:03,560- INFO•\texcecuting quickbb: ./quickbb/quickbb_64  --min-fill-ordering --time 60 --cnffile output/quickbb.22584197.cnf \n",
      "\n",
      "\n",
      " 15%|█▌        | 18/120 [18:18<1:42:15, 60.15s/it]\u001b[A\u001b[A2020-03-10 19:39:03,654- INFO•\tgenerating config file output/quickbb.20769845.cnf\n",
      "2020-03-10 19:39:03,656- INFO•\texcecuting quickbb: ./quickbb/quickbb_64  --min-fill-ordering --time 60 --cnffile output/quickbb.20769845.cnf \n",
      "\n",
      "\n",
      " 16%|█▌        | 19/120 [19:18<1:40:55, 59.96s/it]\u001b[A\u001b[A2020-03-10 19:40:03,162- INFO•\tgenerating config file output/quickbb.64280715.cnf\n",
      "2020-03-10 19:40:03,167- INFO•\texcecuting quickbb: ./quickbb/quickbb_64  --min-fill-ordering --time 60 --cnffile output/quickbb.64280715.cnf \n",
      "\n",
      "\n",
      " 17%|█▋        | 20/120 [20:18<1:39:56, 59.96s/it]\u001b[A\u001b[A2020-03-10 19:41:03,114- INFO•\tgenerating config file output/quickbb.08423759.cnf\n",
      "2020-03-10 19:41:03,116- INFO•\texcecuting quickbb: ./quickbb/quickbb_64  --min-fill-ordering --time 60 --cnffile output/quickbb.08423759.cnf \n",
      "\n",
      "\n",
      " 18%|█▊        | 21/120 [21:18<1:38:57, 59.97s/it]\u001b[A\u001b[A2020-03-10 19:42:03,148- INFO•\tgenerating config file output/quickbb.45992466.cnf\n",
      "2020-03-10 19:42:03,154- INFO•\texcecuting quickbb: ./quickbb/quickbb_64  --min-fill-ordering --time 60 --cnffile output/quickbb.45992466.cnf \n",
      "\n",
      "\n",
      " 18%|█▊        | 22/120 [22:18<1:37:57, 59.98s/it]\u001b[A\u001b[A2020-03-10 19:43:03,110- INFO•\tgenerating config file output/quickbb.10935233.cnf\n",
      "2020-03-10 19:43:03,115- INFO•\texcecuting quickbb: ./quickbb/quickbb_64  --min-fill-ordering --time 60 --cnffile output/quickbb.10935233.cnf \n",
      "\n",
      "\n",
      " 19%|█▉        | 23/120 [23:18<1:36:59, 59.99s/it]\u001b[A\u001b[A2020-03-10 19:44:03,140- INFO•\tgenerating config file output/quickbb.76960696.cnf\n",
      "2020-03-10 19:44:03,143- INFO•\texcecuting quickbb: ./quickbb/quickbb_64  --min-fill-ordering --time 60 --cnffile output/quickbb.76960696.cnf \n",
      "\n",
      "\n",
      " 20%|██        | 24/120 [24:18<1:35:58, 59.99s/it]\u001b[A\u001b[A2020-03-10 19:45:03,108- INFO•\tgenerating config file output/quickbb.02714278.cnf\n",
      "2020-03-10 19:45:03,109- INFO•\texcecuting quickbb: ./quickbb/quickbb_64  --min-fill-ordering --time 60 --cnffile output/quickbb.02714278.cnf \n",
      "\n",
      "\n",
      " 21%|██        | 25/120 [25:18<1:34:59, 59.99s/it]\u001b[A\u001b[A2020-03-10 19:46:03,109- INFO•\tgenerating config file output/quickbb.78900754.cnf\n",
      "2020-03-10 19:46:03,112- INFO•\texcecuting quickbb: ./quickbb/quickbb_64  --min-fill-ordering --time 60 --cnffile output/quickbb.78900754.cnf \n",
      "\n",
      "\n",
      " 22%|██▏       | 26/120 [26:18<1:33:59, 60.00s/it]\u001b[A\u001b[A2020-03-10 19:47:03,126- INFO•\tgenerating config file output/quickbb.70638120.cnf\n",
      "2020-03-10 19:47:03,128- INFO•\texcecuting quickbb: ./quickbb/quickbb_64  --min-fill-ordering --time 60 --cnffile output/quickbb.70638120.cnf \n",
      "\n",
      "\n",
      " 22%|██▎       | 27/120 [27:18<1:32:59, 59.99s/it]\u001b[A\u001b[A2020-03-10 19:48:03,123- INFO•\tgenerating config file output/quickbb.66503008.cnf\n",
      "2020-03-10 19:48:03,128- INFO•\texcecuting quickbb: ./quickbb/quickbb_64  --min-fill-ordering --time 60 --cnffile output/quickbb.66503008.cnf \n",
      "\n",
      "\n",
      " 23%|██▎       | 28/120 [28:18<1:31:59, 60.00s/it]\u001b[A\u001b[A2020-03-10 19:49:03,112- INFO•\tgenerating config file output/quickbb.91319344.cnf\n",
      "2020-03-10 19:49:03,114- INFO•\texcecuting quickbb: ./quickbb/quickbb_64  --min-fill-ordering --time 60 --cnffile output/quickbb.91319344.cnf \n",
      "\n",
      "\n"
     ]
    },
    {
     "name": "stderr",
     "output_type": "stream",
     "text": [
      " 24%|██▍       | 29/120 [29:18<1:30:59, 59.99s/it]\u001b[A\u001b[A2020-03-10 19:50:03,104- INFO•\tgenerating config file output/quickbb.21761047.cnf\n",
      "2020-03-10 19:50:03,107- INFO•\texcecuting quickbb: ./quickbb/quickbb_64  --min-fill-ordering --time 60 --cnffile output/quickbb.21761047.cnf \n",
      "\n",
      "\n",
      " 25%|██▌       | 30/120 [30:18<1:29:59, 60.00s/it]\u001b[A\u001b[A2020-03-10 19:51:03,205- INFO•\tgenerating config file output/quickbb.14285124.cnf\n",
      "2020-03-10 19:51:03,211- INFO•\texcecuting quickbb: ./quickbb/quickbb_64  --min-fill-ordering --time 60 --cnffile output/quickbb.14285124.cnf \n",
      "\n",
      "\n",
      " 26%|██▌       | 31/120 [31:35<1:36:35, 65.11s/it]\u001b[A\u001b[A2020-03-10 19:52:20,489- INFO•\tgenerating config file output/quickbb.00034855.cnf\n",
      "2020-03-10 19:52:20,497- INFO•\texcecuting quickbb: ./quickbb/quickbb_64  --min-fill-ordering --time 60 --cnffile output/quickbb.00034855.cnf \n",
      "\n",
      "\n",
      " 27%|██▋       | 32/120 [32:42<1:36:35, 65.86s/it]\u001b[A\u001b[A2020-03-10 19:53:27,910- INFO•\tgenerating config file output/quickbb.90977658.cnf\n",
      "2020-03-10 19:53:27,915- INFO•\texcecuting quickbb: ./quickbb/quickbb_64  --min-fill-ordering --time 60 --cnffile output/quickbb.90977658.cnf \n",
      "\n",
      "\n",
      " 28%|██▊       | 33/120 [33:54<1:38:03, 67.63s/it]\u001b[A\u001b[A2020-03-10 19:54:39,782- INFO•\tgenerating config file output/quickbb.23694022.cnf\n",
      "2020-03-10 19:54:39,799- INFO•\texcecuting quickbb: ./quickbb/quickbb_64  --min-fill-ordering --time 60 --cnffile output/quickbb.23694022.cnf \n",
      "\n",
      "\n",
      " 28%|██▊       | 34/120 [35:02<1:37:01, 67.70s/it]\u001b[A\u001b[A2020-03-10 19:55:47,478- INFO•\tgenerating config file output/quickbb.45551590.cnf\n",
      "2020-03-10 19:55:47,483- INFO•\texcecuting quickbb: ./quickbb/quickbb_64  --min-fill-ordering --time 60 --cnffile output/quickbb.45551590.cnf \n",
      "\n",
      "\n",
      " 29%|██▉       | 35/120 [36:10<1:35:51, 67.67s/it]\u001b[A\u001b[A2020-03-10 19:56:55,124- INFO•\tgenerating config file output/quickbb.04229456.cnf\n",
      "2020-03-10 19:56:55,129- INFO•\texcecuting quickbb: ./quickbb/quickbb_64  --min-fill-ordering --time 60 --cnffile output/quickbb.04229456.cnf \n",
      "\n",
      "\n",
      " 30%|███       | 36/120 [37:17<1:34:47, 67.70s/it]\u001b[A\u001b[A2020-03-10 19:58:02,825- INFO•\tgenerating config file output/quickbb.82417304.cnf\n",
      "2020-03-10 19:58:02,829- INFO•\texcecuting quickbb: ./quickbb/quickbb_64  --min-fill-ordering --time 60 --cnffile output/quickbb.82417304.cnf \n",
      "\n",
      "\n",
      " 31%|███       | 37/120 [38:22<1:32:24, 66.80s/it]\u001b[A\u001b[A2020-03-10 19:59:07,518- INFO•\tgenerating config file output/quickbb.28146546.cnf\n",
      "2020-03-10 19:59:07,525- INFO•\texcecuting quickbb: ./quickbb/quickbb_64  --min-fill-ordering --time 60 --cnffile output/quickbb.28146546.cnf \n",
      "\n",
      "\n",
      " 32%|███▏      | 38/120 [39:26<1:29:59, 65.84s/it]\u001b[A\u001b[A2020-03-10 20:00:11,124- INFO•\tgenerating config file output/quickbb.11877551.cnf\n",
      "2020-03-10 20:00:11,129- INFO•\texcecuting quickbb: ./quickbb/quickbb_64  --min-fill-ordering --time 60 --cnffile output/quickbb.11877551.cnf \n",
      "\n",
      "\n",
      " 32%|███▎      | 39/120 [40:29<1:27:40, 64.95s/it]\u001b[A\u001b[A2020-03-10 20:01:13,965- INFO•\tgenerating config file output/quickbb.71760452.cnf\n",
      "2020-03-10 20:01:13,972- INFO•\texcecuting quickbb: ./quickbb/quickbb_64  --min-fill-ordering --time 60 --cnffile output/quickbb.71760452.cnf \n",
      "\n",
      "\n",
      " 33%|███▎      | 40/120 [41:31<1:25:47, 64.34s/it]\u001b[A\u001b[A2020-03-10 20:02:16,895- INFO•\tgenerating config file output/quickbb.29611133.cnf\n",
      "2020-03-10 20:02:16,898- INFO•\texcecuting quickbb: ./quickbb/quickbb_64  --min-fill-ordering --time 60 --cnffile output/quickbb.29611133.cnf \n",
      "\n",
      "\n",
      " 34%|███▍      | 41/120 [42:35<1:24:15, 64.00s/it]\u001b[A\u001b[A2020-03-10 20:03:20,074- INFO•\tgenerating config file output/quickbb.06016884.cnf\n",
      "2020-03-10 20:03:20,079- INFO•\texcecuting quickbb: ./quickbb/quickbb_64  --min-fill-ordering --time 60 --cnffile output/quickbb.06016884.cnf \n",
      "\n",
      "\n",
      " 35%|███▌      | 42/120 [43:37<1:22:40, 63.60s/it]\u001b[A\u001b[A2020-03-10 20:04:22,757- INFO•\tgenerating config file output/quickbb.77936153.cnf\n",
      "2020-03-10 20:04:22,760- INFO•\texcecuting quickbb: ./quickbb/quickbb_64  --min-fill-ordering --time 60 --cnffile output/quickbb.77936153.cnf \n",
      "\n",
      "\n",
      " 36%|███▌      | 43/120 [44:39<1:20:52, 63.03s/it]\u001b[A\u001b[A2020-03-10 20:05:24,425- INFO•\tgenerating config file output/quickbb.49263511.cnf\n",
      "2020-03-10 20:05:24,428- INFO•\texcecuting quickbb: ./quickbb/quickbb_64  --min-fill-ordering --time 60 --cnffile output/quickbb.49263511.cnf \n",
      "\n",
      "\n",
      " 37%|███▋      | 44/120 [45:41<1:19:22, 62.66s/it]\u001b[A\u001b[A2020-03-10 20:06:26,222- INFO•\tgenerating config file output/quickbb.08731764.cnf\n",
      "2020-03-10 20:06:26,224- INFO•\texcecuting quickbb: ./quickbb/quickbb_64  --min-fill-ordering --time 60 --cnffile output/quickbb.08731764.cnf \n",
      "\n",
      "\n",
      " 38%|███▊      | 45/120 [46:43<1:18:09, 62.53s/it]\u001b[A\u001b[A2020-03-10 20:07:28,470- INFO•\tgenerating config file output/quickbb.30392137.cnf\n",
      "2020-03-10 20:07:28,473- INFO•\texcecuting quickbb: ./quickbb/quickbb_64  --min-fill-ordering --time 60 --cnffile output/quickbb.30392137.cnf \n",
      "\n",
      "\n",
      " 38%|███▊      | 46/120 [47:45<1:16:48, 62.28s/it]\u001b[A\u001b[A2020-03-10 20:08:30,183- INFO•\tgenerating config file output/quickbb.65821972.cnf\n",
      "2020-03-10 20:08:30,185- INFO•\texcecuting quickbb: ./quickbb/quickbb_64  --min-fill-ordering --time 60 --cnffile output/quickbb.65821972.cnf \n",
      "\n",
      "\n",
      " 39%|███▉      | 47/120 [48:47<1:15:38, 62.17s/it]\u001b[A\u001b[A2020-03-10 20:09:32,073- INFO•\tgenerating config file output/quickbb.96687577.cnf\n",
      "2020-03-10 20:09:32,077- INFO•\texcecuting quickbb: ./quickbb/quickbb_64  --min-fill-ordering --time 60 --cnffile output/quickbb.96687577.cnf \n",
      "\n",
      "\n",
      " 40%|████      | 48/120 [49:48<1:14:28, 62.06s/it]\u001b[A\u001b[A2020-03-10 20:10:33,869- INFO•\tgenerating config file output/quickbb.38930555.cnf\n",
      "2020-03-10 20:10:33,872- INFO•\texcecuting quickbb: ./quickbb/quickbb_64  --min-fill-ordering --time 60 --cnffile output/quickbb.38930555.cnf \n",
      "\n",
      "\n",
      " 41%|████      | 49/120 [50:48<1:12:31, 61.29s/it]\u001b[A\u001b[A2020-03-10 20:11:33,363- INFO•\tgenerating config file output/quickbb.08249269.cnf\n",
      "2020-03-10 20:11:33,366- INFO•\texcecuting quickbb: ./quickbb/quickbb_64  --min-fill-ordering --time 60 --cnffile output/quickbb.08249269.cnf \n",
      "\n",
      "\n",
      " 42%|████▏     | 50/120 [51:48<1:11:03, 60.90s/it]\u001b[A\u001b[A2020-03-10 20:12:33,362- INFO•\tgenerating config file output/quickbb.47118013.cnf\n",
      "2020-03-10 20:12:33,364- INFO•\texcecuting quickbb: ./quickbb/quickbb_64  --min-fill-ordering --time 60 --cnffile output/quickbb.47118013.cnf \n",
      "\n",
      "\n",
      " 42%|████▎     | 51/120 [52:48<1:09:45, 60.66s/it]\u001b[A\u001b[A2020-03-10 20:13:37,376- INFO•\tgenerating config file output/quickbb.20407522.cnf\n",
      "2020-03-10 20:13:37,380- INFO•\texcecuting quickbb: ./quickbb/quickbb_64  --min-fill-ordering --time 60 --cnffile output/quickbb.20407522.cnf \n",
      "\n",
      "\n",
      " 43%|████▎     | 52/120 [53:52<1:09:50, 61.63s/it]\u001b[A\u001b[A2020-03-10 20:14:37,334- INFO•\tgenerating config file output/quickbb.75868809.cnf\n",
      "2020-03-10 20:14:37,336- INFO•\texcecuting quickbb: ./quickbb/quickbb_64  --min-fill-ordering --time 60 --cnffile output/quickbb.75868809.cnf \n",
      "\n",
      "\n",
      " 44%|████▍     | 53/120 [54:52<1:08:16, 61.14s/it]\u001b[A\u001b[A2020-03-10 20:15:37,320- INFO•\tgenerating config file output/quickbb.18916348.cnf\n",
      "2020-03-10 20:15:37,323- INFO•\texcecuting quickbb: ./quickbb/quickbb_64  --min-fill-ordering --time 60 --cnffile output/quickbb.18916348.cnf \n",
      "\n",
      "\n",
      " 45%|████▌     | 54/120 [55:52<1:06:53, 60.82s/it]\u001b[A\u001b[A2020-03-10 20:16:37,400- INFO•\tgenerating config file output/quickbb.96769930.cnf\n",
      "2020-03-10 20:16:37,403- INFO•\texcecuting quickbb: ./quickbb/quickbb_64  --min-fill-ordering --time 60 --cnffile output/quickbb.96769930.cnf \n",
      "\n",
      "\n",
      " 46%|████▌     | 55/120 [56:52<1:05:44, 60.69s/it]\u001b[A\u001b[A2020-03-10 20:17:37,847- INFO•\tgenerating config file output/quickbb.02489451.cnf\n",
      "2020-03-10 20:17:37,853- INFO•\texcecuting quickbb: ./quickbb/quickbb_64  --min-fill-ordering --time 60 --cnffile output/quickbb.02489451.cnf \n",
      "\n",
      "\n",
      " 47%|████▋     | 56/120 [57:52<1:04:30, 60.48s/it]\u001b[A\u001b[A2020-03-10 20:18:37,780- INFO•\tgenerating config file output/quickbb.74466602.cnf\n",
      "2020-03-10 20:18:37,783- INFO•\texcecuting quickbb: ./quickbb/quickbb_64  --min-fill-ordering --time 60 --cnffile output/quickbb.74466602.cnf \n",
      "\n",
      "\n",
      " 48%|████▊     | 57/120 [58:52<1:03:13, 60.22s/it]\u001b[A\u001b[A2020-03-10 20:19:37,408- INFO•\tgenerating config file output/quickbb.23450076.cnf\n",
      "2020-03-10 20:19:37,418- INFO•\texcecuting quickbb: ./quickbb/quickbb_64  --min-fill-ordering --time 60 --cnffile output/quickbb.23450076.cnf \n",
      "\n",
      "\n"
     ]
    },
    {
     "name": "stderr",
     "output_type": "stream",
     "text": [
      " 48%|████▊     | 58/120 [59:52<1:02:09, 60.15s/it]\u001b[A\u001b[A2020-03-10 20:20:37,395- INFO•\tgenerating config file output/quickbb.27912560.cnf\n",
      "2020-03-10 20:20:37,401- INFO•\texcecuting quickbb: ./quickbb/quickbb_64  --min-fill-ordering --time 60 --cnffile output/quickbb.27912560.cnf \n",
      "\n",
      "\n",
      " 49%|████▉     | 59/120 [1:00:52<1:01:05, 60.10s/it]\u001b[A\u001b[A2020-03-10 20:21:37,358- INFO•\tgenerating config file output/quickbb.97670172.cnf\n",
      "2020-03-10 20:21:37,361- INFO•\texcecuting quickbb: ./quickbb/quickbb_64  --min-fill-ordering --time 60 --cnffile output/quickbb.97670172.cnf \n",
      "\n",
      "\n",
      " 50%|█████     | 60/120 [1:01:52<1:00:09, 60.15s/it]\u001b[A\u001b[A2020-03-10 20:22:37,971- INFO•\tgenerating config file output/quickbb.00992518.cnf\n",
      "2020-03-10 20:22:37,986- INFO•\texcecuting quickbb: ./quickbb/quickbb_64  --min-fill-ordering --time 60 --cnffile output/quickbb.00992518.cnf \n",
      "\n",
      "\n",
      " 51%|█████     | 61/120 [1:03:07<1:03:24, 64.48s/it]\u001b[A\u001b[A2020-03-10 20:23:52,383- INFO•\tgenerating config file output/quickbb.53671097.cnf\n",
      "2020-03-10 20:23:52,389- INFO•\texcecuting quickbb: ./quickbb/quickbb_64  --min-fill-ordering --time 60 --cnffile output/quickbb.53671097.cnf \n",
      "\n",
      "\n",
      " 52%|█████▏    | 62/120 [1:04:21<1:05:01, 67.26s/it]\u001b[A\u001b[A2020-03-10 20:25:06,051- INFO•\tgenerating config file output/quickbb.95194264.cnf\n",
      "2020-03-10 20:25:06,055- INFO•\texcecuting quickbb: ./quickbb/quickbb_64  --min-fill-ordering --time 60 --cnffile output/quickbb.95194264.cnf \n",
      "\n",
      "\n",
      " 52%|█████▎    | 63/120 [1:05:42<1:07:57, 71.54s/it]\u001b[A\u001b[A2020-03-10 20:26:27,776- INFO•\tgenerating config file output/quickbb.18306753.cnf\n",
      "2020-03-10 20:26:27,784- INFO•\texcecuting quickbb: ./quickbb/quickbb_64  --min-fill-ordering --time 60 --cnffile output/quickbb.18306753.cnf \n",
      "\n",
      "\n",
      " 53%|█████▎    | 64/120 [1:07:07<1:10:32, 75.57s/it]\u001b[A\u001b[A2020-03-10 20:27:52,690- INFO•\tgenerating config file output/quickbb.75100740.cnf\n",
      "2020-03-10 20:27:52,697- INFO•\texcecuting quickbb: ./quickbb/quickbb_64  --min-fill-ordering --time 60 --cnffile output/quickbb.75100740.cnf \n",
      "\n",
      "\n",
      " 54%|█████▍    | 65/120 [1:08:24<1:09:32, 75.87s/it]\u001b[A\u001b[A2020-03-10 20:29:09,170- INFO•\tgenerating config file output/quickbb.89933188.cnf\n",
      "2020-03-10 20:29:09,176- INFO•\texcecuting quickbb: ./quickbb/quickbb_64  --min-fill-ordering --time 60 --cnffile output/quickbb.89933188.cnf \n",
      "\n",
      "\n",
      " 55%|█████▌    | 66/120 [1:09:37<1:07:27, 74.96s/it]\u001b[A\u001b[A2020-03-10 20:30:21,928- INFO•\tgenerating config file output/quickbb.68412696.cnf\n",
      "2020-03-10 20:30:21,931- INFO•\texcecuting quickbb: ./quickbb/quickbb_64  --min-fill-ordering --time 60 --cnffile output/quickbb.68412696.cnf \n",
      "\n",
      "\n",
      " 56%|█████▌    | 67/120 [1:10:42<1:03:47, 72.21s/it]\u001b[A\u001b[A2020-03-10 20:31:27,743- INFO•\tgenerating config file output/quickbb.11611620.cnf\n",
      "2020-03-10 20:31:27,748- INFO•\texcecuting quickbb: ./quickbb/quickbb_64  --min-fill-ordering --time 60 --cnffile output/quickbb.11611620.cnf \n",
      "\n",
      "\n",
      " 57%|█████▋    | 68/120 [1:11:52<1:01:59, 71.52s/it]\u001b[A\u001b[A2020-03-10 20:32:37,725- INFO•\tgenerating config file output/quickbb.76607541.cnf\n",
      "2020-03-10 20:32:37,730- INFO•\texcecuting quickbb: ./quickbb/quickbb_64  --min-fill-ordering --time 60 --cnffile output/quickbb.76607541.cnf \n",
      "\n",
      "\n",
      " 57%|█████▊    | 69/120 [1:13:00<59:47, 70.34s/it]  \u001b[A\u001b[A2020-03-10 20:33:45,498- INFO•\tgenerating config file output/quickbb.51150552.cnf\n",
      "2020-03-10 20:33:45,510- INFO•\texcecuting quickbb: ./quickbb/quickbb_64  --min-fill-ordering --time 60 --cnffile output/quickbb.51150552.cnf \n",
      "\n",
      "\n",
      " 58%|█████▊    | 70/120 [1:14:06<57:33, 69.08s/it]\u001b[A\u001b[A2020-03-10 20:34:51,370- INFO•\tgenerating config file output/quickbb.03519230.cnf\n",
      "2020-03-10 20:34:51,373- INFO•\texcecuting quickbb: ./quickbb/quickbb_64  --min-fill-ordering --time 60 --cnffile output/quickbb.03519230.cnf \n",
      "\n",
      "\n",
      " 59%|█████▉    | 71/120 [1:15:11<55:23, 67.82s/it]\u001b[A\u001b[A2020-03-10 20:35:56,238- INFO•\tgenerating config file output/quickbb.31045093.cnf\n",
      "2020-03-10 20:35:56,242- INFO•\texcecuting quickbb: ./quickbb/quickbb_64  --min-fill-ordering --time 60 --cnffile output/quickbb.31045093.cnf \n",
      "\n",
      "\n",
      " 60%|██████    | 72/120 [1:16:16<53:42, 67.13s/it]\u001b[A\u001b[A2020-03-10 20:37:01,766- INFO•\tgenerating config file output/quickbb.22717542.cnf\n",
      "2020-03-10 20:37:01,769- INFO•\texcecuting quickbb: ./quickbb/quickbb_64  --min-fill-ordering --time 60 --cnffile output/quickbb.22717542.cnf \n",
      "\n",
      "\n",
      " 61%|██████    | 73/120 [1:17:20<51:44, 66.05s/it]\u001b[A\u001b[A2020-03-10 20:38:05,272- INFO•\tgenerating config file output/quickbb.03557448.cnf\n",
      "2020-03-10 20:38:05,275- INFO•\texcecuting quickbb: ./quickbb/quickbb_64  --min-fill-ordering --time 60 --cnffile output/quickbb.03557448.cnf \n",
      "\n",
      "\n",
      " 62%|██████▏   | 74/120 [1:18:26<50:32, 65.93s/it]\u001b[A\u001b[A2020-03-10 20:39:10,923- INFO•\tgenerating config file output/quickbb.52911894.cnf\n",
      "2020-03-10 20:39:10,928- INFO•\texcecuting quickbb: ./quickbb/quickbb_64  --min-fill-ordering --time 60 --cnffile output/quickbb.52911894.cnf \n",
      "\n",
      "\n",
      " 62%|██████▎   | 75/120 [1:19:30<49:02, 65.38s/it]\u001b[A\u001b[A2020-03-10 20:40:15,045- INFO•\tgenerating config file output/quickbb.26223583.cnf\n",
      "2020-03-10 20:40:15,048- INFO•\texcecuting quickbb: ./quickbb/quickbb_64  --min-fill-ordering --time 60 --cnffile output/quickbb.26223583.cnf \n",
      "\n",
      "\n",
      " 63%|██████▎   | 76/120 [1:20:34<47:46, 65.14s/it]\u001b[A\u001b[A2020-03-10 20:41:19,609- INFO•\tgenerating config file output/quickbb.32456029.cnf\n",
      "2020-03-10 20:41:19,614- INFO•\texcecuting quickbb: ./quickbb/quickbb_64  --min-fill-ordering --time 60 --cnffile output/quickbb.32456029.cnf \n",
      "\n",
      "\n",
      " 64%|██████▍   | 77/120 [1:21:38<46:19, 64.65s/it]\u001b[A\u001b[A2020-03-10 20:42:23,110- INFO•\tgenerating config file output/quickbb.06112648.cnf\n",
      "2020-03-10 20:42:23,114- INFO•\texcecuting quickbb: ./quickbb/quickbb_64  --min-fill-ordering --time 60 --cnffile output/quickbb.06112648.cnf \n",
      "\n",
      "\n",
      " 65%|██████▌   | 78/120 [1:22:41<44:59, 64.28s/it]\u001b[A\u001b[A2020-03-10 20:43:26,507- INFO•\tgenerating config file output/quickbb.62964513.cnf\n",
      "2020-03-10 20:43:26,521- INFO•\texcecuting quickbb: ./quickbb/quickbb_64  --min-fill-ordering --time 60 --cnffile output/quickbb.62964513.cnf \n",
      "\n",
      "\n",
      " 66%|██████▌   | 79/120 [1:23:41<43:06, 63.09s/it]\u001b[A\u001b[A2020-03-10 20:44:26,807- INFO•\tgenerating config file output/quickbb.75806606.cnf\n",
      "2020-03-10 20:44:26,809- INFO•\texcecuting quickbb: ./quickbb/quickbb_64  --min-fill-ordering --time 60 --cnffile output/quickbb.75806606.cnf \n",
      "\n",
      "\n",
      " 67%|██████▋   | 80/120 [1:24:41<41:25, 62.13s/it]\u001b[A\u001b[A2020-03-10 20:45:26,724- INFO•\tgenerating config file output/quickbb.57354712.cnf\n",
      "2020-03-10 20:45:26,728- INFO•\texcecuting quickbb: ./quickbb/quickbb_64  --min-fill-ordering --time 60 --cnffile output/quickbb.57354712.cnf \n",
      "\n",
      "\n",
      " 68%|██████▊   | 81/120 [1:25:41<40:00, 61.54s/it]\u001b[A\u001b[A2020-03-10 20:46:26,910- INFO•\tgenerating config file output/quickbb.14189276.cnf\n",
      "2020-03-10 20:46:26,914- INFO•\texcecuting quickbb: ./quickbb/quickbb_64  --min-fill-ordering --time 60 --cnffile output/quickbb.14189276.cnf \n",
      "\n",
      "\n",
      " 68%|██████▊   | 82/120 [1:26:41<38:38, 61.03s/it]\u001b[A\u001b[A2020-03-10 20:47:26,709- INFO•\tgenerating config file output/quickbb.26623758.cnf\n",
      "2020-03-10 20:47:26,718- INFO•\texcecuting quickbb: ./quickbb/quickbb_64  --min-fill-ordering --time 60 --cnffile output/quickbb.26623758.cnf \n",
      "\n",
      "\n",
      " 69%|██████▉   | 83/120 [1:27:41<37:27, 60.75s/it]\u001b[A\u001b[A2020-03-10 20:48:26,844- INFO•\tgenerating config file output/quickbb.25717340.cnf\n",
      "2020-03-10 20:48:26,847- INFO•\texcecuting quickbb: ./quickbb/quickbb_64  --min-fill-ordering --time 60 --cnffile output/quickbb.25717340.cnf \n",
      "\n",
      "\n",
      " 70%|███████   | 84/120 [1:28:41<36:16, 60.47s/it]\u001b[A\u001b[A2020-03-10 20:49:26,623- INFO•\tgenerating config file output/quickbb.79703414.cnf\n",
      "2020-03-10 20:49:26,627- INFO•\texcecuting quickbb: ./quickbb/quickbb_64  --min-fill-ordering --time 60 --cnffile output/quickbb.79703414.cnf \n",
      "\n",
      "\n",
      " 71%|███████   | 85/120 [1:29:41<35:12, 60.36s/it]\u001b[A\u001b[A2020-03-10 20:50:26,731- INFO•\tgenerating config file output/quickbb.89267173.cnf\n",
      "2020-03-10 20:50:26,734- INFO•\texcecuting quickbb: ./quickbb/quickbb_64  --min-fill-ordering --time 60 --cnffile output/quickbb.89267173.cnf \n",
      "\n",
      "\n",
      " 72%|███████▏  | 86/120 [1:30:42<34:19, 60.57s/it]\u001b[A\u001b[A2020-03-10 20:51:27,980- INFO•\tgenerating config file output/quickbb.86401400.cnf\n",
      "2020-03-10 20:51:27,988- INFO•\texcecuting quickbb: ./quickbb/quickbb_64  --min-fill-ordering --time 60 --cnffile output/quickbb.86401400.cnf \n"
     ]
    },
    {
     "name": "stderr",
     "output_type": "stream",
     "text": [
      "\n",
      "\n",
      " 72%|███████▎  | 87/120 [1:31:43<33:21, 60.65s/it]\u001b[A\u001b[A2020-03-10 20:52:28,663- INFO•\tgenerating config file output/quickbb.46896714.cnf\n",
      "2020-03-10 20:52:28,666- INFO•\texcecuting quickbb: ./quickbb/quickbb_64  --min-fill-ordering --time 60 --cnffile output/quickbb.46896714.cnf \n",
      "\n",
      "\n",
      " 73%|███████▎  | 88/120 [1:32:43<32:15, 60.49s/it]\u001b[A\u001b[A2020-03-10 20:53:28,755- INFO•\tgenerating config file output/quickbb.54391014.cnf\n",
      "2020-03-10 20:53:28,757- INFO•\texcecuting quickbb: ./quickbb/quickbb_64  --min-fill-ordering --time 60 --cnffile output/quickbb.54391014.cnf \n",
      "\n",
      "\n",
      " 74%|███████▍  | 89/120 [1:33:45<31:21, 60.70s/it]\u001b[A\u001b[A2020-03-10 20:54:30,108- INFO•\tgenerating config file output/quickbb.48518321.cnf\n",
      "2020-03-10 20:54:30,166- INFO•\texcecuting quickbb: ./quickbb/quickbb_64  --min-fill-ordering --time 60 --cnffile output/quickbb.48518321.cnf \n",
      "\n",
      "\n",
      " 75%|███████▌  | 90/120 [1:34:45<30:21, 60.72s/it]\u001b[A\u001b[A2020-03-10 20:55:30,869- INFO•\tgenerating config file output/quickbb.64482983.cnf\n",
      "2020-03-10 20:55:30,880- INFO•\texcecuting quickbb: ./quickbb/quickbb_64  --min-fill-ordering --time 60 --cnffile output/quickbb.64482983.cnf \n",
      "\n",
      "\n",
      " 76%|███████▌  | 91/120 [1:36:35<36:25, 75.35s/it]\u001b[A\u001b[A2020-03-10 20:57:20,533- INFO•\tgenerating config file output/quickbb.81686447.cnf\n",
      "2020-03-10 20:57:20,540- INFO•\texcecuting quickbb: ./quickbb/quickbb_64  --min-fill-ordering --time 60 --cnffile output/quickbb.81686447.cnf \n",
      "\n",
      "\n",
      " 77%|███████▋  | 92/120 [1:38:15<38:37, 82.76s/it]\u001b[A\u001b[A2020-03-10 20:59:00,415- INFO•\tgenerating config file output/quickbb.59221166.cnf\n",
      "2020-03-10 20:59:00,426- INFO•\texcecuting quickbb: ./quickbb/quickbb_64  --min-fill-ordering --time 60 --cnffile output/quickbb.59221166.cnf \n",
      "\n",
      "\n",
      " 78%|███████▊  | 93/120 [1:39:50<38:54, 86.46s/it]\u001b[A\u001b[A2020-03-10 21:00:35,897- INFO•\tgenerating config file output/quickbb.97284576.cnf\n",
      "2020-03-10 21:00:35,930- INFO•\texcecuting quickbb: ./quickbb/quickbb_64  --min-fill-ordering --time 60 --cnffile output/quickbb.97284576.cnf \n",
      "\n",
      "\n",
      " 78%|███████▊  | 94/120 [1:41:25<38:31, 88.90s/it]\u001b[A\u001b[A2020-03-10 21:02:10,135- INFO•\tgenerating config file output/quickbb.37785707.cnf\n",
      "2020-03-10 21:02:10,142- INFO•\texcecuting quickbb: ./quickbb/quickbb_64  --min-fill-ordering --time 60 --cnffile output/quickbb.37785707.cnf \n",
      "\n",
      "\n",
      " 79%|███████▉  | 95/120 [1:42:54<37:05, 89.02s/it]\u001b[A\u001b[A2020-03-10 21:03:39,377- INFO•\tgenerating config file output/quickbb.42709305.cnf\n",
      "2020-03-10 21:03:39,382- INFO•\texcecuting quickbb: ./quickbb/quickbb_64  --min-fill-ordering --time 60 --cnffile output/quickbb.42709305.cnf \n",
      "\n",
      "\n",
      " 80%|████████  | 96/120 [1:44:22<35:30, 88.77s/it]\u001b[A\u001b[A2020-03-10 21:05:07,486- INFO•\tgenerating config file output/quickbb.76081160.cnf\n",
      "2020-03-10 21:05:07,489- INFO•\texcecuting quickbb: ./quickbb/quickbb_64  --min-fill-ordering --time 60 --cnffile output/quickbb.76081160.cnf \n",
      "\n",
      "\n",
      " 81%|████████  | 97/120 [1:45:34<32:04, 83.65s/it]\u001b[A\u001b[A2020-03-10 21:06:19,153- INFO•\tgenerating config file output/quickbb.50190443.cnf\n",
      "2020-03-10 21:06:19,156- INFO•\texcecuting quickbb: ./quickbb/quickbb_64  --min-fill-ordering --time 60 --cnffile output/quickbb.50190443.cnf \n",
      "\n",
      "\n",
      " 82%|████████▏ | 98/120 [1:46:46<29:24, 80.22s/it]\u001b[A\u001b[A2020-03-10 21:07:31,367- INFO•\tgenerating config file output/quickbb.29431675.cnf\n",
      "2020-03-10 21:07:31,370- INFO•\texcecuting quickbb: ./quickbb/quickbb_64  --min-fill-ordering --time 60 --cnffile output/quickbb.29431675.cnf \n",
      "\n",
      "\n",
      " 82%|████████▎ | 99/120 [1:48:01<27:29, 78.53s/it]\u001b[A\u001b[A2020-03-10 21:08:46,014- INFO•\tgenerating config file output/quickbb.62566272.cnf\n",
      "2020-03-10 21:08:46,026- INFO•\texcecuting quickbb: ./quickbb/quickbb_64  --min-fill-ordering --time 60 --cnffile output/quickbb.62566272.cnf \n",
      "\n",
      "\n",
      " 83%|████████▎ | 100/120 [1:49:14<25:41, 77.07s/it]\u001b[A\u001b[A2020-03-10 21:09:59,657- INFO•\tgenerating config file output/quickbb.85232756.cnf\n",
      "2020-03-10 21:09:59,661- INFO•\texcecuting quickbb: ./quickbb/quickbb_64  --min-fill-ordering --time 60 --cnffile output/quickbb.85232756.cnf \n",
      "\n",
      "\n",
      " 84%|████████▍ | 101/120 [1:50:27<23:57, 75.66s/it]\u001b[A\u001b[A2020-03-10 21:11:12,017- INFO•\tgenerating config file output/quickbb.67633739.cnf\n",
      "2020-03-10 21:11:12,021- INFO•\texcecuting quickbb: ./quickbb/quickbb_64  --min-fill-ordering --time 60 --cnffile output/quickbb.67633739.cnf \n",
      "\n",
      "\n",
      " 85%|████████▌ | 102/120 [1:51:41<22:34, 75.23s/it]\u001b[A\u001b[A2020-03-10 21:12:26,277- INFO•\tgenerating config file output/quickbb.06031250.cnf\n",
      "2020-03-10 21:12:26,283- INFO•\texcecuting quickbb: ./quickbb/quickbb_64  --min-fill-ordering --time 60 --cnffile output/quickbb.06031250.cnf \n",
      "\n",
      "\n",
      " 86%|████████▌ | 103/120 [1:52:50<20:46, 73.35s/it]\u001b[A\u001b[A2020-03-10 21:13:35,249- INFO•\tgenerating config file output/quickbb.23949184.cnf\n",
      "2020-03-10 21:13:35,252- INFO•\texcecuting quickbb: ./quickbb/quickbb_64  --min-fill-ordering --time 60 --cnffile output/quickbb.23949184.cnf \n",
      "\n",
      "\n",
      " 87%|████████▋ | 104/120 [1:54:14<20:24, 76.55s/it]\u001b[A\u001b[A2020-03-10 21:14:59,289- INFO•\tgenerating config file output/quickbb.56708869.cnf\n",
      "2020-03-10 21:14:59,295- INFO•\texcecuting quickbb: ./quickbb/quickbb_64  --min-fill-ordering --time 60 --cnffile output/quickbb.56708869.cnf \n",
      "\n",
      "\n",
      " 88%|████████▊ | 105/120 [1:55:24<18:39, 74.62s/it]\u001b[A\u001b[A2020-03-10 21:16:09,324- INFO•\tgenerating config file output/quickbb.77473540.cnf\n",
      "2020-03-10 21:16:09,328- INFO•\texcecuting quickbb: ./quickbb/quickbb_64  --min-fill-ordering --time 60 --cnffile output/quickbb.77473540.cnf \n",
      "\n",
      "\n",
      " 88%|████████▊ | 106/120 [1:56:33<17:00, 72.89s/it]\u001b[A\u001b[A2020-03-10 21:17:18,170- INFO•\tgenerating config file output/quickbb.00250402.cnf\n",
      "2020-03-10 21:17:18,173- INFO•\texcecuting quickbb: ./quickbb/quickbb_64  --min-fill-ordering --time 60 --cnffile output/quickbb.00250402.cnf \n",
      "\n",
      "\n",
      " 89%|████████▉ | 107/120 [1:57:44<15:42, 72.49s/it]\u001b[A\u001b[A2020-03-10 21:18:29,740- INFO•\tgenerating config file output/quickbb.16396837.cnf\n",
      "2020-03-10 21:18:29,743- INFO•\texcecuting quickbb: ./quickbb/quickbb_64  --min-fill-ordering --time 60 --cnffile output/quickbb.16396837.cnf \n",
      "\n",
      "\n",
      " 90%|█████████ | 108/120 [1:58:54<14:20, 71.74s/it]\u001b[A\u001b[A2020-03-10 21:19:39,721- INFO•\tgenerating config file output/quickbb.35919155.cnf\n",
      "2020-03-10 21:19:39,726- INFO•\texcecuting quickbb: ./quickbb/quickbb_64  --min-fill-ordering --time 60 --cnffile output/quickbb.35919155.cnf \n",
      "\n",
      "\n",
      " 91%|█████████ | 109/120 [1:59:55<12:33, 68.54s/it]\u001b[A\u001b[A2020-03-10 21:20:40,864- INFO•\tgenerating config file output/quickbb.87540803.cnf\n",
      "2020-03-10 21:20:40,867- INFO•\texcecuting quickbb: ./quickbb/quickbb_64  --min-fill-ordering --time 60 --cnffile output/quickbb.87540803.cnf \n",
      "\n",
      "\n",
      " 92%|█████████▏| 110/120 [2:00:57<11:03, 66.37s/it]\u001b[A\u001b[A2020-03-10 21:21:42,145- INFO•\tgenerating config file output/quickbb.51385334.cnf\n",
      "2020-03-10 21:21:42,151- INFO•\texcecuting quickbb: ./quickbb/quickbb_64  --min-fill-ordering --time 60 --cnffile output/quickbb.51385334.cnf \n",
      "\n",
      "\n",
      " 92%|█████████▎| 111/120 [2:01:59<09:46, 65.14s/it]\u001b[A\u001b[A2020-03-10 21:22:44,371- INFO•\tgenerating config file output/quickbb.44864753.cnf\n",
      "2020-03-10 21:22:44,376- INFO•\texcecuting quickbb: ./quickbb/quickbb_64  --min-fill-ordering --time 60 --cnffile output/quickbb.44864753.cnf \n",
      "\n",
      "\n",
      " 93%|█████████▎| 112/120 [2:03:03<08:37, 64.67s/it]\u001b[A\u001b[A2020-03-10 21:23:48,025- INFO•\tgenerating config file output/quickbb.04810777.cnf\n",
      "2020-03-10 21:23:48,066- INFO•\texcecuting quickbb: ./quickbb/quickbb_64  --min-fill-ordering --time 60 --cnffile output/quickbb.04810777.cnf \n",
      "\n",
      "\n",
      " 94%|█████████▍| 113/120 [2:04:06<07:31, 64.45s/it]\u001b[A\u001b[A2020-03-10 21:24:51,955- INFO•\tgenerating config file output/quickbb.06777111.cnf\n",
      "2020-03-10 21:24:51,959- INFO•\texcecuting quickbb: ./quickbb/quickbb_64  --min-fill-ordering --time 60 --cnffile output/quickbb.06777111.cnf \n",
      "\n",
      "\n",
      " 95%|█████████▌| 114/120 [2:05:08<06:22, 63.73s/it]\u001b[A\u001b[A2020-03-10 21:25:53,936- INFO•\tgenerating config file output/quickbb.31263791.cnf\n",
      "2020-03-10 21:25:53,941- INFO•\texcecuting quickbb: ./quickbb/quickbb_64  --min-fill-ordering --time 60 --cnffile output/quickbb.31263791.cnf \n",
      "\n",
      "\n",
      " 96%|█████████▌| 115/120 [2:06:09<05:14, 62.85s/it]\u001b[A\u001b[A2020-03-10 21:26:54,716- INFO•\tgenerating config file output/quickbb.68602373.cnf\n",
      "2020-03-10 21:26:54,720- INFO•\texcecuting quickbb: ./quickbb/quickbb_64  --min-fill-ordering --time 60 --cnffile output/quickbb.68602373.cnf \n"
     ]
    },
    {
     "name": "stderr",
     "output_type": "stream",
     "text": [
      "\n",
      "\n",
      " 97%|█████████▋| 116/120 [2:07:11<04:09, 62.37s/it]\u001b[A\u001b[A2020-03-10 21:27:56,061- INFO•\tgenerating config file output/quickbb.24556184.cnf\n",
      "2020-03-10 21:27:56,066- INFO•\texcecuting quickbb: ./quickbb/quickbb_64  --min-fill-ordering --time 60 --cnffile output/quickbb.24556184.cnf \n",
      "\n",
      "\n",
      " 98%|█████████▊| 117/120 [2:08:12<03:06, 62.18s/it]\u001b[A\u001b[A2020-03-10 21:28:57,721- INFO•\tgenerating config file output/quickbb.98347897.cnf\n",
      "2020-03-10 21:28:57,725- INFO•\texcecuting quickbb: ./quickbb/quickbb_64  --min-fill-ordering --time 60 --cnffile output/quickbb.98347897.cnf \n",
      "\n",
      "\n",
      " 98%|█████████▊| 118/120 [2:09:13<02:03, 61.88s/it]\u001b[A\u001b[A2020-03-10 21:29:58,884- INFO•\tgenerating config file output/quickbb.84430191.cnf\n",
      "2020-03-10 21:29:58,887- INFO•\texcecuting quickbb: ./quickbb/quickbb_64  --min-fill-ordering --time 60 --cnffile output/quickbb.84430191.cnf \n",
      "\n",
      "\n",
      " 99%|█████████▉| 119/120 [2:10:14<01:01, 61.54s/it]\u001b[A\u001b[A2020-03-10 21:30:59,636- INFO•\tgenerating config file output/quickbb.26334088.cnf\n",
      "2020-03-10 21:30:59,639- INFO•\texcecuting quickbb: ./quickbb/quickbb_64  --min-fill-ordering --time 60 --cnffile output/quickbb.26334088.cnf \n",
      "\n",
      "\n",
      "100%|██████████| 120/120 [2:11:15<00:00, 65.63s/it]\u001b[A\u001b[A\n"
     ]
    }
   ],
   "source": [
    "peos_par = [ get_qbb_peo(g) for g in tqdm( parallelized_g ) ]"
   ]
  },
  {
   "cell_type": "code",
   "execution_count": 280,
   "metadata": {
    "ExecuteTime": {
     "end_time": "2020-03-11T02:46:01.057615Z",
     "start_time": "2020-03-11T02:46:00.999284Z"
    }
   },
   "outputs": [],
   "source": [
    "tqdm._instances.clear()\n"
   ]
  },
  {
   "cell_type": "code",
   "execution_count": 281,
   "metadata": {
    "ExecuteTime": {
     "end_time": "2020-03-11T02:56:22.932457Z",
     "start_time": "2020-03-11T02:46:01.200608Z"
    },
    "scrolled": false
   },
   "outputs": [
    {
     "name": "stderr",
     "output_type": "stream",
     "text": [
      "  0%|          | 0/120 [2:26:10<?, ?it/s]\n",
      "  2%|▏         | 2/120 [2:27:41<145:13:27, 4430.57s/it]\n",
      "100%|██████████| 120/120 [10:21<00:00,  5.18s/it]\n"
     ]
    }
   ],
   "source": [
    "costs_all = [cost_graph_peo(g, p) for g, p in \n",
    "           tqdm(\n",
    "               list(\n",
    "                   zip(\n",
    "                       parallelized_g, peos_par\n",
    "                   )\n",
    "               )\n",
    "           )]"
   ]
  },
  {
   "cell_type": "code",
   "execution_count": null,
   "metadata": {
    "ExecuteTime": {
     "end_time": "2020-03-10T21:05:20.061360Z",
     "start_time": "2020-03-10T21:05:20.018360Z"
    }
   },
   "outputs": [],
   "source": []
  },
  {
   "cell_type": "code",
   "execution_count": 282,
   "metadata": {
    "ExecuteTime": {
     "end_time": "2020-03-11T02:56:29.586838Z",
     "start_time": "2020-03-11T02:56:29.533157Z"
    },
    "scrolled": false
   },
   "outputs": [],
   "source": [
    "mems = [max(m) for m,_ in costs_all ]"
   ]
  },
  {
   "cell_type": "code",
   "execution_count": 283,
   "metadata": {
    "ExecuteTime": {
     "end_time": "2020-03-11T02:56:31.030359Z",
     "start_time": "2020-03-11T02:56:30.990359Z"
    }
   },
   "outputs": [
    {
     "data": {
      "text/plain": [
       "array([[[   501816,    235560,    471074,    130282,    136242,\n",
       "             68164],\n",
       "        [   490318,    507970,    176254,     78798,    235552,\n",
       "             66616],\n",
       "        [   287854,    471074,    268656,    267830,    289700,\n",
       "            135506],\n",
       "        [   501816,    951370,    951370,    942154,    247860,\n",
       "             36888],\n",
       "        [   502620,    920612,    483362,    483362,    239622,\n",
       "            123952]],\n",
       "\n",
       "       [[  4121682,   7389224,   2146984,   3918956,   1025082,\n",
       "            538682],\n",
       "        [  3866664,   3765330,   1862732,   7506010,   1970238,\n",
       "           3694632],\n",
       "        [  3900686,  30244948,   3857514,   3765348,   2025596,\n",
       "           7757880],\n",
       "        [  4164684,   3869770,   3866680,   3869770,    923684,\n",
       "            283246],\n",
       "        [  4164684,   3869770,   3878964,   3866680,   3866680,\n",
       "            982130]],\n",
       "\n",
       "       [[  7856204,  15036536,   7579722,  14818400,   3719206,\n",
       "           3713090],\n",
       "        [ 14713924,   7576698,  14833740,  29556782,   7807046,\n",
       "           3719216],\n",
       "        [ 14864484,  29556782,  29679688,   7917686,  15521880,\n",
       "          15110286],\n",
       "        [  7825590,   7847008,   8344686,  14729260,   7589022,\n",
       "           1859630],\n",
       "        [  7389234,  14876724,  29437018,   7490642,   3922010,\n",
       "           3676208]],\n",
       "\n",
       "       [[955572374, 235765838, 236257374,  59777180, 236011640,\n",
       "         118226994],\n",
       "        [473399432,  59832492, 235274292, 237953208, 117687128,\n",
       "          59506736],\n",
       "        [120094850, 471285878, 122417366,  62111824, 120469678,\n",
       "         238125168],\n",
       "        [238813280, 241934480, 117833778, 470548542, 119136346,\n",
       "         119406662],\n",
       "        [122380402, 236552308, 239206506, 118816872, 470155318,\n",
       "          60293168]]])"
      ]
     },
     "execution_count": 283,
     "metadata": {},
     "output_type": "execute_result"
    }
   ],
   "source": [
    "_data = np.array(mems).reshape(len(sizes), 5, len(par_vars)) \n",
    "\n",
    "_data"
   ]
  },
  {
   "cell_type": "code",
   "execution_count": 284,
   "metadata": {
    "ExecuteTime": {
     "end_time": "2020-03-11T02:56:32.635157Z",
     "start_time": "2020-03-11T02:56:32.478242Z"
    },
    "scrolled": false
   },
   "outputs": [],
   "source": [
    "def trid_plot(x, y, labels, dimspec=(0,1,2)): \n",
    "    y = y.transpose(dimspec)\n",
    "    plot_cnt = y.shape[0]\n",
    "    line_cnt = y.shape[1]\n",
    "    def _label_of(dim, idx):\n",
    "        return labels[dim] + ' ' + str(x[dim][idx])\n",
    "    \n",
    "    fig, axs = plt.subplots(1, plot_cnt, sharey=True, figsize=(15,4))\n",
    "    try:\n",
    "        iter(axs)\n",
    "    except TypeError:\n",
    "        axs = [axs]\n",
    "    for i, ax in enumerate(axs):\n",
    "        plt.sca(ax)\n",
    "        plt.title(_label_of(0, i))\n",
    "        for j in range(line_cnt):\n",
    "            plt.plot(x[2], y[i,j], label=_label_of(1, j))\n",
    "            plt.xlabel(labels[2])\n",
    "            plt.yscale('log')\n",
    "            plt.legend()\n",
    "    "
   ]
  },
  {
   "cell_type": "code",
   "execution_count": 286,
   "metadata": {
    "ExecuteTime": {
     "end_time": "2020-03-11T02:59:21.398753Z",
     "start_time": "2020-03-11T02:59:18.132949Z"
    },
    "scrolled": false
   },
   "outputs": [
    {
     "data": {
      "image/png": "[encoded data removed]",
      "text/plain": [
       "<Figure size 1080x288 with 5 Axes>"
      ]
     },
     "metadata": {},
     "output_type": "display_data"
    }
   ],
   "source": [
    "xs = [np.arange(5), sizes, par_vars]\n",
    "trid_plot(xs, _data, ['Chop part', 'Task size', 'Par vars'],(1,0,2))\n",
    "plt.suptitle('Parallelisation with chopping, naive peo')\n",
    "plt.savefig('ifchop_analys_qbbpeo.pdf')"
   ]
  },
  {
   "cell_type": "code",
   "execution_count": null,
   "metadata": {
    "ExecuteTime": {
     "end_time": "2020-03-11T00:16:18.293479Z",
     "start_time": "2020-03-11T00:16:13.808Z"
    }
   },
   "outputs": [],
   "source": [
    "_chopcost = np.array(costs_before_chop).reshape(len(sizes), 5, 1)\n",
    "trid_plot([' ', sizes, range(5)], _chopcost, ['Chop cost', 'Task size', 'Chop part'], (2,0,1))"
   ]
  },
  {
   "cell_type": "code",
   "execution_count": null,
   "metadata": {
    "ExecuteTime": {
     "end_time": "2020-03-11T00:16:18.295333Z",
     "start_time": "2020-03-11T00:16:13.812Z"
    }
   },
   "outputs": [],
   "source": [
    "utils.plot_cost(*costs[-1])"
   ]
  },
  {
   "cell_type": "code",
   "execution_count": null,
   "metadata": {
    "ExecuteTime": {
     "end_time": "2020-03-11T00:16:18.297065Z",
     "start_time": "2020-03-11T00:16:13.818Z"
    }
   },
   "outputs": [],
   "source": [
    "_cost_before_chop([600, 800, 905, 950],  costs[-1])"
   ]
  },
  {
   "cell_type": "markdown",
   "metadata": {
    "lines_to_next_cell": 2
   },
   "source": [
    "\n",
    "# Profiling actual simulation\n"
   ]
  },
  {
   "cell_type": "code",
   "execution_count": null,
   "metadata": {
    "ExecuteTime": {
     "end_time": "2020-03-11T00:16:18.298665Z",
     "start_time": "2020-03-11T00:16:14.217Z"
    },
    "lines_to_next_cell": 2
   },
   "outputs": [],
   "source": [
    "from pyrofiler import mem_util, timed, timing\n",
    "from pyrofiler.callbacks import append_to"
   ]
  },
  {
   "cell_type": "code",
   "execution_count": null,
   "metadata": {
    "ExecuteTime": {
     "end_time": "2020-03-11T00:16:18.300090Z",
     "start_time": "2020-03-11T00:16:14.222Z"
    }
   },
   "outputs": [],
   "source": [
    "profile = {}\n",
    "\n",
    "@mem_util(description='mem', callback=append_to(profile))\n",
    "@timed('time', callback=append_to(profile))\n",
    "@log.catch()\n",
    "def simulate_circ(circuit, n_qubits):\n",
    "    buckets, data_dict, bra_vars, ket_vars = qtree.optimizer.circ2buckets(\n",
    "        n_qubits, circuit)\n",
    "\n",
    "    graph = qtree.graph_model.buckets2graph(\n",
    "        buckets,\n",
    "        ignore_variables=bra_vars+ket_vars)\n",
    "\n",
    "    peo, nghs = utils.get_locale_peo(graph, utils.n_neighbors)\n",
    "    peo = qtree.graph_model.indices_to_vars(peo, graph)\n",
    "    \n",
    "    # place bra and ket variables to beginning, so these variables\n",
    "    # will be contracted first\n",
    "    #peo, treewidth = qtree.graph_model.get_peo(graph)\n",
    "\n",
    "    peo = ket_vars + bra_vars + peo\n",
    "    perm_buckets, perm_dict = qtree.optimizer.reorder_buckets(buckets, peo)\n",
    "\n",
    "    # extract bra and ket variables from variable list and sort according\n",
    "    # to qubit order\n",
    "    ket_vars = sorted([perm_dict[idx] for idx in ket_vars], key=str)\n",
    "    bra_vars = sorted([perm_dict[idx] for idx in bra_vars], key=str)\n",
    "\n",
    "    # Take the subtensor corresponding to the initial state\n",
    "    initial_state = target_state = 0\n",
    "    slice_dict = qtree.utils.slice_from_bits(initial_state, ket_vars)\n",
    "    slice_dict.update(\n",
    "        qtree.utils.slice_from_bits(target_state, bra_vars)\n",
    "    )\n",
    "    sliced_buckets = qtree.np_framework.get_sliced_np_buckets(\n",
    "        perm_buckets, data_dict, slice_dict)\n",
    "    \n",
    "    with timing('time_raw', callback=append_to(profile)):\n",
    "        result = qtree.optimizer.bucket_elimination(\n",
    "            sliced_buckets, qtree.np_framework.process_bucket_np)\n",
    "        "
   ]
  },
  {
   "cell_type": "code",
   "execution_count": null,
   "metadata": {
    "ExecuteTime": {
     "end_time": "2020-03-11T00:16:18.301375Z",
     "start_time": "2020-03-11T00:16:14.227Z"
    }
   },
   "outputs": [],
   "source": [
    "for key in profile:\n",
    "    profile[key] = []\n",
    "    \n",
    "profile['N'] = []\n",
    "sizes = np.arange(5,27) \n",
    "\n",
    "for S in sizes[:]:\n",
    "    qc, N = get_test_qaoa(S)\n",
    "    profile['N'].append(N)\n",
    "    print(N,'qubits')\n",
    "    result = simulate_circ(qc, N)"
   ]
  },
  {
   "cell_type": "code",
   "execution_count": null,
   "metadata": {
    "ExecuteTime": {
     "end_time": "2020-03-11T00:16:18.303820Z",
     "start_time": "2020-03-11T00:16:14.230Z"
    }
   },
   "outputs": [],
   "source": [
    "ns = profile['N']\n",
    "\n",
    "def to_flop(secs):\n",
    "    secs = np.array(secs)\n",
    "    secs *= .3*1e12\n",
    "    return secs\n",
    "def to_nums(mems):\n",
    "    mems = np.array(mems)\n",
    "    mems = mems/16\n",
    "    return mems\n",
    "\n",
    "mems = to_nums(profile['mem'])\n",
    "#mems -= np.min(mems)\n",
    "\n",
    "\n",
    "plt.plot(ns, to_flop(profile['time_raw']), label='time raw')\n",
    "plt.plot(ns, to_flop(profile['time']), label='time')\n",
    "plt.plot(ns, mems, label='mem')\n",
    "plt.legend()\n",
    "plt.yscale('log')\n",
    "plt.xscale('log')"
   ]
  },
  {
   "cell_type": "code",
   "execution_count": null,
   "metadata": {
    "ExecuteTime": {
     "end_time": "2020-03-11T00:16:18.305602Z",
     "start_time": "2020-03-11T00:16:14.234Z"
    }
   },
   "outputs": [],
   "source": [
    "# Sizes for theory\n",
    "sizes = np.arange(3,21)"
   ]
  },
  {
   "cell_type": "code",
   "execution_count": null,
   "metadata": {
    "ExecuteTime": {
     "end_time": "2020-03-11T00:16:18.307294Z",
     "start_time": "2020-03-11T00:16:14.240Z"
    }
   },
   "outputs": [],
   "source": [
    "results = [\n",
    "   get_cost_of_task(s) for s in sizes\n",
    "]\n",
    "sums = [[sum(x) for x in y[:3]] for y in results]\n",
    "memsums, flopsums, nghssums = zip(*sums)\n",
    "ns_theory = list(zip(*results))[3]"
   ]
  },
  {
   "cell_type": "code",
   "execution_count": null,
   "metadata": {
    "ExecuteTime": {
     "end_time": "2020-03-11T00:16:18.308926Z",
     "start_time": "2020-03-11T00:16:14.243Z"
    },
    "lines_to_next_cell": 0
   },
   "outputs": [],
   "source": [
    "est, mem_est = get_est(ns_theory, memsums)\n",
    "est, flop_est = get_est(ns_theory, flopsums)\n",
    "\n",
    "fig, axs = plt.subplots(1,2, figsize=(12,5))\n",
    "\n",
    "plt.sca(axs[0])\n",
    "log_log_scale()\n",
    "minorticks()\n",
    "plt.plot(ns_theory, memsums, label='theory')\n",
    "plt.plot(ns, mems, label='experiment')\n",
    "plt.plot(est, mem_est, '--', label='log-log fit')\n",
    "plt.legend()\n",
    "plt.title('Memory')\n",
    "plt.xlabel('Number of qbits')\n",
    "\n",
    "plt.sca(axs[1])\n",
    "log_log_scale()\n",
    "minorticks()\n",
    "plt.plot(ns_theory, flopsums, label='theory')\n",
    "plt.plot(ns, to_flop(profile['time']), label='experiment')\n",
    "plt.plot(ns, to_flop(profile['time_raw']), label='experiment raw')\n",
    "plt.plot(est, flop_est, '--', label='log-log fit')\n",
    "\n",
    "plt.xlabel('Number of qbits')\n",
    "\n",
    "plt.suptitle('QAOA one amplitude simulation cost', fontsize=14)\n",
    "plt.title('FLOP')\n",
    "plt.legend()\n"
   ]
  },
  {
   "cell_type": "code",
   "execution_count": null,
   "metadata": {
    "ExecuteTime": {
     "end_time": "2020-03-11T00:16:18.311948Z",
     "start_time": "2020-03-11T00:16:14.339Z"
    }
   },
   "outputs": [],
   "source": [
    "filename = 'qaoa_cost_theory_exp'\n",
    "plt.savefig(f'qaoa/figures/{filename}.png')\n",
    "plt.savefig(f'qaoa/figures/{filename}.pdf')"
   ]
  }
 ],
 "metadata": {
  "jupytext": {
   "formats": "ipynb,py"
  },
  "kernelspec": {
   "display_name": "Python 3",
   "language": "python",
   "name": "python3"
  },
  "language_info": {
   "codemirror_mode": {
    "name": "ipython",
    "version": 3
   },
   "file_extension": ".py",
   "mimetype": "text/x-python",
   "name": "python",
   "nbconvert_exporter": "python",
   "pygments_lexer": "ipython3",
   "version": "3.7.7rc1+"
  },
  "toc": {
   "base_numbering": 1,
   "nav_menu": {},
   "number_sections": true,
   "sideBar": true,
   "skip_h1_title": false,
   "title_cell": "Table of Contents",
   "title_sidebar": "Contents",
   "toc_cell": true,
   "toc_position": {
    "height": "calc(100% - 180px)",
    "left": "10px",
    "top": "150px",
    "width": "165px"
   },
   "toc_section_display": true,
   "toc_window_display": true
  }
 },
 "nbformat": 4,
 "nbformat_minor": 2
}
