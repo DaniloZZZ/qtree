{
 "cells": [
  {
   "cell_type": "markdown",
   "metadata": {
    "toc": true
   },
   "source": [
    "<h1>Table of Contents<span class=\"tocSkip\"></span></h1>\n",
    "<div class=\"toc\"><ul class=\"toc-item\"><li><span><a href=\"#Analyse-chopping\" data-toc-modified-id=\"Analyse-chopping-1\"><span class=\"toc-item-num\">1&nbsp;&nbsp;</span>Analyse chopping</a></span><ul class=\"toc-item\"><li><span><a href=\"#Optimal-chops-search-for-task\" data-toc-modified-id=\"Optimal-chops-search-for-task-1.1\"><span class=\"toc-item-num\">1.1&nbsp;&nbsp;</span>Optimal chops search for task</a></span></li></ul></li></ul></div>"
   ]
  },
  {
   "cell_type": "code",
   "execution_count": null,
   "metadata": {},
   "outputs": [],
   "source": [
    "import sys\n",
    "sys.path.append('..')\n",
    "sys.path.append('./qaoa')"
   ]
  },
  {
   "cell_type": "code",
   "execution_count": null,
   "metadata": {
    "lines_to_next_cell": 2
   },
   "outputs": [],
   "source": [
    "import pyrofiler as prof\n",
    "from multiprocessing.dummy import Pool\n",
    "import utils_qaoa as qaoa\n",
    "import utils\n",
    "import numpy as np\n",
    "import qtree\n",
    "import copy\n",
    "from tqdm import tqdm\n",
    "import matplotlib.pyplot as plt\n",
    "import seaborn as sns\n",
    "import memcached_qaoa_utils as cached_utils\n",
    "sns.set_style('whitegrid')\n",
    "%load_ext autoreload\n",
    "%autoreload 2"
   ]
  },
  {
   "cell_type": "markdown",
   "metadata": {},
   "source": [
    "# Analyse chopping\n"
   ]
  },
  {
   "cell_type": "code",
   "execution_count": null,
   "metadata": {},
   "outputs": [],
   "source": [
    "chop_pts = 3\n",
    "def get_chop_idxs(graph, peo, cost, nghs):\n",
    "    drop_idx = get_chop_dn_drop(nghs)\n",
    "    min_idx = np.argmin(cost[0][:drop_idx])\n",
    "    before_min = min_idx - (drop_idx-min_idx)\n",
    "    on_plato = 2 * min_idx // 3\n",
    "        \n",
    "    return min_idx, drop_idx, drop_idx+5\n",
    "\n",
    "def _cost_before_chop(idxs, cost):\n",
    "    mems, floats = cost\n",
    "    before_mem = [max(mems[:i]) for i in idxs]\n",
    "    return before_mem\n",
    "\n",
    "def get_chop_dn_drop(nghs):\n",
    "    nghs = np.array(nghs)\n",
    "    dn = nghs[1:] - nghs[:-1]\n",
    "    neg_idx = [i for i, n in enumerate(dn) if n<0]\n",
    "    pos_idx = [i for i, n in enumerate(dn) if n>0]\n",
    "    drop_idx = neg_idx[0]\n",
    "    pos_idx.reverse()\n",
    "    before_drop = [i for i in pos_idx if i<drop_idx]\n",
    "    return before_drop[0] - 1"
   ]
  },
  {
   "cell_type": "code",
   "execution_count": null,
   "metadata": {},
   "outputs": [],
   "source": [
    "peo, nghs= cached_utils.neigh_peo(23)\n",
    "costs = cached_utils.graph_contraction_costs(23, peo)\n",
    "utils.plot_cost(*costs)"
   ]
  },
  {
   "cell_type": "code",
   "execution_count": null,
   "metadata": {},
   "outputs": [],
   "source": [
    "sizes = [12, 13]\n",
    "\n",
    "tasks = [cached_utils.qaoa_expr_graph(s) for s in sizes]\n",
    "graphs, qbit_sizes = zip(*tasks)\n"
   ]
  },
  {
   "cell_type": "code",
   "execution_count": null,
   "metadata": {
    "lines_to_next_cell": 2
   },
   "outputs": [],
   "source": [
    "print('Qubit sizes', qbit_sizes)\n",
    "pool = Pool(processes=1)"
   ]
  },
  {
   "cell_type": "code",
   "execution_count": null,
   "metadata": {},
   "outputs": [],
   "source": [
    "peos_n = pool.map(cached_utils.neigh_peo, sizes)\n",
    "peos, nghs = zip(*peos_n)"
   ]
  },
  {
   "cell_type": "code",
   "execution_count": null,
   "metadata": {},
   "outputs": [],
   "source": [
    "\n",
    "with prof.timing('Get full costs naive'):\n",
    "    costs = pool.map(cached_data.graph_contraction_costs, zip(sizes, peos))\n",
    "\n",
    "raise"
   ]
  },
  {
   "cell_type": "code",
   "execution_count": null,
   "metadata": {},
   "outputs": [],
   "source": [
    "chopped_g = [\n",
    "    contract_by_peo(g, peo[:_idx]) \n",
    "    for g, peo, cost, ng in tqdm( zip(graphs, peos, costs, nghs) )\n",
    "    for _idx in get_chop_idxs(g, peo, cost, ng)\n",
    "]\n",
    "\n",
    "costs_before_chop = [\n",
    "    mem\n",
    "    for g, peo, cost, ng in tqdm( zip(graphs, peos, costs, nghs) )\n",
    "    for mem in _cost_before_chop(get_chop_idxs(g, peo, cost, ng), cost)\n",
    "]"
   ]
  },
  {
   "cell_type": "code",
   "execution_count": null,
   "metadata": {},
   "outputs": [],
   "source": [
    "print('contracted graphs', [g.number_of_nodes() for g in chopped_g])\n",
    "\n",
    "print('costs before chop', costs_before_chop)"
   ]
  },
  {
   "cell_type": "code",
   "execution_count": null,
   "metadata": {},
   "outputs": [],
   "source": [
    "par_vars = [0,1,2,5, 7, 12]\n",
    "\n",
    "parallelized_g = [\n",
    "    g\n",
    "    for graph in chopped_g\n",
    "    for parvar in par_vars\n",
    "    for  _, g in [qtree.graph_model.split_graph_by_metric(graph, n_var_parallel=parvar)]\n",
    "]"
   ]
  },
  {
   "cell_type": "code",
   "execution_count": null,
   "metadata": {},
   "outputs": [],
   "source": [
    "print('parallelised graphs', [g.number_of_nodes() for g in parallelized_g])"
   ]
  },
  {
   "cell_type": "code",
   "execution_count": null,
   "metadata": {},
   "outputs": [],
   "source": [
    "def n_peo(graph):\n",
    "    return utils.get_locale_peo(graph, utils.n_neighbors)\n",
    "_pg_peos = tqdm(list(zip(parallelized_g, peos_par)))\n",
    "with prof.timing('peos chopped'):\n",
    "    peos_par_n = pool.map(n_peo, tqdm(parallelized_g))\n",
    "peos_par, nghs_par = zip(*peos_par_n)"
   ]
  },
  {
   "cell_type": "code",
   "execution_count": null,
   "metadata": {},
   "outputs": [],
   "source": [
    "def get_qbb_peo(graph):\n",
    "    try:\n",
    "        peo, tw = qtree.graph_model.get_peo(graph)\n",
    "        fail = False\n",
    "    except:\n",
    "        print('QBB fail, nodes count:', graph.number_of_nodes())\n",
    "        peo, nghs = utils.get_locale_peo(graph, utils.n_neighbors)\n",
    "        fail = True\n",
    "    return peo, fail"
   ]
  },
  {
   "cell_type": "code",
   "execution_count": null,
   "metadata": {},
   "outputs": [],
   "source": [
    "peos_par = [ get_qbb_peo(g) for g in tqdm( parallelized_g ) ]\n",
    "peos_par, fails_qbb = zip(*peos_par)"
   ]
  },
  {
   "cell_type": "code",
   "execution_count": null,
   "metadata": {
    "lines_to_next_cell": 2
   },
   "outputs": [],
   "source": [
    "tqdm._instances.clear()"
   ]
  },
  {
   "cell_type": "code",
   "execution_count": null,
   "metadata": {
    "lines_to_next_cell": 2
   },
   "outputs": [],
   "source": [
    "_pg_peos = tqdm(list(zip(parallelized_g, peos_par)))\n",
    "with prof.timing('Costs chopped'):\n",
    "    costs_all = pool.map(_get_cost, _pg_peos)"
   ]
  },
  {
   "cell_type": "code",
   "execution_count": null,
   "metadata": {},
   "outputs": [],
   "source": [
    "experiment_name = 'small_chops_test'"
   ]
  },
  {
   "cell_type": "code",
   "execution_count": null,
   "metadata": {},
   "outputs": [],
   "source": [
    "mems = [max(m) for m,_ in costs_all ]"
   ]
  },
  {
   "cell_type": "code",
   "execution_count": null,
   "metadata": {},
   "outputs": [],
   "source": [
    "_data = np.array(mems).reshape(len(sizes), chop_pts, len(par_vars)) \n",
    "\n",
    "print(_data)\n",
    "np.save(f'cached_data/{experiment_name}',_data)"
   ]
  },
  {
   "cell_type": "code",
   "execution_count": null,
   "metadata": {},
   "outputs": [],
   "source": [
    "def trid_plot(x, y, labels, dimspec=(0,1,2), figsize=(15,4)): \n",
    "    y = y.transpose(dimspec)\n",
    "    plot_cnt = y.shape[0]\n",
    "    line_cnt = y.shape[1]\n",
    "    def _label_of(dim, idx):\n",
    "        return labels[dim] + ' ' + str(x[dim][idx])\n",
    "    \n",
    "    fig, axs = plt.subplots(1, plot_cnt, sharey=True, figsize=figsize)\n",
    "    try:\n",
    "        iter(axs)\n",
    "    except TypeError:\n",
    "        axs = [axs]\n",
    "    for i, ax in enumerate(axs):\n",
    "        plt.sca(ax)\n",
    "        plt.title(_label_of(0, i))\n",
    "        for j in range(line_cnt):\n",
    "            color=plt.cm.jet(j/line_cnt)\n",
    "            plt.plot(x[2], y[i,j],color=color, label=_label_of(1, j))\n",
    "            plt.xlabel(labels[2])\n",
    "            plt.yscale('log')\n",
    "            plt.minorticks_on()"
   ]
  },
  {
   "cell_type": "code",
   "execution_count": null,
   "metadata": {},
   "outputs": [],
   "source": [
    "%pwd"
   ]
  },
  {
   "cell_type": "code",
   "execution_count": null,
   "metadata": {
    "lines_to_next_cell": 2
   },
   "outputs": [],
   "source": [
    "sizes = np.arange(30,39)\n",
    "par_vars = [0,1,2,3,5,7,8,9,10,11,12]\n",
    "chop_pts = 12\n",
    "experiment_name='skylake_sums'\n",
    "_data = np.load('./cached_data/skylake_30-38_sum_flops.npy')\n",
    "print(_data.shape)"
   ]
  },
  {
   "cell_type": "code",
   "execution_count": null,
   "metadata": {},
   "outputs": [],
   "source": [
    "xs = [np.arange(chop_pts), sizes, par_vars]\n",
    "#xs = [sizes, par_vars, np.arange(chop_pts)]\n",
    "#names = ['Task size', 'Par vars', 'chop part']\n",
    "names = ['Chop point', 'Task size', 'par vars']\n",
    "\n",
    "trid_plot(xs, _data, names ,(1,0,2))\n",
    "plt.suptitle('Parallelisation with chopping, naive peo')\n",
    "plt.savefig(f'figures/chop_analysis__{experiment_name}.pdf')"
   ]
  },
  {
   "cell_type": "code",
   "execution_count": null,
   "metadata": {
    "lines_to_next_cell": 2
   },
   "outputs": [],
   "source": [
    "_chopcost = np.array(costs_before_chop).reshape(len(sizes), chop_pts, 1)\n",
    "trid_plot([' ', sizes, range(chop_pts)], _chopcost, ['Chop cost', 'Task size', 'Chop part'], (2,0,1))\n",
    "\n",
    "print(_chopcost)"
   ]
  },
  {
   "cell_type": "markdown",
   "metadata": {},
   "source": [
    "## Optimal chops search for task"
   ]
  },
  {
   "cell_type": "code",
   "execution_count": null,
   "metadata": {},
   "outputs": [],
   "source": [
    "optimal = _data.min(axis=1)\n",
    "optimal = optimal[..., np.newaxis]\n",
    "print(optimal.shape)"
   ]
  },
  {
   "cell_type": "code",
   "execution_count": null,
   "metadata": {},
   "outputs": [],
   "source": [
    "optimal\n",
    "xs = [' ', sizes, par_vars]\n",
    "trid_plot(xs, optimal, ['Cost scaling, memory sum', 'Task size', 'Par vars'], \n",
    "          (2,0,1), figsize=(6,10))\n",
    "plt.savefig(f'figures/skylake_30-38_optimal_{experiment_name}_mems.pdf')\n",
    "plt.legend()"
   ]
  },
  {
   "cell_type": "code",
   "execution_count": null,
   "metadata": {},
   "outputs": [],
   "source": [
    "optimal\n",
    "xs = [' ', sizes, par_vars]\n",
    "trid_plot(xs, optimal, ['Cost scaling, flop sum', 'Task size', 'Par vars'],\n",
    "          (2,0,1), figsize=(6,10))\n",
    "plt.legend()\n",
    "plt.savefig(f'figures/skylake_30-38_optimal_{experiment_name}_flops.pdf')"
   ]
  },
  {
   "cell_type": "code",
   "execution_count": null,
   "metadata": {},
   "outputs": [],
   "source": []
  }
 ],
 "metadata": {
  "jupytext": {
   "formats": "ipynb,py"
  },
  "kernelspec": {
   "display_name": "Python 3",
   "language": "python",
   "name": "python3"
  }
 },
 "nbformat": 4,
 "nbformat_minor": 2
}
