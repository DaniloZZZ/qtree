{
 "cells": [
  {
   "cell_type": "markdown",
   "metadata": {
    "toc": true
   },
   "source": [
    "<h1>Table of Contents<span class=\"tocSkip\"></span></h1>\n",
    "<div class=\"toc\"><ul class=\"toc-item\"><li><span><a href=\"#Analyse-chopping\" data-toc-modified-id=\"Analyse-chopping-1\"><span class=\"toc-item-num\">1&nbsp;&nbsp;</span>Analyse chopping</a></span></li></ul></div>"
   ]
  },
  {
   "cell_type": "code",
   "execution_count": 67,
   "metadata": {
    "ExecuteTime": {
     "end_time": "2020-03-12T00:27:20.814628Z",
     "start_time": "2020-03-12T00:27:20.631424Z"
    }
   },
   "outputs": [],
   "source": [
    "import sys\n",
    "sys.path.append('..')\n",
    "sys.path.append('./qaoa')"
   ]
  },
  {
   "cell_type": "code",
   "execution_count": 80,
   "metadata": {
    "ExecuteTime": {
     "end_time": "2020-03-12T00:29:39.690663Z",
     "start_time": "2020-03-12T00:29:39.202560Z"
    },
    "lines_to_next_cell": 2
   },
   "outputs": [
    {
     "name": "stdout",
     "output_type": "stream",
     "text": [
      "The autoreload extension is already loaded. To reload it, use:\n",
      "  %reload_ext autoreload\n"
     ]
    }
   ],
   "source": [
    "import pyrofiler as prof\n",
    "from multiprocessing.dummy import Pool\n",
    "import utils_qaoa as qaoa\n",
    "import utils\n",
    "import numpy as np\n",
    "import qtree\n",
    "import copy\n",
    "from tqdm import tqdm\n",
    "import matplotlib.pyplot as plt\n",
    "import seaborn as sns\n",
    "sns.set_style('whitegrid')\n",
    "%load_ext autoreload\n",
    "%autoreload 2"
   ]
  },
  {
   "cell_type": "markdown",
   "metadata": {},
   "source": [
    "# Analyse chopping\n"
   ]
  },
  {
   "cell_type": "code",
   "execution_count": 41,
   "metadata": {
    "ExecuteTime": {
     "end_time": "2020-03-12T00:15:05.509563Z",
     "start_time": "2020-03-12T00:15:05.480010Z"
    }
   },
   "outputs": [],
   "source": [
    "chop_pts = 3\n",
    "def get_chop_idxs(graph, peo, cost, nghs):\n",
    "    drop_idx = get_chop_dn_drop(nghs)\n",
    "    min_idx = np.argmin(cost[0][:drop_idx])\n",
    "    before_min = min_idx - (drop_idx-min_idx)\n",
    "    on_plato = 2 * min_idx // 3\n",
    "        \n",
    "    return min_idx, drop_idx, drop_idx+5\n",
    "\n",
    "def _cost_before_chop(idxs, cost):\n",
    "    mems, floats = cost\n",
    "    before_mem = [max(mems[:i]) for i in idxs]\n",
    "    return before_mem\n",
    "\n",
    "def get_chop_dn_drop(nghs):\n",
    "    nghs = np.array(nghs)\n",
    "    dn = nghs[1:] - nghs[:-1]\n",
    "    neg_idx = [i for i, n in enumerate(dn) if n<0]\n",
    "    pos_idx = [i for i, n in enumerate(dn) if n>0]\n",
    "    drop_idx = neg_idx[0]\n",
    "    pos_idx.reverse()\n",
    "    before_drop = [i for i in pos_idx if i<drop_idx]\n",
    "    return before_drop[0] - 1\n",
    "\n",
    "\n"
   ]
  },
  {
   "cell_type": "code",
   "execution_count": 42,
   "metadata": {
    "ExecuteTime": {
     "end_time": "2020-03-12T00:15:05.950915Z",
     "start_time": "2020-03-12T00:15:05.920222Z"
    }
   },
   "outputs": [],
   "source": [
    "def contract_by_peo(old_graph, peo):\n",
    "    graph = copy.deepcopy(old_graph)\n",
    "    for n in peo:\n",
    "        qtree.graph_model.eliminate_node(graph, n)\n",
    "    return graph"
   ]
  },
  {
   "cell_type": "code",
   "execution_count": 43,
   "metadata": {
    "ExecuteTime": {
     "end_time": "2020-03-12T00:15:06.551346Z",
     "start_time": "2020-03-12T00:15:06.300801Z"
    }
   },
   "outputs": [
    {
     "name": "stderr",
     "output_type": "stream",
     "text": [
      "2020-03-11 19:15:06,497- INFO•\tGenerated graph with 688 nodes and 1498 edges\n",
      "2020-03-11 19:15:06,547- INFO•\tGenerated graph with 742 nodes and 1617 edges\n"
     ]
    }
   ],
   "source": [
    "sizes = [12, 13]\n",
    "\n",
    "tasks = [qaoa.get_test_expr_graph(s, 1) for s in sizes]\n",
    "graphs =     [g for g, _ in tasks]\n",
    "qbit_sizes = [N for _, N in tasks]"
   ]
  },
  {
   "cell_type": "code",
   "execution_count": 44,
   "metadata": {
    "ExecuteTime": {
     "end_time": "2020-03-12T00:15:06.833467Z",
     "start_time": "2020-03-12T00:15:06.742095Z"
    }
   },
   "outputs": [
    {
     "name": "stdout",
     "output_type": "stream",
     "text": [
      "Qubit sizes [91, 98]\n"
     ]
    }
   ],
   "source": [
    "print('Qubit sizes', qbit_sizes)\n",
    "pool = Pool(processes=1)"
   ]
  },
  {
   "cell_type": "code",
   "execution_count": 45,
   "metadata": {
    "ExecuteTime": {
     "end_time": "2020-03-12T00:15:08.291218Z",
     "start_time": "2020-03-12T00:15:07.420323Z"
    }
   },
   "outputs": [],
   "source": [
    "def n_peo(graph):\n",
    "    return utils.get_locale_peo(graph, utils.n_neighbors)\n",
    "peos_n = pool.map(n_peo, graphs)\n",
    "peos, nghs = zip(*peos_n)"
   ]
  },
  {
   "cell_type": "code",
   "execution_count": 46,
   "metadata": {
    "ExecuteTime": {
     "end_time": "2020-03-12T00:15:11.320265Z",
     "start_time": "2020-03-12T00:15:08.293217Z"
    },
    "collapsed": true,
    "lines_to_next_cell": 2
   },
   "outputs": [
    {
     "ename": "KeyboardInterrupt",
     "evalue": "",
     "output_type": "error",
     "traceback": [
      "\u001b[0;31m---------------------------------------------------------------------------\u001b[0m",
      "\u001b[0;31mKeyboardInterrupt\u001b[0m                         Traceback (most recent call last)",
      "\u001b[0;32m<ipython-input-46-67fb47133ea4>\u001b[0m in \u001b[0;36m<module>\u001b[0;34m\u001b[0m\n\u001b[1;32m      2\u001b[0m \u001b[0;34m\u001b[0m\u001b[0m\n\u001b[1;32m      3\u001b[0m \u001b[0;32mwith\u001b[0m \u001b[0mprof\u001b[0m\u001b[0;34m.\u001b[0m\u001b[0mtiming\u001b[0m\u001b[0;34m(\u001b[0m\u001b[0;34m'Get full costs naive'\u001b[0m\u001b[0;34m)\u001b[0m\u001b[0;34m:\u001b[0m\u001b[0;34m\u001b[0m\u001b[0;34m\u001b[0m\u001b[0m\n\u001b[0;32m----> 4\u001b[0;31m     \u001b[0mcosts\u001b[0m \u001b[0;34m=\u001b[0m \u001b[0mpool\u001b[0m\u001b[0;34m.\u001b[0m\u001b[0mmap\u001b[0m\u001b[0;34m(\u001b[0m\u001b[0m_get_cost\u001b[0m\u001b[0;34m,\u001b[0m \u001b[0mzip\u001b[0m\u001b[0;34m(\u001b[0m\u001b[0mgraphs\u001b[0m\u001b[0;34m,\u001b[0m \u001b[0mpeos\u001b[0m\u001b[0;34m)\u001b[0m\u001b[0;34m)\u001b[0m\u001b[0;34m\u001b[0m\u001b[0;34m\u001b[0m\u001b[0m\n\u001b[0m",
      "\u001b[0;32m/usr/local/lib/python3.7/multiprocessing/pool.py\u001b[0m in \u001b[0;36mmap\u001b[0;34m(self, func, iterable, chunksize)\u001b[0m\n\u001b[1;32m    266\u001b[0m         \u001b[0;32min\u001b[0m \u001b[0ma\u001b[0m \u001b[0mlist\u001b[0m \u001b[0mthat\u001b[0m \u001b[0;32mis\u001b[0m \u001b[0mreturned\u001b[0m\u001b[0;34m.\u001b[0m\u001b[0;34m\u001b[0m\u001b[0;34m\u001b[0m\u001b[0m\n\u001b[1;32m    267\u001b[0m         '''\n\u001b[0;32m--> 268\u001b[0;31m         \u001b[0;32mreturn\u001b[0m \u001b[0mself\u001b[0m\u001b[0;34m.\u001b[0m\u001b[0m_map_async\u001b[0m\u001b[0;34m(\u001b[0m\u001b[0mfunc\u001b[0m\u001b[0;34m,\u001b[0m \u001b[0miterable\u001b[0m\u001b[0;34m,\u001b[0m \u001b[0mmapstar\u001b[0m\u001b[0;34m,\u001b[0m \u001b[0mchunksize\u001b[0m\u001b[0;34m)\u001b[0m\u001b[0;34m.\u001b[0m\u001b[0mget\u001b[0m\u001b[0;34m(\u001b[0m\u001b[0;34m)\u001b[0m\u001b[0;34m\u001b[0m\u001b[0;34m\u001b[0m\u001b[0m\n\u001b[0m\u001b[1;32m    269\u001b[0m \u001b[0;34m\u001b[0m\u001b[0m\n\u001b[1;32m    270\u001b[0m     \u001b[0;32mdef\u001b[0m \u001b[0mstarmap\u001b[0m\u001b[0;34m(\u001b[0m\u001b[0mself\u001b[0m\u001b[0;34m,\u001b[0m \u001b[0mfunc\u001b[0m\u001b[0;34m,\u001b[0m \u001b[0miterable\u001b[0m\u001b[0;34m,\u001b[0m \u001b[0mchunksize\u001b[0m\u001b[0;34m=\u001b[0m\u001b[0;32mNone\u001b[0m\u001b[0;34m)\u001b[0m\u001b[0;34m:\u001b[0m\u001b[0;34m\u001b[0m\u001b[0;34m\u001b[0m\u001b[0m\n",
      "\u001b[0;32m/usr/local/lib/python3.7/multiprocessing/pool.py\u001b[0m in \u001b[0;36mget\u001b[0;34m(self, timeout)\u001b[0m\n\u001b[1;32m    649\u001b[0m \u001b[0;34m\u001b[0m\u001b[0m\n\u001b[1;32m    650\u001b[0m     \u001b[0;32mdef\u001b[0m \u001b[0mget\u001b[0m\u001b[0;34m(\u001b[0m\u001b[0mself\u001b[0m\u001b[0;34m,\u001b[0m \u001b[0mtimeout\u001b[0m\u001b[0;34m=\u001b[0m\u001b[0;32mNone\u001b[0m\u001b[0;34m)\u001b[0m\u001b[0;34m:\u001b[0m\u001b[0;34m\u001b[0m\u001b[0;34m\u001b[0m\u001b[0m\n\u001b[0;32m--> 651\u001b[0;31m         \u001b[0mself\u001b[0m\u001b[0;34m.\u001b[0m\u001b[0mwait\u001b[0m\u001b[0;34m(\u001b[0m\u001b[0mtimeout\u001b[0m\u001b[0;34m)\u001b[0m\u001b[0;34m\u001b[0m\u001b[0;34m\u001b[0m\u001b[0m\n\u001b[0m\u001b[1;32m    652\u001b[0m         \u001b[0;32mif\u001b[0m \u001b[0;32mnot\u001b[0m \u001b[0mself\u001b[0m\u001b[0;34m.\u001b[0m\u001b[0mready\u001b[0m\u001b[0;34m(\u001b[0m\u001b[0;34m)\u001b[0m\u001b[0;34m:\u001b[0m\u001b[0;34m\u001b[0m\u001b[0;34m\u001b[0m\u001b[0m\n\u001b[1;32m    653\u001b[0m             \u001b[0;32mraise\u001b[0m \u001b[0mTimeoutError\u001b[0m\u001b[0;34m\u001b[0m\u001b[0;34m\u001b[0m\u001b[0m\n",
      "\u001b[0;32m/usr/local/lib/python3.7/multiprocessing/pool.py\u001b[0m in \u001b[0;36mwait\u001b[0;34m(self, timeout)\u001b[0m\n\u001b[1;32m    646\u001b[0m \u001b[0;34m\u001b[0m\u001b[0m\n\u001b[1;32m    647\u001b[0m     \u001b[0;32mdef\u001b[0m \u001b[0mwait\u001b[0m\u001b[0;34m(\u001b[0m\u001b[0mself\u001b[0m\u001b[0;34m,\u001b[0m \u001b[0mtimeout\u001b[0m\u001b[0;34m=\u001b[0m\u001b[0;32mNone\u001b[0m\u001b[0;34m)\u001b[0m\u001b[0;34m:\u001b[0m\u001b[0;34m\u001b[0m\u001b[0;34m\u001b[0m\u001b[0m\n\u001b[0;32m--> 648\u001b[0;31m         \u001b[0mself\u001b[0m\u001b[0;34m.\u001b[0m\u001b[0m_event\u001b[0m\u001b[0;34m.\u001b[0m\u001b[0mwait\u001b[0m\u001b[0;34m(\u001b[0m\u001b[0mtimeout\u001b[0m\u001b[0;34m)\u001b[0m\u001b[0;34m\u001b[0m\u001b[0;34m\u001b[0m\u001b[0m\n\u001b[0m\u001b[1;32m    649\u001b[0m \u001b[0;34m\u001b[0m\u001b[0m\n\u001b[1;32m    650\u001b[0m     \u001b[0;32mdef\u001b[0m \u001b[0mget\u001b[0m\u001b[0;34m(\u001b[0m\u001b[0mself\u001b[0m\u001b[0;34m,\u001b[0m \u001b[0mtimeout\u001b[0m\u001b[0;34m=\u001b[0m\u001b[0;32mNone\u001b[0m\u001b[0;34m)\u001b[0m\u001b[0;34m:\u001b[0m\u001b[0;34m\u001b[0m\u001b[0;34m\u001b[0m\u001b[0m\n",
      "\u001b[0;32m/usr/local/lib/python3.7/threading.py\u001b[0m in \u001b[0;36mwait\u001b[0;34m(self, timeout)\u001b[0m\n\u001b[1;32m    550\u001b[0m             \u001b[0msignaled\u001b[0m \u001b[0;34m=\u001b[0m \u001b[0mself\u001b[0m\u001b[0;34m.\u001b[0m\u001b[0m_flag\u001b[0m\u001b[0;34m\u001b[0m\u001b[0;34m\u001b[0m\u001b[0m\n\u001b[1;32m    551\u001b[0m             \u001b[0;32mif\u001b[0m \u001b[0;32mnot\u001b[0m \u001b[0msignaled\u001b[0m\u001b[0;34m:\u001b[0m\u001b[0;34m\u001b[0m\u001b[0;34m\u001b[0m\u001b[0m\n\u001b[0;32m--> 552\u001b[0;31m                 \u001b[0msignaled\u001b[0m \u001b[0;34m=\u001b[0m \u001b[0mself\u001b[0m\u001b[0;34m.\u001b[0m\u001b[0m_cond\u001b[0m\u001b[0;34m.\u001b[0m\u001b[0mwait\u001b[0m\u001b[0;34m(\u001b[0m\u001b[0mtimeout\u001b[0m\u001b[0;34m)\u001b[0m\u001b[0;34m\u001b[0m\u001b[0;34m\u001b[0m\u001b[0m\n\u001b[0m\u001b[1;32m    553\u001b[0m             \u001b[0;32mreturn\u001b[0m \u001b[0msignaled\u001b[0m\u001b[0;34m\u001b[0m\u001b[0;34m\u001b[0m\u001b[0m\n\u001b[1;32m    554\u001b[0m \u001b[0;34m\u001b[0m\u001b[0m\n",
      "\u001b[0;32m/usr/local/lib/python3.7/threading.py\u001b[0m in \u001b[0;36mwait\u001b[0;34m(self, timeout)\u001b[0m\n\u001b[1;32m    294\u001b[0m         \u001b[0;32mtry\u001b[0m\u001b[0;34m:\u001b[0m    \u001b[0;31m# restore state no matter what (e.g., KeyboardInterrupt)\u001b[0m\u001b[0;34m\u001b[0m\u001b[0;34m\u001b[0m\u001b[0m\n\u001b[1;32m    295\u001b[0m             \u001b[0;32mif\u001b[0m \u001b[0mtimeout\u001b[0m \u001b[0;32mis\u001b[0m \u001b[0;32mNone\u001b[0m\u001b[0;34m:\u001b[0m\u001b[0;34m\u001b[0m\u001b[0;34m\u001b[0m\u001b[0m\n\u001b[0;32m--> 296\u001b[0;31m                 \u001b[0mwaiter\u001b[0m\u001b[0;34m.\u001b[0m\u001b[0macquire\u001b[0m\u001b[0;34m(\u001b[0m\u001b[0;34m)\u001b[0m\u001b[0;34m\u001b[0m\u001b[0;34m\u001b[0m\u001b[0m\n\u001b[0m\u001b[1;32m    297\u001b[0m                 \u001b[0mgotit\u001b[0m \u001b[0;34m=\u001b[0m \u001b[0;32mTrue\u001b[0m\u001b[0;34m\u001b[0m\u001b[0;34m\u001b[0m\u001b[0m\n\u001b[1;32m    298\u001b[0m             \u001b[0;32melse\u001b[0m\u001b[0;34m:\u001b[0m\u001b[0;34m\u001b[0m\u001b[0;34m\u001b[0m\u001b[0m\n",
      "\u001b[0;31mKeyboardInterrupt\u001b[0m: "
     ]
    }
   ],
   "source": [
    "_get_cost = lambda x: qaoa.cost_graph_peo(*x)\n",
    "\n",
    "with prof.timing('Get full costs naive'):\n",
    "    costs = pool.map(_get_cost, zip(graphs, peos))"
   ]
  },
  {
   "cell_type": "code",
   "execution_count": 47,
   "metadata": {
    "ExecuteTime": {
     "end_time": "2020-03-12T00:15:24.093867Z",
     "start_time": "2020-03-12T00:15:16.319774Z"
    }
   },
   "outputs": [
    {
     "name": "stderr",
     "output_type": "stream",
     "text": [
      "\n",
      "\n",
      "\n",
      "\n",
      "0it [00:00, ?it/s]\u001b[A\u001b[A\u001b[A\u001b[A\n",
      "\n",
      "\n",
      "\n",
      "1it [00:00,  4.77it/s]\u001b[A\u001b[A\u001b[A\u001b[A\n",
      "\n",
      "\n",
      "\n",
      "2it [00:00,  4.99it/s]\u001b[A\u001b[A\u001b[A\u001b[A\n",
      "\n",
      "\n",
      "\n",
      "\n",
      "2it [00:00, 760.46it/s]A\u001b[A\u001b[A\n"
     ]
    }
   ],
   "source": [
    "chopped_g = [\n",
    "    contract_by_peo(g, peo[:_idx]) \n",
    "    for g, peo, cost, ng in tqdm( zip(graphs, peos, costs, nghs) )\n",
    "    for _idx in get_chop_idxs(g, peo, cost, ng)\n",
    "]\n",
    "\n",
    "costs_before_chop = [\n",
    "    mem\n",
    "    for g, peo, cost, ng in tqdm( zip(graphs, peos, costs, nghs) )\n",
    "    for mem in _cost_before_chop(get_chop_idxs(g, peo, cost, ng), cost)\n",
    "]"
   ]
  },
  {
   "cell_type": "code",
   "execution_count": null,
   "metadata": {},
   "outputs": [],
   "source": [
    "print('contracted graphs', [g.number_of_nodes() for g in chopped_g])\n",
    "\n",
    "print('costs before chop', costs_before_chop)"
   ]
  },
  {
   "cell_type": "code",
   "execution_count": 48,
   "metadata": {
    "ExecuteTime": {
     "end_time": "2020-03-12T00:15:37.573932Z",
     "start_time": "2020-03-12T00:15:36.627509Z"
    },
    "collapsed": true
   },
   "outputs": [
    {
     "name": "stderr",
     "output_type": "stream",
     "text": [
      "2020-03-11 19:15:36,794- INFO•\tRemoved indices by parallelization:\n",
      "[]\n",
      "2020-03-11 19:15:36,798- INFO•\tRemoved 0 variables\n",
      "2020-03-11 19:15:36,833- INFO•\tRemoved indices by parallelization:\n",
      "[203]\n",
      "2020-03-11 19:15:36,836- INFO•\tRemoved 1 variables\n",
      "2020-03-11 19:15:36,854- INFO•\tRemoved indices by parallelization:\n",
      "[203, 205]\n",
      "2020-03-11 19:15:36,856- INFO•\tRemoved 2 variables\n",
      "2020-03-11 19:15:36,871- INFO•\tRemoved indices by parallelization:\n",
      "[203, 205, 221, 189, 193]\n",
      "2020-03-11 19:15:36,872- INFO•\tRemoved 5 variables\n",
      "2020-03-11 19:15:36,885- INFO•\tRemoved indices by parallelization:\n",
      "[203, 205, 221, 189, 193, 215, 217]\n",
      "2020-03-11 19:15:36,886- INFO•\tRemoved 7 variables\n",
      "2020-03-11 19:15:36,899- INFO•\tRemoved indices by parallelization:\n",
      "[203, 205, 221, 189, 193, 215, 217, 219, 223, 227, 229, 231]\n",
      "2020-03-11 19:15:36,900- INFO•\tRemoved 12 variables\n",
      "2020-03-11 19:15:36,908- INFO•\tRemoved indices by parallelization:\n",
      "[]\n",
      "2020-03-11 19:15:36,914- INFO•\tRemoved 0 variables\n",
      "2020-03-11 19:15:36,934- INFO•\tRemoved indices by parallelization:\n",
      "[229]\n",
      "2020-03-11 19:15:36,938- INFO•\tRemoved 1 variables\n",
      "2020-03-11 19:15:36,953- INFO•\tRemoved indices by parallelization:\n",
      "[229, 233]\n",
      "2020-03-11 19:15:36,967- INFO•\tRemoved 2 variables\n",
      "2020-03-11 19:15:36,981- INFO•\tRemoved indices by parallelization:\n",
      "[229, 233, 235, 243, 245]\n",
      "2020-03-11 19:15:36,984- INFO•\tRemoved 5 variables\n",
      "2020-03-11 19:15:37,007- INFO•\tRemoved indices by parallelization:\n",
      "[229, 233, 235, 243, 245, 255, 259]\n",
      "2020-03-11 19:15:37,008- INFO•\tRemoved 7 variables\n",
      "2020-03-11 19:15:37,026- INFO•\tRemoved indices by parallelization:\n",
      "[229, 233, 235, 243, 245, 255, 259, 287, 301, 303, 261, 269]\n",
      "2020-03-11 19:15:37,029- INFO•\tRemoved 12 variables\n",
      "2020-03-11 19:15:37,047- INFO•\tRemoved indices by parallelization:\n",
      "[]\n",
      "2020-03-11 19:15:37,050- INFO•\tRemoved 0 variables\n",
      "2020-03-11 19:15:37,063- INFO•\tRemoved indices by parallelization:\n",
      "[235]\n",
      "2020-03-11 19:15:37,065- INFO•\tRemoved 1 variables\n",
      "2020-03-11 19:15:37,087- INFO•\tRemoved indices by parallelization:\n",
      "[235, 255]\n",
      "2020-03-11 19:15:37,089- INFO•\tRemoved 2 variables\n",
      "2020-03-11 19:15:37,109- INFO•\tRemoved indices by parallelization:\n",
      "[235, 255, 261, 271, 275]\n",
      "2020-03-11 19:15:37,116- INFO•\tRemoved 5 variables\n",
      "2020-03-11 19:15:37,146- INFO•\tRemoved indices by parallelization:\n",
      "[235, 255, 261, 271, 275, 285, 229]\n",
      "2020-03-11 19:15:37,149- INFO•\tRemoved 7 variables\n",
      "2020-03-11 19:15:37,167- INFO•\tRemoved indices by parallelization:\n",
      "[235, 255, 261, 271, 275, 285, 229, 233, 243, 245, 259, 287]\n",
      "2020-03-11 19:15:37,169- INFO•\tRemoved 12 variables\n",
      "2020-03-11 19:15:37,185- INFO•\tRemoved indices by parallelization:\n",
      "[]\n",
      "2020-03-11 19:15:37,188- INFO•\tRemoved 0 variables\n",
      "2020-03-11 19:15:37,198- INFO•\tRemoved indices by parallelization:\n",
      "[217]\n",
      "2020-03-11 19:15:37,211- INFO•\tRemoved 1 variables\n",
      "2020-03-11 19:15:37,240- INFO•\tRemoved indices by parallelization:\n",
      "[217, 219]\n",
      "2020-03-11 19:15:37,241- INFO•\tRemoved 2 variables\n",
      "2020-03-11 19:15:37,271- INFO•\tRemoved indices by parallelization:\n",
      "[217, 219, 235, 203, 207]\n",
      "2020-03-11 19:15:37,276- INFO•\tRemoved 5 variables\n",
      "2020-03-11 19:15:37,303- INFO•\tRemoved indices by parallelization:\n",
      "[217, 219, 235, 203, 207, 229, 231]\n",
      "2020-03-11 19:15:37,304- INFO•\tRemoved 7 variables\n",
      "2020-03-11 19:15:37,323- INFO•\tRemoved indices by parallelization:\n",
      "[217, 219, 235, 203, 207, 229, 231, 233, 237, 241, 243, 245]\n",
      "2020-03-11 19:15:37,324- INFO•\tRemoved 12 variables\n",
      "2020-03-11 19:15:37,336- INFO•\tRemoved indices by parallelization:\n",
      "[]\n",
      "2020-03-11 19:15:37,338- INFO•\tRemoved 0 variables\n",
      "2020-03-11 19:15:37,359- INFO•\tRemoved indices by parallelization:\n",
      "[249]\n",
      "2020-03-11 19:15:37,360- INFO•\tRemoved 1 variables\n",
      "2020-03-11 19:15:37,380- INFO•\tRemoved indices by parallelization:\n",
      "[249, 275]\n",
      "2020-03-11 19:15:37,382- INFO•\tRemoved 2 variables\n",
      "2020-03-11 19:15:37,398- INFO•\tRemoved indices by parallelization:\n",
      "[249, 275, 289, 243, 247]\n",
      "2020-03-11 19:15:37,401- INFO•\tRemoved 5 variables\n",
      "2020-03-11 19:15:37,420- INFO•\tRemoved indices by parallelization:\n",
      "[249, 275, 289, 243, 247, 257, 259]\n",
      "2020-03-11 19:15:37,422- INFO•\tRemoved 7 variables\n",
      "2020-03-11 19:15:37,444- INFO•\tRemoved indices by parallelization:\n",
      "[249, 275, 289, 243, 247, 257, 259, 269, 273, 301, 315, 317]\n",
      "2020-03-11 19:15:37,446- INFO•\tRemoved 12 variables\n",
      "2020-03-11 19:15:37,461- INFO•\tRemoved indices by parallelization:\n",
      "[]\n",
      "2020-03-11 19:15:37,464- INFO•\tRemoved 0 variables\n",
      "2020-03-11 19:15:37,477- INFO•\tRemoved indices by parallelization:\n",
      "[343]\n",
      "2020-03-11 19:15:37,478- INFO•\tRemoved 1 variables\n",
      "2020-03-11 19:15:37,495- INFO•\tRemoved indices by parallelization:\n",
      "[343, 269]\n",
      "2020-03-11 19:15:37,501- INFO•\tRemoved 2 variables\n",
      "2020-03-11 19:15:37,516- INFO•\tRemoved indices by parallelization:\n",
      "[343, 269, 331, 249, 257]\n",
      "2020-03-11 19:15:37,518- INFO•\tRemoved 5 variables\n",
      "2020-03-11 19:15:37,539- INFO•\tRemoved indices by parallelization:\n",
      "[343, 269, 331, 249, 257, 275, 285]\n",
      "2020-03-11 19:15:37,540- INFO•\tRemoved 7 variables\n",
      "2020-03-11 19:15:37,565- INFO•\tRemoved indices by parallelization:\n",
      "[343, 269, 331, 249, 257, 275, 285, 289, 299, 341, 247, 259]\n",
      "2020-03-11 19:15:37,569- INFO•\tRemoved 12 variables\n"
     ]
    }
   ],
   "source": [
    "par_vars = [0,1,2,5, 7, 12]\n",
    "\n",
    "parallelized_g = [\n",
    "    g\n",
    "    for graph in chopped_g\n",
    "    for parvar in par_vars\n",
    "    for  _, g in [qtree.graph_model.split_graph_by_metric(graph, n_var_parallel=parvar)]\n",
    "]"
   ]
  },
  {
   "cell_type": "code",
   "execution_count": 49,
   "metadata": {
    "ExecuteTime": {
     "end_time": "2020-03-12T00:15:41.383801Z",
     "start_time": "2020-03-12T00:15:41.260230Z"
    }
   },
   "outputs": [
    {
     "name": "stdout",
     "output_type": "stream",
     "text": [
      "parallelised graphs [78, 77, 76, 73, 71, 66, 45, 44, 43, 40, 38, 33, 40, 39, 38, 35, 33, 28, 85, 84, 83, 80, 78, 73, 45, 44, 43, 40, 38, 33, 40, 39, 38, 35, 33, 28]\n"
     ]
    }
   ],
   "source": [
    "print('parallelised graphs', [g.number_of_nodes() for g in parallelized_g])"
   ]
  },
  {
   "cell_type": "code",
   "execution_count": 56,
   "metadata": {
    "ExecuteTime": {
     "end_time": "2020-03-12T00:24:22.278172Z",
     "start_time": "2020-03-12T00:24:21.410785Z"
    }
   },
   "outputs": [
    {
     "name": "stderr",
     "output_type": "stream",
     "text": [
      "\n",
      "\n",
      "\n",
      "\n",
      "  0%|          | 0/36 [00:00<?, ?it/s]\u001b[A\u001b[A\u001b[A\u001b[A\n",
      "\n",
      "\n",
      "\n",
      "\n",
      "100%|██████████| 36/36 [00:00<00:00, 88404.53it/s]\u001b[A\n"
     ]
    },
    {
     "name": "stdout",
     "output_type": "stream",
     "text": [
      "peos chopped : 0.6613430976867676\n"
     ]
    }
   ],
   "source": [
    "def n_peo(graph):\n",
    "    return utils.get_locale_peo(graph, utils.n_neighbors)\n",
    "_pg_peos = tqdm(list(zip(parallelized_g, peos_par)))\n",
    "with prof.timing('peos chopped'):\n",
    "    peos_par_n = pool.map(n_peo, tqdm(parallelized_g))\n",
    "peos_par, nghs_par = zip(*peos_par_n)\n"
   ]
  },
  {
   "cell_type": "code",
   "execution_count": 54,
   "metadata": {
    "ExecuteTime": {
     "end_time": "2020-03-12T00:18:26.466538Z",
     "start_time": "2020-03-12T00:18:26.335498Z"
    }
   },
   "outputs": [],
   "source": [
    "def get_qbb_peo(graph):\n",
    "    try:\n",
    "        peo, tw = qtree.graph_model.get_peo(graph)\n",
    "        fail = False\n",
    "    except:\n",
    "        print('QBB fail, nodes count:', graph.number_of_nodes())\n",
    "        peo, nghs = utils.get_locale_peo(graph, utils.n_neighbors)\n",
    "        fail = True\n",
    "    return peo, fail"
   ]
  },
  {
   "cell_type": "code",
   "execution_count": null,
   "metadata": {},
   "outputs": [],
   "source": [
    "peos_par = [ get_qbb_peo(g) for g in tqdm( parallelized_g ) ]\n",
    "peos_par, fails_qbb = zip(*peos_par)"
   ]
  },
  {
   "cell_type": "code",
   "execution_count": null,
   "metadata": {
    "lines_to_next_cell": 2
   },
   "outputs": [],
   "source": [
    "tqdm._instances.clear()"
   ]
  },
  {
   "cell_type": "code",
   "execution_count": 57,
   "metadata": {
    "ExecuteTime": {
     "end_time": "2020-03-12T00:24:28.623605Z",
     "start_time": "2020-03-12T00:24:25.506772Z"
    }
   },
   "outputs": [
    {
     "name": "stderr",
     "output_type": "stream",
     "text": [
      "\n",
      "\n",
      "\n",
      "\n",
      "\n",
      "100%|██████████| 36/36 [00:00<00:00, 3037.09it/s]A\u001b[A\n"
     ]
    },
    {
     "name": "stdout",
     "output_type": "stream",
     "text": [
      "Costs chopped : 2.955335855484009\n"
     ]
    }
   ],
   "source": [
    "_pg_peos = tqdm(list(zip(parallelized_g, peos_par)))\n",
    "with prof.timing('Costs chopped'):\n",
    "    costs_all = pool.map(_get_cost, _pg_peos)\n"
   ]
  },
  {
   "cell_type": "code",
   "execution_count": 72,
   "metadata": {
    "ExecuteTime": {
     "end_time": "2020-03-12T00:28:34.996187Z",
     "start_time": "2020-03-12T00:28:34.865672Z"
    }
   },
   "outputs": [],
   "source": [
    "experiment_name = 'small_chops_test'"
   ]
  },
  {
   "cell_type": "code",
   "execution_count": 73,
   "metadata": {
    "ExecuteTime": {
     "end_time": "2020-03-12T00:28:35.449356Z",
     "start_time": "2020-03-12T00:28:35.321274Z"
    }
   },
   "outputs": [],
   "source": [
    "mems = [max(m) for m,_ in costs_all ]"
   ]
  },
  {
   "cell_type": "code",
   "execution_count": 74,
   "metadata": {
    "ExecuteTime": {
     "end_time": "2020-03-12T00:28:35.794370Z",
     "start_time": "2020-03-12T00:28:35.706545Z"
    }
   },
   "outputs": [
    {
     "name": "stdout",
     "output_type": "stream",
     "text": [
      "[[[34842 21304  9502  8734  9118  3996]\n",
      "  [34842 34842 10272  8726  3804  1316]\n",
      "  [34842  9502  3804  3804  3804  3804]]\n",
      "\n",
      " [[18986 30242 15896 15896  8734  9118]\n",
      "  [18986 12198 15896  8726  8726  2194]\n",
      "  [18986 34842 17432  3506  2980  1296]]]\n"
     ]
    }
   ],
   "source": [
    "_data = np.array(mems).reshape(len(sizes), chop_pts, len(par_vars)) \n",
    "\n",
    "print(_data)\n",
    "np.save(f'cached_data/{experiment_name}',_data)"
   ]
  },
  {
   "cell_type": "code",
   "execution_count": 78,
   "metadata": {
    "ExecuteTime": {
     "end_time": "2020-03-12T00:29:13.559666Z",
     "start_time": "2020-03-12T00:29:13.371184Z"
    }
   },
   "outputs": [],
   "source": [
    "def trid_plot(x, y, labels, dimspec=(0,1,2)): \n",
    "    y = y.transpose(dimspec)\n",
    "    plot_cnt = y.shape[0]\n",
    "    line_cnt = y.shape[1]\n",
    "    def _label_of(dim, idx):\n",
    "        return labels[dim] + ' ' + str(x[dim][idx])\n",
    "    \n",
    "    fig, axs = plt.subplots(1, plot_cnt, sharey=True, figsize=(15,4))\n",
    "    try:\n",
    "        iter(axs)\n",
    "    except TypeError:\n",
    "        axs = [axs]\n",
    "    for i, ax in enumerate(axs):\n",
    "        plt.sca(ax)\n",
    "        plt.title(_label_of(0, i))\n",
    "        for j in range(line_cnt):\n",
    "            plt.plot(x[2], y[i,j], label=_label_of(1, j))\n",
    "            plt.xlabel(labels[2])\n",
    "            plt.yscale('log')\n",
    "            plt.minorticks_on()\n",
    "            plt.legend()"
   ]
  },
  {
   "cell_type": "code",
   "execution_count": null,
   "metadata": {},
   "outputs": [],
   "source": []
  },
  {
   "cell_type": "code",
   "execution_count": 81,
   "metadata": {
    "ExecuteTime": {
     "end_time": "2020-03-12T00:29:43.979136Z",
     "start_time": "2020-03-12T00:29:41.206564Z"
    }
   },
   "outputs": [
    {
     "data": {
      "image/png": "[encoded data removed]",
      "text/plain": [
       "<Figure size 1080x288 with 3 Axes>"
      ]
     },
     "metadata": {},
     "output_type": "display_data"
    }
   ],
   "source": [
    "xs = [np.arange(chop_pts), sizes, par_vars]\n",
    "trid_plot(xs, _data, ['Chop part', 'Task size', 'Par vars'],(1,0,2))\n",
    "plt.suptitle('Parallelisation with chopping, naive peo')\n",
    "plt.savefig(f'figures/chop_analysis__{experiment_name}.pdf')"
   ]
  },
  {
   "cell_type": "code",
   "execution_count": 83,
   "metadata": {
    "ExecuteTime": {
     "end_time": "2020-03-12T00:30:35.483568Z",
     "start_time": "2020-03-12T00:30:34.471807Z"
    },
    "lines_to_next_cell": 2
   },
   "outputs": [
    {
     "data": {
      "image/png": "[encoded data removed]",
      "text/plain": [
       "<Figure size 1080x288 with 1 Axes>"
      ]
     },
     "metadata": {},
     "output_type": "display_data"
    }
   ],
   "source": [
    "_chopcost = np.array(costs_before_chop).reshape(len(sizes), chop_pts, 1)\n",
    "trid_plot([' ', sizes, range(chop_pts)], _chopcost, ['Chop cost', 'Task size', 'Chop part'], (2,0,1))\n"
   ]
  },
  {
   "cell_type": "code",
   "execution_count": 84,
   "metadata": {
    "ExecuteTime": {
     "end_time": "2020-03-12T00:30:49.853465Z",
     "start_time": "2020-03-12T00:30:49.639508Z"
    }
   },
   "outputs": [
    {
     "name": "stdout",
     "output_type": "stream",
     "text": [
      "[[[5488]\n",
      "  [5488]\n",
      "  [5488]]\n",
      "\n",
      " [[5924]\n",
      "  [5924]\n",
      "  [5924]]]\n"
     ]
    }
   ],
   "source": [
    "print(_chopcost)"
   ]
  },
  {
   "cell_type": "code",
   "execution_count": null,
   "metadata": {},
   "outputs": [],
   "source": []
  }
 ],
 "metadata": {
  "jupytext": {
   "formats": "ipynb,py"
  },
  "kernelspec": {
   "display_name": "Python 3",
   "language": "python",
   "name": "python3"
  },
  "language_info": {
   "codemirror_mode": {
    "name": "ipython",
    "version": 3
   },
   "file_extension": ".py",
   "mimetype": "text/x-python",
   "name": "python",
   "nbconvert_exporter": "python",
   "pygments_lexer": "ipython3",
   "version": "3.7.7rc1+"
  },
  "toc": {
   "base_numbering": 1,
   "nav_menu": {},
   "number_sections": true,
   "sideBar": true,
   "skip_h1_title": false,
   "title_cell": "Table of Contents",
   "title_sidebar": "Contents",
   "toc_cell": true,
   "toc_position": {},
   "toc_section_display": true,
   "toc_window_display": true
  }
 },
 "nbformat": 4,
 "nbformat_minor": 2
}
