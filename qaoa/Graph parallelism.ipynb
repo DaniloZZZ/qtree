{
 "cells": [
  {
   "cell_type": "markdown",
   "metadata": {
    "toc": true
   },
   "source": [
    "<h1>Table of Contents<span class=\"tocSkip\"></span></h1>\n",
    "<div class=\"toc\"><ul class=\"toc-item\"><li><span><a href=\"#Analyse-chopping\" data-toc-modified-id=\"Analyse-chopping-1\"><span class=\"toc-item-num\">1&nbsp;&nbsp;</span>Analyse chopping</a></span></li></ul></div>"
   ]
  },
  {
   "cell_type": "code",
   "execution_count": null,
   "metadata": {},
   "outputs": [],
   "source": [
    "import sys\n",
    "sys.path.append('..')\n",
    "sys.path.append('./qaoa')"
   ]
  },
  {
   "cell_type": "code",
   "execution_count": null,
   "metadata": {
    "lines_to_next_cell": 2
   },
   "outputs": [],
   "source": [
    "import pyrofiler as prof\n",
    "from multiprocessing.dummy import Pool\n",
    "import utils_qaoa as qaoa\n",
    "import utils\n",
    "import numpy as np\n",
    "import qtree\n",
    "import copy\n",
    "from tqdm import tqdm\n",
    "import matplotlib.pyplot as plt\n",
    "import seaborn as sns\n",
    "from utils_mproc import *\n",
    "sns.set_style('whitegrid')\n",
    "%load_ext autoreload\n",
    "%autoreload 2"
   ]
  },
  {
   "cell_type": "markdown",
   "metadata": {},
   "source": [
    "# Analyse chopping\n"
   ]
  },
  {
   "cell_type": "code",
   "execution_count": null,
   "metadata": {
    "lines_to_next_cell": 2
   },
   "outputs": [],
   "source": [
    "chop_pts = 12\n",
    "\n",
    "experiment_name = 'skylake_30-38_sum'\n"
   ]
  },
  {
   "cell_type": "code",
   "execution_count": null,
   "metadata": {},
   "outputs": [],
   "source": [
    "sizes = np.arange(30,39)\n",
    "\n",
    "tasks = [qaoa.get_test_expr_graph(s, 1) for s in sizes]\n",
    "graphs =     [g for g, _ in tasks]\n",
    "qbit_sizes = [N for _, N in tasks]"
   ]
  },
  {
   "cell_type": "code",
   "execution_count": null,
   "metadata": {
    "lines_to_next_cell": 2
   },
   "outputs": [],
   "source": [
    "print('Qubit sizes', qbit_sizes)\n",
    "pool = Pool(processes=128)"
   ]
  },
  {
   "cell_type": "code",
   "execution_count": null,
   "metadata": {},
   "outputs": [],
   "source": [
    "peos_n = pool.map(n_peo, graphs)\n",
    "peos, nghs = zip(*peos_n)\n",
    "np.save(f'cached_data/peos_full_{experiment_name}',peos)"
   ]
  },
  {
   "cell_type": "code",
   "execution_count": null,
   "metadata": {},
   "outputs": [],
   "source": [
    "\n",
    "with prof.timing('Get full costs naive'):\n",
    "    costs = pool.map(get_cost, zip(graphs, peos))\n",
    "\n",
    "np.save(f'cached_data/costs_full_{experiment_name}',costs)"
   ]
  },
  {
   "cell_type": "code",
   "execution_count": null,
   "metadata": {},
   "outputs": [],
   "source": [
    "chopped_g = [\n",
    "    contract_by_peo(g, peo[:_idx]) \n",
    "    for g, peo, cost, ng in tqdm( zip(graphs, peos, costs, nghs) )\n",
    "    for _idx in get_chop_idxs(g, peo, cost, ng)\n",
    "]\n",
    "\n",
    "costs_before_chop = [\n",
    "    mem\n",
    "    for g, peo, cost, ng in tqdm( zip(graphs, peos, costs, nghs) )\n",
    "    for mem in cost_before_chop(get_chop_idxs(g, peo, cost, ng), cost)\n",
    "]"
   ]
  },
  {
   "cell_type": "code",
   "execution_count": null,
   "metadata": {},
   "outputs": [],
   "source": [
    "print('contracted graphs', [g.number_of_nodes() for g in chopped_g])\n",
    "\n",
    "print('costs before chop', costs_before_chop)"
   ]
  },
  {
   "cell_type": "code",
   "execution_count": null,
   "metadata": {},
   "outputs": [],
   "source": [
    "par_vars = [0,1,2,3,5,7,8,9,10,11 ,12]\n",
    "\n",
    "parallelized_g = [\n",
    "    g\n",
    "    for graph in chopped_g\n",
    "    for parvar in par_vars\n",
    "    for  _, g in [qtree.graph_model.split_graph_by_metric(graph, n_var_parallel=parvar)]\n",
    "]"
   ]
  },
  {
   "cell_type": "code",
   "execution_count": null,
   "metadata": {
    "lines_to_next_cell": 2
   },
   "outputs": [],
   "source": [
    "print('parallelised graphs', [g.number_of_nodes() for g in parallelized_g])"
   ]
  },
  {
   "cell_type": "markdown",
   "metadata": {},
   "source": [
    "peos_repeated = zip(*[peos]*len(par_vars)*chop_pts)\n",
    "peos_repeated = [ peo for batch in peos_repeated for peo in batch ]"
   ]
  },
  {
   "cell_type": "code",
   "execution_count": null,
   "metadata": {},
   "outputs": [],
   "source": [
    "with prof.timing('peos chopped'):\n",
    "    peos_par_n = pool.map(n_peo, tqdm(parallelized_g))\n",
    "peos_par, nghs_par = zip(*peos_par_n)"
   ]
  },
  {
   "cell_type": "code",
   "execution_count": null,
   "metadata": {},
   "outputs": [],
   "source": [
    "def get_qbb_peo(graph):\n",
    "    try:\n",
    "        peo, tw = qtree.graph_model.get_peo(graph)\n",
    "        fail = False\n",
    "    except:\n",
    "        print('QBB fail, nodes count:', graph.number_of_nodes())\n",
    "        peo, nghs = utils.get_locale_peo(graph, utils.n_neighbors)\n",
    "        fail = True\n",
    "    return peo, fail"
   ]
  },
  {
   "cell_type": "markdown",
   "metadata": {},
   "source": [
    "peos_par = [ get_qbb_peo(g) for g in tqdm( parallelized_g ) ]\n",
    "peos_par, fails_qbb = zip(*peos_par)"
   ]
  },
  {
   "cell_type": "code",
   "execution_count": null,
   "metadata": {
    "lines_to_next_cell": 2
   },
   "outputs": [],
   "source": [
    "tqdm._instances.clear()"
   ]
  },
  {
   "cell_type": "code",
   "execution_count": null,
   "metadata": {},
   "outputs": [],
   "source": [
    "_pg_peos = tqdm(list(zip(parallelized_g, peos_par)))\n",
    "with prof.timing('Costs chopped'):\n",
    "    costs_all = pool.map(get_cost, _pg_peos)"
   ]
  },
  {
   "cell_type": "code",
   "execution_count": null,
   "metadata": {},
   "outputs": [],
   "source": []
  },
  {
   "cell_type": "code",
   "execution_count": null,
   "metadata": {},
   "outputs": [],
   "source": [
    "mems = [sum(m) for m,_ in costs_all ]\n",
    "flops = [sum(f) for _,f in costs_all ]"
   ]
  },
  {
   "cell_type": "code",
   "execution_count": null,
   "metadata": {},
   "outputs": [],
   "source": [
    "_data = np.array(flops).reshape(len(sizes), chop_pts, len(par_vars)) \n",
    "\n",
    "print(_data)\n",
    "np.save(f'cached_data/{experiment_name}_flops',_data)\n",
    "\n",
    "_data = np.array(mems).reshape(len(sizes), chop_pts, len(par_vars)) \n",
    "print(_data)\n",
    "np.save(f'cached_data/{experiment_name}_mems',_data)"
   ]
  },
  {
   "cell_type": "code",
   "execution_count": null,
   "metadata": {},
   "outputs": [],
   "source": [
    "def trid_plot(x, y, labels, dimspec=(0,1,2)): \n",
    "    y = y.transpose(dimspec)\n",
    "    plot_cnt = y.shape[0]\n",
    "    line_cnt = y.shape[1]\n",
    "    def _label_of(dim, idx):\n",
    "        return labels[dim] + ' ' + str(x[dim][idx])\n",
    "    \n",
    "    fig, axs = plt.subplots(1, plot_cnt, sharey=True, figsize=(15,4))\n",
    "    try:\n",
    "        iter(axs)\n",
    "    except TypeError:\n",
    "        axs = [axs]\n",
    "    for i, ax in enumerate(axs):\n",
    "        plt.sca(ax)\n",
    "        plt.title(_label_of(0, i))\n",
    "        for j in range(line_cnt):\n",
    "            plt.plot(x[2], y[i,j], label=_label_of(1, j))\n",
    "            plt.xlabel(labels[2])\n",
    "            plt.yscale('log')\n",
    "            plt.minorticks_on()\n",
    "            plt.legend()"
   ]
  },
  {
   "cell_type": "code",
   "execution_count": null,
   "metadata": {},
   "outputs": [],
   "source": []
  },
  {
   "cell_type": "code",
   "execution_count": null,
   "metadata": {},
   "outputs": [],
   "source": [
    "xs = [np.arange(chop_pts), sizes, par_vars]\n",
    "trid_plot(xs, _data, ['Chop part', 'Task size', 'Par vars'],(1,0,2))\n",
    "plt.suptitle('Parallelisation with chopping, naive peo')\n",
    "plt.savefig(f'figures/chop_analysis__{experiment_name}.pdf')"
   ]
  },
  {
   "cell_type": "code",
   "execution_count": null,
   "metadata": {},
   "outputs": [],
   "source": [
    "_chopcost = np.array(costs_before_chop).reshape(len(sizes), chop_pts, 1)\n",
    "trid_plot([' ', sizes, range(chop_pts)], _chopcost, ['Chop cost', 'Task size', 'Chop part'], (2,0,1))"
   ]
  },
  {
   "cell_type": "code",
   "execution_count": null,
   "metadata": {},
   "outputs": [],
   "source": []
  },
  {
   "cell_type": "code",
   "execution_count": null,
   "metadata": {},
   "outputs": [],
   "source": [
    "print(_chopcost)"
   ]
  },
  {
   "cell_type": "code",
   "execution_count": null,
   "metadata": {},
   "outputs": [],
   "source": []
  }
 ],
 "metadata": {
  "jupytext": {
   "formats": "ipynb,py"
  },
  "kernelspec": {
   "display_name": "Python 3",
   "language": "python",
   "name": "python3"
  }
 },
 "nbformat": 4,
 "nbformat_minor": 2
}
